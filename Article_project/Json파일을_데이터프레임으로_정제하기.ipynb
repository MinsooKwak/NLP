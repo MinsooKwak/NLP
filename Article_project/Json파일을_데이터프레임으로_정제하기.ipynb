{
  "nbformat": 4,
  "nbformat_minor": 0,
  "metadata": {
    "colab": {
      "name": "Json파일을 데이터프레임으로 정제하기.ipynb",
      "provenance": [],
      "toc_visible": true,
      "authorship_tag": "ABX9TyPPCz5Rm+PCNMh6ajYlWgLJ",
      "include_colab_link": true
    },
    "kernelspec": {
      "name": "python3",
      "display_name": "Python 3"
    },
    "language_info": {
      "name": "python"
    }
  },
  "cells": [
    {
      "cell_type": "markdown",
      "metadata": {
        "id": "view-in-github",
        "colab_type": "text"
      },
      "source": [
        "<a href=\"https://colab.research.google.com/github/MinsooKwak/NLP/blob/main/Article_project/Json%ED%8C%8C%EC%9D%BC%EC%9D%84_%EB%8D%B0%EC%9D%B4%ED%84%B0%ED%94%84%EB%A0%88%EC%9E%84%EC%9C%BC%EB%A1%9C_%EC%A0%95%EC%A0%9C%ED%95%98%EA%B8%B0.ipynb\" target=\"_parent\"><img src=\"https://colab.research.google.com/assets/colab-badge.svg\" alt=\"Open In Colab\"/></a>"
      ]
    },
    {
      "cell_type": "markdown",
      "source": [
        "# JSON file DataFrame 만들기"
      ],
      "metadata": {
        "id": "mjdmnBHdhmAg"
      }
    },
    {
      "cell_type": "markdown",
      "source": [
        "필요한 작업을 수행하기 위해 json 파일을 csv로 변환하고자 한다.\n",
        "\n",
        "수행하고자 하는 목적과 필요에 따라 [AIHUB의 논문자료 요약 데이터셋](https://aihub.or.kr/aidata/30712)을 사용하였다.\n",
        "\n",
        "본 데이터셋은 바이브컴퍼니에서 구축하여 제공하였으며, 본 데이터는 2021년 6월에 최초 개방되었다."
      ],
      "metadata": {
        "id": "zDrIkSSPkO47"
      }
    },
    {
      "cell_type": "markdown",
      "source": [
        "### 필요 라이브러리, 기본 작업 수행"
      ],
      "metadata": {
        "id": "fK9DsK0Ihttc"
      }
    },
    {
      "cell_type": "code",
      "source": [
        "import pandas as pd\n",
        "import numpy as np"
      ],
      "metadata": {
        "id": "3RQveYdvC1OD"
      },
      "execution_count": 1,
      "outputs": []
    },
    {
      "cell_type": "code",
      "execution_count": 2,
      "metadata": {
        "id": "_5FIEe8JA_F7"
      },
      "outputs": [],
      "source": [
        "# 경고를 무시합니다.\n",
        "import warnings\n",
        "warnings.filterwarnings(\"ignore\")"
      ]
    },
    {
      "cell_type": "markdown",
      "source": [
        "구글 드라이브"
      ],
      "metadata": {
        "id": "nPatHEzDlWS0"
      }
    },
    {
      "cell_type": "code",
      "source": [
        "from google.colab import drive\n",
        "drive.mount('/content/drive')"
      ],
      "metadata": {
        "colab": {
          "base_uri": "https://localhost:8080/"
        },
        "id": "iDAgYeqFBZUy",
        "outputId": "364f077f-dadd-428e-efa7-a3f27914b6ee"
      },
      "execution_count": 3,
      "outputs": [
        {
          "output_type": "stream",
          "name": "stdout",
          "text": [
            "Mounted at /content/drive\n"
          ]
        }
      ]
    },
    {
      "cell_type": "markdown",
      "source": [
        "**Training dataset**에 대한 경로로 이동하여 먼저 진행하겠다."
      ],
      "metadata": {
        "id": "OVpTDD0Wmiw_"
      }
    },
    {
      "cell_type": "code",
      "source": [
        "cd /content/drive/MyDrive/data/Article_summary/Training/training_article/"
      ],
      "metadata": {
        "colab": {
          "base_uri": "https://localhost:8080/"
        },
        "id": "VShM5ZvkBa8m",
        "outputId": "5fb37e96-6062-4cfd-9aac-3905327c70d8"
      },
      "execution_count": 4,
      "outputs": [
        {
          "output_type": "stream",
          "name": "stdout",
          "text": [
            "/content/drive/MyDrive/data/Article_summary/Training/training_article\n"
          ]
        }
      ]
    },
    {
      "cell_type": "markdown",
      "source": [
        "현재 경로에 있는 데이터셋은 다음과 같이 json 형태이다."
      ],
      "metadata": {
        "id": "qFdVfXfQlaey"
      }
    },
    {
      "cell_type": "code",
      "source": [
        "ls"
      ],
      "metadata": {
        "colab": {
          "base_uri": "https://localhost:8080/"
        },
        "id": "QHpZMXa9Cakh",
        "outputId": "a5753d50-9b67-4e3c-d98c-7a66e43aaf16"
      },
      "execution_count": 5,
      "outputs": [
        {
          "output_type": "stream",
          "name": "stdout",
          "text": [
            "논문요약_0206_0.json  논문요약_0206_2.json  논문요약_0225_5_1.json\n",
            "논문요약_0206_1.json  논문요약_0220_0.json  논문요약_0225_7_0.json\n"
          ]
        }
      ]
    },
    {
      "cell_type": "markdown",
      "source": [
        "Json 파일을 CSV 파일로 변환하고자 할 때 판다스의 pd.read_json('파일명.json')을 수행하고 이를 pd.to_csv()로 변환할 수 있다.\n",
        "\n",
        "하지만 어떠한 경우에는 중첩된 사전형식으로 구성되어 원활히 변환되지 않는 경우가 있다.\n",
        "\n",
        "이를 위한 방법이다."
      ],
      "metadata": {
        "id": "pb_zzIYujktP"
      }
    },
    {
      "cell_type": "markdown",
      "source": [
        "## JSON"
      ],
      "metadata": {
        "id": "HKD1uo5MybYp"
      }
    },
    {
      "cell_type": "markdown",
      "source": [
        "### JSON 파일 불러오기"
      ],
      "metadata": {
        "id": "l-QZPpDnh59S"
      }
    },
    {
      "cell_type": "markdown",
      "source": [
        "먼저 첫 번째 파일로 수행해보겠다."
      ],
      "metadata": {
        "id": "-sVwkUu9iEmM"
      }
    },
    {
      "cell_type": "code",
      "source": [
        "import json\n",
        "import csv\n",
        "\n",
        "with open('논문요약_0220_0.json', 'r', encoding = 'utf-8') as input_file:\n",
        "  data = json.load(input_file)\n",
        "\n",
        "type(data)"
      ],
      "metadata": {
        "colab": {
          "base_uri": "https://localhost:8080/"
        },
        "id": "BM54TDW8Cjde",
        "outputId": "6c508cee-d34c-4070-b09d-7fd8a4a89d68"
      },
      "execution_count": 6,
      "outputs": [
        {
          "output_type": "execute_result",
          "data": {
            "text/plain": [
              "dict"
            ]
          },
          "metadata": {},
          "execution_count": 6
        }
      ]
    },
    {
      "cell_type": "markdown",
      "source": [
        "json파일을 읽어 load하여 data에 저장해주었다. \n"
      ],
      "metadata": {
        "id": "K3DBZwldnfJY"
      }
    },
    {
      "cell_type": "code",
      "source": [
        "with open('논문요약_0206_2.json', 'r', encoding = 'utf-8') as input_file:         # 두 번째 논문요약 파일\n",
        "  data2 = json.load(input_file)\n",
        "\n",
        "with open('논문요약_0225_5_1.json', 'r', encoding = 'utf-8') as input_file:       # 세 번째 논문요약 파일\n",
        "  data3 = json.load(input_file)\n",
        "\n",
        "with open('논문요약_0206_1.json', 'r', encoding = 'utf-8') as input_file:         # 네 번째 논문요약 파일\n",
        "  data4 = json.load(input_file)\n",
        "\n",
        "with open('논문요약_0220_0.json', 'r', encoding = 'utf-8') as input_file:         # 다섯 번째 논문요약 파일\n",
        "  data5 = json.load(input_file)\n",
        "\n",
        "with open('논문요약_0225_7_0.json', 'r', encoding = 'utf-8') as input_file:       # 여섯 번째 논문요약 파일\n",
        "  data6 = json.load(input_file)"
      ],
      "metadata": {
        "id": "0jb9-gjOmGfS"
      },
      "execution_count": 7,
      "outputs": []
    },
    {
      "cell_type": "markdown",
      "source": [
        "### key 살펴보기"
      ],
      "metadata": {
        "id": "3sxzumbIwhkr"
      }
    },
    {
      "cell_type": "markdown",
      "source": [
        "다음으로 data에 key값이 무엇이 있는지 살펴보겠다."
      ],
      "metadata": {
        "id": "HQEIt0eli7Oc"
      }
    },
    {
      "cell_type": "code",
      "source": [
        "data.keys()"
      ],
      "metadata": {
        "id": "pL_FoafqTBXM",
        "outputId": "841136b3-7326-4146-813d-2eb387f20b0f",
        "colab": {
          "base_uri": "https://localhost:8080/"
        }
      },
      "execution_count": 8,
      "outputs": [
        {
          "output_type": "execute_result",
          "data": {
            "text/plain": [
              "dict_keys(['totalcount', 'data'])"
            ]
          },
          "metadata": {},
          "execution_count": 8
        }
      ]
    },
    {
      "cell_type": "markdown",
      "source": [
        "json 파일을 불러왔는데 key값에 totalcount라는 키가 추가되어 있음이 보인다. \n",
        "\n",
        "data의 totalcount key에는 데이터의 개수만이 수록되어있으며, data의 'data'라는 키 안의 정보만 필요하다."
      ],
      "metadata": {
        "id": "6eyShtDziMBN"
      }
    },
    {
      "cell_type": "markdown",
      "source": [
        "**data의 'totalcount' key**"
      ],
      "metadata": {
        "id": "piXvsQrzivPp"
      }
    },
    {
      "cell_type": "code",
      "source": [
        "data['totalcount']"
      ],
      "metadata": {
        "id": "4TvTOdHyiVfG",
        "outputId": "37c133dc-3306-4bde-d8cb-fc6d2a3a524b",
        "colab": {
          "base_uri": "https://localhost:8080/"
        }
      },
      "execution_count": 9,
      "outputs": [
        {
          "output_type": "execute_result",
          "data": {
            "text/plain": [
              "10021"
            ]
          },
          "metadata": {},
          "execution_count": 9
        }
      ]
    },
    {
      "cell_type": "code",
      "source": [
        "print(f'data에 대한 key   : {data.keys()}')\n",
        "print(f'data2에 대한 key  : {data2.keys()}')\n",
        "print(f'data3에 대한 key  : {data3.keys()}')\n",
        "print(f'data4에 대한 key  : {data4.keys()}')\n",
        "print(f'data5에 대한 key  : {data5.keys()}')\n",
        "print(f'data6에 대한 key  : {data6.keys()}')"
      ],
      "metadata": {
        "id": "zV7eaJdwoRBB",
        "outputId": "45757a34-8fa1-488b-a38f-4ca438dee4e5",
        "colab": {
          "base_uri": "https://localhost:8080/"
        }
      },
      "execution_count": 10,
      "outputs": [
        {
          "output_type": "stream",
          "name": "stdout",
          "text": [
            "data에 대한 key   : dict_keys(['totalcount', 'data'])\n",
            "data2에 대한 key  : dict_keys(['totalcount', 'data'])\n",
            "data3에 대한 key  : dict_keys(['totalcount', 'data'])\n",
            "data4에 대한 key  : dict_keys(['totalcount', 'data'])\n",
            "data5에 대한 key  : dict_keys(['totalcount', 'data'])\n",
            "data6에 대한 key  : dict_keys(['totalcount', 'data'])\n"
          ]
        }
      ]
    },
    {
      "cell_type": "markdown",
      "source": [
        "-----"
      ],
      "metadata": {
        "id": "IQX6MnCfpLVI"
      }
    },
    {
      "cell_type": "markdown",
      "source": [
        "**data의 'data' key** 살펴보기"
      ],
      "metadata": {
        "id": "7aZ-R9CXi108"
      }
    },
    {
      "cell_type": "code",
      "source": [
        "# key를 통해 첫 째 문장의 valuelist에 접근\n",
        "data['data'][0]"
      ],
      "metadata": {
        "id": "RpyGOYGdTKRG",
        "outputId": "dcc340db-cf92-4387-868f-ad44a202534e",
        "colab": {
          "base_uri": "https://localhost:8080/"
        }
      },
      "execution_count": 11,
      "outputs": [
        {
          "output_type": "execute_result",
          "data": {
            "text/plain": [
              "{'author': '김창대1',\n",
              " 'date': '2002',\n",
              " 'doc_id': 'A200928004902',\n",
              " 'ipc': '사회과학',\n",
              " 'issued_by': '한국청소년상담복지개발원',\n",
              " 'reg_no': 'ART000850832',\n",
              " 'summary_entire': [{'orginal_text': '몰입이론은 원래 창조적인 활동을 하는 사람들이 자신의 일에 몰입할 때 경험하는 현상에 대한 연구로부터 시작되었지만, 현재는 청소년발달이나 스포츠 심리학, 심지어 심리치료분야에까지 널리 영향을 미치고 있다. 본 연구의 목적은 Csikszentmihalyi의 몰입이론을 적용한 진로상담의 모형을 제시하는 것이다. 본 연구에서 제시하는 진로상담 모형은 몰입이론에서 주장하듯이 개인이 일에서 추구하고자 하는 즐거움과 유능함을 동시에 얻는 것이 가능하다는 전제에서 출발한다. 따라서 기본적으로 내담자가 흥미와 능력이 균형을 이룬 상태인 몰입을 특정한 영역에서 경험하고 그러한 일에서의 경험이 자신의 진로발달 및 진로결정과도 연결될 수 있도록 돕는 것이 진로상담자의 역할이라고 본다. 본 연구의 전반부에서는 몰입이론에 근거한 진로상담이 기존의 진로상담과 구별되는 점을 다음과 같이 기술하였다. 첫째, 본 진로상담 모형에서는 일이 적응의 대상이 아니라 우리 삶에 즐거움을 주는 원천으로 보고 있다. 둘째, 진로상담의 목표는 적응을 넘어 재능의 발달로 확장된다. 셋째, 진로문제는 진로의식의 미성숙과 같은 ‘의식’의 문제가 아니라 ‘일상생활에서 몰입경험의 부재’나 ‘삶의 의미로 통합되지 못한 몰입경험’으로 본다. 따라서 ‘일상생활에서 실제적인 몰입경험’의 중요성을 강조한다. 끝으로 진로상담이 진로선택을 돕는 것을 넘어서 아직 선택의 기점에 놓이지 않은 내담자들에게도 몰입을 경험하게 하고 그것이 생의 의미와 통합될 수 있도록 돕는 것이 진로상담의 주요 기능으로 보고 있다. 본 연구의 후반부에는 몰입이론을 진로상담에 적용했을 때 진로문제의 유형을 4개로 구분하여 제시했으며, 그 후 이 모형을 사용할 때의 실제 사례를 소개하였다.',\n",
              "   'summary_text': 'Csikszentmihalyi의 몰입이론을 적용한 진로상담의 모형을 제시하는 것이다. 전반부에서는 몰입이론에 근거한 진로상담이 기존의 진로상담과 구별되는 점을 다음과 같이 기술하였고 후반부에는 몰입이론을 진로상담에 적용했을 때 진로문제의 유형을 4개로 구분하여 제시했으며 그 후 이 모형을 사용할 때의 실제 사례를 소개하였다.\\n'}],\n",
              " 'summary_section': [{'orginal_text': '이상에서 필자는 몰입이론을 진로상담에 적용하여 새로운 진로상담 모형을 모색해보았다. 몰입의 이론적 모형에 근거한 진로상담은 개인이 일에서 추구하고자 하는 즐거움과 유능함을 동시에 얻는 것이 가능하다는 전제에서 출발한다. 몰입의 이론적 모형에 근거한 진로상담은 기존의 진로상담이론들과 다음과 같은 점에서 차이점을 가지고 있다. 첫째, 몰입이론은 일에 대한 새로운 시각을 제시해준다. 일에 대해 몰입 개념의 시각에서 접근할 경우 일이나 직업의 세계는 적응해야하는 대상이 아니라 우리들의 삶에 즐거움을 주는 원천으로 볼 수 있다. 둘째, 몰입이론의 관점에서 볼 때, 진로상담의 목표는 적응을 넘어 재능의 발달로 확장된다. 이는 최근 상담 및 심리학계의 새로운 조류인 ‘긍정적 신리학’의 정신과도 일치한다. 셋째, 전통적인 진로상담이론에서는 흥미와 적성, 즐거움과 유능함이 배타적인 개념이라고 가정하고 흥미와 적성 사이의 어딘가에서 내담자가 합리적이고도 현실적으로 진로를 선택하도록 하는 것이 진로상담자의 역할이라고 보는 반면, 몰입의 이론적 모형에 근거한 진로상담에서는 흥미와 능력은 동시에 얻을 수 있으며, 내담자가 흥미와 능력이 동시에 발현하기 위한 실마리인 몰입현상을 발견하고 느끼도록 돕는 것이 진로상담자의 역할이라고 본다. ',\n",
              "   'summary_text': '이상에서 필자는 몰입이론을 진로상담에 적용하여 새로운 진로상담 모형을 모색해보았고 몰입의 이론적 모형에 근거한 진로상담은 개인이 일에서 추구하고자 하는 즐거움과 유능함을 동시에 얻는 것이 가능하다는 전제에서 출발한다. 또한 몰입의 이론적 모형에 근거한 진로상담은 기존의 진로상담이론들과 다음과 같은 점에서 차이점을 가지고 있다.'}],\n",
              " 'title': '몰입(Flow) 이론을 적용한 진로상담모형'}"
            ]
          },
          "metadata": {},
          "execution_count": 11
        }
      ]
    },
    {
      "cell_type": "code",
      "source": [
        "data['data'][0].keys()"
      ],
      "metadata": {
        "id": "6tDRcf4_Tuxo",
        "outputId": "10505076-9ea6-4ade-e08c-5b9afe9ed29c",
        "colab": {
          "base_uri": "https://localhost:8080/"
        }
      },
      "execution_count": 12,
      "outputs": [
        {
          "output_type": "execute_result",
          "data": {
            "text/plain": [
              "dict_keys(['doc_id', 'title', 'date', 'reg_no', 'ipc', 'issued_by', 'author', 'summary_entire', 'summary_section'])"
            ]
          },
          "metadata": {},
          "execution_count": 12
        }
      ]
    },
    {
      "cell_type": "markdown",
      "source": [
        "사실 필자의 작업을 수행하는데는 data키 안의 'summary_entire' 부분만 필요하다.\n",
        "\n",
        "하지만 또 다른 경우 필요할 수 있기 때문에 DataFrame으로 형성 후 전처리를 수행하고, csv파일로 변환해보도록 하겠다."
      ],
      "metadata": {
        "id": "xQWAAQhxpbnD"
      }
    },
    {
      "cell_type": "code",
      "source": [
        "data['data'][0]['summary_entire']"
      ],
      "metadata": {
        "id": "BJLLGBeKUQX2",
        "outputId": "77176e5d-9578-4b8c-ace4-f58d8afdbb36",
        "colab": {
          "base_uri": "https://localhost:8080/"
        }
      },
      "execution_count": 13,
      "outputs": [
        {
          "output_type": "execute_result",
          "data": {
            "text/plain": [
              "[{'orginal_text': '몰입이론은 원래 창조적인 활동을 하는 사람들이 자신의 일에 몰입할 때 경험하는 현상에 대한 연구로부터 시작되었지만, 현재는 청소년발달이나 스포츠 심리학, 심지어 심리치료분야에까지 널리 영향을 미치고 있다. 본 연구의 목적은 Csikszentmihalyi의 몰입이론을 적용한 진로상담의 모형을 제시하는 것이다. 본 연구에서 제시하는 진로상담 모형은 몰입이론에서 주장하듯이 개인이 일에서 추구하고자 하는 즐거움과 유능함을 동시에 얻는 것이 가능하다는 전제에서 출발한다. 따라서 기본적으로 내담자가 흥미와 능력이 균형을 이룬 상태인 몰입을 특정한 영역에서 경험하고 그러한 일에서의 경험이 자신의 진로발달 및 진로결정과도 연결될 수 있도록 돕는 것이 진로상담자의 역할이라고 본다. 본 연구의 전반부에서는 몰입이론에 근거한 진로상담이 기존의 진로상담과 구별되는 점을 다음과 같이 기술하였다. 첫째, 본 진로상담 모형에서는 일이 적응의 대상이 아니라 우리 삶에 즐거움을 주는 원천으로 보고 있다. 둘째, 진로상담의 목표는 적응을 넘어 재능의 발달로 확장된다. 셋째, 진로문제는 진로의식의 미성숙과 같은 ‘의식’의 문제가 아니라 ‘일상생활에서 몰입경험의 부재’나 ‘삶의 의미로 통합되지 못한 몰입경험’으로 본다. 따라서 ‘일상생활에서 실제적인 몰입경험’의 중요성을 강조한다. 끝으로 진로상담이 진로선택을 돕는 것을 넘어서 아직 선택의 기점에 놓이지 않은 내담자들에게도 몰입을 경험하게 하고 그것이 생의 의미와 통합될 수 있도록 돕는 것이 진로상담의 주요 기능으로 보고 있다. 본 연구의 후반부에는 몰입이론을 진로상담에 적용했을 때 진로문제의 유형을 4개로 구분하여 제시했으며, 그 후 이 모형을 사용할 때의 실제 사례를 소개하였다.',\n",
              "  'summary_text': 'Csikszentmihalyi의 몰입이론을 적용한 진로상담의 모형을 제시하는 것이다. 전반부에서는 몰입이론에 근거한 진로상담이 기존의 진로상담과 구별되는 점을 다음과 같이 기술하였고 후반부에는 몰입이론을 진로상담에 적용했을 때 진로문제의 유형을 4개로 구분하여 제시했으며 그 후 이 모형을 사용할 때의 실제 사례를 소개하였다.\\n'}]"
            ]
          },
          "metadata": {},
          "execution_count": 13
        }
      ]
    },
    {
      "cell_type": "markdown",
      "source": [
        "**key가 totalcount가 아닌 부분만 new_data로 추출하여 저장** "
      ],
      "metadata": {
        "id": "blK8SSE5pzvb"
      }
    },
    {
      "cell_type": "code",
      "source": [
        "new_data = {key:value for key,value in data.items() if key !='totalcount'}\n",
        "type(new_data)"
      ],
      "metadata": {
        "id": "9In5ed1edSMc",
        "outputId": "a07eb228-baaa-4cb0-b73f-a5479f6414c4",
        "colab": {
          "base_uri": "https://localhost:8080/"
        }
      },
      "execution_count": 14,
      "outputs": [
        {
          "output_type": "execute_result",
          "data": {
            "text/plain": [
              "dict"
            ]
          },
          "metadata": {},
          "execution_count": 14
        }
      ]
    },
    {
      "cell_type": "markdown",
      "source": [
        "## 데이터프레임"
      ],
      "metadata": {
        "id": "Nrrdq0WWygck"
      }
    },
    {
      "cell_type": "markdown",
      "source": [
        "### 데이터프레임 만들기"
      ],
      "metadata": {
        "id": "M5R-rvMpwq4d"
      }
    },
    {
      "cell_type": "markdown",
      "source": [
        "위와 같이 수행을 해줄 경우 dict 형태로 자라 저장이 되었음을 확인할 수 있지만, 아래와 같이 중첩된 형태로 저장이 되었음을 확인할 수 있다.\n",
        "\n",
        "이 경우 그냥 데이터프레임으로 만들어줄 경우 한 열에 모든 정보가 다 담기게 된다.\n",
        "\n",
        "따라서 내부 데이터들을 뽑아내야 한다.\n",
        "\n",
        "get()를 사용하여 data key에 있는 내용들을 추출할 수 있었다."
      ],
      "metadata": {
        "id": "PwgXq1pVqifH"
      }
    },
    {
      "cell_type": "code",
      "source": [
        "new_data.keys()"
      ],
      "metadata": {
        "id": "QunfpdgEe5tS",
        "outputId": "e9032762-8a4f-45f8-94f9-19084d026870",
        "colab": {
          "base_uri": "https://localhost:8080/"
        }
      },
      "execution_count": 15,
      "outputs": [
        {
          "output_type": "execute_result",
          "data": {
            "text/plain": [
              "dict_keys(['data'])"
            ]
          },
          "metadata": {},
          "execution_count": 15
        }
      ]
    },
    {
      "cell_type": "code",
      "source": [
        "new_data=new_data.get('data')"
      ],
      "metadata": {
        "id": "e9OeCSrBhPGi"
      },
      "execution_count": 16,
      "outputs": []
    },
    {
      "cell_type": "code",
      "source": [
        "arti_1= pd.DataFrame(new_data)\n",
        "arti_1"
      ],
      "metadata": {
        "id": "V_aSdKvHfXoW",
        "outputId": "13fcb5a8-1210-4a9b-b002-f86d8f60ec64",
        "colab": {
          "base_uri": "https://localhost:8080/",
          "height": 641
        }
      },
      "execution_count": 17,
      "outputs": [
        {
          "output_type": "execute_result",
          "data": {
            "text/html": [
              "\n",
              "  <div id=\"df-09c0d540-e695-4f47-a6e6-b6b167030559\">\n",
              "    <div class=\"colab-df-container\">\n",
              "      <div>\n",
              "<style scoped>\n",
              "    .dataframe tbody tr th:only-of-type {\n",
              "        vertical-align: middle;\n",
              "    }\n",
              "\n",
              "    .dataframe tbody tr th {\n",
              "        vertical-align: top;\n",
              "    }\n",
              "\n",
              "    .dataframe thead th {\n",
              "        text-align: right;\n",
              "    }\n",
              "</style>\n",
              "<table border=\"1\" class=\"dataframe\">\n",
              "  <thead>\n",
              "    <tr style=\"text-align: right;\">\n",
              "      <th></th>\n",
              "      <th>doc_id</th>\n",
              "      <th>title</th>\n",
              "      <th>date</th>\n",
              "      <th>reg_no</th>\n",
              "      <th>ipc</th>\n",
              "      <th>issued_by</th>\n",
              "      <th>author</th>\n",
              "      <th>summary_entire</th>\n",
              "      <th>summary_section</th>\n",
              "      <th>doc_type</th>\n",
              "    </tr>\n",
              "  </thead>\n",
              "  <tbody>\n",
              "    <tr>\n",
              "      <th>0</th>\n",
              "      <td>A200928004902</td>\n",
              "      <td>몰입(Flow) 이론을 적용한 진로상담모형</td>\n",
              "      <td>2002</td>\n",
              "      <td>ART000850832</td>\n",
              "      <td>사회과학</td>\n",
              "      <td>한국청소년상담복지개발원</td>\n",
              "      <td>김창대1</td>\n",
              "      <td>[{'orginal_text': '몰입이론은 원래 창조적인 활동을 하는 사람들이 자...</td>\n",
              "      <td>[{'orginal_text': '이상에서 필자는 몰입이론을 진로상담에 적용하여 새...</td>\n",
              "      <td>NaN</td>\n",
              "    </tr>\n",
              "    <tr>\n",
              "      <th>1</th>\n",
              "      <td>A200928004903</td>\n",
              "      <td>지역사회 청소년 상담기관의 실제와 연계체제 활성화 방안에 관한 현장 연구: 안양지역...</td>\n",
              "      <td>2002</td>\n",
              "      <td>ART000850833</td>\n",
              "      <td>사회과학</td>\n",
              "      <td>한국청소년상담복지개발원</td>\n",
              "      <td>김계현1 , 김수임2 , 김영혜3</td>\n",
              "      <td>[{'orginal_text': '본 연구는 지역사회 청소년 상담기관에서 실제로 상...</td>\n",
              "      <td>[{'orginal_text': '청소년의 정신건강과 복지를 위한 각종 기관의 설립...</td>\n",
              "      <td>NaN</td>\n",
              "    </tr>\n",
              "    <tr>\n",
              "      <th>2</th>\n",
              "      <td>A200928005043</td>\n",
              "      <td>아동의 자살 생각에 영향을 미치는 가족 위험요인</td>\n",
              "      <td>2003</td>\n",
              "      <td>ART000851706</td>\n",
              "      <td>사회과학</td>\n",
              "      <td>한국청소년상담복지개발원</td>\n",
              "      <td>이정윤1 , 허재홍2</td>\n",
              "      <td>[{'orginal_text': '본 연구에서는 아동의 자살생각에 영향을 미치는 가...</td>\n",
              "      <td>[{'orginal_text': '이상과 같은 결과들을 토대로 살펴본 본 연구의 의...</td>\n",
              "      <td>NaN</td>\n",
              "    </tr>\n",
              "    <tr>\n",
              "      <th>3</th>\n",
              "      <td>A200928004904</td>\n",
              "      <td>자기애적 성격성향과 청소년 비행성향간의 관계</td>\n",
              "      <td>2002</td>\n",
              "      <td>ART000851793</td>\n",
              "      <td>사회과학</td>\n",
              "      <td>한국청소년상담복지개발원</td>\n",
              "      <td>차타순1</td>\n",
              "      <td>[{'orginal_text': '현대사회는 자기애적 현상이 문화적 흐름으로 강하게...</td>\n",
              "      <td>[{'orginal_text': '본 연구는 자기애적 성격성향과 비행성향에 대하여 ...</td>\n",
              "      <td>NaN</td>\n",
              "    </tr>\n",
              "    <tr>\n",
              "      <th>4</th>\n",
              "      <td>A200928004905</td>\n",
              "      <td>청소년의 음란물 접촉과 잘못된 강간통념 수용간의 매개변인과 조정변인의 역할</td>\n",
              "      <td>2002</td>\n",
              "      <td>ART000851794</td>\n",
              "      <td>사회과학</td>\n",
              "      <td>한국청소년상담복지개발원</td>\n",
              "      <td>고재흥1 , 지영담2</td>\n",
              "      <td>[{'orginal_text': '본 연구에서는 청소년들의 음란물 접촉은 날로 증가...</td>\n",
              "      <td>[{'orginal_text': '대부분의 음란물은 성폭력(sexual violen...</td>\n",
              "      <td>NaN</td>\n",
              "    </tr>\n",
              "    <tr>\n",
              "      <th>...</th>\n",
              "      <td>...</td>\n",
              "      <td>...</td>\n",
              "      <td>...</td>\n",
              "      <td>...</td>\n",
              "      <td>...</td>\n",
              "      <td>...</td>\n",
              "      <td>...</td>\n",
              "      <td>...</td>\n",
              "      <td>...</td>\n",
              "      <td>...</td>\n",
              "    </tr>\n",
              "    <tr>\n",
              "      <th>10016</th>\n",
              "      <td>A200928014851</td>\n",
              "      <td>IT 과학영재를 위한 다양한 API를 활용하는 프로그램 개발: 다자간 협업 가상공간...</td>\n",
              "      <td>2020</td>\n",
              "      <td>ART002624519</td>\n",
              "      <td>사회과학</td>\n",
              "      <td>한국과학영재교육학회</td>\n",
              "      <td>이창현1 , 신수민2 , 정성욱3</td>\n",
              "      <td>[{'orginal_text': '최근 IT 과학영재교육에서 효과적인 프로그래밍 교...</td>\n",
              "      <td>[{'orginal_text': '최근 과학영재교육은, 과학기술의 발달과 과학 영재...</td>\n",
              "      <td>NaN</td>\n",
              "    </tr>\n",
              "    <tr>\n",
              "      <th>10017</th>\n",
              "      <td>A200928014852</td>\n",
              "      <td>과학영재학생의 논문에 나타난 서론 서술의 특징</td>\n",
              "      <td>2020</td>\n",
              "      <td>ART002624520</td>\n",
              "      <td>사회과학</td>\n",
              "      <td>한국과학영재교육학회</td>\n",
              "      <td>조광희1</td>\n",
              "      <td>[{'orginal_text': '이 연구에서는 과학영재학생이 작성한 연구 논문의 ...</td>\n",
              "      <td>[{'orginal_text': '논문을 작성하고 투고하기 위해서는, 해당 전문가 ...</td>\n",
              "      <td>NaN</td>\n",
              "    </tr>\n",
              "    <tr>\n",
              "      <th>10018</th>\n",
              "      <td>A200928014853</td>\n",
              "      <td>식물의 수분 스트레스 조기 탐지</td>\n",
              "      <td>2020</td>\n",
              "      <td>ART002624522</td>\n",
              "      <td>사회과학</td>\n",
              "      <td>한국과학영재교육학회</td>\n",
              "      <td>김미리1 , 김태윤2 , 박주아3 , 서예진4 , 정은서5 , 허윤서6 , 조운행7</td>\n",
              "      <td>[{'orginal_text': '외형적인 증상이 나타나기 전에 수분 스트레스의 조...</td>\n",
              "      <td>[{'orginal_text': '물은 모든 생명체에게 필요하고 그 역할 또한 다양...</td>\n",
              "      <td>NaN</td>\n",
              "    </tr>\n",
              "    <tr>\n",
              "      <th>10019</th>\n",
              "      <td>A200928014854</td>\n",
              "      <td>3인 일반형 게임에서 유효 전략의 가능성에 관한 연구</td>\n",
              "      <td>2020</td>\n",
              "      <td>ART002624523</td>\n",
              "      <td>사회과학</td>\n",
              "      <td>한국과학영재교육학회</td>\n",
              "      <td>심민규1 , 이찬혁2 , 김민재3 , 송상헌4</td>\n",
              "      <td>[{'orginal_text': '죄수의 딜레마에는 여러 가지 변형이 있다. 로버트...</td>\n",
              "      <td>[{'orginal_text': '게임 이론은 개인 간의 상호작용을 논리적으로 설명...</td>\n",
              "      <td>NaN</td>\n",
              "    </tr>\n",
              "    <tr>\n",
              "      <th>10020</th>\n",
              "      <td>A200928014855</td>\n",
              "      <td>감염의 위험도를 고려한 COVID-19 확산 예측수학 모델 개선에 관한 연구</td>\n",
              "      <td>2020</td>\n",
              "      <td>ART002624524</td>\n",
              "      <td>사회과학</td>\n",
              "      <td>한국과학영재교육학회</td>\n",
              "      <td>차재혁1 , 박건2 , 송상헌3</td>\n",
              "      <td>[{'orginal_text': '감염병 확산을 예측하기 위한 다양한 수학적 모델이...</td>\n",
              "      <td>[{'orginal_text': 'COVID-19 이전부터 홍역, 천연두, 결핵, ...</td>\n",
              "      <td>NaN</td>\n",
              "    </tr>\n",
              "  </tbody>\n",
              "</table>\n",
              "<p>10021 rows × 10 columns</p>\n",
              "</div>\n",
              "      <button class=\"colab-df-convert\" onclick=\"convertToInteractive('df-09c0d540-e695-4f47-a6e6-b6b167030559')\"\n",
              "              title=\"Convert this dataframe to an interactive table.\"\n",
              "              style=\"display:none;\">\n",
              "        \n",
              "  <svg xmlns=\"http://www.w3.org/2000/svg\" height=\"24px\"viewBox=\"0 0 24 24\"\n",
              "       width=\"24px\">\n",
              "    <path d=\"M0 0h24v24H0V0z\" fill=\"none\"/>\n",
              "    <path d=\"M18.56 5.44l.94 2.06.94-2.06 2.06-.94-2.06-.94-.94-2.06-.94 2.06-2.06.94zm-11 1L8.5 8.5l.94-2.06 2.06-.94-2.06-.94L8.5 2.5l-.94 2.06-2.06.94zm10 10l.94 2.06.94-2.06 2.06-.94-2.06-.94-.94-2.06-.94 2.06-2.06.94z\"/><path d=\"M17.41 7.96l-1.37-1.37c-.4-.4-.92-.59-1.43-.59-.52 0-1.04.2-1.43.59L10.3 9.45l-7.72 7.72c-.78.78-.78 2.05 0 2.83L4 21.41c.39.39.9.59 1.41.59.51 0 1.02-.2 1.41-.59l7.78-7.78 2.81-2.81c.8-.78.8-2.07 0-2.86zM5.41 20L4 18.59l7.72-7.72 1.47 1.35L5.41 20z\"/>\n",
              "  </svg>\n",
              "      </button>\n",
              "      \n",
              "  <style>\n",
              "    .colab-df-container {\n",
              "      display:flex;\n",
              "      flex-wrap:wrap;\n",
              "      gap: 12px;\n",
              "    }\n",
              "\n",
              "    .colab-df-convert {\n",
              "      background-color: #E8F0FE;\n",
              "      border: none;\n",
              "      border-radius: 50%;\n",
              "      cursor: pointer;\n",
              "      display: none;\n",
              "      fill: #1967D2;\n",
              "      height: 32px;\n",
              "      padding: 0 0 0 0;\n",
              "      width: 32px;\n",
              "    }\n",
              "\n",
              "    .colab-df-convert:hover {\n",
              "      background-color: #E2EBFA;\n",
              "      box-shadow: 0px 1px 2px rgba(60, 64, 67, 0.3), 0px 1px 3px 1px rgba(60, 64, 67, 0.15);\n",
              "      fill: #174EA6;\n",
              "    }\n",
              "\n",
              "    [theme=dark] .colab-df-convert {\n",
              "      background-color: #3B4455;\n",
              "      fill: #D2E3FC;\n",
              "    }\n",
              "\n",
              "    [theme=dark] .colab-df-convert:hover {\n",
              "      background-color: #434B5C;\n",
              "      box-shadow: 0px 1px 3px 1px rgba(0, 0, 0, 0.15);\n",
              "      filter: drop-shadow(0px 1px 2px rgba(0, 0, 0, 0.3));\n",
              "      fill: #FFFFFF;\n",
              "    }\n",
              "  </style>\n",
              "\n",
              "      <script>\n",
              "        const buttonEl =\n",
              "          document.querySelector('#df-09c0d540-e695-4f47-a6e6-b6b167030559 button.colab-df-convert');\n",
              "        buttonEl.style.display =\n",
              "          google.colab.kernel.accessAllowed ? 'block' : 'none';\n",
              "\n",
              "        async function convertToInteractive(key) {\n",
              "          const element = document.querySelector('#df-09c0d540-e695-4f47-a6e6-b6b167030559');\n",
              "          const dataTable =\n",
              "            await google.colab.kernel.invokeFunction('convertToInteractive',\n",
              "                                                     [key], {});\n",
              "          if (!dataTable) return;\n",
              "\n",
              "          const docLinkHtml = 'Like what you see? Visit the ' +\n",
              "            '<a target=\"_blank\" href=https://colab.research.google.com/notebooks/data_table.ipynb>data table notebook</a>'\n",
              "            + ' to learn more about interactive tables.';\n",
              "          element.innerHTML = '';\n",
              "          dataTable['output_type'] = 'display_data';\n",
              "          await google.colab.output.renderOutput(dataTable, element);\n",
              "          const docLink = document.createElement('div');\n",
              "          docLink.innerHTML = docLinkHtml;\n",
              "          element.appendChild(docLink);\n",
              "        }\n",
              "      </script>\n",
              "    </div>\n",
              "  </div>\n",
              "  "
            ],
            "text/plain": [
              "              doc_id  ... doc_type\n",
              "0      A200928004902  ...      NaN\n",
              "1      A200928004903  ...      NaN\n",
              "2      A200928005043  ...      NaN\n",
              "3      A200928004904  ...      NaN\n",
              "4      A200928004905  ...      NaN\n",
              "...              ...  ...      ...\n",
              "10016  A200928014851  ...      NaN\n",
              "10017  A200928014852  ...      NaN\n",
              "10018  A200928014853  ...      NaN\n",
              "10019  A200928014854  ...      NaN\n",
              "10020  A200928014855  ...      NaN\n",
              "\n",
              "[10021 rows x 10 columns]"
            ]
          },
          "metadata": {},
          "execution_count": 17
        }
      ]
    },
    {
      "cell_type": "markdown",
      "source": [
        "첫 번째 json 파일을 데이터프레임 형식으로 변환하는 것에 성공했다.\n"
      ],
      "metadata": {
        "id": "elqcJ9jqrYRz"
      }
    },
    {
      "cell_type": "markdown",
      "source": [
        "각 json파일에 수록된 데이터의 개수는 다르다."
      ],
      "metadata": {
        "id": "HBIcS9f9vYY9"
      }
    },
    {
      "cell_type": "code",
      "source": [
        "data2['totalcount']"
      ],
      "metadata": {
        "id": "42tHjDo1ftEz",
        "outputId": "5e87e721-799b-4a62-addc-95a0cead1650",
        "colab": {
          "base_uri": "https://localhost:8080/"
        }
      },
      "execution_count": 18,
      "outputs": [
        {
          "output_type": "execute_result",
          "data": {
            "text/plain": [
              "6259"
            ]
          },
          "metadata": {},
          "execution_count": 18
        }
      ]
    },
    {
      "cell_type": "code",
      "source": [
        "data3['totalcount']"
      ],
      "metadata": {
        "id": "Pr87ofwKtZA0",
        "outputId": "0268293f-af09-453d-e74d-a54fb11fc6fa",
        "colab": {
          "base_uri": "https://localhost:8080/"
        }
      },
      "execution_count": 19,
      "outputs": [
        {
          "output_type": "execute_result",
          "data": {
            "text/plain": [
              "32000"
            ]
          },
          "metadata": {},
          "execution_count": 19
        }
      ]
    },
    {
      "cell_type": "code",
      "source": [
        "data3['totalcount']"
      ],
      "metadata": {
        "id": "ZW_hIq44uAA8",
        "outputId": "d051a38f-2c55-4683-c13d-8afca7148ec4",
        "colab": {
          "base_uri": "https://localhost:8080/"
        }
      },
      "execution_count": 20,
      "outputs": [
        {
          "output_type": "execute_result",
          "data": {
            "text/plain": [
              "32000"
            ]
          },
          "metadata": {},
          "execution_count": 20
        }
      ]
    },
    {
      "cell_type": "code",
      "source": [
        "data4['totalcount']"
      ],
      "metadata": {
        "id": "HJ3uU8OTuDmz",
        "outputId": "2ba67ef9-418d-407f-f1bc-52dd9974a3d2",
        "colab": {
          "base_uri": "https://localhost:8080/"
        }
      },
      "execution_count": 21,
      "outputs": [
        {
          "output_type": "execute_result",
          "data": {
            "text/plain": [
              "32000"
            ]
          },
          "metadata": {},
          "execution_count": 21
        }
      ]
    },
    {
      "cell_type": "code",
      "source": [
        "data5['totalcount']"
      ],
      "metadata": {
        "id": "ZhWM2gScuFFu",
        "outputId": "deb8ef2c-dae4-4de5-af6e-2ba984db0cbf",
        "colab": {
          "base_uri": "https://localhost:8080/"
        }
      },
      "execution_count": 22,
      "outputs": [
        {
          "output_type": "execute_result",
          "data": {
            "text/plain": [
              "10021"
            ]
          },
          "metadata": {},
          "execution_count": 22
        }
      ]
    },
    {
      "cell_type": "code",
      "source": [
        "data6['totalcount']"
      ],
      "metadata": {
        "id": "hpiwLB53uGiT",
        "outputId": "41d8b0ec-8aca-4bf2-9444-8f48c2043e8b",
        "colab": {
          "base_uri": "https://localhost:8080/"
        }
      },
      "execution_count": 23,
      "outputs": [
        {
          "output_type": "execute_result",
          "data": {
            "text/plain": [
              "32000"
            ]
          },
          "metadata": {},
          "execution_count": 23
        }
      ]
    },
    {
      "cell_type": "markdown",
      "source": [
        "**data키만 저장**"
      ],
      "metadata": {
        "id": "by94Di3hvgeU"
      }
    },
    {
      "cell_type": "code",
      "source": [
        "new2_data = {key:value for key,value in data2.items() if key !='totalcount'}\n",
        "new3_data = {key:value for key,value in data3.items() if key !='totalcount'}\n",
        "new4_data = {key:value for key,value in data4.items() if key !='totalcount'}\n",
        "new5_data = {key:value for key,value in data5.items() if key !='totalcount'}\n",
        "new6_data = {key:value for key,value in data6.items() if key !='totalcount'}"
      ],
      "metadata": {
        "id": "SnT6pFdmuYkz"
      },
      "execution_count": 24,
      "outputs": []
    },
    {
      "cell_type": "markdown",
      "source": [
        "**데이터셋만 뽑아내어 다시 저장**"
      ],
      "metadata": {
        "id": "bmt0dpimvkhO"
      }
    },
    {
      "cell_type": "code",
      "source": [
        "new2_data=new2_data.get('data')\n",
        "new3_data=new3_data.get('data')\n",
        "new4_data=new4_data.get('data')\n",
        "new5_data=new5_data.get('data')\n",
        "new6_data=new6_data.get('data')"
      ],
      "metadata": {
        "id": "vgmvdF4_uvcF"
      },
      "execution_count": 25,
      "outputs": []
    },
    {
      "cell_type": "code",
      "source": [
        "arti_2= pd.DataFrame(new2_data)\n",
        "arti_3= pd.DataFrame(new3_data)\n",
        "arti_4= pd.DataFrame(new4_data)\n",
        "arti_5= pd.DataFrame(new5_data)\n",
        "arti_6= pd.DataFrame(new6_data)"
      ],
      "metadata": {
        "id": "Q2zdDmCmu7XK"
      },
      "execution_count": 26,
      "outputs": []
    },
    {
      "cell_type": "markdown",
      "source": [
        "다음으로 진행할 것은 이 json 파일들을 합쳐줄 것이다.\n",
        "\n",
        "하나의 데이터프레임으로 구성한 후에 전처리를 수행한다."
      ],
      "metadata": {
        "id": "wZcuqzXqvz4L"
      }
    },
    {
      "cell_type": "code",
      "source": [
        "print(arti_1.shape)\n",
        "print(arti_2.shape)\n",
        "print(arti_3.shape)\n",
        "print(arti_4.shape)\n",
        "print(arti_5.shape)\n",
        "print(arti_6.shape)"
      ],
      "metadata": {
        "id": "-Nh8OasEvVdN",
        "outputId": "8cd0e5d5-51ba-4ca4-b4ea-847d7668dc48",
        "colab": {
          "base_uri": "https://localhost:8080/"
        }
      },
      "execution_count": 27,
      "outputs": [
        {
          "output_type": "stream",
          "name": "stdout",
          "text": [
            "(10021, 10)\n",
            "(6259, 10)\n",
            "(32000, 10)\n",
            "(32000, 10)\n",
            "(10021, 10)\n",
            "(32000, 10)\n"
          ]
        }
      ]
    },
    {
      "cell_type": "markdown",
      "source": [
        "### 하나의 데이터프레임으로 결합"
      ],
      "metadata": {
        "id": "WfaWgU1HwvWN"
      }
    },
    {
      "cell_type": "code",
      "source": [
        "df= pd.concat([arti_1,arti_2,arti_3,arti_4,arti_5,arti_6],axis=0) # 위 아래로 이어붙여줄 것이다.\n",
        "df.shape"
      ],
      "metadata": {
        "id": "TWKKaTmRwTIL",
        "outputId": "d7850919-d784-498a-9326-433537997873",
        "colab": {
          "base_uri": "https://localhost:8080/"
        }
      },
      "execution_count": 28,
      "outputs": [
        {
          "output_type": "execute_result",
          "data": {
            "text/plain": [
              "(122301, 10)"
            ]
          },
          "metadata": {},
          "execution_count": 28
        }
      ]
    },
    {
      "cell_type": "code",
      "source": [
        "df"
      ],
      "metadata": {
        "id": "ejkggjjixbLi",
        "outputId": "61e0ab88-09e3-471d-adb3-94202ef4ef14",
        "colab": {
          "base_uri": "https://localhost:8080/",
          "height": 641
        }
      },
      "execution_count": 29,
      "outputs": [
        {
          "output_type": "execute_result",
          "data": {
            "text/html": [
              "\n",
              "  <div id=\"df-f5311d57-b04e-410c-b348-bab8edaafdff\">\n",
              "    <div class=\"colab-df-container\">\n",
              "      <div>\n",
              "<style scoped>\n",
              "    .dataframe tbody tr th:only-of-type {\n",
              "        vertical-align: middle;\n",
              "    }\n",
              "\n",
              "    .dataframe tbody tr th {\n",
              "        vertical-align: top;\n",
              "    }\n",
              "\n",
              "    .dataframe thead th {\n",
              "        text-align: right;\n",
              "    }\n",
              "</style>\n",
              "<table border=\"1\" class=\"dataframe\">\n",
              "  <thead>\n",
              "    <tr style=\"text-align: right;\">\n",
              "      <th></th>\n",
              "      <th>doc_id</th>\n",
              "      <th>title</th>\n",
              "      <th>date</th>\n",
              "      <th>reg_no</th>\n",
              "      <th>ipc</th>\n",
              "      <th>issued_by</th>\n",
              "      <th>author</th>\n",
              "      <th>summary_entire</th>\n",
              "      <th>summary_section</th>\n",
              "      <th>doc_type</th>\n",
              "    </tr>\n",
              "  </thead>\n",
              "  <tbody>\n",
              "    <tr>\n",
              "      <th>0</th>\n",
              "      <td>A200928004902</td>\n",
              "      <td>몰입(Flow) 이론을 적용한 진로상담모형</td>\n",
              "      <td>2002</td>\n",
              "      <td>ART000850832</td>\n",
              "      <td>사회과학</td>\n",
              "      <td>한국청소년상담복지개발원</td>\n",
              "      <td>김창대1</td>\n",
              "      <td>[{'orginal_text': '몰입이론은 원래 창조적인 활동을 하는 사람들이 자...</td>\n",
              "      <td>[{'orginal_text': '이상에서 필자는 몰입이론을 진로상담에 적용하여 새...</td>\n",
              "      <td>NaN</td>\n",
              "    </tr>\n",
              "    <tr>\n",
              "      <th>1</th>\n",
              "      <td>A200928004903</td>\n",
              "      <td>지역사회 청소년 상담기관의 실제와 연계체제 활성화 방안에 관한 현장 연구: 안양지역...</td>\n",
              "      <td>2002</td>\n",
              "      <td>ART000850833</td>\n",
              "      <td>사회과학</td>\n",
              "      <td>한국청소년상담복지개발원</td>\n",
              "      <td>김계현1 , 김수임2 , 김영혜3</td>\n",
              "      <td>[{'orginal_text': '본 연구는 지역사회 청소년 상담기관에서 실제로 상...</td>\n",
              "      <td>[{'orginal_text': '청소년의 정신건강과 복지를 위한 각종 기관의 설립...</td>\n",
              "      <td>NaN</td>\n",
              "    </tr>\n",
              "    <tr>\n",
              "      <th>2</th>\n",
              "      <td>A200928005043</td>\n",
              "      <td>아동의 자살 생각에 영향을 미치는 가족 위험요인</td>\n",
              "      <td>2003</td>\n",
              "      <td>ART000851706</td>\n",
              "      <td>사회과학</td>\n",
              "      <td>한국청소년상담복지개발원</td>\n",
              "      <td>이정윤1 , 허재홍2</td>\n",
              "      <td>[{'orginal_text': '본 연구에서는 아동의 자살생각에 영향을 미치는 가...</td>\n",
              "      <td>[{'orginal_text': '이상과 같은 결과들을 토대로 살펴본 본 연구의 의...</td>\n",
              "      <td>NaN</td>\n",
              "    </tr>\n",
              "    <tr>\n",
              "      <th>3</th>\n",
              "      <td>A200928004904</td>\n",
              "      <td>자기애적 성격성향과 청소년 비행성향간의 관계</td>\n",
              "      <td>2002</td>\n",
              "      <td>ART000851793</td>\n",
              "      <td>사회과학</td>\n",
              "      <td>한국청소년상담복지개발원</td>\n",
              "      <td>차타순1</td>\n",
              "      <td>[{'orginal_text': '현대사회는 자기애적 현상이 문화적 흐름으로 강하게...</td>\n",
              "      <td>[{'orginal_text': '본 연구는 자기애적 성격성향과 비행성향에 대하여 ...</td>\n",
              "      <td>NaN</td>\n",
              "    </tr>\n",
              "    <tr>\n",
              "      <th>4</th>\n",
              "      <td>A200928004905</td>\n",
              "      <td>청소년의 음란물 접촉과 잘못된 강간통념 수용간의 매개변인과 조정변인의 역할</td>\n",
              "      <td>2002</td>\n",
              "      <td>ART000851794</td>\n",
              "      <td>사회과학</td>\n",
              "      <td>한국청소년상담복지개발원</td>\n",
              "      <td>고재흥1 , 지영담2</td>\n",
              "      <td>[{'orginal_text': '본 연구에서는 청소년들의 음란물 접촉은 날로 증가...</td>\n",
              "      <td>[{'orginal_text': '대부분의 음란물은 성폭력(sexual violen...</td>\n",
              "      <td>NaN</td>\n",
              "    </tr>\n",
              "    <tr>\n",
              "      <th>...</th>\n",
              "      <td>...</td>\n",
              "      <td>...</td>\n",
              "      <td>...</td>\n",
              "      <td>...</td>\n",
              "      <td>...</td>\n",
              "      <td>...</td>\n",
              "      <td>...</td>\n",
              "      <td>...</td>\n",
              "      <td>...</td>\n",
              "      <td>...</td>\n",
              "    </tr>\n",
              "    <tr>\n",
              "      <th>31995</th>\n",
              "      <td>A220223614301</td>\n",
              "      <td>저소득층 학생의 학교 적응, 수업 태도, 학업 성취에 대한 사회적 자본의 영향 분석</td>\n",
              "      <td>2017</td>\n",
              "      <td>ART9002279065</td>\n",
              "      <td>사회과학</td>\n",
              "      <td>한국교육개발원</td>\n",
              "      <td>류방란 /Bangran Ryu,김성식</td>\n",
              "      <td>[{'orginal_text': '이 연구는 저소득층 학생의 교육적 취약성과 가능성...</td>\n",
              "      <td>[{'orginal_text': '이 연구는 전국적인 데이터를 활용하여 저소득층 학...</td>\n",
              "      <td>논문</td>\n",
              "    </tr>\n",
              "    <tr>\n",
              "      <th>31996</th>\n",
              "      <td>A220223614302</td>\n",
              "      <td>단어의 정서가와 각성가가 우연학습 이후 기억에 미치는 영향</td>\n",
              "      <td>2017</td>\n",
              "      <td>ART9002280350</td>\n",
              "      <td>사회과학</td>\n",
              "      <td>한국인지및생물심리학회</td>\n",
              "      <td>남예은,이윤형</td>\n",
              "      <td>[{'orginal_text': '본 연구의 목적은 단어의 정서적 특성이 어휘판단 ...</td>\n",
              "      <td>[{'orginal_text': '사건에 대한 정서적인 정보는 이와 같은 기억의 처...</td>\n",
              "      <td>논문</td>\n",
              "    </tr>\n",
              "    <tr>\n",
              "      <th>31997</th>\n",
              "      <td>A220223614303</td>\n",
              "      <td>수학수업에 대한 초등교사의 인식 조사</td>\n",
              "      <td>2017</td>\n",
              "      <td>ART9002280577</td>\n",
              "      <td>사회과학</td>\n",
              "      <td>한국수학교육학회</td>\n",
              "      <td>권성룡</td>\n",
              "      <td>[{'orginal_text': '본 연구는 초등수학수업의 개선을 목표로 초등교사의...</td>\n",
              "      <td>[{'orginal_text': '최근에 이뤄진 몇 차례의 수학과 교육과정 개정 노...</td>\n",
              "      <td>논문</td>\n",
              "    </tr>\n",
              "    <tr>\n",
              "      <th>31998</th>\n",
              "      <td>A220223614304</td>\n",
              "      <td>SW영재의 학업탄력성과 자아상태 비교</td>\n",
              "      <td>2017</td>\n",
              "      <td>ART9002280639</td>\n",
              "      <td>복합학</td>\n",
              "      <td>한국창의정보문화학회</td>\n",
              "      <td>이재호 /Lee Jaeho,김동현 /Donghyun Kim</td>\n",
              "      <td>[{'orginal_text': '본 논문은 SW영재의 학업탄력성과 자아상태를 확인...</td>\n",
              "      <td>[{'orginal_text': '2015년 통계청의 아동 청소년 대상 학업 관련 ...</td>\n",
              "      <td>논문</td>\n",
              "    </tr>\n",
              "    <tr>\n",
              "      <th>31999</th>\n",
              "      <td>A220223614305</td>\n",
              "      <td>성장 수준에 따른 부채비율과 기업의 과잉투자의 관계</td>\n",
              "      <td>2017</td>\n",
              "      <td>ART9002280894</td>\n",
              "      <td>사회과학</td>\n",
              "      <td>한국국제회계학회</td>\n",
              "      <td>박원 /Park Won,김예경 /kim ye kyoung</td>\n",
              "      <td>[{'orginal_text': '본 연구에서는 재무적 건전성이 기업의 과잉투자에 ...</td>\n",
              "      <td>[{'orginal_text': '기업은 지속적인 발전과 유지 존속을 위하여 순실현...</td>\n",
              "      <td>논문</td>\n",
              "    </tr>\n",
              "  </tbody>\n",
              "</table>\n",
              "<p>122301 rows × 10 columns</p>\n",
              "</div>\n",
              "      <button class=\"colab-df-convert\" onclick=\"convertToInteractive('df-f5311d57-b04e-410c-b348-bab8edaafdff')\"\n",
              "              title=\"Convert this dataframe to an interactive table.\"\n",
              "              style=\"display:none;\">\n",
              "        \n",
              "  <svg xmlns=\"http://www.w3.org/2000/svg\" height=\"24px\"viewBox=\"0 0 24 24\"\n",
              "       width=\"24px\">\n",
              "    <path d=\"M0 0h24v24H0V0z\" fill=\"none\"/>\n",
              "    <path d=\"M18.56 5.44l.94 2.06.94-2.06 2.06-.94-2.06-.94-.94-2.06-.94 2.06-2.06.94zm-11 1L8.5 8.5l.94-2.06 2.06-.94-2.06-.94L8.5 2.5l-.94 2.06-2.06.94zm10 10l.94 2.06.94-2.06 2.06-.94-2.06-.94-.94-2.06-.94 2.06-2.06.94z\"/><path d=\"M17.41 7.96l-1.37-1.37c-.4-.4-.92-.59-1.43-.59-.52 0-1.04.2-1.43.59L10.3 9.45l-7.72 7.72c-.78.78-.78 2.05 0 2.83L4 21.41c.39.39.9.59 1.41.59.51 0 1.02-.2 1.41-.59l7.78-7.78 2.81-2.81c.8-.78.8-2.07 0-2.86zM5.41 20L4 18.59l7.72-7.72 1.47 1.35L5.41 20z\"/>\n",
              "  </svg>\n",
              "      </button>\n",
              "      \n",
              "  <style>\n",
              "    .colab-df-container {\n",
              "      display:flex;\n",
              "      flex-wrap:wrap;\n",
              "      gap: 12px;\n",
              "    }\n",
              "\n",
              "    .colab-df-convert {\n",
              "      background-color: #E8F0FE;\n",
              "      border: none;\n",
              "      border-radius: 50%;\n",
              "      cursor: pointer;\n",
              "      display: none;\n",
              "      fill: #1967D2;\n",
              "      height: 32px;\n",
              "      padding: 0 0 0 0;\n",
              "      width: 32px;\n",
              "    }\n",
              "\n",
              "    .colab-df-convert:hover {\n",
              "      background-color: #E2EBFA;\n",
              "      box-shadow: 0px 1px 2px rgba(60, 64, 67, 0.3), 0px 1px 3px 1px rgba(60, 64, 67, 0.15);\n",
              "      fill: #174EA6;\n",
              "    }\n",
              "\n",
              "    [theme=dark] .colab-df-convert {\n",
              "      background-color: #3B4455;\n",
              "      fill: #D2E3FC;\n",
              "    }\n",
              "\n",
              "    [theme=dark] .colab-df-convert:hover {\n",
              "      background-color: #434B5C;\n",
              "      box-shadow: 0px 1px 3px 1px rgba(0, 0, 0, 0.15);\n",
              "      filter: drop-shadow(0px 1px 2px rgba(0, 0, 0, 0.3));\n",
              "      fill: #FFFFFF;\n",
              "    }\n",
              "  </style>\n",
              "\n",
              "      <script>\n",
              "        const buttonEl =\n",
              "          document.querySelector('#df-f5311d57-b04e-410c-b348-bab8edaafdff button.colab-df-convert');\n",
              "        buttonEl.style.display =\n",
              "          google.colab.kernel.accessAllowed ? 'block' : 'none';\n",
              "\n",
              "        async function convertToInteractive(key) {\n",
              "          const element = document.querySelector('#df-f5311d57-b04e-410c-b348-bab8edaafdff');\n",
              "          const dataTable =\n",
              "            await google.colab.kernel.invokeFunction('convertToInteractive',\n",
              "                                                     [key], {});\n",
              "          if (!dataTable) return;\n",
              "\n",
              "          const docLinkHtml = 'Like what you see? Visit the ' +\n",
              "            '<a target=\"_blank\" href=https://colab.research.google.com/notebooks/data_table.ipynb>data table notebook</a>'\n",
              "            + ' to learn more about interactive tables.';\n",
              "          element.innerHTML = '';\n",
              "          dataTable['output_type'] = 'display_data';\n",
              "          await google.colab.output.renderOutput(dataTable, element);\n",
              "          const docLink = document.createElement('div');\n",
              "          docLink.innerHTML = docLinkHtml;\n",
              "          element.appendChild(docLink);\n",
              "        }\n",
              "      </script>\n",
              "    </div>\n",
              "  </div>\n",
              "  "
            ],
            "text/plain": [
              "              doc_id  ... doc_type\n",
              "0      A200928004902  ...      NaN\n",
              "1      A200928004903  ...      NaN\n",
              "2      A200928005043  ...      NaN\n",
              "3      A200928004904  ...      NaN\n",
              "4      A200928004905  ...      NaN\n",
              "...              ...  ...      ...\n",
              "31995  A220223614301  ...       논문\n",
              "31996  A220223614302  ...       논문\n",
              "31997  A220223614303  ...       논문\n",
              "31998  A220223614304  ...       논문\n",
              "31999  A220223614305  ...       논문\n",
              "\n",
              "[122301 rows x 10 columns]"
            ]
          },
          "metadata": {},
          "execution_count": 29
        }
      ]
    },
    {
      "cell_type": "markdown",
      "source": [
        "### 결측치 확인"
      ],
      "metadata": {
        "id": "EgW_gpJYyVQA"
      }
    },
    {
      "cell_type": "code",
      "source": [
        "import seaborn as sns\n",
        "import matplotlib as mpl\n",
        "import matplotlib.pyplot as plt\n",
        "import missingno as msno"
      ],
      "metadata": {
        "id": "Yu70hOGwxdvM"
      },
      "execution_count": 30,
      "outputs": []
    },
    {
      "cell_type": "code",
      "source": [
        "%matplotlib inline\n",
        "msno.matrix(df, figsize=(17,8), fontsize=14);"
      ],
      "metadata": {
        "id": "CJYeiZDbx-K-",
        "outputId": "93264adb-1bfe-4c69-f96d-1eeea36241a0",
        "colab": {
          "base_uri": "https://localhost:8080/",
          "height": 581
        }
      },
      "execution_count": 31,
      "outputs": [
        {
          "output_type": "display_data",
          "data": {
            "image/png": "[encoded data removed]",
            "text/plain": [
              "<Figure size 1224x576 with 2 Axes>"
            ]
          },
          "metadata": {
            "needs_background": "light"
          }
        }
      ]
    },
    {
      "cell_type": "code",
      "source": [
        "msno.bar(df, figsize=(17,6), fontsize=14);"
      ],
      "metadata": {
        "id": "MHHtlx2ayEpP",
        "outputId": "2e24592b-2bd4-4641-b619-ce06c07be6f5",
        "colab": {
          "base_uri": "https://localhost:8080/",
          "height": 515
        }
      },
      "execution_count": 32,
      "outputs": [
        {
          "output_type": "display_data",
          "data": {
            "image/png": "[encoded data removed]",
            "text/plain": [
              "<Figure size 1224x432 with 3 Axes>"
            ]
          },
          "metadata": {
            "needs_background": "light"
          }
        }
      ]
    },
    {
      "cell_type": "markdown",
      "source": [
        "결측치를 확인해본 결과 doc_type에 누락된 데이터가 있음을 확인할 수 있습니다.\n",
        "\n",
        "그러나 본 데이터 상에서는 doc_type이 논문으로 동일하기 때문에 nan값을 '논문'으로 추가해주거나, doc_type을 제거하는 방법을 쓸 수 있습니다."
      ],
      "metadata": {
        "id": "ubRXCLZ-ywd7"
      }
    },
    {
      "cell_type": "markdown",
      "source": [
        "뚜렷하게 보이는 것은 doc_type의 결측치이지만, 다른 결측치를 간과해선 안됩니다.\n",
        "\n",
        "정확한 결측치의 비율을 확인해보겠습니다."
      ],
      "metadata": {
        "id": "FeYhBv4xzdVS"
      }
    },
    {
      "cell_type": "code",
      "source": [
        "for i in df.columns:\n",
        "  null_rate = df[i].isna().sum() / len(df)*100\n",
        "  if null_rate > 0:\n",
        "    print(f\"{i}'s null rate : {null_rate.round(2)}%\")"
      ],
      "metadata": {
        "id": "9J553o14yLxe",
        "outputId": "036abce4-090a-418a-f37f-87ac37bba849",
        "colab": {
          "base_uri": "https://localhost:8080/"
        }
      },
      "execution_count": 33,
      "outputs": [
        {
          "output_type": "stream",
          "name": "stdout",
          "text": [
            "author's null rate : 0.01%\n",
            "doc_type's null rate : 12.97%\n"
          ]
        }
      ]
    },
    {
      "cell_type": "markdown",
      "source": [
        "저자를 누락시킨 부분이 있네요. 우선 doc_type을 먼저 처리하겠습니다."
      ],
      "metadata": {
        "id": "tkiftna1zr8s"
      }
    },
    {
      "cell_type": "code",
      "source": [
        "df['doc_type'].isna().sum()"
      ],
      "metadata": {
        "id": "gIb53YxuzoMD",
        "outputId": "bcf30cd8-975c-48f9-aea2-52cf0e3b1772",
        "colab": {
          "base_uri": "https://localhost:8080/"
        }
      },
      "execution_count": 34,
      "outputs": [
        {
          "output_type": "execute_result",
          "data": {
            "text/plain": [
              "15868"
            ]
          },
          "metadata": {},
          "execution_count": 34
        }
      ]
    },
    {
      "cell_type": "code",
      "source": [
        "df['doc_type'].fillna('논문',inplace=True)"
      ],
      "metadata": {
        "id": "baPtZnJI0Pwy"
      },
      "execution_count": 35,
      "outputs": []
    },
    {
      "cell_type": "code",
      "source": [
        "df.doc_type.isna().sum()"
      ],
      "metadata": {
        "id": "gRURMwfJ0ooA",
        "outputId": "2234de54-0865-475e-8294-eb27c41f2d9b",
        "colab": {
          "base_uri": "https://localhost:8080/"
        }
      },
      "execution_count": 36,
      "outputs": [
        {
          "output_type": "execute_result",
          "data": {
            "text/plain": [
              "0"
            ]
          },
          "metadata": {},
          "execution_count": 36
        }
      ]
    },
    {
      "cell_type": "code",
      "source": [
        "na_condition = df.loc[df['author'].isna()]\n",
        "na_condition"
      ],
      "metadata": {
        "id": "C8V3BFTC0xZW",
        "outputId": "d3809d92-99d4-4efd-b93d-5c0da05fec81",
        "colab": {
          "base_uri": "https://localhost:8080/",
          "height": 434
        }
      },
      "execution_count": 37,
      "outputs": [
        {
          "output_type": "execute_result",
          "data": {
            "text/html": [
              "\n",
              "  <div id=\"df-91123dc1-1fc0-49cb-90e2-3a049c68abc8\">\n",
              "    <div class=\"colab-df-container\">\n",
              "      <div>\n",
              "<style scoped>\n",
              "    .dataframe tbody tr th:only-of-type {\n",
              "        vertical-align: middle;\n",
              "    }\n",
              "\n",
              "    .dataframe tbody tr th {\n",
              "        vertical-align: top;\n",
              "    }\n",
              "\n",
              "    .dataframe thead th {\n",
              "        text-align: right;\n",
              "    }\n",
              "</style>\n",
              "<table border=\"1\" class=\"dataframe\">\n",
              "  <thead>\n",
              "    <tr style=\"text-align: right;\">\n",
              "      <th></th>\n",
              "      <th>doc_id</th>\n",
              "      <th>title</th>\n",
              "      <th>date</th>\n",
              "      <th>reg_no</th>\n",
              "      <th>ipc</th>\n",
              "      <th>issued_by</th>\n",
              "      <th>author</th>\n",
              "      <th>summary_entire</th>\n",
              "      <th>summary_section</th>\n",
              "      <th>doc_type</th>\n",
              "    </tr>\n",
              "  </thead>\n",
              "  <tbody>\n",
              "    <tr>\n",
              "      <th>10426</th>\n",
              "      <td>A220223592730</td>\n",
              "      <td>북한 김정은 시대의 고급중학교 1 화학 교과서의 탐구 경향성 분석</td>\n",
              "      <td>2019</td>\n",
              "      <td>ART9002491831</td>\n",
              "      <td>자연과학</td>\n",
              "      <td>대한화학회</td>\n",
              "      <td>NaN</td>\n",
              "      <td>[{'orginal_text': '본 연구는 북한 김정은 시대의 화학 교과서의 탐구...</td>\n",
              "      <td>[{'orginal_text': '최근 1~2년 동안 남한과 북한의 관계가 급진적으...</td>\n",
              "      <td>논문</td>\n",
              "    </tr>\n",
              "    <tr>\n",
              "      <th>10427</th>\n",
              "      <td>A220223592731</td>\n",
              "      <td>초등교사의 과학적 탐구 이해의 수준과 실태 분석</td>\n",
              "      <td>2019</td>\n",
              "      <td>ART9002491832</td>\n",
              "      <td>자연과학</td>\n",
              "      <td>대한화학회</td>\n",
              "      <td>NaN</td>\n",
              "      <td>[{'orginal_text': '본 연구는 초등교사의 과학적 탐구에 관한 이해 수...</td>\n",
              "      <td>[{'orginal_text': '지난 20년간의 과학교육 개혁에서는 학생의 과학적...</td>\n",
              "      <td>논문</td>\n",
              "    </tr>\n",
              "    <tr>\n",
              "      <th>10428</th>\n",
              "      <td>A220223592732</td>\n",
              "      <td>2009 및 2015 개정 교육과정의 화학 교과서에서 모델 관련 내용 분석: 수용액...</td>\n",
              "      <td>2019</td>\n",
              "      <td>ART9002491833</td>\n",
              "      <td>자연과학</td>\n",
              "      <td>대한화학회</td>\n",
              "      <td>NaN</td>\n",
              "      <td>[{'orginal_text': '이 연구에서는 2015 개정 교육과정의 교과서에서...</td>\n",
              "      <td>[{'orginal_text': '2013년도에 발표된 미국의 차세대 과학교육표준에...</td>\n",
              "      <td>논문</td>\n",
              "    </tr>\n",
              "    <tr>\n",
              "      <th>12444</th>\n",
              "      <td>A220223594750</td>\n",
              "      <td>염산과 황산 용액에서 코발트의 부식에 미치는 아미노산의 부식억제효과</td>\n",
              "      <td>2019</td>\n",
              "      <td>ART9002513804</td>\n",
              "      <td>자연과학</td>\n",
              "      <td>대한화학회</td>\n",
              "      <td>NaN</td>\n",
              "      <td>[{'orginal_text': '코발트의 부식에 대한 시스테인(Cys), 메티오닌...</td>\n",
              "      <td>[{'orginal_text': '코발트(Cobalt, Co)는 다른 철족 금속(f...</td>\n",
              "      <td>논문</td>\n",
              "    </tr>\n",
              "    <tr>\n",
              "      <th>12446</th>\n",
              "      <td>A220223594752</td>\n",
              "      <td>LC-MS/MS를 이용한 동물 사료 내 글라이포세이트 및 글루포시네이트 분석</td>\n",
              "      <td>2019</td>\n",
              "      <td>ART9002513806</td>\n",
              "      <td>자연과학</td>\n",
              "      <td>대한화학회</td>\n",
              "      <td>NaN</td>\n",
              "      <td>[{'orginal_text': '식품에서 글라이포세이트와 글루포시네이트의 함량 기...</td>\n",
              "      <td>[{'orginal_text': '글라이포세이트와 글루포시네이트는 살포된 지역의 모...</td>\n",
              "      <td>논문</td>\n",
              "    </tr>\n",
              "    <tr>\n",
              "      <th>12447</th>\n",
              "      <td>A220223594753</td>\n",
              "      <td>교사학습공동체 활동을 한 초임중등과학교사의 과학 탐구 수업에 대한 인식</td>\n",
              "      <td>2019</td>\n",
              "      <td>ART9002513809</td>\n",
              "      <td>자연과학</td>\n",
              "      <td>대한화학회</td>\n",
              "      <td>NaN</td>\n",
              "      <td>[{'orginal_text': '본 연구는 교사학습공동체에서 과학 탐구 수업이라는...</td>\n",
              "      <td>[{'orginal_text': '우리나라는 3차 과학과 교육과정에 과학 탐구의 중...</td>\n",
              "      <td>논문</td>\n",
              "    </tr>\n",
              "    <tr>\n",
              "      <th>12448</th>\n",
              "      <td>A220223594754</td>\n",
              "      <td>산과 염기 화학반응에서 논리 사고 학습발달단계 탐색</td>\n",
              "      <td>2019</td>\n",
              "      <td>ART9002513810</td>\n",
              "      <td>자연과학</td>\n",
              "      <td>대한화학회</td>\n",
              "      <td>NaN</td>\n",
              "      <td>[{'orginal_text': '이 연구에서는 산과 염기의 화학반응에 대한 학습발...</td>\n",
              "      <td>[{'orginal_text': '수많은 학생이 수년에 걸친 교육을 받은 후에도 오...</td>\n",
              "      <td>논문</td>\n",
              "    </tr>\n",
              "  </tbody>\n",
              "</table>\n",
              "</div>\n",
              "      <button class=\"colab-df-convert\" onclick=\"convertToInteractive('df-91123dc1-1fc0-49cb-90e2-3a049c68abc8')\"\n",
              "              title=\"Convert this dataframe to an interactive table.\"\n",
              "              style=\"display:none;\">\n",
              "        \n",
              "  <svg xmlns=\"http://www.w3.org/2000/svg\" height=\"24px\"viewBox=\"0 0 24 24\"\n",
              "       width=\"24px\">\n",
              "    <path d=\"M0 0h24v24H0V0z\" fill=\"none\"/>\n",
              "    <path d=\"M18.56 5.44l.94 2.06.94-2.06 2.06-.94-2.06-.94-.94-2.06-.94 2.06-2.06.94zm-11 1L8.5 8.5l.94-2.06 2.06-.94-2.06-.94L8.5 2.5l-.94 2.06-2.06.94zm10 10l.94 2.06.94-2.06 2.06-.94-2.06-.94-.94-2.06-.94 2.06-2.06.94z\"/><path d=\"M17.41 7.96l-1.37-1.37c-.4-.4-.92-.59-1.43-.59-.52 0-1.04.2-1.43.59L10.3 9.45l-7.72 7.72c-.78.78-.78 2.05 0 2.83L4 21.41c.39.39.9.59 1.41.59.51 0 1.02-.2 1.41-.59l7.78-7.78 2.81-2.81c.8-.78.8-2.07 0-2.86zM5.41 20L4 18.59l7.72-7.72 1.47 1.35L5.41 20z\"/>\n",
              "  </svg>\n",
              "      </button>\n",
              "      \n",
              "  <style>\n",
              "    .colab-df-container {\n",
              "      display:flex;\n",
              "      flex-wrap:wrap;\n",
              "      gap: 12px;\n",
              "    }\n",
              "\n",
              "    .colab-df-convert {\n",
              "      background-color: #E8F0FE;\n",
              "      border: none;\n",
              "      border-radius: 50%;\n",
              "      cursor: pointer;\n",
              "      display: none;\n",
              "      fill: #1967D2;\n",
              "      height: 32px;\n",
              "      padding: 0 0 0 0;\n",
              "      width: 32px;\n",
              "    }\n",
              "\n",
              "    .colab-df-convert:hover {\n",
              "      background-color: #E2EBFA;\n",
              "      box-shadow: 0px 1px 2px rgba(60, 64, 67, 0.3), 0px 1px 3px 1px rgba(60, 64, 67, 0.15);\n",
              "      fill: #174EA6;\n",
              "    }\n",
              "\n",
              "    [theme=dark] .colab-df-convert {\n",
              "      background-color: #3B4455;\n",
              "      fill: #D2E3FC;\n",
              "    }\n",
              "\n",
              "    [theme=dark] .colab-df-convert:hover {\n",
              "      background-color: #434B5C;\n",
              "      box-shadow: 0px 1px 3px 1px rgba(0, 0, 0, 0.15);\n",
              "      filter: drop-shadow(0px 1px 2px rgba(0, 0, 0, 0.3));\n",
              "      fill: #FFFFFF;\n",
              "    }\n",
              "  </style>\n",
              "\n",
              "      <script>\n",
              "        const buttonEl =\n",
              "          document.querySelector('#df-91123dc1-1fc0-49cb-90e2-3a049c68abc8 button.colab-df-convert');\n",
              "        buttonEl.style.display =\n",
              "          google.colab.kernel.accessAllowed ? 'block' : 'none';\n",
              "\n",
              "        async function convertToInteractive(key) {\n",
              "          const element = document.querySelector('#df-91123dc1-1fc0-49cb-90e2-3a049c68abc8');\n",
              "          const dataTable =\n",
              "            await google.colab.kernel.invokeFunction('convertToInteractive',\n",
              "                                                     [key], {});\n",
              "          if (!dataTable) return;\n",
              "\n",
              "          const docLinkHtml = 'Like what you see? Visit the ' +\n",
              "            '<a target=\"_blank\" href=https://colab.research.google.com/notebooks/data_table.ipynb>data table notebook</a>'\n",
              "            + ' to learn more about interactive tables.';\n",
              "          element.innerHTML = '';\n",
              "          dataTable['output_type'] = 'display_data';\n",
              "          await google.colab.output.renderOutput(dataTable, element);\n",
              "          const docLink = document.createElement('div');\n",
              "          docLink.innerHTML = docLinkHtml;\n",
              "          element.appendChild(docLink);\n",
              "        }\n",
              "      </script>\n",
              "    </div>\n",
              "  </div>\n",
              "  "
            ],
            "text/plain": [
              "              doc_id  ... doc_type\n",
              "10426  A220223592730  ...       논문\n",
              "10427  A220223592731  ...       논문\n",
              "10428  A220223592732  ...       논문\n",
              "12444  A220223594750  ...       논문\n",
              "12446  A220223594752  ...       논문\n",
              "12447  A220223594753  ...       논문\n",
              "12448  A220223594754  ...       논문\n",
              "\n",
              "[7 rows x 10 columns]"
            ]
          },
          "metadata": {},
          "execution_count": 37
        }
      ]
    },
    {
      "cell_type": "markdown",
      "source": [
        "대한화학회에서 출판한 것으로 author는 '대한화학회'로 대체하겠습니다."
      ],
      "metadata": {
        "id": "6fjtsoWx2M0_"
      }
    },
    {
      "cell_type": "code",
      "source": [
        "df.fillna('대한화학회',inplace=True)\n",
        "\n",
        "%matplotlib inline\n",
        "msno.matrix(df, figsize=(17,8), fontsize=14);"
      ],
      "metadata": {
        "id": "6z8LHyOl1OY0",
        "outputId": "65f268cb-4c17-4bfc-9f08-b904060de7ff",
        "colab": {
          "base_uri": "https://localhost:8080/",
          "height": 581
        }
      },
      "execution_count": 38,
      "outputs": [
        {
          "output_type": "display_data",
          "data": {
            "image/png": "[encoded data removed]",
            "text/plain": [
              "<Figure size 1224x576 with 2 Axes>"
            ]
          },
          "metadata": {
            "needs_background": "light"
          }
        }
      ]
    },
    {
      "cell_type": "markdown",
      "source": [
        "결측치가 제거된 것을 확인할 수 있습니다."
      ],
      "metadata": {
        "id": "tnxttoV-2lML"
      }
    },
    {
      "cell_type": "markdown",
      "source": [
        "**인덱스를 재배열**"
      ],
      "metadata": {
        "id": "R3EkLDtG344B"
      }
    },
    {
      "cell_type": "code",
      "source": [
        "df.reset_index(drop=True, inplace=True)\n",
        "df"
      ],
      "metadata": {
        "id": "mt4_aER13YDN",
        "outputId": "0b6137fe-be8e-4b86-f19a-6398d2b2927f",
        "colab": {
          "base_uri": "https://localhost:8080/",
          "height": 641
        }
      },
      "execution_count": 39,
      "outputs": [
        {
          "output_type": "execute_result",
          "data": {
            "text/html": [
              "\n",
              "  <div id=\"df-5478a28a-733e-4df7-88ab-0014119d851f\">\n",
              "    <div class=\"colab-df-container\">\n",
              "      <div>\n",
              "<style scoped>\n",
              "    .dataframe tbody tr th:only-of-type {\n",
              "        vertical-align: middle;\n",
              "    }\n",
              "\n",
              "    .dataframe tbody tr th {\n",
              "        vertical-align: top;\n",
              "    }\n",
              "\n",
              "    .dataframe thead th {\n",
              "        text-align: right;\n",
              "    }\n",
              "</style>\n",
              "<table border=\"1\" class=\"dataframe\">\n",
              "  <thead>\n",
              "    <tr style=\"text-align: right;\">\n",
              "      <th></th>\n",
              "      <th>doc_id</th>\n",
              "      <th>title</th>\n",
              "      <th>date</th>\n",
              "      <th>reg_no</th>\n",
              "      <th>ipc</th>\n",
              "      <th>issued_by</th>\n",
              "      <th>author</th>\n",
              "      <th>summary_entire</th>\n",
              "      <th>summary_section</th>\n",
              "      <th>doc_type</th>\n",
              "    </tr>\n",
              "  </thead>\n",
              "  <tbody>\n",
              "    <tr>\n",
              "      <th>0</th>\n",
              "      <td>A200928004902</td>\n",
              "      <td>몰입(Flow) 이론을 적용한 진로상담모형</td>\n",
              "      <td>2002</td>\n",
              "      <td>ART000850832</td>\n",
              "      <td>사회과학</td>\n",
              "      <td>한국청소년상담복지개발원</td>\n",
              "      <td>김창대1</td>\n",
              "      <td>[{'orginal_text': '몰입이론은 원래 창조적인 활동을 하는 사람들이 자...</td>\n",
              "      <td>[{'orginal_text': '이상에서 필자는 몰입이론을 진로상담에 적용하여 새...</td>\n",
              "      <td>논문</td>\n",
              "    </tr>\n",
              "    <tr>\n",
              "      <th>1</th>\n",
              "      <td>A200928004903</td>\n",
              "      <td>지역사회 청소년 상담기관의 실제와 연계체제 활성화 방안에 관한 현장 연구: 안양지역...</td>\n",
              "      <td>2002</td>\n",
              "      <td>ART000850833</td>\n",
              "      <td>사회과학</td>\n",
              "      <td>한국청소년상담복지개발원</td>\n",
              "      <td>김계현1 , 김수임2 , 김영혜3</td>\n",
              "      <td>[{'orginal_text': '본 연구는 지역사회 청소년 상담기관에서 실제로 상...</td>\n",
              "      <td>[{'orginal_text': '청소년의 정신건강과 복지를 위한 각종 기관의 설립...</td>\n",
              "      <td>논문</td>\n",
              "    </tr>\n",
              "    <tr>\n",
              "      <th>2</th>\n",
              "      <td>A200928005043</td>\n",
              "      <td>아동의 자살 생각에 영향을 미치는 가족 위험요인</td>\n",
              "      <td>2003</td>\n",
              "      <td>ART000851706</td>\n",
              "      <td>사회과학</td>\n",
              "      <td>한국청소년상담복지개발원</td>\n",
              "      <td>이정윤1 , 허재홍2</td>\n",
              "      <td>[{'orginal_text': '본 연구에서는 아동의 자살생각에 영향을 미치는 가...</td>\n",
              "      <td>[{'orginal_text': '이상과 같은 결과들을 토대로 살펴본 본 연구의 의...</td>\n",
              "      <td>논문</td>\n",
              "    </tr>\n",
              "    <tr>\n",
              "      <th>3</th>\n",
              "      <td>A200928004904</td>\n",
              "      <td>자기애적 성격성향과 청소년 비행성향간의 관계</td>\n",
              "      <td>2002</td>\n",
              "      <td>ART000851793</td>\n",
              "      <td>사회과학</td>\n",
              "      <td>한국청소년상담복지개발원</td>\n",
              "      <td>차타순1</td>\n",
              "      <td>[{'orginal_text': '현대사회는 자기애적 현상이 문화적 흐름으로 강하게...</td>\n",
              "      <td>[{'orginal_text': '본 연구는 자기애적 성격성향과 비행성향에 대하여 ...</td>\n",
              "      <td>논문</td>\n",
              "    </tr>\n",
              "    <tr>\n",
              "      <th>4</th>\n",
              "      <td>A200928004905</td>\n",
              "      <td>청소년의 음란물 접촉과 잘못된 강간통념 수용간의 매개변인과 조정변인의 역할</td>\n",
              "      <td>2002</td>\n",
              "      <td>ART000851794</td>\n",
              "      <td>사회과학</td>\n",
              "      <td>한국청소년상담복지개발원</td>\n",
              "      <td>고재흥1 , 지영담2</td>\n",
              "      <td>[{'orginal_text': '본 연구에서는 청소년들의 음란물 접촉은 날로 증가...</td>\n",
              "      <td>[{'orginal_text': '대부분의 음란물은 성폭력(sexual violen...</td>\n",
              "      <td>논문</td>\n",
              "    </tr>\n",
              "    <tr>\n",
              "      <th>...</th>\n",
              "      <td>...</td>\n",
              "      <td>...</td>\n",
              "      <td>...</td>\n",
              "      <td>...</td>\n",
              "      <td>...</td>\n",
              "      <td>...</td>\n",
              "      <td>...</td>\n",
              "      <td>...</td>\n",
              "      <td>...</td>\n",
              "      <td>...</td>\n",
              "    </tr>\n",
              "    <tr>\n",
              "      <th>122296</th>\n",
              "      <td>A220223614301</td>\n",
              "      <td>저소득층 학생의 학교 적응, 수업 태도, 학업 성취에 대한 사회적 자본의 영향 분석</td>\n",
              "      <td>2017</td>\n",
              "      <td>ART9002279065</td>\n",
              "      <td>사회과학</td>\n",
              "      <td>한국교육개발원</td>\n",
              "      <td>류방란 /Bangran Ryu,김성식</td>\n",
              "      <td>[{'orginal_text': '이 연구는 저소득층 학생의 교육적 취약성과 가능성...</td>\n",
              "      <td>[{'orginal_text': '이 연구는 전국적인 데이터를 활용하여 저소득층 학...</td>\n",
              "      <td>논문</td>\n",
              "    </tr>\n",
              "    <tr>\n",
              "      <th>122297</th>\n",
              "      <td>A220223614302</td>\n",
              "      <td>단어의 정서가와 각성가가 우연학습 이후 기억에 미치는 영향</td>\n",
              "      <td>2017</td>\n",
              "      <td>ART9002280350</td>\n",
              "      <td>사회과학</td>\n",
              "      <td>한국인지및생물심리학회</td>\n",
              "      <td>남예은,이윤형</td>\n",
              "      <td>[{'orginal_text': '본 연구의 목적은 단어의 정서적 특성이 어휘판단 ...</td>\n",
              "      <td>[{'orginal_text': '사건에 대한 정서적인 정보는 이와 같은 기억의 처...</td>\n",
              "      <td>논문</td>\n",
              "    </tr>\n",
              "    <tr>\n",
              "      <th>122298</th>\n",
              "      <td>A220223614303</td>\n",
              "      <td>수학수업에 대한 초등교사의 인식 조사</td>\n",
              "      <td>2017</td>\n",
              "      <td>ART9002280577</td>\n",
              "      <td>사회과학</td>\n",
              "      <td>한국수학교육학회</td>\n",
              "      <td>권성룡</td>\n",
              "      <td>[{'orginal_text': '본 연구는 초등수학수업의 개선을 목표로 초등교사의...</td>\n",
              "      <td>[{'orginal_text': '최근에 이뤄진 몇 차례의 수학과 교육과정 개정 노...</td>\n",
              "      <td>논문</td>\n",
              "    </tr>\n",
              "    <tr>\n",
              "      <th>122299</th>\n",
              "      <td>A220223614304</td>\n",
              "      <td>SW영재의 학업탄력성과 자아상태 비교</td>\n",
              "      <td>2017</td>\n",
              "      <td>ART9002280639</td>\n",
              "      <td>복합학</td>\n",
              "      <td>한국창의정보문화학회</td>\n",
              "      <td>이재호 /Lee Jaeho,김동현 /Donghyun Kim</td>\n",
              "      <td>[{'orginal_text': '본 논문은 SW영재의 학업탄력성과 자아상태를 확인...</td>\n",
              "      <td>[{'orginal_text': '2015년 통계청의 아동 청소년 대상 학업 관련 ...</td>\n",
              "      <td>논문</td>\n",
              "    </tr>\n",
              "    <tr>\n",
              "      <th>122300</th>\n",
              "      <td>A220223614305</td>\n",
              "      <td>성장 수준에 따른 부채비율과 기업의 과잉투자의 관계</td>\n",
              "      <td>2017</td>\n",
              "      <td>ART9002280894</td>\n",
              "      <td>사회과학</td>\n",
              "      <td>한국국제회계학회</td>\n",
              "      <td>박원 /Park Won,김예경 /kim ye kyoung</td>\n",
              "      <td>[{'orginal_text': '본 연구에서는 재무적 건전성이 기업의 과잉투자에 ...</td>\n",
              "      <td>[{'orginal_text': '기업은 지속적인 발전과 유지 존속을 위하여 순실현...</td>\n",
              "      <td>논문</td>\n",
              "    </tr>\n",
              "  </tbody>\n",
              "</table>\n",
              "<p>122301 rows × 10 columns</p>\n",
              "</div>\n",
              "      <button class=\"colab-df-convert\" onclick=\"convertToInteractive('df-5478a28a-733e-4df7-88ab-0014119d851f')\"\n",
              "              title=\"Convert this dataframe to an interactive table.\"\n",
              "              style=\"display:none;\">\n",
              "        \n",
              "  <svg xmlns=\"http://www.w3.org/2000/svg\" height=\"24px\"viewBox=\"0 0 24 24\"\n",
              "       width=\"24px\">\n",
              "    <path d=\"M0 0h24v24H0V0z\" fill=\"none\"/>\n",
              "    <path d=\"M18.56 5.44l.94 2.06.94-2.06 2.06-.94-2.06-.94-.94-2.06-.94 2.06-2.06.94zm-11 1L8.5 8.5l.94-2.06 2.06-.94-2.06-.94L8.5 2.5l-.94 2.06-2.06.94zm10 10l.94 2.06.94-2.06 2.06-.94-2.06-.94-.94-2.06-.94 2.06-2.06.94z\"/><path d=\"M17.41 7.96l-1.37-1.37c-.4-.4-.92-.59-1.43-.59-.52 0-1.04.2-1.43.59L10.3 9.45l-7.72 7.72c-.78.78-.78 2.05 0 2.83L4 21.41c.39.39.9.59 1.41.59.51 0 1.02-.2 1.41-.59l7.78-7.78 2.81-2.81c.8-.78.8-2.07 0-2.86zM5.41 20L4 18.59l7.72-7.72 1.47 1.35L5.41 20z\"/>\n",
              "  </svg>\n",
              "      </button>\n",
              "      \n",
              "  <style>\n",
              "    .colab-df-container {\n",
              "      display:flex;\n",
              "      flex-wrap:wrap;\n",
              "      gap: 12px;\n",
              "    }\n",
              "\n",
              "    .colab-df-convert {\n",
              "      background-color: #E8F0FE;\n",
              "      border: none;\n",
              "      border-radius: 50%;\n",
              "      cursor: pointer;\n",
              "      display: none;\n",
              "      fill: #1967D2;\n",
              "      height: 32px;\n",
              "      padding: 0 0 0 0;\n",
              "      width: 32px;\n",
              "    }\n",
              "\n",
              "    .colab-df-convert:hover {\n",
              "      background-color: #E2EBFA;\n",
              "      box-shadow: 0px 1px 2px rgba(60, 64, 67, 0.3), 0px 1px 3px 1px rgba(60, 64, 67, 0.15);\n",
              "      fill: #174EA6;\n",
              "    }\n",
              "\n",
              "    [theme=dark] .colab-df-convert {\n",
              "      background-color: #3B4455;\n",
              "      fill: #D2E3FC;\n",
              "    }\n",
              "\n",
              "    [theme=dark] .colab-df-convert:hover {\n",
              "      background-color: #434B5C;\n",
              "      box-shadow: 0px 1px 3px 1px rgba(0, 0, 0, 0.15);\n",
              "      filter: drop-shadow(0px 1px 2px rgba(0, 0, 0, 0.3));\n",
              "      fill: #FFFFFF;\n",
              "    }\n",
              "  </style>\n",
              "\n",
              "      <script>\n",
              "        const buttonEl =\n",
              "          document.querySelector('#df-5478a28a-733e-4df7-88ab-0014119d851f button.colab-df-convert');\n",
              "        buttonEl.style.display =\n",
              "          google.colab.kernel.accessAllowed ? 'block' : 'none';\n",
              "\n",
              "        async function convertToInteractive(key) {\n",
              "          const element = document.querySelector('#df-5478a28a-733e-4df7-88ab-0014119d851f');\n",
              "          const dataTable =\n",
              "            await google.colab.kernel.invokeFunction('convertToInteractive',\n",
              "                                                     [key], {});\n",
              "          if (!dataTable) return;\n",
              "\n",
              "          const docLinkHtml = 'Like what you see? Visit the ' +\n",
              "            '<a target=\"_blank\" href=https://colab.research.google.com/notebooks/data_table.ipynb>data table notebook</a>'\n",
              "            + ' to learn more about interactive tables.';\n",
              "          element.innerHTML = '';\n",
              "          dataTable['output_type'] = 'display_data';\n",
              "          await google.colab.output.renderOutput(dataTable, element);\n",
              "          const docLink = document.createElement('div');\n",
              "          docLink.innerHTML = docLinkHtml;\n",
              "          element.appendChild(docLink);\n",
              "        }\n",
              "      </script>\n",
              "    </div>\n",
              "  </div>\n",
              "  "
            ],
            "text/plain": [
              "               doc_id  ... doc_type\n",
              "0       A200928004902  ...       논문\n",
              "1       A200928004903  ...       논문\n",
              "2       A200928005043  ...       논문\n",
              "3       A200928004904  ...       논문\n",
              "4       A200928004905  ...       논문\n",
              "...               ...  ...      ...\n",
              "122296  A220223614301  ...       논문\n",
              "122297  A220223614302  ...       논문\n",
              "122298  A220223614303  ...       논문\n",
              "122299  A220223614304  ...       논문\n",
              "122300  A220223614305  ...       논문\n",
              "\n",
              "[122301 rows x 10 columns]"
            ]
          },
          "metadata": {},
          "execution_count": 39
        }
      ]
    },
    {
      "cell_type": "markdown",
      "source": [
        "### 전처리"
      ],
      "metadata": {
        "id": "j3ljQlLu2ziX"
      }
    },
    {
      "cell_type": "code",
      "source": [
        "df.head(2)"
      ],
      "metadata": {
        "id": "MKJBJ6692cF5",
        "outputId": "28864ec1-f70f-48b3-e476-b35047726936",
        "colab": {
          "base_uri": "https://localhost:8080/",
          "height": 191
        }
      },
      "execution_count": 40,
      "outputs": [
        {
          "output_type": "execute_result",
          "data": {
            "text/html": [
              "\n",
              "  <div id=\"df-c6703e7a-f1ad-4841-aec8-c9ee8e57b8ae\">\n",
              "    <div class=\"colab-df-container\">\n",
              "      <div>\n",
              "<style scoped>\n",
              "    .dataframe tbody tr th:only-of-type {\n",
              "        vertical-align: middle;\n",
              "    }\n",
              "\n",
              "    .dataframe tbody tr th {\n",
              "        vertical-align: top;\n",
              "    }\n",
              "\n",
              "    .dataframe thead th {\n",
              "        text-align: right;\n",
              "    }\n",
              "</style>\n",
              "<table border=\"1\" class=\"dataframe\">\n",
              "  <thead>\n",
              "    <tr style=\"text-align: right;\">\n",
              "      <th></th>\n",
              "      <th>doc_id</th>\n",
              "      <th>title</th>\n",
              "      <th>date</th>\n",
              "      <th>reg_no</th>\n",
              "      <th>ipc</th>\n",
              "      <th>issued_by</th>\n",
              "      <th>author</th>\n",
              "      <th>summary_entire</th>\n",
              "      <th>summary_section</th>\n",
              "      <th>doc_type</th>\n",
              "    </tr>\n",
              "  </thead>\n",
              "  <tbody>\n",
              "    <tr>\n",
              "      <th>0</th>\n",
              "      <td>A200928004902</td>\n",
              "      <td>몰입(Flow) 이론을 적용한 진로상담모형</td>\n",
              "      <td>2002</td>\n",
              "      <td>ART000850832</td>\n",
              "      <td>사회과학</td>\n",
              "      <td>한국청소년상담복지개발원</td>\n",
              "      <td>김창대1</td>\n",
              "      <td>[{'orginal_text': '몰입이론은 원래 창조적인 활동을 하는 사람들이 자...</td>\n",
              "      <td>[{'orginal_text': '이상에서 필자는 몰입이론을 진로상담에 적용하여 새...</td>\n",
              "      <td>논문</td>\n",
              "    </tr>\n",
              "    <tr>\n",
              "      <th>1</th>\n",
              "      <td>A200928004903</td>\n",
              "      <td>지역사회 청소년 상담기관의 실제와 연계체제 활성화 방안에 관한 현장 연구: 안양지역...</td>\n",
              "      <td>2002</td>\n",
              "      <td>ART000850833</td>\n",
              "      <td>사회과학</td>\n",
              "      <td>한국청소년상담복지개발원</td>\n",
              "      <td>김계현1 , 김수임2 , 김영혜3</td>\n",
              "      <td>[{'orginal_text': '본 연구는 지역사회 청소년 상담기관에서 실제로 상...</td>\n",
              "      <td>[{'orginal_text': '청소년의 정신건강과 복지를 위한 각종 기관의 설립...</td>\n",
              "      <td>논문</td>\n",
              "    </tr>\n",
              "  </tbody>\n",
              "</table>\n",
              "</div>\n",
              "      <button class=\"colab-df-convert\" onclick=\"convertToInteractive('df-c6703e7a-f1ad-4841-aec8-c9ee8e57b8ae')\"\n",
              "              title=\"Convert this dataframe to an interactive table.\"\n",
              "              style=\"display:none;\">\n",
              "        \n",
              "  <svg xmlns=\"http://www.w3.org/2000/svg\" height=\"24px\"viewBox=\"0 0 24 24\"\n",
              "       width=\"24px\">\n",
              "    <path d=\"M0 0h24v24H0V0z\" fill=\"none\"/>\n",
              "    <path d=\"M18.56 5.44l.94 2.06.94-2.06 2.06-.94-2.06-.94-.94-2.06-.94 2.06-2.06.94zm-11 1L8.5 8.5l.94-2.06 2.06-.94-2.06-.94L8.5 2.5l-.94 2.06-2.06.94zm10 10l.94 2.06.94-2.06 2.06-.94-2.06-.94-.94-2.06-.94 2.06-2.06.94z\"/><path d=\"M17.41 7.96l-1.37-1.37c-.4-.4-.92-.59-1.43-.59-.52 0-1.04.2-1.43.59L10.3 9.45l-7.72 7.72c-.78.78-.78 2.05 0 2.83L4 21.41c.39.39.9.59 1.41.59.51 0 1.02-.2 1.41-.59l7.78-7.78 2.81-2.81c.8-.78.8-2.07 0-2.86zM5.41 20L4 18.59l7.72-7.72 1.47 1.35L5.41 20z\"/>\n",
              "  </svg>\n",
              "      </button>\n",
              "      \n",
              "  <style>\n",
              "    .colab-df-container {\n",
              "      display:flex;\n",
              "      flex-wrap:wrap;\n",
              "      gap: 12px;\n",
              "    }\n",
              "\n",
              "    .colab-df-convert {\n",
              "      background-color: #E8F0FE;\n",
              "      border: none;\n",
              "      border-radius: 50%;\n",
              "      cursor: pointer;\n",
              "      display: none;\n",
              "      fill: #1967D2;\n",
              "      height: 32px;\n",
              "      padding: 0 0 0 0;\n",
              "      width: 32px;\n",
              "    }\n",
              "\n",
              "    .colab-df-convert:hover {\n",
              "      background-color: #E2EBFA;\n",
              "      box-shadow: 0px 1px 2px rgba(60, 64, 67, 0.3), 0px 1px 3px 1px rgba(60, 64, 67, 0.15);\n",
              "      fill: #174EA6;\n",
              "    }\n",
              "\n",
              "    [theme=dark] .colab-df-convert {\n",
              "      background-color: #3B4455;\n",
              "      fill: #D2E3FC;\n",
              "    }\n",
              "\n",
              "    [theme=dark] .colab-df-convert:hover {\n",
              "      background-color: #434B5C;\n",
              "      box-shadow: 0px 1px 3px 1px rgba(0, 0, 0, 0.15);\n",
              "      filter: drop-shadow(0px 1px 2px rgba(0, 0, 0, 0.3));\n",
              "      fill: #FFFFFF;\n",
              "    }\n",
              "  </style>\n",
              "\n",
              "      <script>\n",
              "        const buttonEl =\n",
              "          document.querySelector('#df-c6703e7a-f1ad-4841-aec8-c9ee8e57b8ae button.colab-df-convert');\n",
              "        buttonEl.style.display =\n",
              "          google.colab.kernel.accessAllowed ? 'block' : 'none';\n",
              "\n",
              "        async function convertToInteractive(key) {\n",
              "          const element = document.querySelector('#df-c6703e7a-f1ad-4841-aec8-c9ee8e57b8ae');\n",
              "          const dataTable =\n",
              "            await google.colab.kernel.invokeFunction('convertToInteractive',\n",
              "                                                     [key], {});\n",
              "          if (!dataTable) return;\n",
              "\n",
              "          const docLinkHtml = 'Like what you see? Visit the ' +\n",
              "            '<a target=\"_blank\" href=https://colab.research.google.com/notebooks/data_table.ipynb>data table notebook</a>'\n",
              "            + ' to learn more about interactive tables.';\n",
              "          element.innerHTML = '';\n",
              "          dataTable['output_type'] = 'display_data';\n",
              "          await google.colab.output.renderOutput(dataTable, element);\n",
              "          const docLink = document.createElement('div');\n",
              "          docLink.innerHTML = docLinkHtml;\n",
              "          element.appendChild(docLink);\n",
              "        }\n",
              "      </script>\n",
              "    </div>\n",
              "  </div>\n",
              "  "
            ],
            "text/plain": [
              "          doc_id  ... doc_type\n",
              "0  A200928004902  ...       논문\n",
              "1  A200928004903  ...       논문\n",
              "\n",
              "[2 rows x 10 columns]"
            ]
          },
          "metadata": {},
          "execution_count": 40
        }
      ]
    },
    {
      "cell_type": "markdown",
      "source": [
        "필자가 현재 필요한 것은 summary_entire 부분과 summary_selection 부분으로 다른 부분보단 이 두 feature에 집중하겠습니다.\n"
      ],
      "metadata": {
        "id": "9a_AGFmU28sT"
      }
    },
    {
      "cell_type": "code",
      "source": [
        "df.summary_entire[0]"
      ],
      "metadata": {
        "id": "pxBkCq5L24bL",
        "outputId": "dab52d64-dfe2-4f8d-bcb5-56c5c740d6b4",
        "colab": {
          "base_uri": "https://localhost:8080/"
        }
      },
      "execution_count": 41,
      "outputs": [
        {
          "output_type": "execute_result",
          "data": {
            "text/plain": [
              "[{'orginal_text': '몰입이론은 원래 창조적인 활동을 하는 사람들이 자신의 일에 몰입할 때 경험하는 현상에 대한 연구로부터 시작되었지만, 현재는 청소년발달이나 스포츠 심리학, 심지어 심리치료분야에까지 널리 영향을 미치고 있다. 본 연구의 목적은 Csikszentmihalyi의 몰입이론을 적용한 진로상담의 모형을 제시하는 것이다. 본 연구에서 제시하는 진로상담 모형은 몰입이론에서 주장하듯이 개인이 일에서 추구하고자 하는 즐거움과 유능함을 동시에 얻는 것이 가능하다는 전제에서 출발한다. 따라서 기본적으로 내담자가 흥미와 능력이 균형을 이룬 상태인 몰입을 특정한 영역에서 경험하고 그러한 일에서의 경험이 자신의 진로발달 및 진로결정과도 연결될 수 있도록 돕는 것이 진로상담자의 역할이라고 본다. 본 연구의 전반부에서는 몰입이론에 근거한 진로상담이 기존의 진로상담과 구별되는 점을 다음과 같이 기술하였다. 첫째, 본 진로상담 모형에서는 일이 적응의 대상이 아니라 우리 삶에 즐거움을 주는 원천으로 보고 있다. 둘째, 진로상담의 목표는 적응을 넘어 재능의 발달로 확장된다. 셋째, 진로문제는 진로의식의 미성숙과 같은 ‘의식’의 문제가 아니라 ‘일상생활에서 몰입경험의 부재’나 ‘삶의 의미로 통합되지 못한 몰입경험’으로 본다. 따라서 ‘일상생활에서 실제적인 몰입경험’의 중요성을 강조한다. 끝으로 진로상담이 진로선택을 돕는 것을 넘어서 아직 선택의 기점에 놓이지 않은 내담자들에게도 몰입을 경험하게 하고 그것이 생의 의미와 통합될 수 있도록 돕는 것이 진로상담의 주요 기능으로 보고 있다. 본 연구의 후반부에는 몰입이론을 진로상담에 적용했을 때 진로문제의 유형을 4개로 구분하여 제시했으며, 그 후 이 모형을 사용할 때의 실제 사례를 소개하였다.',\n",
              "  'summary_text': 'Csikszentmihalyi의 몰입이론을 적용한 진로상담의 모형을 제시하는 것이다. 전반부에서는 몰입이론에 근거한 진로상담이 기존의 진로상담과 구별되는 점을 다음과 같이 기술하였고 후반부에는 몰입이론을 진로상담에 적용했을 때 진로문제의 유형을 4개로 구분하여 제시했으며 그 후 이 모형을 사용할 때의 실제 사례를 소개하였다.\\n'}]"
            ]
          },
          "metadata": {},
          "execution_count": 41
        }
      ]
    },
    {
      "cell_type": "code",
      "source": [
        "df['summary_section'][0]"
      ],
      "metadata": {
        "id": "KLSxgFIk3RlI",
        "outputId": "0028e30b-7603-43d9-c282-179068866eee",
        "colab": {
          "base_uri": "https://localhost:8080/"
        }
      },
      "execution_count": 42,
      "outputs": [
        {
          "output_type": "execute_result",
          "data": {
            "text/plain": [
              "[{'orginal_text': '이상에서 필자는 몰입이론을 진로상담에 적용하여 새로운 진로상담 모형을 모색해보았다. 몰입의 이론적 모형에 근거한 진로상담은 개인이 일에서 추구하고자 하는 즐거움과 유능함을 동시에 얻는 것이 가능하다는 전제에서 출발한다. 몰입의 이론적 모형에 근거한 진로상담은 기존의 진로상담이론들과 다음과 같은 점에서 차이점을 가지고 있다. 첫째, 몰입이론은 일에 대한 새로운 시각을 제시해준다. 일에 대해 몰입 개념의 시각에서 접근할 경우 일이나 직업의 세계는 적응해야하는 대상이 아니라 우리들의 삶에 즐거움을 주는 원천으로 볼 수 있다. 둘째, 몰입이론의 관점에서 볼 때, 진로상담의 목표는 적응을 넘어 재능의 발달로 확장된다. 이는 최근 상담 및 심리학계의 새로운 조류인 ‘긍정적 신리학’의 정신과도 일치한다. 셋째, 전통적인 진로상담이론에서는 흥미와 적성, 즐거움과 유능함이 배타적인 개념이라고 가정하고 흥미와 적성 사이의 어딘가에서 내담자가 합리적이고도 현실적으로 진로를 선택하도록 하는 것이 진로상담자의 역할이라고 보는 반면, 몰입의 이론적 모형에 근거한 진로상담에서는 흥미와 능력은 동시에 얻을 수 있으며, 내담자가 흥미와 능력이 동시에 발현하기 위한 실마리인 몰입현상을 발견하고 느끼도록 돕는 것이 진로상담자의 역할이라고 본다. ',\n",
              "  'summary_text': '이상에서 필자는 몰입이론을 진로상담에 적용하여 새로운 진로상담 모형을 모색해보았고 몰입의 이론적 모형에 근거한 진로상담은 개인이 일에서 추구하고자 하는 즐거움과 유능함을 동시에 얻는 것이 가능하다는 전제에서 출발한다. 또한 몰입의 이론적 모형에 근거한 진로상담은 기존의 진로상담이론들과 다음과 같은 점에서 차이점을 가지고 있다.'}]"
            ]
          },
          "metadata": {},
          "execution_count": 42
        }
      ]
    },
    {
      "cell_type": "markdown",
      "source": [
        "본래 데이터에서 summary_entire부분과 summary_section 부분이 존재하는데, 두 feature 모두 원 텍스트와 이를 기반으로 요약한 부분이 존재한다. \n",
        "\n",
        "original_text와 summary_text 부분으로 작성이 되어있는데, 작성된 형식이 다름을 알 수 있다.\n",
        "\n",
        "- summary_entire: 원 텍스트에 들어간 단어를 기반으로 형성된 문장이 아니라 새롭게 형성된 요약문임으 확인할 수 있다.\n",
        "- summart_section: summary_entire과 다르게 원 텍스트에 빈번하게 들어간 단어를 기반으로 문장을 형성하고 있음을 알 수 있다. \n",
        "\n",
        "---\n",
        "\n",
        "- 목적에 따라 다르게 활용할 수 있는 부분이기 때문에 데이터를 정제 후 해당 feature를 저장시킬 것이다.\n",
        "- str 형식으로 변환하였기 때문에 split()를 통해 해당 텍스트를 두 부분으로 나누고 replace()를 통해 필요 없는 부부을 처리해줄 것이다."
      ],
      "metadata": {
        "id": "-6u9hv1iDcz-"
      }
    },
    {
      "cell_type": "code",
      "source": [
        "df.summary_entire[0][0]"
      ],
      "metadata": {
        "id": "h07lCWv94SzB",
        "outputId": "832cecb6-d8b5-478b-9cfb-b0a23135e095",
        "colab": {
          "base_uri": "https://localhost:8080/"
        }
      },
      "execution_count": 43,
      "outputs": [
        {
          "output_type": "execute_result",
          "data": {
            "text/plain": [
              "{'orginal_text': '몰입이론은 원래 창조적인 활동을 하는 사람들이 자신의 일에 몰입할 때 경험하는 현상에 대한 연구로부터 시작되었지만, 현재는 청소년발달이나 스포츠 심리학, 심지어 심리치료분야에까지 널리 영향을 미치고 있다. 본 연구의 목적은 Csikszentmihalyi의 몰입이론을 적용한 진로상담의 모형을 제시하는 것이다. 본 연구에서 제시하는 진로상담 모형은 몰입이론에서 주장하듯이 개인이 일에서 추구하고자 하는 즐거움과 유능함을 동시에 얻는 것이 가능하다는 전제에서 출발한다. 따라서 기본적으로 내담자가 흥미와 능력이 균형을 이룬 상태인 몰입을 특정한 영역에서 경험하고 그러한 일에서의 경험이 자신의 진로발달 및 진로결정과도 연결될 수 있도록 돕는 것이 진로상담자의 역할이라고 본다. 본 연구의 전반부에서는 몰입이론에 근거한 진로상담이 기존의 진로상담과 구별되는 점을 다음과 같이 기술하였다. 첫째, 본 진로상담 모형에서는 일이 적응의 대상이 아니라 우리 삶에 즐거움을 주는 원천으로 보고 있다. 둘째, 진로상담의 목표는 적응을 넘어 재능의 발달로 확장된다. 셋째, 진로문제는 진로의식의 미성숙과 같은 ‘의식’의 문제가 아니라 ‘일상생활에서 몰입경험의 부재’나 ‘삶의 의미로 통합되지 못한 몰입경험’으로 본다. 따라서 ‘일상생활에서 실제적인 몰입경험’의 중요성을 강조한다. 끝으로 진로상담이 진로선택을 돕는 것을 넘어서 아직 선택의 기점에 놓이지 않은 내담자들에게도 몰입을 경험하게 하고 그것이 생의 의미와 통합될 수 있도록 돕는 것이 진로상담의 주요 기능으로 보고 있다. 본 연구의 후반부에는 몰입이론을 진로상담에 적용했을 때 진로문제의 유형을 4개로 구분하여 제시했으며, 그 후 이 모형을 사용할 때의 실제 사례를 소개하였다.',\n",
              " 'summary_text': 'Csikszentmihalyi의 몰입이론을 적용한 진로상담의 모형을 제시하는 것이다. 전반부에서는 몰입이론에 근거한 진로상담이 기존의 진로상담과 구별되는 점을 다음과 같이 기술하였고 후반부에는 몰입이론을 진로상담에 적용했을 때 진로문제의 유형을 4개로 구분하여 제시했으며 그 후 이 모형을 사용할 때의 실제 사례를 소개하였다.\\n'}"
            ]
          },
          "metadata": {},
          "execution_count": 43
        }
      ]
    },
    {
      "cell_type": "markdown",
      "source": [
        "전처리를 위해 summary_entire 부분을 추출하여 작업을 진행하겠다."
      ],
      "metadata": {
        "id": "lHbXKGD-KGz8"
      }
    },
    {
      "cell_type": "code",
      "source": [
        "entire_sum = df['summary_entire']\n",
        "entire_sum = pd.DataFrame(entire_sum)\n",
        "entire_sum"
      ],
      "metadata": {
        "id": "fFSi7cHk43th",
        "outputId": "8dc07ffd-ef3b-4bb5-cbf1-cb3097c17f7f",
        "colab": {
          "base_uri": "https://localhost:8080/",
          "height": 423
        }
      },
      "execution_count": 44,
      "outputs": [
        {
          "output_type": "execute_result",
          "data": {
            "text/html": [
              "\n",
              "  <div id=\"df-30966f5b-f68c-44d2-8f24-f4d39cfde4f9\">\n",
              "    <div class=\"colab-df-container\">\n",
              "      <div>\n",
              "<style scoped>\n",
              "    .dataframe tbody tr th:only-of-type {\n",
              "        vertical-align: middle;\n",
              "    }\n",
              "\n",
              "    .dataframe tbody tr th {\n",
              "        vertical-align: top;\n",
              "    }\n",
              "\n",
              "    .dataframe thead th {\n",
              "        text-align: right;\n",
              "    }\n",
              "</style>\n",
              "<table border=\"1\" class=\"dataframe\">\n",
              "  <thead>\n",
              "    <tr style=\"text-align: right;\">\n",
              "      <th></th>\n",
              "      <th>summary_entire</th>\n",
              "    </tr>\n",
              "  </thead>\n",
              "  <tbody>\n",
              "    <tr>\n",
              "      <th>0</th>\n",
              "      <td>[{'orginal_text': '몰입이론은 원래 창조적인 활동을 하는 사람들이 자...</td>\n",
              "    </tr>\n",
              "    <tr>\n",
              "      <th>1</th>\n",
              "      <td>[{'orginal_text': '본 연구는 지역사회 청소년 상담기관에서 실제로 상...</td>\n",
              "    </tr>\n",
              "    <tr>\n",
              "      <th>2</th>\n",
              "      <td>[{'orginal_text': '본 연구에서는 아동의 자살생각에 영향을 미치는 가...</td>\n",
              "    </tr>\n",
              "    <tr>\n",
              "      <th>3</th>\n",
              "      <td>[{'orginal_text': '현대사회는 자기애적 현상이 문화적 흐름으로 강하게...</td>\n",
              "    </tr>\n",
              "    <tr>\n",
              "      <th>4</th>\n",
              "      <td>[{'orginal_text': '본 연구에서는 청소년들의 음란물 접촉은 날로 증가...</td>\n",
              "    </tr>\n",
              "    <tr>\n",
              "      <th>...</th>\n",
              "      <td>...</td>\n",
              "    </tr>\n",
              "    <tr>\n",
              "      <th>122296</th>\n",
              "      <td>[{'orginal_text': '이 연구는 저소득층 학생의 교육적 취약성과 가능성...</td>\n",
              "    </tr>\n",
              "    <tr>\n",
              "      <th>122297</th>\n",
              "      <td>[{'orginal_text': '본 연구의 목적은 단어의 정서적 특성이 어휘판단 ...</td>\n",
              "    </tr>\n",
              "    <tr>\n",
              "      <th>122298</th>\n",
              "      <td>[{'orginal_text': '본 연구는 초등수학수업의 개선을 목표로 초등교사의...</td>\n",
              "    </tr>\n",
              "    <tr>\n",
              "      <th>122299</th>\n",
              "      <td>[{'orginal_text': '본 논문은 SW영재의 학업탄력성과 자아상태를 확인...</td>\n",
              "    </tr>\n",
              "    <tr>\n",
              "      <th>122300</th>\n",
              "      <td>[{'orginal_text': '본 연구에서는 재무적 건전성이 기업의 과잉투자에 ...</td>\n",
              "    </tr>\n",
              "  </tbody>\n",
              "</table>\n",
              "<p>122301 rows × 1 columns</p>\n",
              "</div>\n",
              "      <button class=\"colab-df-convert\" onclick=\"convertToInteractive('df-30966f5b-f68c-44d2-8f24-f4d39cfde4f9')\"\n",
              "              title=\"Convert this dataframe to an interactive table.\"\n",
              "              style=\"display:none;\">\n",
              "        \n",
              "  <svg xmlns=\"http://www.w3.org/2000/svg\" height=\"24px\"viewBox=\"0 0 24 24\"\n",
              "       width=\"24px\">\n",
              "    <path d=\"M0 0h24v24H0V0z\" fill=\"none\"/>\n",
              "    <path d=\"M18.56 5.44l.94 2.06.94-2.06 2.06-.94-2.06-.94-.94-2.06-.94 2.06-2.06.94zm-11 1L8.5 8.5l.94-2.06 2.06-.94-2.06-.94L8.5 2.5l-.94 2.06-2.06.94zm10 10l.94 2.06.94-2.06 2.06-.94-2.06-.94-.94-2.06-.94 2.06-2.06.94z\"/><path d=\"M17.41 7.96l-1.37-1.37c-.4-.4-.92-.59-1.43-.59-.52 0-1.04.2-1.43.59L10.3 9.45l-7.72 7.72c-.78.78-.78 2.05 0 2.83L4 21.41c.39.39.9.59 1.41.59.51 0 1.02-.2 1.41-.59l7.78-7.78 2.81-2.81c.8-.78.8-2.07 0-2.86zM5.41 20L4 18.59l7.72-7.72 1.47 1.35L5.41 20z\"/>\n",
              "  </svg>\n",
              "      </button>\n",
              "      \n",
              "  <style>\n",
              "    .colab-df-container {\n",
              "      display:flex;\n",
              "      flex-wrap:wrap;\n",
              "      gap: 12px;\n",
              "    }\n",
              "\n",
              "    .colab-df-convert {\n",
              "      background-color: #E8F0FE;\n",
              "      border: none;\n",
              "      border-radius: 50%;\n",
              "      cursor: pointer;\n",
              "      display: none;\n",
              "      fill: #1967D2;\n",
              "      height: 32px;\n",
              "      padding: 0 0 0 0;\n",
              "      width: 32px;\n",
              "    }\n",
              "\n",
              "    .colab-df-convert:hover {\n",
              "      background-color: #E2EBFA;\n",
              "      box-shadow: 0px 1px 2px rgba(60, 64, 67, 0.3), 0px 1px 3px 1px rgba(60, 64, 67, 0.15);\n",
              "      fill: #174EA6;\n",
              "    }\n",
              "\n",
              "    [theme=dark] .colab-df-convert {\n",
              "      background-color: #3B4455;\n",
              "      fill: #D2E3FC;\n",
              "    }\n",
              "\n",
              "    [theme=dark] .colab-df-convert:hover {\n",
              "      background-color: #434B5C;\n",
              "      box-shadow: 0px 1px 3px 1px rgba(0, 0, 0, 0.15);\n",
              "      filter: drop-shadow(0px 1px 2px rgba(0, 0, 0, 0.3));\n",
              "      fill: #FFFFFF;\n",
              "    }\n",
              "  </style>\n",
              "\n",
              "      <script>\n",
              "        const buttonEl =\n",
              "          document.querySelector('#df-30966f5b-f68c-44d2-8f24-f4d39cfde4f9 button.colab-df-convert');\n",
              "        buttonEl.style.display =\n",
              "          google.colab.kernel.accessAllowed ? 'block' : 'none';\n",
              "\n",
              "        async function convertToInteractive(key) {\n",
              "          const element = document.querySelector('#df-30966f5b-f68c-44d2-8f24-f4d39cfde4f9');\n",
              "          const dataTable =\n",
              "            await google.colab.kernel.invokeFunction('convertToInteractive',\n",
              "                                                     [key], {});\n",
              "          if (!dataTable) return;\n",
              "\n",
              "          const docLinkHtml = 'Like what you see? Visit the ' +\n",
              "            '<a target=\"_blank\" href=https://colab.research.google.com/notebooks/data_table.ipynb>data table notebook</a>'\n",
              "            + ' to learn more about interactive tables.';\n",
              "          element.innerHTML = '';\n",
              "          dataTable['output_type'] = 'display_data';\n",
              "          await google.colab.output.renderOutput(dataTable, element);\n",
              "          const docLink = document.createElement('div');\n",
              "          docLink.innerHTML = docLinkHtml;\n",
              "          element.appendChild(docLink);\n",
              "        }\n",
              "      </script>\n",
              "    </div>\n",
              "  </div>\n",
              "  "
            ],
            "text/plain": [
              "                                           summary_entire\n",
              "0       [{'orginal_text': '몰입이론은 원래 창조적인 활동을 하는 사람들이 자...\n",
              "1       [{'orginal_text': '본 연구는 지역사회 청소년 상담기관에서 실제로 상...\n",
              "2       [{'orginal_text': '본 연구에서는 아동의 자살생각에 영향을 미치는 가...\n",
              "3       [{'orginal_text': '현대사회는 자기애적 현상이 문화적 흐름으로 강하게...\n",
              "4       [{'orginal_text': '본 연구에서는 청소년들의 음란물 접촉은 날로 증가...\n",
              "...                                                   ...\n",
              "122296  [{'orginal_text': '이 연구는 저소득층 학생의 교육적 취약성과 가능성...\n",
              "122297  [{'orginal_text': '본 연구의 목적은 단어의 정서적 특성이 어휘판단 ...\n",
              "122298  [{'orginal_text': '본 연구는 초등수학수업의 개선을 목표로 초등교사의...\n",
              "122299  [{'orginal_text': '본 논문은 SW영재의 학업탄력성과 자아상태를 확인...\n",
              "122300  [{'orginal_text': '본 연구에서는 재무적 건전성이 기업의 과잉투자에 ...\n",
              "\n",
              "[122301 rows x 1 columns]"
            ]
          },
          "metadata": {},
          "execution_count": 44
        }
      ]
    },
    {
      "cell_type": "markdown",
      "source": [
        "텍스트 전처리를 위해 해당 텍스트를 문자열 형식으로 변환해준다."
      ],
      "metadata": {
        "id": "cawU_TlwCpx1"
      }
    },
    {
      "cell_type": "code",
      "source": [
        "entire_sum = entire_sum.astype(str)"
      ],
      "metadata": {
        "id": "y7nXuftR9ETH"
      },
      "execution_count": 45,
      "outputs": []
    },
    {
      "cell_type": "code",
      "source": [
        "def text_original(str):\n",
        "  '''\n",
        "  불필요한 요소를 제거하고, original_text와 summary_text를 분리한다.\n",
        "  text_original에서는 앞 부분에 위치한 original document를 반환한다.\n",
        "  '''\n",
        "  str = str.replace(\"[{'orginal_text': '\",'')\n",
        "  str = str.replace(\"\\n\",'')\n",
        "  str = str.replace(\"'}]\",'')\n",
        "  str = str.replace(\"'\",'')\n",
        "  str = str = str.split(\"'summary_text':\")\n",
        "  return str[0]\n",
        "\n",
        "def text_summary(str):\n",
        "  '''\n",
        "  불필요한 요소를 제거하고, original_text와 summary_text를 분리한다.\n",
        "  text_summary에서는 뒷 부분에 위치한 summary document를 반환한다.\n",
        "  '''\n",
        "  str = str.replace(\"[{'orginal_text': \",'')\n",
        "  str = str.replace(\"\\n\",'')\n",
        "  str = str.replace(\"'}]\",'')\n",
        "  str = str.replace(\"'\",'')\n",
        "  str = str.split(\", summary_text: \")\n",
        "  return str[1]"
      ],
      "metadata": {
        "id": "_aNAJCOK5cfR"
      },
      "execution_count": 46,
      "outputs": []
    },
    {
      "cell_type": "code",
      "source": [
        "entire_sum['entire_original']= entire_sum['summary_entire'].apply(text_original)\n",
        "entire_sum['entire_summary'] = entire_sum['summary_entire'].apply(text_summary)"
      ],
      "metadata": {
        "id": "OjFaz7HT8LK0"
      },
      "execution_count": 47,
      "outputs": []
    },
    {
      "cell_type": "code",
      "source": [
        "entire_sum"
      ],
      "metadata": {
        "id": "NF8XIoZ4AhCe",
        "outputId": "7953455b-963f-4f9d-c6b4-eae6eb752419",
        "colab": {
          "base_uri": "https://localhost:8080/",
          "height": 423
        }
      },
      "execution_count": 48,
      "outputs": [
        {
          "output_type": "execute_result",
          "data": {
            "text/html": [
              "\n",
              "  <div id=\"df-6abb06b1-fb87-4913-965a-817f4b9c5536\">\n",
              "    <div class=\"colab-df-container\">\n",
              "      <div>\n",
              "<style scoped>\n",
              "    .dataframe tbody tr th:only-of-type {\n",
              "        vertical-align: middle;\n",
              "    }\n",
              "\n",
              "    .dataframe tbody tr th {\n",
              "        vertical-align: top;\n",
              "    }\n",
              "\n",
              "    .dataframe thead th {\n",
              "        text-align: right;\n",
              "    }\n",
              "</style>\n",
              "<table border=\"1\" class=\"dataframe\">\n",
              "  <thead>\n",
              "    <tr style=\"text-align: right;\">\n",
              "      <th></th>\n",
              "      <th>summary_entire</th>\n",
              "      <th>entire_original</th>\n",
              "      <th>entire_summary</th>\n",
              "    </tr>\n",
              "  </thead>\n",
              "  <tbody>\n",
              "    <tr>\n",
              "      <th>0</th>\n",
              "      <td>[{'orginal_text': '몰입이론은 원래 창조적인 활동을 하는 사람들이 자...</td>\n",
              "      <td>몰입이론은 원래 창조적인 활동을 하는 사람들이 자신의 일에 몰입할 때 경험하는 현상...</td>\n",
              "      <td>Csikszentmihalyi의 몰입이론을 적용한 진로상담의 모형을 제시하는 것이다...</td>\n",
              "    </tr>\n",
              "    <tr>\n",
              "      <th>1</th>\n",
              "      <td>[{'orginal_text': '본 연구는 지역사회 청소년 상담기관에서 실제로 상...</td>\n",
              "      <td>본 연구는 지역사회 청소년 상담기관에서 실제로 상담업무를 담당하는 실무자들과의 면접...</td>\n",
              "      <td>지역사회 청소년 상담기관에서 실제로 상담업무를 담당하는 실무자들과의 면접조사를 통해...</td>\n",
              "    </tr>\n",
              "    <tr>\n",
              "      <th>2</th>\n",
              "      <td>[{'orginal_text': '본 연구에서는 아동의 자살생각에 영향을 미치는 가...</td>\n",
              "      <td>본 연구에서는 아동의 자살생각에 영향을 미치는 가족 위험요인을 알아보고자 하였다. ...</td>\n",
              "      <td>아동의 자살생각에 영향을 미치는 가족 위험요인을 알아보고자 하였다.\\n집단간 가족특...</td>\n",
              "    </tr>\n",
              "    <tr>\n",
              "      <th>3</th>\n",
              "      <td>[{'orginal_text': '현대사회는 자기애적 현상이 문화적 흐름으로 강하게...</td>\n",
              "      <td>현대사회는 자기애적 현상이 문화적 흐름으로 강하게 자리잡고 있고, 우리나라에도 이 ...</td>\n",
              "      <td>자기애적 성격성향과 청소년 비행성향 간의 관계를 알아보고, 청소년 비행성향에 영향을...</td>\n",
              "    </tr>\n",
              "    <tr>\n",
              "      <th>4</th>\n",
              "      <td>[{'orginal_text': '본 연구에서는 청소년들의 음란물 접촉은 날로 증가...</td>\n",
              "      <td>본 연구에서는 청소년들의 음란물 접촉은 날로 증가하지만, 이를 효과적으로 차단하기 ...</td>\n",
              "      <td>청소년들의 음란물 접촉은 날로 증가하지만 이를 효과적으로 차단하기 힘든 현 상황에서...</td>\n",
              "    </tr>\n",
              "    <tr>\n",
              "      <th>...</th>\n",
              "      <td>...</td>\n",
              "      <td>...</td>\n",
              "      <td>...</td>\n",
              "    </tr>\n",
              "    <tr>\n",
              "      <th>122296</th>\n",
              "      <td>[{'orginal_text': '이 연구는 저소득층 학생의 교육적 취약성과 가능성...</td>\n",
              "      <td>이 연구는 저소득층 학생의 교육적 취약성과 가능성 탐색의 맥락에서 저소득층 학생과 ...</td>\n",
              "      <td>본 논문은 저소득층 학생의 교육적 취약성과 가능성 탐색의 맥락에서 저소득층 학생과 ...</td>\n",
              "    </tr>\n",
              "    <tr>\n",
              "      <th>122297</th>\n",
              "      <td>[{'orginal_text': '본 연구의 목적은 단어의 정서적 특성이 어휘판단 ...</td>\n",
              "      <td>본 연구의 목적은 단어의 정서적 특성이 어휘판단 이후 그 단어의 기억에 미치는 영향...</td>\n",
              "      <td>단어의 정서적 특성이 어휘판단 후 그 단어의 기억에 미치는 영향을 살펴보았다. 구체...</td>\n",
              "    </tr>\n",
              "    <tr>\n",
              "      <th>122298</th>\n",
              "      <td>[{'orginal_text': '본 연구는 초등수학수업의 개선을 목표로 초등교사의...</td>\n",
              "      <td>본 연구는 초등수학수업의 개선을 목표로 초등교사의 수학수업에 대한 인식을 조사함으로...</td>\n",
              "      <td>초등수학수업의 개선을 목표로 초등교사의 수학수업에 대한 인식을 조사함으로써 수학수업...</td>\n",
              "    </tr>\n",
              "    <tr>\n",
              "      <th>122299</th>\n",
              "      <td>[{'orginal_text': '본 논문은 SW영재의 학업탄력성과 자아상태를 확인...</td>\n",
              "      <td>본 논문은 SW영재의 학업탄력성과 자아상태를 확인하고 두 요인 간의 관계를 분석하기...</td>\n",
              "      <td>본 연구는 SW영재의 학업탄력성과 자아상태를 확인하고 두 요인 간의 관계를 분석하고...</td>\n",
              "    </tr>\n",
              "    <tr>\n",
              "      <th>122300</th>\n",
              "      <td>[{'orginal_text': '본 연구에서는 재무적 건전성이 기업의 과잉투자에 ...</td>\n",
              "      <td>본 연구에서는 재무적 건전성이 기업의 과잉투자에 미치는 영향을 검증한 뒤 매출액 증...</td>\n",
              "      <td>본 논문은 재무적 건전성이 기업의 과잉투자에 미치는 영향을 검증한 뒤 매출액 증가율...</td>\n",
              "    </tr>\n",
              "  </tbody>\n",
              "</table>\n",
              "<p>122301 rows × 3 columns</p>\n",
              "</div>\n",
              "      <button class=\"colab-df-convert\" onclick=\"convertToInteractive('df-6abb06b1-fb87-4913-965a-817f4b9c5536')\"\n",
              "              title=\"Convert this dataframe to an interactive table.\"\n",
              "              style=\"display:none;\">\n",
              "        \n",
              "  <svg xmlns=\"http://www.w3.org/2000/svg\" height=\"24px\"viewBox=\"0 0 24 24\"\n",
              "       width=\"24px\">\n",
              "    <path d=\"M0 0h24v24H0V0z\" fill=\"none\"/>\n",
              "    <path d=\"M18.56 5.44l.94 2.06.94-2.06 2.06-.94-2.06-.94-.94-2.06-.94 2.06-2.06.94zm-11 1L8.5 8.5l.94-2.06 2.06-.94-2.06-.94L8.5 2.5l-.94 2.06-2.06.94zm10 10l.94 2.06.94-2.06 2.06-.94-2.06-.94-.94-2.06-.94 2.06-2.06.94z\"/><path d=\"M17.41 7.96l-1.37-1.37c-.4-.4-.92-.59-1.43-.59-.52 0-1.04.2-1.43.59L10.3 9.45l-7.72 7.72c-.78.78-.78 2.05 0 2.83L4 21.41c.39.39.9.59 1.41.59.51 0 1.02-.2 1.41-.59l7.78-7.78 2.81-2.81c.8-.78.8-2.07 0-2.86zM5.41 20L4 18.59l7.72-7.72 1.47 1.35L5.41 20z\"/>\n",
              "  </svg>\n",
              "      </button>\n",
              "      \n",
              "  <style>\n",
              "    .colab-df-container {\n",
              "      display:flex;\n",
              "      flex-wrap:wrap;\n",
              "      gap: 12px;\n",
              "    }\n",
              "\n",
              "    .colab-df-convert {\n",
              "      background-color: #E8F0FE;\n",
              "      border: none;\n",
              "      border-radius: 50%;\n",
              "      cursor: pointer;\n",
              "      display: none;\n",
              "      fill: #1967D2;\n",
              "      height: 32px;\n",
              "      padding: 0 0 0 0;\n",
              "      width: 32px;\n",
              "    }\n",
              "\n",
              "    .colab-df-convert:hover {\n",
              "      background-color: #E2EBFA;\n",
              "      box-shadow: 0px 1px 2px rgba(60, 64, 67, 0.3), 0px 1px 3px 1px rgba(60, 64, 67, 0.15);\n",
              "      fill: #174EA6;\n",
              "    }\n",
              "\n",
              "    [theme=dark] .colab-df-convert {\n",
              "      background-color: #3B4455;\n",
              "      fill: #D2E3FC;\n",
              "    }\n",
              "\n",
              "    [theme=dark] .colab-df-convert:hover {\n",
              "      background-color: #434B5C;\n",
              "      box-shadow: 0px 1px 3px 1px rgba(0, 0, 0, 0.15);\n",
              "      filter: drop-shadow(0px 1px 2px rgba(0, 0, 0, 0.3));\n",
              "      fill: #FFFFFF;\n",
              "    }\n",
              "  </style>\n",
              "\n",
              "      <script>\n",
              "        const buttonEl =\n",
              "          document.querySelector('#df-6abb06b1-fb87-4913-965a-817f4b9c5536 button.colab-df-convert');\n",
              "        buttonEl.style.display =\n",
              "          google.colab.kernel.accessAllowed ? 'block' : 'none';\n",
              "\n",
              "        async function convertToInteractive(key) {\n",
              "          const element = document.querySelector('#df-6abb06b1-fb87-4913-965a-817f4b9c5536');\n",
              "          const dataTable =\n",
              "            await google.colab.kernel.invokeFunction('convertToInteractive',\n",
              "                                                     [key], {});\n",
              "          if (!dataTable) return;\n",
              "\n",
              "          const docLinkHtml = 'Like what you see? Visit the ' +\n",
              "            '<a target=\"_blank\" href=https://colab.research.google.com/notebooks/data_table.ipynb>data table notebook</a>'\n",
              "            + ' to learn more about interactive tables.';\n",
              "          element.innerHTML = '';\n",
              "          dataTable['output_type'] = 'display_data';\n",
              "          await google.colab.output.renderOutput(dataTable, element);\n",
              "          const docLink = document.createElement('div');\n",
              "          docLink.innerHTML = docLinkHtml;\n",
              "          element.appendChild(docLink);\n",
              "        }\n",
              "      </script>\n",
              "    </div>\n",
              "  </div>\n",
              "  "
            ],
            "text/plain": [
              "                                           summary_entire  ...                                     entire_summary\n",
              "0       [{'orginal_text': '몰입이론은 원래 창조적인 활동을 하는 사람들이 자...  ...  Csikszentmihalyi의 몰입이론을 적용한 진로상담의 모형을 제시하는 것이다...\n",
              "1       [{'orginal_text': '본 연구는 지역사회 청소년 상담기관에서 실제로 상...  ...  지역사회 청소년 상담기관에서 실제로 상담업무를 담당하는 실무자들과의 면접조사를 통해...\n",
              "2       [{'orginal_text': '본 연구에서는 아동의 자살생각에 영향을 미치는 가...  ...  아동의 자살생각에 영향을 미치는 가족 위험요인을 알아보고자 하였다.\\n집단간 가족특...\n",
              "3       [{'orginal_text': '현대사회는 자기애적 현상이 문화적 흐름으로 강하게...  ...  자기애적 성격성향과 청소년 비행성향 간의 관계를 알아보고, 청소년 비행성향에 영향을...\n",
              "4       [{'orginal_text': '본 연구에서는 청소년들의 음란물 접촉은 날로 증가...  ...  청소년들의 음란물 접촉은 날로 증가하지만 이를 효과적으로 차단하기 힘든 현 상황에서...\n",
              "...                                                   ...  ...                                                ...\n",
              "122296  [{'orginal_text': '이 연구는 저소득층 학생의 교육적 취약성과 가능성...  ...  본 논문은 저소득층 학생의 교육적 취약성과 가능성 탐색의 맥락에서 저소득층 학생과 ...\n",
              "122297  [{'orginal_text': '본 연구의 목적은 단어의 정서적 특성이 어휘판단 ...  ...  단어의 정서적 특성이 어휘판단 후 그 단어의 기억에 미치는 영향을 살펴보았다. 구체...\n",
              "122298  [{'orginal_text': '본 연구는 초등수학수업의 개선을 목표로 초등교사의...  ...  초등수학수업의 개선을 목표로 초등교사의 수학수업에 대한 인식을 조사함으로써 수학수업...\n",
              "122299  [{'orginal_text': '본 논문은 SW영재의 학업탄력성과 자아상태를 확인...  ...  본 연구는 SW영재의 학업탄력성과 자아상태를 확인하고 두 요인 간의 관계를 분석하고...\n",
              "122300  [{'orginal_text': '본 연구에서는 재무적 건전성이 기업의 과잉투자에 ...  ...  본 논문은 재무적 건전성이 기업의 과잉투자에 미치는 영향을 검증한 뒤 매출액 증가율...\n",
              "\n",
              "[122301 rows x 3 columns]"
            ]
          },
          "metadata": {},
          "execution_count": 48
        }
      ]
    },
    {
      "cell_type": "markdown",
      "source": [
        "entire_sum 데이터프레임에서 summary_entire부분은 기존의 feature를 담고있다.\n",
        "\n",
        "전처리를 통해 형성된 entire_original feature와 entire_summary부분이 있다.\n",
        "\n",
        "- entire original의 경우 새롭게 형성될 문장의 원 텍스트를 담고있다.\n",
        "\n",
        "\n",
        "- entire summary의 경우 단어 기반이 아닌 이를 기반으로 새롭게 형성되는 문장을 담고있는 feature이다."
      ],
      "metadata": {
        "id": "_bUmgly8E0H3"
      }
    },
    {
      "cell_type": "markdown",
      "source": [
        "기존의 데이터프레임에 summary_entire를 제거하고 entire_original과 entire_summary를 넣어 feature engineering 해줄 것이다.\n",
        "\n",
        "한번에 처리하기 위해 summary_section에 대한 작업도 수행해준다."
      ],
      "metadata": {
        "id": "NZS6Do6UKhht"
      }
    },
    {
      "cell_type": "code",
      "source": [
        "summary_sum = df['summary_section']\n",
        "summary_sum = pd.DataFrame(summary_sum)\n",
        "\n",
        "summary_sum = summary_sum.astype(str)\n",
        "\n",
        "summary_sum['summary_original']= summary_sum['summary_section'].apply(text_original)\n",
        "summary_sum['summary_summary'] = summary_sum['summary_section'].apply(text_summary)\n",
        "summary_sum"
      ],
      "metadata": {
        "id": "aLg7ozWoKu2C",
        "outputId": "6f23fae3-27c3-42ff-c708-8adb29d9afac",
        "colab": {
          "base_uri": "https://localhost:8080/",
          "height": 423
        }
      },
      "execution_count": 49,
      "outputs": [
        {
          "output_type": "execute_result",
          "data": {
            "text/html": [
              "\n",
              "  <div id=\"df-126581ad-b2b1-462a-836b-81b5643716c7\">\n",
              "    <div class=\"colab-df-container\">\n",
              "      <div>\n",
              "<style scoped>\n",
              "    .dataframe tbody tr th:only-of-type {\n",
              "        vertical-align: middle;\n",
              "    }\n",
              "\n",
              "    .dataframe tbody tr th {\n",
              "        vertical-align: top;\n",
              "    }\n",
              "\n",
              "    .dataframe thead th {\n",
              "        text-align: right;\n",
              "    }\n",
              "</style>\n",
              "<table border=\"1\" class=\"dataframe\">\n",
              "  <thead>\n",
              "    <tr style=\"text-align: right;\">\n",
              "      <th></th>\n",
              "      <th>summary_section</th>\n",
              "      <th>summary_original</th>\n",
              "      <th>summary_summary</th>\n",
              "    </tr>\n",
              "  </thead>\n",
              "  <tbody>\n",
              "    <tr>\n",
              "      <th>0</th>\n",
              "      <td>[{'orginal_text': '이상에서 필자는 몰입이론을 진로상담에 적용하여 새...</td>\n",
              "      <td>이상에서 필자는 몰입이론을 진로상담에 적용하여 새로운 진로상담 모형을 모색해보았다....</td>\n",
              "      <td>이상에서 필자는 몰입이론을 진로상담에 적용하여 새로운 진로상담 모형을 모색해보았고 ...</td>\n",
              "    </tr>\n",
              "    <tr>\n",
              "      <th>1</th>\n",
              "      <td>[{'orginal_text': '청소년의 정신건강과 복지를 위한 각종 기관의 설립...</td>\n",
              "      <td>청소년의 정신건강과 복지를 위한 각종 기관의 설립 및 서비스 사업이 활발하게 이루어...</td>\n",
              "      <td>청소년의 정신건강과 복지를 위한 각종 기관의 설립 및 서비스 사업이 활발하게 이루어...</td>\n",
              "    </tr>\n",
              "    <tr>\n",
              "      <th>2</th>\n",
              "      <td>[{'orginal_text': '이상과 같은 결과들을 토대로 살펴본 본 연구의 의...</td>\n",
              "      <td>이상과 같은 결과들을 토대로 살펴본 본 연구의 의의 및 시사점은 다음과 같다. 우선...</td>\n",
              "      <td>자살행동의 저연령화에 충격을 받고 있는 시기에, 본 연구는 초등학교 아동들을 대상으...</td>\n",
              "    </tr>\n",
              "    <tr>\n",
              "      <th>3</th>\n",
              "      <td>[{'orginal_text': '본 연구는 자기애적 성격성향과 비행성향에 대하여 ...</td>\n",
              "      <td>본 연구는 자기애적 성격성향과 비행성향에 대하여 알아보고자 하였다. 본 연구에서 다...</td>\n",
              "      <td>자기애적 성격성향과 비행성향에 대하여 알아보고자 하였고 이런 구성개념은 자기애와 청...</td>\n",
              "    </tr>\n",
              "    <tr>\n",
              "      <th>4</th>\n",
              "      <td>[{'orginal_text': '대부분의 음란물은 성폭력(sexual violen...</td>\n",
              "      <td>대부분의 음란물은 성폭력(sexual violence)을 담고 있다. 음란물에서 나...</td>\n",
              "      <td>음란물에서 나타나는 전형적인 성폭력 상황은 여성이 처음에는 남성의 공격에 강하게 저...</td>\n",
              "    </tr>\n",
              "    <tr>\n",
              "      <th>...</th>\n",
              "      <td>...</td>\n",
              "      <td>...</td>\n",
              "      <td>...</td>\n",
              "    </tr>\n",
              "    <tr>\n",
              "      <th>122296</th>\n",
              "      <td>[{'orginal_text': '이 연구는 전국적인 데이터를 활용하여 저소득층 학...</td>\n",
              "      <td>이 연구는 전국적인 데이터를 활용하여 저소득층 학생의 교육 성취에 대한 사회적 자본...</td>\n",
              "      <td>이 연구는 전국적인 데이터를 활용하여 저소득층 학생의 교육 성취에 대한 사회적 자본...</td>\n",
              "    </tr>\n",
              "    <tr>\n",
              "      <th>122297</th>\n",
              "      <td>[{'orginal_text': '사건에 대한 정서적인 정보는 이와 같은 기억의 처...</td>\n",
              "      <td>사건에 대한 정서적인 정보는 이와 같은 기억의 처리과정에 영향을 미칠 수 있는 중요...</td>\n",
              "      <td>정서가 기억처리과정에 도움을 준다고 주장하는 이들은 정서자극이 중립자극보다 친숙성,...</td>\n",
              "    </tr>\n",
              "    <tr>\n",
              "      <th>122298</th>\n",
              "      <td>[{'orginal_text': '최근에 이뤄진 몇 차례의 수학과 교육과정 개정 노...</td>\n",
              "      <td>최근에 이뤄진 몇 차례의 수학과 교육과정 개정 노력의 결과를 살펴볼 수 있는 방법 ...</td>\n",
              "      <td>TIMSS와 PISA 결과 분석 연구에 따르면, 우리나라 학생들의 수학 성취는 인지...</td>\n",
              "    </tr>\n",
              "    <tr>\n",
              "      <th>122299</th>\n",
              "      <td>[{'orginal_text': '2015년 통계청의 아동 청소년 대상 학업 관련 ...</td>\n",
              "      <td>2015년 통계청의 아동 청소년 대상 학업 관련 스트레스 정도 조사에 따르면 매우 ...</td>\n",
              "      <td>학업 상황에서의 스트레스로 인한 문제를 극복하는 대안으로 학업탄력성이 제시되고 있다...</td>\n",
              "    </tr>\n",
              "    <tr>\n",
              "      <th>122300</th>\n",
              "      <td>[{'orginal_text': '기업은 지속적인 발전과 유지 존속을 위하여 순실현...</td>\n",
              "      <td>기업은 지속적인 발전과 유지 존속을 위하여 순실현가능가치가 양(＋)인 투자활동을 수...</td>\n",
              "      <td>효율적인 투자활동의 중요 요인 중 하나로 기업이 보유하거나 외부에서 지원받을 수 있...</td>\n",
              "    </tr>\n",
              "  </tbody>\n",
              "</table>\n",
              "<p>122301 rows × 3 columns</p>\n",
              "</div>\n",
              "      <button class=\"colab-df-convert\" onclick=\"convertToInteractive('df-126581ad-b2b1-462a-836b-81b5643716c7')\"\n",
              "              title=\"Convert this dataframe to an interactive table.\"\n",
              "              style=\"display:none;\">\n",
              "        \n",
              "  <svg xmlns=\"http://www.w3.org/2000/svg\" height=\"24px\"viewBox=\"0 0 24 24\"\n",
              "       width=\"24px\">\n",
              "    <path d=\"M0 0h24v24H0V0z\" fill=\"none\"/>\n",
              "    <path d=\"M18.56 5.44l.94 2.06.94-2.06 2.06-.94-2.06-.94-.94-2.06-.94 2.06-2.06.94zm-11 1L8.5 8.5l.94-2.06 2.06-.94-2.06-.94L8.5 2.5l-.94 2.06-2.06.94zm10 10l.94 2.06.94-2.06 2.06-.94-2.06-.94-.94-2.06-.94 2.06-2.06.94z\"/><path d=\"M17.41 7.96l-1.37-1.37c-.4-.4-.92-.59-1.43-.59-.52 0-1.04.2-1.43.59L10.3 9.45l-7.72 7.72c-.78.78-.78 2.05 0 2.83L4 21.41c.39.39.9.59 1.41.59.51 0 1.02-.2 1.41-.59l7.78-7.78 2.81-2.81c.8-.78.8-2.07 0-2.86zM5.41 20L4 18.59l7.72-7.72 1.47 1.35L5.41 20z\"/>\n",
              "  </svg>\n",
              "      </button>\n",
              "      \n",
              "  <style>\n",
              "    .colab-df-container {\n",
              "      display:flex;\n",
              "      flex-wrap:wrap;\n",
              "      gap: 12px;\n",
              "    }\n",
              "\n",
              "    .colab-df-convert {\n",
              "      background-color: #E8F0FE;\n",
              "      border: none;\n",
              "      border-radius: 50%;\n",
              "      cursor: pointer;\n",
              "      display: none;\n",
              "      fill: #1967D2;\n",
              "      height: 32px;\n",
              "      padding: 0 0 0 0;\n",
              "      width: 32px;\n",
              "    }\n",
              "\n",
              "    .colab-df-convert:hover {\n",
              "      background-color: #E2EBFA;\n",
              "      box-shadow: 0px 1px 2px rgba(60, 64, 67, 0.3), 0px 1px 3px 1px rgba(60, 64, 67, 0.15);\n",
              "      fill: #174EA6;\n",
              "    }\n",
              "\n",
              "    [theme=dark] .colab-df-convert {\n",
              "      background-color: #3B4455;\n",
              "      fill: #D2E3FC;\n",
              "    }\n",
              "\n",
              "    [theme=dark] .colab-df-convert:hover {\n",
              "      background-color: #434B5C;\n",
              "      box-shadow: 0px 1px 3px 1px rgba(0, 0, 0, 0.15);\n",
              "      filter: drop-shadow(0px 1px 2px rgba(0, 0, 0, 0.3));\n",
              "      fill: #FFFFFF;\n",
              "    }\n",
              "  </style>\n",
              "\n",
              "      <script>\n",
              "        const buttonEl =\n",
              "          document.querySelector('#df-126581ad-b2b1-462a-836b-81b5643716c7 button.colab-df-convert');\n",
              "        buttonEl.style.display =\n",
              "          google.colab.kernel.accessAllowed ? 'block' : 'none';\n",
              "\n",
              "        async function convertToInteractive(key) {\n",
              "          const element = document.querySelector('#df-126581ad-b2b1-462a-836b-81b5643716c7');\n",
              "          const dataTable =\n",
              "            await google.colab.kernel.invokeFunction('convertToInteractive',\n",
              "                                                     [key], {});\n",
              "          if (!dataTable) return;\n",
              "\n",
              "          const docLinkHtml = 'Like what you see? Visit the ' +\n",
              "            '<a target=\"_blank\" href=https://colab.research.google.com/notebooks/data_table.ipynb>data table notebook</a>'\n",
              "            + ' to learn more about interactive tables.';\n",
              "          element.innerHTML = '';\n",
              "          dataTable['output_type'] = 'display_data';\n",
              "          await google.colab.output.renderOutput(dataTable, element);\n",
              "          const docLink = document.createElement('div');\n",
              "          docLink.innerHTML = docLinkHtml;\n",
              "          element.appendChild(docLink);\n",
              "        }\n",
              "      </script>\n",
              "    </div>\n",
              "  </div>\n",
              "  "
            ],
            "text/plain": [
              "                                          summary_section  ...                                    summary_summary\n",
              "0       [{'orginal_text': '이상에서 필자는 몰입이론을 진로상담에 적용하여 새...  ...  이상에서 필자는 몰입이론을 진로상담에 적용하여 새로운 진로상담 모형을 모색해보았고 ...\n",
              "1       [{'orginal_text': '청소년의 정신건강과 복지를 위한 각종 기관의 설립...  ...  청소년의 정신건강과 복지를 위한 각종 기관의 설립 및 서비스 사업이 활발하게 이루어...\n",
              "2       [{'orginal_text': '이상과 같은 결과들을 토대로 살펴본 본 연구의 의...  ...  자살행동의 저연령화에 충격을 받고 있는 시기에, 본 연구는 초등학교 아동들을 대상으...\n",
              "3       [{'orginal_text': '본 연구는 자기애적 성격성향과 비행성향에 대하여 ...  ...  자기애적 성격성향과 비행성향에 대하여 알아보고자 하였고 이런 구성개념은 자기애와 청...\n",
              "4       [{'orginal_text': '대부분의 음란물은 성폭력(sexual violen...  ...  음란물에서 나타나는 전형적인 성폭력 상황은 여성이 처음에는 남성의 공격에 강하게 저...\n",
              "...                                                   ...  ...                                                ...\n",
              "122296  [{'orginal_text': '이 연구는 전국적인 데이터를 활용하여 저소득층 학...  ...  이 연구는 전국적인 데이터를 활용하여 저소득층 학생의 교육 성취에 대한 사회적 자본...\n",
              "122297  [{'orginal_text': '사건에 대한 정서적인 정보는 이와 같은 기억의 처...  ...  정서가 기억처리과정에 도움을 준다고 주장하는 이들은 정서자극이 중립자극보다 친숙성,...\n",
              "122298  [{'orginal_text': '최근에 이뤄진 몇 차례의 수학과 교육과정 개정 노...  ...  TIMSS와 PISA 결과 분석 연구에 따르면, 우리나라 학생들의 수학 성취는 인지...\n",
              "122299  [{'orginal_text': '2015년 통계청의 아동 청소년 대상 학업 관련 ...  ...  학업 상황에서의 스트레스로 인한 문제를 극복하는 대안으로 학업탄력성이 제시되고 있다...\n",
              "122300  [{'orginal_text': '기업은 지속적인 발전과 유지 존속을 위하여 순실현...  ...  효율적인 투자활동의 중요 요인 중 하나로 기업이 보유하거나 외부에서 지원받을 수 있...\n",
              "\n",
              "[122301 rows x 3 columns]"
            ]
          },
          "metadata": {},
          "execution_count": 49
        }
      ]
    },
    {
      "cell_type": "code",
      "source": [
        "df['entire_original'] = entire_sum['entire_original']\n",
        "df['entire_summary']  = entire_sum['entire_summary']\n",
        "df['summary_original'] = summary_sum['summary_original']\n",
        "df['summary_summary'] = summary_sum['summary_summary']\n",
        "\n",
        "df.drop(columns=['summary_entire','summary_section'],axis=1,inplace=True)\n",
        "df.columns"
      ],
      "metadata": {
        "id": "Cje269nSL5DP",
        "outputId": "4570b504-4faf-4736-b21a-0fee4a11eec0",
        "colab": {
          "base_uri": "https://localhost:8080/"
        }
      },
      "execution_count": 50,
      "outputs": [
        {
          "output_type": "execute_result",
          "data": {
            "text/plain": [
              "Index(['doc_id', 'title', 'date', 'reg_no', 'ipc', 'issued_by', 'author',\n",
              "       'doc_type', 'entire_original', 'entire_summary', 'summary_original',\n",
              "       'summary_summary'],\n",
              "      dtype='object')"
            ]
          },
          "metadata": {},
          "execution_count": 50
        }
      ]
    },
    {
      "cell_type": "code",
      "source": [
        "df = df[['doc_id','title','date','reg_no','ipc','issued_by','author','entire_original','entire_summary','summary_original','summary_summary','doc_type']]\n",
        "df.head()"
      ],
      "metadata": {
        "id": "dFdVW55cOpsy",
        "outputId": "55c747bf-4dd9-4601-d2c4-c9a0520bcccd",
        "colab": {
          "base_uri": "https://localhost:8080/",
          "height": 457
        }
      },
      "execution_count": 51,
      "outputs": [
        {
          "output_type": "execute_result",
          "data": {
            "text/html": [
              "\n",
              "  <div id=\"df-e47aec12-25e6-40a2-bcba-f1674f5bdec1\">\n",
              "    <div class=\"colab-df-container\">\n",
              "      <div>\n",
              "<style scoped>\n",
              "    .dataframe tbody tr th:only-of-type {\n",
              "        vertical-align: middle;\n",
              "    }\n",
              "\n",
              "    .dataframe tbody tr th {\n",
              "        vertical-align: top;\n",
              "    }\n",
              "\n",
              "    .dataframe thead th {\n",
              "        text-align: right;\n",
              "    }\n",
              "</style>\n",
              "<table border=\"1\" class=\"dataframe\">\n",
              "  <thead>\n",
              "    <tr style=\"text-align: right;\">\n",
              "      <th></th>\n",
              "      <th>doc_id</th>\n",
              "      <th>title</th>\n",
              "      <th>date</th>\n",
              "      <th>reg_no</th>\n",
              "      <th>ipc</th>\n",
              "      <th>issued_by</th>\n",
              "      <th>author</th>\n",
              "      <th>entire_original</th>\n",
              "      <th>entire_summary</th>\n",
              "      <th>summary_original</th>\n",
              "      <th>summary_summary</th>\n",
              "      <th>doc_type</th>\n",
              "    </tr>\n",
              "  </thead>\n",
              "  <tbody>\n",
              "    <tr>\n",
              "      <th>0</th>\n",
              "      <td>A200928004902</td>\n",
              "      <td>몰입(Flow) 이론을 적용한 진로상담모형</td>\n",
              "      <td>2002</td>\n",
              "      <td>ART000850832</td>\n",
              "      <td>사회과학</td>\n",
              "      <td>한국청소년상담복지개발원</td>\n",
              "      <td>김창대1</td>\n",
              "      <td>몰입이론은 원래 창조적인 활동을 하는 사람들이 자신의 일에 몰입할 때 경험하는 현상...</td>\n",
              "      <td>Csikszentmihalyi의 몰입이론을 적용한 진로상담의 모형을 제시하는 것이다...</td>\n",
              "      <td>이상에서 필자는 몰입이론을 진로상담에 적용하여 새로운 진로상담 모형을 모색해보았다....</td>\n",
              "      <td>이상에서 필자는 몰입이론을 진로상담에 적용하여 새로운 진로상담 모형을 모색해보았고 ...</td>\n",
              "      <td>논문</td>\n",
              "    </tr>\n",
              "    <tr>\n",
              "      <th>1</th>\n",
              "      <td>A200928004903</td>\n",
              "      <td>지역사회 청소년 상담기관의 실제와 연계체제 활성화 방안에 관한 현장 연구: 안양지역...</td>\n",
              "      <td>2002</td>\n",
              "      <td>ART000850833</td>\n",
              "      <td>사회과학</td>\n",
              "      <td>한국청소년상담복지개발원</td>\n",
              "      <td>김계현1 , 김수임2 , 김영혜3</td>\n",
              "      <td>본 연구는 지역사회 청소년 상담기관에서 실제로 상담업무를 담당하는 실무자들과의 면접...</td>\n",
              "      <td>지역사회 청소년 상담기관에서 실제로 상담업무를 담당하는 실무자들과의 면접조사를 통해...</td>\n",
              "      <td>청소년의 정신건강과 복지를 위한 각종 기관의 설립 및 서비스 사업이 활발하게 이루어...</td>\n",
              "      <td>청소년의 정신건강과 복지를 위한 각종 기관의 설립 및 서비스 사업이 활발하게 이루어...</td>\n",
              "      <td>논문</td>\n",
              "    </tr>\n",
              "    <tr>\n",
              "      <th>2</th>\n",
              "      <td>A200928005043</td>\n",
              "      <td>아동의 자살 생각에 영향을 미치는 가족 위험요인</td>\n",
              "      <td>2003</td>\n",
              "      <td>ART000851706</td>\n",
              "      <td>사회과학</td>\n",
              "      <td>한국청소년상담복지개발원</td>\n",
              "      <td>이정윤1 , 허재홍2</td>\n",
              "      <td>본 연구에서는 아동의 자살생각에 영향을 미치는 가족 위험요인을 알아보고자 하였다. ...</td>\n",
              "      <td>아동의 자살생각에 영향을 미치는 가족 위험요인을 알아보고자 하였다.\\n집단간 가족특...</td>\n",
              "      <td>이상과 같은 결과들을 토대로 살펴본 본 연구의 의의 및 시사점은 다음과 같다. 우선...</td>\n",
              "      <td>자살행동의 저연령화에 충격을 받고 있는 시기에, 본 연구는 초등학교 아동들을 대상으...</td>\n",
              "      <td>논문</td>\n",
              "    </tr>\n",
              "    <tr>\n",
              "      <th>3</th>\n",
              "      <td>A200928004904</td>\n",
              "      <td>자기애적 성격성향과 청소년 비행성향간의 관계</td>\n",
              "      <td>2002</td>\n",
              "      <td>ART000851793</td>\n",
              "      <td>사회과학</td>\n",
              "      <td>한국청소년상담복지개발원</td>\n",
              "      <td>차타순1</td>\n",
              "      <td>현대사회는 자기애적 현상이 문화적 흐름으로 강하게 자리잡고 있고, 우리나라에도 이 ...</td>\n",
              "      <td>자기애적 성격성향과 청소년 비행성향 간의 관계를 알아보고, 청소년 비행성향에 영향을...</td>\n",
              "      <td>본 연구는 자기애적 성격성향과 비행성향에 대하여 알아보고자 하였다. 본 연구에서 다...</td>\n",
              "      <td>자기애적 성격성향과 비행성향에 대하여 알아보고자 하였고 이런 구성개념은 자기애와 청...</td>\n",
              "      <td>논문</td>\n",
              "    </tr>\n",
              "    <tr>\n",
              "      <th>4</th>\n",
              "      <td>A200928004905</td>\n",
              "      <td>청소년의 음란물 접촉과 잘못된 강간통념 수용간의 매개변인과 조정변인의 역할</td>\n",
              "      <td>2002</td>\n",
              "      <td>ART000851794</td>\n",
              "      <td>사회과학</td>\n",
              "      <td>한국청소년상담복지개발원</td>\n",
              "      <td>고재흥1 , 지영담2</td>\n",
              "      <td>본 연구에서는 청소년들의 음란물 접촉은 날로 증가하지만, 이를 효과적으로 차단하기 ...</td>\n",
              "      <td>청소년들의 음란물 접촉은 날로 증가하지만 이를 효과적으로 차단하기 힘든 현 상황에서...</td>\n",
              "      <td>대부분의 음란물은 성폭력(sexual violence)을 담고 있다. 음란물에서 나...</td>\n",
              "      <td>음란물에서 나타나는 전형적인 성폭력 상황은 여성이 처음에는 남성의 공격에 강하게 저...</td>\n",
              "      <td>논문</td>\n",
              "    </tr>\n",
              "  </tbody>\n",
              "</table>\n",
              "</div>\n",
              "      <button class=\"colab-df-convert\" onclick=\"convertToInteractive('df-e47aec12-25e6-40a2-bcba-f1674f5bdec1')\"\n",
              "              title=\"Convert this dataframe to an interactive table.\"\n",
              "              style=\"display:none;\">\n",
              "        \n",
              "  <svg xmlns=\"http://www.w3.org/2000/svg\" height=\"24px\"viewBox=\"0 0 24 24\"\n",
              "       width=\"24px\">\n",
              "    <path d=\"M0 0h24v24H0V0z\" fill=\"none\"/>\n",
              "    <path d=\"M18.56 5.44l.94 2.06.94-2.06 2.06-.94-2.06-.94-.94-2.06-.94 2.06-2.06.94zm-11 1L8.5 8.5l.94-2.06 2.06-.94-2.06-.94L8.5 2.5l-.94 2.06-2.06.94zm10 10l.94 2.06.94-2.06 2.06-.94-2.06-.94-.94-2.06-.94 2.06-2.06.94z\"/><path d=\"M17.41 7.96l-1.37-1.37c-.4-.4-.92-.59-1.43-.59-.52 0-1.04.2-1.43.59L10.3 9.45l-7.72 7.72c-.78.78-.78 2.05 0 2.83L4 21.41c.39.39.9.59 1.41.59.51 0 1.02-.2 1.41-.59l7.78-7.78 2.81-2.81c.8-.78.8-2.07 0-2.86zM5.41 20L4 18.59l7.72-7.72 1.47 1.35L5.41 20z\"/>\n",
              "  </svg>\n",
              "      </button>\n",
              "      \n",
              "  <style>\n",
              "    .colab-df-container {\n",
              "      display:flex;\n",
              "      flex-wrap:wrap;\n",
              "      gap: 12px;\n",
              "    }\n",
              "\n",
              "    .colab-df-convert {\n",
              "      background-color: #E8F0FE;\n",
              "      border: none;\n",
              "      border-radius: 50%;\n",
              "      cursor: pointer;\n",
              "      display: none;\n",
              "      fill: #1967D2;\n",
              "      height: 32px;\n",
              "      padding: 0 0 0 0;\n",
              "      width: 32px;\n",
              "    }\n",
              "\n",
              "    .colab-df-convert:hover {\n",
              "      background-color: #E2EBFA;\n",
              "      box-shadow: 0px 1px 2px rgba(60, 64, 67, 0.3), 0px 1px 3px 1px rgba(60, 64, 67, 0.15);\n",
              "      fill: #174EA6;\n",
              "    }\n",
              "\n",
              "    [theme=dark] .colab-df-convert {\n",
              "      background-color: #3B4455;\n",
              "      fill: #D2E3FC;\n",
              "    }\n",
              "\n",
              "    [theme=dark] .colab-df-convert:hover {\n",
              "      background-color: #434B5C;\n",
              "      box-shadow: 0px 1px 3px 1px rgba(0, 0, 0, 0.15);\n",
              "      filter: drop-shadow(0px 1px 2px rgba(0, 0, 0, 0.3));\n",
              "      fill: #FFFFFF;\n",
              "    }\n",
              "  </style>\n",
              "\n",
              "      <script>\n",
              "        const buttonEl =\n",
              "          document.querySelector('#df-e47aec12-25e6-40a2-bcba-f1674f5bdec1 button.colab-df-convert');\n",
              "        buttonEl.style.display =\n",
              "          google.colab.kernel.accessAllowed ? 'block' : 'none';\n",
              "\n",
              "        async function convertToInteractive(key) {\n",
              "          const element = document.querySelector('#df-e47aec12-25e6-40a2-bcba-f1674f5bdec1');\n",
              "          const dataTable =\n",
              "            await google.colab.kernel.invokeFunction('convertToInteractive',\n",
              "                                                     [key], {});\n",
              "          if (!dataTable) return;\n",
              "\n",
              "          const docLinkHtml = 'Like what you see? Visit the ' +\n",
              "            '<a target=\"_blank\" href=https://colab.research.google.com/notebooks/data_table.ipynb>data table notebook</a>'\n",
              "            + ' to learn more about interactive tables.';\n",
              "          element.innerHTML = '';\n",
              "          dataTable['output_type'] = 'display_data';\n",
              "          await google.colab.output.renderOutput(dataTable, element);\n",
              "          const docLink = document.createElement('div');\n",
              "          docLink.innerHTML = docLinkHtml;\n",
              "          element.appendChild(docLink);\n",
              "        }\n",
              "      </script>\n",
              "    </div>\n",
              "  </div>\n",
              "  "
            ],
            "text/plain": [
              "          doc_id  ... doc_type\n",
              "0  A200928004902  ...       논문\n",
              "1  A200928004903  ...       논문\n",
              "2  A200928005043  ...       논문\n",
              "3  A200928004904  ...       논문\n",
              "4  A200928004905  ...       논문\n",
              "\n",
              "[5 rows x 12 columns]"
            ]
          },
          "metadata": {},
          "execution_count": 51
        }
      ]
    },
    {
      "cell_type": "code",
      "source": [
        "# csv 파일 import 후 issued_by와 author 부분에서 빈 값이 발생하는 것을 확인하였다.\n",
        "# 본래 데이터프레임에서 역시 값이 형성되지 않은 부분인지 확인해주기 위해 확인해본다.\n",
        "\n",
        "df.iloc[[16287,16294]]\n",
        "\n",
        "''' \n",
        "전처리 후에 빈 텍스트 형식으로 해당값이 형성되어 있을 수 있음을 발견하였다.\n",
        "json 파일에서 csv 파일로 불러오는 초기에 발견되지 않는 결측치가 이후에 발견될 수도 있다.\n",
        "이 부분에 대해서는 추가적인 처리가 필요할 것으로 예상된다.\n",
        "해당 부분 확인 후 isna()를 통해 결측치 확인을 해주었지만 해당 결측치에 대한 부분은 인식하지 못하는 것을 발견할 수 있다.\n",
        "'''"
      ],
      "metadata": {
        "id": "9_G_adAPQcFW",
        "outputId": "4668a069-a252-4a6f-e870-d347e00d7c66",
        "colab": {
          "base_uri": "https://localhost:8080/",
          "height": 52
        }
      },
      "execution_count": 52,
      "outputs": [
        {
          "output_type": "execute_result",
          "data": {
            "application/vnd.google.colaboratory.intrinsic+json": {
              "type": "string"
            },
            "text/plain": [
              "' \\n전처리 후에 빈 텍스트 형식으로 해당값이 형성되어 있을 수 있음을 발견하였다.\\njson 파일에서 csv 파일로 불러오는 초기에 발견되지 않는 결측치가 이후에 발견될 수도 있다.\\n이 부분에 대해서는 추가적인 처리가 필요할 것으로 예상된다.\\n해당 부분 확인 후 isna()를 통해 결측치 확인을 해주었지만 해당 결측치에 대한 부분은 인식하지 못하는 것을 발견할 수 있다.\\n'"
            ]
          },
          "metadata": {},
          "execution_count": 52
        }
      ]
    },
    {
      "cell_type": "markdown",
      "source": [
        "본 데이터프레임을 csv 파일로 형성하기 전에 결측된 부분이 없는지 다시 한 번 확인해줍니다."
      ],
      "metadata": {
        "id": "CELAtA15Ft_g"
      }
    },
    {
      "cell_type": "code",
      "source": [
        "df.isna().sum()"
      ],
      "metadata": {
        "id": "_R0vOmiKFogw",
        "outputId": "a4682b80-7e1c-4592-b517-81b0e5200640",
        "colab": {
          "base_uri": "https://localhost:8080/"
        }
      },
      "execution_count": 53,
      "outputs": [
        {
          "output_type": "execute_result",
          "data": {
            "text/plain": [
              "doc_id              0\n",
              "title               0\n",
              "date                0\n",
              "reg_no              0\n",
              "ipc                 0\n",
              "issued_by           0\n",
              "author              0\n",
              "entire_original     0\n",
              "entire_summary      0\n",
              "summary_original    0\n",
              "summary_summary     0\n",
              "doc_type            0\n",
              "dtype: int64"
            ]
          },
          "metadata": {},
          "execution_count": 53
        }
      ]
    },
    {
      "cell_type": "markdown",
      "source": [
        "## CSV 파일 변환"
      ],
      "metadata": {
        "id": "XCMUqtPwPlBn"
      }
    },
    {
      "cell_type": "code",
      "source": [
        "df.to_csv('train_article.csv', index=False, encoding='utf-8') # index False 처리를 해서 저장해줍니다. \n",
        "# 본 파일을 원활하게 호출할 때 utf-8로 encoding시켜주었으므로 csv 파일로 변환할 때도 utf-8 형식으로 저장해주겠습니다."
      ],
      "metadata": {
        "id": "wmrG3qoNPjEf"
      },
      "execution_count": 54,
      "outputs": []
    },
    {
      "cell_type": "code",
      "source": [
        "ls"
      ],
      "metadata": {
        "id": "SSuNp38NP_DI",
        "outputId": "011f34e9-776b-4d2d-e237-fb557b3ebbb8",
        "colab": {
          "base_uri": "https://localhost:8080/"
        }
      },
      "execution_count": 55,
      "outputs": [
        {
          "output_type": "stream",
          "name": "stdout",
          "text": [
            "논문요약_0206_0.json  논문요약_0220_0.json    train_article.csv\n",
            "논문요약_0206_1.json  논문요약_0225_5_1.json\n",
            "논문요약_0206_2.json  논문요약_0225_7_0.json\n"
          ]
        }
      ]
    },
    {
      "cell_type": "markdown",
      "source": [
        "csv 파일이 생성된 것을 볼 수 있습니다.\n",
        "\n",
        "다음으로 해당 csv 파일을 불러와 다시 확인해봅니다."
      ],
      "metadata": {
        "id": "yWra-XbYQEPd"
      }
    },
    {
      "cell_type": "code",
      "source": [
        "train = pd.read_csv('train_article.csv')\n",
        "train.head(3)"
      ],
      "metadata": {
        "id": "6DhXDXikQC89",
        "outputId": "99262496-b18f-4afe-9d8c-3f526753beb4",
        "colab": {
          "base_uri": "https://localhost:8080/",
          "height": 308
        }
      },
      "execution_count": 56,
      "outputs": [
        {
          "output_type": "execute_result",
          "data": {
            "text/html": [
              "\n",
              "  <div id=\"df-925ec2a1-80ea-4bc5-8fa6-212e66a96caa\">\n",
              "    <div class=\"colab-df-container\">\n",
              "      <div>\n",
              "<style scoped>\n",
              "    .dataframe tbody tr th:only-of-type {\n",
              "        vertical-align: middle;\n",
              "    }\n",
              "\n",
              "    .dataframe tbody tr th {\n",
              "        vertical-align: top;\n",
              "    }\n",
              "\n",
              "    .dataframe thead th {\n",
              "        text-align: right;\n",
              "    }\n",
              "</style>\n",
              "<table border=\"1\" class=\"dataframe\">\n",
              "  <thead>\n",
              "    <tr style=\"text-align: right;\">\n",
              "      <th></th>\n",
              "      <th>doc_id</th>\n",
              "      <th>title</th>\n",
              "      <th>date</th>\n",
              "      <th>reg_no</th>\n",
              "      <th>ipc</th>\n",
              "      <th>issued_by</th>\n",
              "      <th>author</th>\n",
              "      <th>entire_original</th>\n",
              "      <th>entire_summary</th>\n",
              "      <th>summary_original</th>\n",
              "      <th>summary_summary</th>\n",
              "      <th>doc_type</th>\n",
              "    </tr>\n",
              "  </thead>\n",
              "  <tbody>\n",
              "    <tr>\n",
              "      <th>0</th>\n",
              "      <td>A200928004902</td>\n",
              "      <td>몰입(Flow) 이론을 적용한 진로상담모형</td>\n",
              "      <td>2002</td>\n",
              "      <td>ART000850832</td>\n",
              "      <td>사회과학</td>\n",
              "      <td>한국청소년상담복지개발원</td>\n",
              "      <td>김창대1</td>\n",
              "      <td>몰입이론은 원래 창조적인 활동을 하는 사람들이 자신의 일에 몰입할 때 경험하는 현상...</td>\n",
              "      <td>Csikszentmihalyi의 몰입이론을 적용한 진로상담의 모형을 제시하는 것이다...</td>\n",
              "      <td>이상에서 필자는 몰입이론을 진로상담에 적용하여 새로운 진로상담 모형을 모색해보았다....</td>\n",
              "      <td>이상에서 필자는 몰입이론을 진로상담에 적용하여 새로운 진로상담 모형을 모색해보았고 ...</td>\n",
              "      <td>논문</td>\n",
              "    </tr>\n",
              "    <tr>\n",
              "      <th>1</th>\n",
              "      <td>A200928004903</td>\n",
              "      <td>지역사회 청소년 상담기관의 실제와 연계체제 활성화 방안에 관한 현장 연구: 안양지역...</td>\n",
              "      <td>2002</td>\n",
              "      <td>ART000850833</td>\n",
              "      <td>사회과학</td>\n",
              "      <td>한국청소년상담복지개발원</td>\n",
              "      <td>김계현1 , 김수임2 , 김영혜3</td>\n",
              "      <td>본 연구는 지역사회 청소년 상담기관에서 실제로 상담업무를 담당하는 실무자들과의 면접...</td>\n",
              "      <td>지역사회 청소년 상담기관에서 실제로 상담업무를 담당하는 실무자들과의 면접조사를 통해...</td>\n",
              "      <td>청소년의 정신건강과 복지를 위한 각종 기관의 설립 및 서비스 사업이 활발하게 이루어...</td>\n",
              "      <td>청소년의 정신건강과 복지를 위한 각종 기관의 설립 및 서비스 사업이 활발하게 이루어...</td>\n",
              "      <td>논문</td>\n",
              "    </tr>\n",
              "    <tr>\n",
              "      <th>2</th>\n",
              "      <td>A200928005043</td>\n",
              "      <td>아동의 자살 생각에 영향을 미치는 가족 위험요인</td>\n",
              "      <td>2003</td>\n",
              "      <td>ART000851706</td>\n",
              "      <td>사회과학</td>\n",
              "      <td>한국청소년상담복지개발원</td>\n",
              "      <td>이정윤1 , 허재홍2</td>\n",
              "      <td>본 연구에서는 아동의 자살생각에 영향을 미치는 가족 위험요인을 알아보고자 하였다. ...</td>\n",
              "      <td>아동의 자살생각에 영향을 미치는 가족 위험요인을 알아보고자 하였다.\\n집단간 가족특...</td>\n",
              "      <td>이상과 같은 결과들을 토대로 살펴본 본 연구의 의의 및 시사점은 다음과 같다. 우선...</td>\n",
              "      <td>자살행동의 저연령화에 충격을 받고 있는 시기에, 본 연구는 초등학교 아동들을 대상으...</td>\n",
              "      <td>논문</td>\n",
              "    </tr>\n",
              "  </tbody>\n",
              "</table>\n",
              "</div>\n",
              "      <button class=\"colab-df-convert\" onclick=\"convertToInteractive('df-925ec2a1-80ea-4bc5-8fa6-212e66a96caa')\"\n",
              "              title=\"Convert this dataframe to an interactive table.\"\n",
              "              style=\"display:none;\">\n",
              "        \n",
              "  <svg xmlns=\"http://www.w3.org/2000/svg\" height=\"24px\"viewBox=\"0 0 24 24\"\n",
              "       width=\"24px\">\n",
              "    <path d=\"M0 0h24v24H0V0z\" fill=\"none\"/>\n",
              "    <path d=\"M18.56 5.44l.94 2.06.94-2.06 2.06-.94-2.06-.94-.94-2.06-.94 2.06-2.06.94zm-11 1L8.5 8.5l.94-2.06 2.06-.94-2.06-.94L8.5 2.5l-.94 2.06-2.06.94zm10 10l.94 2.06.94-2.06 2.06-.94-2.06-.94-.94-2.06-.94 2.06-2.06.94z\"/><path d=\"M17.41 7.96l-1.37-1.37c-.4-.4-.92-.59-1.43-.59-.52 0-1.04.2-1.43.59L10.3 9.45l-7.72 7.72c-.78.78-.78 2.05 0 2.83L4 21.41c.39.39.9.59 1.41.59.51 0 1.02-.2 1.41-.59l7.78-7.78 2.81-2.81c.8-.78.8-2.07 0-2.86zM5.41 20L4 18.59l7.72-7.72 1.47 1.35L5.41 20z\"/>\n",
              "  </svg>\n",
              "      </button>\n",
              "      \n",
              "  <style>\n",
              "    .colab-df-container {\n",
              "      display:flex;\n",
              "      flex-wrap:wrap;\n",
              "      gap: 12px;\n",
              "    }\n",
              "\n",
              "    .colab-df-convert {\n",
              "      background-color: #E8F0FE;\n",
              "      border: none;\n",
              "      border-radius: 50%;\n",
              "      cursor: pointer;\n",
              "      display: none;\n",
              "      fill: #1967D2;\n",
              "      height: 32px;\n",
              "      padding: 0 0 0 0;\n",
              "      width: 32px;\n",
              "    }\n",
              "\n",
              "    .colab-df-convert:hover {\n",
              "      background-color: #E2EBFA;\n",
              "      box-shadow: 0px 1px 2px rgba(60, 64, 67, 0.3), 0px 1px 3px 1px rgba(60, 64, 67, 0.15);\n",
              "      fill: #174EA6;\n",
              "    }\n",
              "\n",
              "    [theme=dark] .colab-df-convert {\n",
              "      background-color: #3B4455;\n",
              "      fill: #D2E3FC;\n",
              "    }\n",
              "\n",
              "    [theme=dark] .colab-df-convert:hover {\n",
              "      background-color: #434B5C;\n",
              "      box-shadow: 0px 1px 3px 1px rgba(0, 0, 0, 0.15);\n",
              "      filter: drop-shadow(0px 1px 2px rgba(0, 0, 0, 0.3));\n",
              "      fill: #FFFFFF;\n",
              "    }\n",
              "  </style>\n",
              "\n",
              "      <script>\n",
              "        const buttonEl =\n",
              "          document.querySelector('#df-925ec2a1-80ea-4bc5-8fa6-212e66a96caa button.colab-df-convert');\n",
              "        buttonEl.style.display =\n",
              "          google.colab.kernel.accessAllowed ? 'block' : 'none';\n",
              "\n",
              "        async function convertToInteractive(key) {\n",
              "          const element = document.querySelector('#df-925ec2a1-80ea-4bc5-8fa6-212e66a96caa');\n",
              "          const dataTable =\n",
              "            await google.colab.kernel.invokeFunction('convertToInteractive',\n",
              "                                                     [key], {});\n",
              "          if (!dataTable) return;\n",
              "\n",
              "          const docLinkHtml = 'Like what you see? Visit the ' +\n",
              "            '<a target=\"_blank\" href=https://colab.research.google.com/notebooks/data_table.ipynb>data table notebook</a>'\n",
              "            + ' to learn more about interactive tables.';\n",
              "          element.innerHTML = '';\n",
              "          dataTable['output_type'] = 'display_data';\n",
              "          await google.colab.output.renderOutput(dataTable, element);\n",
              "          const docLink = document.createElement('div');\n",
              "          docLink.innerHTML = docLinkHtml;\n",
              "          element.appendChild(docLink);\n",
              "        }\n",
              "      </script>\n",
              "    </div>\n",
              "  </div>\n",
              "  "
            ],
            "text/plain": [
              "          doc_id  ... doc_type\n",
              "0  A200928004902  ...       논문\n",
              "1  A200928004903  ...       논문\n",
              "2  A200928005043  ...       논문\n",
              "\n",
              "[3 rows x 12 columns]"
            ]
          },
          "metadata": {},
          "execution_count": 56
        }
      ]
    },
    {
      "cell_type": "markdown",
      "source": [
        "### 변환된 train csv 파일 결측치 확인"
      ],
      "metadata": {
        "id": "BCLtuiFYVU49"
      }
    },
    {
      "cell_type": "markdown",
      "source": [
        "잘 불러와지는 것을 확인할 수 있으며, 다시 한 번 결측치가 발생되는지 확인해주겠습니다."
      ],
      "metadata": {
        "id": "ftG20PtFQhWd"
      }
    },
    {
      "cell_type": "code",
      "source": [
        "train.isna().sum()"
      ],
      "metadata": {
        "id": "tVR0yUMtGgHQ",
        "outputId": "6edcf0ef-c2d8-4c79-bad2-d3a873cc88bc",
        "colab": {
          "base_uri": "https://localhost:8080/"
        }
      },
      "execution_count": 57,
      "outputs": [
        {
          "output_type": "execute_result",
          "data": {
            "text/plain": [
              "doc_id                  0\n",
              "title                   0\n",
              "date                    0\n",
              "reg_no                  0\n",
              "ipc                     0\n",
              "issued_by            1197\n",
              "author              25434\n",
              "entire_original         0\n",
              "entire_summary         22\n",
              "summary_original        0\n",
              "summary_summary        12\n",
              "doc_type                0\n",
              "dtype: int64"
            ]
          },
          "metadata": {},
          "execution_count": 57
        }
      ]
    },
    {
      "cell_type": "markdown",
      "source": [
        "### 변환된 csv 파일 결측치에 대한 원인 규명 및 해결 방안 구축"
      ],
      "metadata": {
        "id": "lCVSpLblVaJP"
      }
    },
    {
      "cell_type": "markdown",
      "source": [
        "----\n",
        "\n",
        "**의문:** \n",
        "\n",
        "해당 데이터셋 전처리 후 파일을 csv 파일로 저장해주었는데, 이 과정에서 결측치가 발생됨을 볼 수 있습니다.\n",
        "\n",
        "이 부분에 대한 원인을 알아내야합니다. \n",
        "\n",
        "----\n",
        "\n",
        "**--> 1. encoding 부분 시도**\n",
        "\n",
        "해당 부분을 해결하기 위해 encoding 형식을 해당 파일 import시처럼 'utf-8'로 처리해주었으나, 동일하게 결측치가 발생하는 것으로 나타났습니다.\n",
        "만약 해결이 어려울 경우 해당 csv 파일 import시 다시 결측치 처리와 전처리가 필요할 것으로 예상됩니다. \n",
        "\n",
        "**--> 2. 결측치 처리 부분 추출**\n",
        "\n",
        "해당 부분이 csv 파일 변환 전 isna()를 통해 확인이 어렵지만, 해당 값 설정이 되어있지 않았습니다. (원인 발견)\n",
        "\n",
        "이에 대한 부분은 추가 처리가 필요합니다.\n",
        "\n",
        "- issued_by의 경우 논문이 어디에서 출판되었는가를 나타냅니다.\n",
        "  - 해당 논문 제목을 통해 어디에서 출판되었는지 확인할 수 있습니다.\n",
        "  - 1000개가 넘는 결측치를 보유하고 있기 때문에 본 과제에서는 수행하지 않도록 하겠습니다.\n",
        "    - 해당 결측값을 이를 대체할 값으로 대체하고 진행해주겠습니다.\n",
        "      - Imputation에는 결측치를 대체해줄 여러 방법들이 존재하지만, 해당 값의 경우 본래 목적에 맞는 데이터값이 존재하고 찾을 수 있는 부분이기 때문에 현 진행 과정에서는 대체할 특정 값을 설정하고 넘어가도록 하겠습니다. \n",
        "\n",
        "- author에 대한 경우도 마찬가지입니다.\n",
        "\n",
        "  25000개를 넘는 결측치를 보유하고 있습니다.\n",
        "\n",
        "  - 해당 논문제목을 통해 author 부분을 찾을 수 있지만, 25000개가 넘는 결측치를 가지고 있는 것을 볼 수 있습니다.\n",
        "    - 본 목적과 관계없는 부분이며\n",
        "    - 시간의 한정성이 있기 때문에 해당 부분은 진행하지 않고 결측치를 표현 할 값으로 대체해주겠습니다.\n",
        "\n",
        "----"
      ],
      "metadata": {
        "id": "V6HfqX48Irkr"
      }
    },
    {
      "cell_type": "markdown",
      "source": [
        "**train csv에 결측치가 있는 부분 확인**"
      ],
      "metadata": {
        "id": "KCU7g03bVi-_"
      }
    },
    {
      "cell_type": "code",
      "source": [
        "na_condition_plus = train.loc[train['issued_by'].isna()]\n",
        "na_condition_plus"
      ],
      "metadata": {
        "id": "eIgKTRhoI9ZE",
        "outputId": "97a51638-4285-4ebe-9019-e72b1095f438",
        "colab": {
          "base_uri": "https://localhost:8080/",
          "height": 866
        }
      },
      "execution_count": 58,
      "outputs": [
        {
          "output_type": "execute_result",
          "data": {
            "text/html": [
              "\n",
              "  <div id=\"df-5969294b-0500-418c-9f60-8408ef882dd8\">\n",
              "    <div class=\"colab-df-container\">\n",
              "      <div>\n",
              "<style scoped>\n",
              "    .dataframe tbody tr th:only-of-type {\n",
              "        vertical-align: middle;\n",
              "    }\n",
              "\n",
              "    .dataframe tbody tr th {\n",
              "        vertical-align: top;\n",
              "    }\n",
              "\n",
              "    .dataframe thead th {\n",
              "        text-align: right;\n",
              "    }\n",
              "</style>\n",
              "<table border=\"1\" class=\"dataframe\">\n",
              "  <thead>\n",
              "    <tr style=\"text-align: right;\">\n",
              "      <th></th>\n",
              "      <th>doc_id</th>\n",
              "      <th>title</th>\n",
              "      <th>date</th>\n",
              "      <th>reg_no</th>\n",
              "      <th>ipc</th>\n",
              "      <th>issued_by</th>\n",
              "      <th>author</th>\n",
              "      <th>entire_original</th>\n",
              "      <th>entire_summary</th>\n",
              "      <th>summary_original</th>\n",
              "      <th>summary_summary</th>\n",
              "      <th>doc_type</th>\n",
              "    </tr>\n",
              "  </thead>\n",
              "  <tbody>\n",
              "    <tr>\n",
              "      <th>16287</th>\n",
              "      <td>A220223614313</td>\n",
              "      <td>인도 신화에 나타난 Haṭhayoga 수행생리학</td>\n",
              "      <td>2017</td>\n",
              "      <td>ART9002281802</td>\n",
              "      <td>사회과학</td>\n",
              "      <td>NaN</td>\n",
              "      <td>NaN</td>\n",
              "      <td>본 논문에서는 인도 신화에 나타난 상징에 대한 요가생리학적 분석을 시도할 것이다. ...</td>\n",
              "      <td>이 논문에서는 인도 신화에 나타난 상징에 관한 요가생리학적 분석을 시도할 것이다. ...</td>\n",
              "      <td>‘우유바다 휘젓기 신화’(K??rodamathana)는 이 세상을 위기로부터 구하는...</td>\n",
              "      <td>&lt;우유바다 휘젓기 신화&gt;는 위쉬누(Vi??u)가 이야기의 능동적인 주체로 등장한다.</td>\n",
              "      <td>논문</td>\n",
              "    </tr>\n",
              "    <tr>\n",
              "      <th>16294</th>\n",
              "      <td>A220223614320</td>\n",
              "      <td>아이트래킹 및 음성인식 기술을 활용한 지체장애인 컴퓨터 접근 시스템</td>\n",
              "      <td>2017</td>\n",
              "      <td>ART9002285746</td>\n",
              "      <td>복합학</td>\n",
              "      <td>NaN</td>\n",
              "      <td>NaN</td>\n",
              "      <td>컴퓨터 대체접근 기기는 지체장애인의 사회활동 참여에 대한 욕구를 충족시킬 수 있는 ...</td>\n",
              "      <td>본고에서는 기존의 대체접근 기기의 한계를 보완한 ‘지체장애인 컴퓨터 대체접근시스템’...</td>\n",
              "      <td>따라서 본 논문에서는 기존의 대체접근 기기의 한계를 보완한 ‘지체장애인 컴퓨터 대체...</td>\n",
              "      <td>이 논문에서는 기존의 대체접근 기기의 한계를 보완한 ‘지체장애인 컴퓨터 대체접근시스...</td>\n",
              "      <td>논문</td>\n",
              "    </tr>\n",
              "    <tr>\n",
              "      <th>16295</th>\n",
              "      <td>A220223614321</td>\n",
              "      <td>산업용 도시가스에 대한 수요함수 추정</td>\n",
              "      <td>2017</td>\n",
              "      <td>ART9002285911</td>\n",
              "      <td>복합학</td>\n",
              "      <td>NaN</td>\n",
              "      <td>NaN</td>\n",
              "      <td>도시가스는 산업공정에서 중요한 투입요소로 활용되고 있다. 본 논문에서는 1985년부...</td>\n",
              "      <td>도시가스는 산업공정에서 중요한 투입요소로 활용되고 있다. 본고에서는 1985년부터 ...</td>\n",
              "      <td>산업용 도시가스의 수요는 2000년 이후 빠르게 증가하며 국내 도시가스 산업의 성장...</td>\n",
              "      <td>본 논문에서는 1985년부터 2015년까지의 자료를 이용하여 산업용 도시가스에 대한...</td>\n",
              "      <td>논문</td>\n",
              "    </tr>\n",
              "    <tr>\n",
              "      <th>16296</th>\n",
              "      <td>A220223614322</td>\n",
              "      <td>영어교육과 다문화주의</td>\n",
              "      <td>2017</td>\n",
              "      <td>ART9002286089</td>\n",
              "      <td>사회과학</td>\n",
              "      <td>NaN</td>\n",
              "      <td>NaN</td>\n",
              "      <td>다문화 수용성이 중요한 사회적 담론으로 부상함에 따라 2015년 영어과 교육과정 개...</td>\n",
              "      <td>이 연구는 영어 교재 평가와 관련한 기존 연구와 이미 소개된 체크리스트를 분석하고 ...</td>\n",
              "      <td>본 연구의 목적은 기존의 교재 평가 모델과 체크리스트를 비교, 분석 후 이를 바탕으...</td>\n",
              "      <td>이 연구는 영어 교재 평가와 관련한 기존 연구와 이미 소개된 체크리스트를 분석하고 ...</td>\n",
              "      <td>논문</td>\n",
              "    </tr>\n",
              "    <tr>\n",
              "      <th>16297</th>\n",
              "      <td>A220223614323</td>\n",
              "      <td>체육 교과서 흡연관련 자료 분석틀 개발 및 적용</td>\n",
              "      <td>2017</td>\n",
              "      <td>ART9002286091</td>\n",
              "      <td>사회과학</td>\n",
              "      <td>NaN</td>\n",
              "      <td>NaN</td>\n",
              "      <td>본 연구의 목적은 현재 초·중·고등학교 현장에서 활용하고 있는 체육 교과서에 수록된...</td>\n",
              "      <td>연구의 목적은 현재 초·중·고등학교 현장에서 활용하고 있는 체육 교과서에 수록된 흡...</td>\n",
              "      <td>마지막으로 향후 체육 교과서 내 흡연관련 내용을 편찬하기 위하여, 본 연구에서 도출...</td>\n",
              "      <td>이 연구의 결과를 바탕으로 추후 체육 교과서 내 흡연관련 내용을 편찬하기 위하여, ...</td>\n",
              "      <td>논문</td>\n",
              "    </tr>\n",
              "    <tr>\n",
              "      <th>...</th>\n",
              "      <td>...</td>\n",
              "      <td>...</td>\n",
              "      <td>...</td>\n",
              "      <td>...</td>\n",
              "      <td>...</td>\n",
              "      <td>...</td>\n",
              "      <td>...</td>\n",
              "      <td>...</td>\n",
              "      <td>...</td>\n",
              "      <td>...</td>\n",
              "      <td>...</td>\n",
              "      <td>...</td>\n",
              "    </tr>\n",
              "    <tr>\n",
              "      <th>121774</th>\n",
              "      <td>A220223613779</td>\n",
              "      <td>전문가 판단법을 활용한 출산력 추계</td>\n",
              "      <td>2017</td>\n",
              "      <td>ART9002235879</td>\n",
              "      <td>사회과학</td>\n",
              "      <td>NaN</td>\n",
              "      <td>NaN</td>\n",
              "      <td>한국의 장래 출산율 추계는 수리 모형에 기반한 추계가 지배적이지만 전 세계적으로 전...</td>\n",
              "      <td>본 연구에서는 이러한 상황 속에서 전문가 판단법에 기반한 장래 출산율 추계 방법을 ...</td>\n",
              "      <td>특히 베이지안 방법을 활용한 추계법은 빈도주의적인 모형에서 가정하는 모집단의 반복 ...</td>\n",
              "      <td>이 연구에서는 이러한 상황 속에서 전문가 판단법에 기반한 장래 출산율 추계 방법을 ...</td>\n",
              "      <td>논문</td>\n",
              "    </tr>\n",
              "    <tr>\n",
              "      <th>121780</th>\n",
              "      <td>A220223613785</td>\n",
              "      <td>리더의 유머 행위가 조직 구성원의 긍정적 감정 및 부정적 감정에 미치는 영향에 관한...</td>\n",
              "      <td>2017</td>\n",
              "      <td>ART9002236095</td>\n",
              "      <td>사회과학</td>\n",
              "      <td>NaN</td>\n",
              "      <td>NaN</td>\n",
              "      <td>본 연구는 ‘유머’의 개념에 주목하여 ‘러더의 유머 행위가 조직 구성원의 긍정적 감...</td>\n",
              "      <td>이 연구는 ‘유머’의 개념에 주목하여 ‘러더의 유머 행위가 조직 구성원의 긍정적 감...</td>\n",
              "      <td>모형 6은 조직 구성원과 리더의 권력거리가 리더의 유머 행위와 조직 구성원의 부정적...</td>\n",
              "      <td>본 연구에서 주목하고 있는 조직 구성원과 리더 사이의 권력거리의 경우 당초 예상과는...</td>\n",
              "      <td>논문</td>\n",
              "    </tr>\n",
              "    <tr>\n",
              "      <th>121783</th>\n",
              "      <td>A220223613788</td>\n",
              "      <td>축제 체험요소, 브랜드자산, 충성도 관계연구- 완주와일드푸드축제를 중심으로 -</td>\n",
              "      <td>2017</td>\n",
              "      <td>ART9002236320</td>\n",
              "      <td>사회과학</td>\n",
              "      <td>NaN</td>\n",
              "      <td>NaN</td>\n",
              "      <td>본 연구는 완주군 대표축제인 완주와일드푸드축제 방문객들을 대상으로 하여 축제 체험요...</td>\n",
              "      <td>이 연구는 완주군 대표축제인 완주와일드푸드축제 방문객들을 대상으로 하여 축제 체험요...</td>\n",
              "      <td>둘째, 가설 1-1 축제 체험요소가 브랜드 인지도에 미치는 영향 관계 분석 결과, ...</td>\n",
              "      <td>축제 체험요소 중 감성, 행동, 감각 요인이 브랜드 인지도에 영향을 미치는 것으로 ...</td>\n",
              "      <td>논문</td>\n",
              "    </tr>\n",
              "    <tr>\n",
              "      <th>121788</th>\n",
              "      <td>A220223613793</td>\n",
              "      <td>교육공무원 인사제도 혁신방안 연구 - 경기도교육청 승진제도를 중심으로 -</td>\n",
              "      <td>2017</td>\n",
              "      <td>ART9002236473</td>\n",
              "      <td>사회과학</td>\n",
              "      <td>NaN</td>\n",
              "      <td>NaN</td>\n",
              "      <td>이 연구는 미래 학교 교육 패러다임의 변화에 발맞추어 경기도교육청 승진제도를 중심으...</td>\n",
              "      <td>본 연구는 미래 학교 교육 패러다임의 변화에 발맞춰 경기도교육청 승진제도를 중심으로...</td>\n",
              "      <td>이 연구의 결과가 각 시?도 교육청의 특수성에 맞게 구체적으로 실천되기 위해서는 교...</td>\n",
              "      <td>학부모, 학생 등 교육주체들의 다양한 참여를 보장하는 방안에 관한 후속연구가 필요하다.</td>\n",
              "      <td>논문</td>\n",
              "    </tr>\n",
              "    <tr>\n",
              "      <th>121856</th>\n",
              "      <td>A220223613861</td>\n",
              "      <td>교육기본권 관점에서의 헌법 개정 논의</td>\n",
              "      <td>2017</td>\n",
              "      <td>ART9002242997</td>\n",
              "      <td>사회과학</td>\n",
              "      <td>NaN</td>\n",
              "      <td>NaN</td>\n",
              "      <td>이 논문은 교육에 관한 헌법상의 기본적 인권을 보장하는 관점에서 제31조에 대한 재...</td>\n",
              "      <td>본 논문은 교육에 대한 헌법상의 기본적 인권을 보장하는 관점에서 제31조에 관한 재...</td>\n",
              "      <td>종합하면 개정안의 핵심 내용은 ‘국민의 권리에서 모든 사람의 권리로 확대’, ‘교육...</td>\n",
              "      <td>교육기본권 관점에서 제안된 제31조 개정안의 주요 내용은 ‘교육을 받을 권리’에서 ...</td>\n",
              "      <td>논문</td>\n",
              "    </tr>\n",
              "  </tbody>\n",
              "</table>\n",
              "<p>1197 rows × 12 columns</p>\n",
              "</div>\n",
              "      <button class=\"colab-df-convert\" onclick=\"convertToInteractive('df-5969294b-0500-418c-9f60-8408ef882dd8')\"\n",
              "              title=\"Convert this dataframe to an interactive table.\"\n",
              "              style=\"display:none;\">\n",
              "        \n",
              "  <svg xmlns=\"http://www.w3.org/2000/svg\" height=\"24px\"viewBox=\"0 0 24 24\"\n",
              "       width=\"24px\">\n",
              "    <path d=\"M0 0h24v24H0V0z\" fill=\"none\"/>\n",
              "    <path d=\"M18.56 5.44l.94 2.06.94-2.06 2.06-.94-2.06-.94-.94-2.06-.94 2.06-2.06.94zm-11 1L8.5 8.5l.94-2.06 2.06-.94-2.06-.94L8.5 2.5l-.94 2.06-2.06.94zm10 10l.94 2.06.94-2.06 2.06-.94-2.06-.94-.94-2.06-.94 2.06-2.06.94z\"/><path d=\"M17.41 7.96l-1.37-1.37c-.4-.4-.92-.59-1.43-.59-.52 0-1.04.2-1.43.59L10.3 9.45l-7.72 7.72c-.78.78-.78 2.05 0 2.83L4 21.41c.39.39.9.59 1.41.59.51 0 1.02-.2 1.41-.59l7.78-7.78 2.81-2.81c.8-.78.8-2.07 0-2.86zM5.41 20L4 18.59l7.72-7.72 1.47 1.35L5.41 20z\"/>\n",
              "  </svg>\n",
              "      </button>\n",
              "      \n",
              "  <style>\n",
              "    .colab-df-container {\n",
              "      display:flex;\n",
              "      flex-wrap:wrap;\n",
              "      gap: 12px;\n",
              "    }\n",
              "\n",
              "    .colab-df-convert {\n",
              "      background-color: #E8F0FE;\n",
              "      border: none;\n",
              "      border-radius: 50%;\n",
              "      cursor: pointer;\n",
              "      display: none;\n",
              "      fill: #1967D2;\n",
              "      height: 32px;\n",
              "      padding: 0 0 0 0;\n",
              "      width: 32px;\n",
              "    }\n",
              "\n",
              "    .colab-df-convert:hover {\n",
              "      background-color: #E2EBFA;\n",
              "      box-shadow: 0px 1px 2px rgba(60, 64, 67, 0.3), 0px 1px 3px 1px rgba(60, 64, 67, 0.15);\n",
              "      fill: #174EA6;\n",
              "    }\n",
              "\n",
              "    [theme=dark] .colab-df-convert {\n",
              "      background-color: #3B4455;\n",
              "      fill: #D2E3FC;\n",
              "    }\n",
              "\n",
              "    [theme=dark] .colab-df-convert:hover {\n",
              "      background-color: #434B5C;\n",
              "      box-shadow: 0px 1px 3px 1px rgba(0, 0, 0, 0.15);\n",
              "      filter: drop-shadow(0px 1px 2px rgba(0, 0, 0, 0.3));\n",
              "      fill: #FFFFFF;\n",
              "    }\n",
              "  </style>\n",
              "\n",
              "      <script>\n",
              "        const buttonEl =\n",
              "          document.querySelector('#df-5969294b-0500-418c-9f60-8408ef882dd8 button.colab-df-convert');\n",
              "        buttonEl.style.display =\n",
              "          google.colab.kernel.accessAllowed ? 'block' : 'none';\n",
              "\n",
              "        async function convertToInteractive(key) {\n",
              "          const element = document.querySelector('#df-5969294b-0500-418c-9f60-8408ef882dd8');\n",
              "          const dataTable =\n",
              "            await google.colab.kernel.invokeFunction('convertToInteractive',\n",
              "                                                     [key], {});\n",
              "          if (!dataTable) return;\n",
              "\n",
              "          const docLinkHtml = 'Like what you see? Visit the ' +\n",
              "            '<a target=\"_blank\" href=https://colab.research.google.com/notebooks/data_table.ipynb>data table notebook</a>'\n",
              "            + ' to learn more about interactive tables.';\n",
              "          element.innerHTML = '';\n",
              "          dataTable['output_type'] = 'display_data';\n",
              "          await google.colab.output.renderOutput(dataTable, element);\n",
              "          const docLink = document.createElement('div');\n",
              "          docLink.innerHTML = docLinkHtml;\n",
              "          element.appendChild(docLink);\n",
              "        }\n",
              "      </script>\n",
              "    </div>\n",
              "  </div>\n",
              "  "
            ],
            "text/plain": [
              "               doc_id  ... doc_type\n",
              "16287   A220223614313  ...       논문\n",
              "16294   A220223614320  ...       논문\n",
              "16295   A220223614321  ...       논문\n",
              "16296   A220223614322  ...       논문\n",
              "16297   A220223614323  ...       논문\n",
              "...               ...  ...      ...\n",
              "121774  A220223613779  ...       논문\n",
              "121780  A220223613785  ...       논문\n",
              "121783  A220223613788  ...       논문\n",
              "121788  A220223613793  ...       논문\n",
              "121856  A220223613861  ...       논문\n",
              "\n",
              "[1197 rows x 12 columns]"
            ]
          },
          "metadata": {},
          "execution_count": 58
        }
      ]
    },
    {
      "cell_type": "markdown",
      "source": [
        "### 변환된 train csv 결측치 부분 시각화"
      ],
      "metadata": {
        "id": "88Q1afHOVxV6"
      }
    },
    {
      "cell_type": "code",
      "source": [
        "msno.matrix(train, figsize=(17,8), fontsize=14);"
      ],
      "metadata": {
        "id": "yHKS_LblUx1R",
        "outputId": "c45fe891-2310-4184-f3e8-58b91683ec72",
        "colab": {
          "base_uri": "https://localhost:8080/",
          "height": 592
        }
      },
      "execution_count": 59,
      "outputs": [
        {
          "output_type": "display_data",
          "data": {
            "image/png": "[encoded data removed]",
            "text/plain": [
              "<Figure size 1224x576 with 2 Axes>"
            ]
          },
          "metadata": {
            "needs_background": "light"
          }
        }
      ]
    },
    {
      "cell_type": "code",
      "source": [
        "msno.bar(train, figsize=(17,6), fontsize=14);"
      ],
      "metadata": {
        "id": "lpX61OqtVA55",
        "outputId": "7a418d5f-0330-4e85-f64f-567f67024b1e",
        "colab": {
          "base_uri": "https://localhost:8080/",
          "height": 526
        }
      },
      "execution_count": 60,
      "outputs": [
        {
          "output_type": "display_data",
          "data": {
            "image/png": "[encoded data removed]",
            "text/plain": [
              "<Figure size 1224x432 with 3 Axes>"
            ]
          },
          "metadata": {
            "needs_background": "light"
          }
        }
      ]
    },
    {
      "cell_type": "code",
      "source": [
        "for i in train.columns:\n",
        "  null_rate = train[i].isna().sum() / len(train)*100\n",
        "  if null_rate > 0:\n",
        "    print(f\"{i}'s null rate : {null_rate.round(2)}%\")"
      ],
      "metadata": {
        "id": "XXCF4_35VJg4",
        "outputId": "aefc11db-c0b0-4891-84ec-99baa073fea2",
        "colab": {
          "base_uri": "https://localhost:8080/"
        }
      },
      "execution_count": 61,
      "outputs": [
        {
          "output_type": "stream",
          "name": "stdout",
          "text": [
            "issued_by's null rate : 0.98%\n",
            "author's null rate : 20.8%\n",
            "entire_summary's null rate : 0.02%\n",
            "summary_summary's null rate : 0.01%\n"
          ]
        }
      ]
    },
    {
      "cell_type": "markdown",
      "source": [
        "### 결측치 부분 처리"
      ],
      "metadata": {
        "id": "Uw3WMdMEV4HU"
      }
    },
    {
      "cell_type": "code",
      "source": [
        "train.loc[train.summary_summary.isna()]"
      ],
      "metadata": {
        "id": "VtRNbgJMV7I1",
        "outputId": "4769db78-864d-485d-9701-9e786314be2b",
        "colab": {
          "base_uri": "https://localhost:8080/",
          "height": 1000
        }
      },
      "execution_count": 62,
      "outputs": [
        {
          "output_type": "execute_result",
          "data": {
            "text/html": [
              "\n",
              "  <div id=\"df-9eaab788-f80d-4f3c-9a11-c90ce8f1e475\">\n",
              "    <div class=\"colab-df-container\">\n",
              "      <div>\n",
              "<style scoped>\n",
              "    .dataframe tbody tr th:only-of-type {\n",
              "        vertical-align: middle;\n",
              "    }\n",
              "\n",
              "    .dataframe tbody tr th {\n",
              "        vertical-align: top;\n",
              "    }\n",
              "\n",
              "    .dataframe thead th {\n",
              "        text-align: right;\n",
              "    }\n",
              "</style>\n",
              "<table border=\"1\" class=\"dataframe\">\n",
              "  <thead>\n",
              "    <tr style=\"text-align: right;\">\n",
              "      <th></th>\n",
              "      <th>doc_id</th>\n",
              "      <th>title</th>\n",
              "      <th>date</th>\n",
              "      <th>reg_no</th>\n",
              "      <th>ipc</th>\n",
              "      <th>issued_by</th>\n",
              "      <th>author</th>\n",
              "      <th>entire_original</th>\n",
              "      <th>entire_summary</th>\n",
              "      <th>summary_original</th>\n",
              "      <th>summary_summary</th>\n",
              "      <th>doc_type</th>\n",
              "    </tr>\n",
              "  </thead>\n",
              "  <tbody>\n",
              "    <tr>\n",
              "      <th>1209</th>\n",
              "      <td>A200928005965</td>\n",
              "      <td>선진유가사상에서의 교육의 의미와 교육방법적 원리 탐색: 五部經典을 중심으로</td>\n",
              "      <td>2007</td>\n",
              "      <td>ART001075937</td>\n",
              "      <td>사회과학</td>\n",
              "      <td>사범대학부속중등교육연구소</td>\n",
              "      <td>장승희1</td>\n",
              "      <td>선진유가사상은 논어, 맹자, 주역, 중용, 대학의 오부경전을 통하여 그 본질을 파악...</td>\n",
              "      <td>선진유가사상은 논어, 맹자, 주역, 중용, 대학의 오부경전을 통하여 그 본질을 파악...</td>\n",
              "      <td>교육목적을 달성하기 위해 목표설정, 내용구성에 이어 훌륭한 교사가 ‘적절한 방법’...</td>\n",
              "      <td>NaN</td>\n",
              "      <td>논문</td>\n",
              "    </tr>\n",
              "    <tr>\n",
              "      <th>2843</th>\n",
              "      <td>A200928006595</td>\n",
              "      <td>멘토링 프로그램을 활용한 영재교육의 탐색</td>\n",
              "      <td>2009</td>\n",
              "      <td>ART002163953</td>\n",
              "      <td>사회과학</td>\n",
              "      <td>한국과학영재교육학회</td>\n",
              "      <td>강완1 , 박만구2</td>\n",
              "      <td>본 연구는 영재교육에 있어서 학습자를 위한 맞춤식 교육으로 멘토링을 활용한 수학영재...</td>\n",
              "      <td>NaN</td>\n",
              "      <td>영재교육은 최근에 우리나라뿐만 아니라 세계의 모든 나라들에서 보다 관심을 가지고 영...</td>\n",
              "      <td>NaN</td>\n",
              "      <td>논문</td>\n",
              "    </tr>\n",
              "    <tr>\n",
              "      <th>2991</th>\n",
              "      <td>A200928007668</td>\n",
              "      <td>정지용 시에 나타난 존재론적 초월의 양상과 의미 Formation and Meani...</td>\n",
              "      <td>2016</td>\n",
              "      <td>ART002183386</td>\n",
              "      <td>인문학</td>\n",
              "      <td>한국문학이론과비평학회</td>\n",
              "      <td>김봉근 /Kim bong keun (단독)1</td>\n",
              "      <td>이 논문은 정지용의 전체 시 세계를 연대기적 흐름 속에서 존재론적 초월 양상이 어떻...</td>\n",
              "      <td>정지용의  시쓰기는 역사적, 존재론적 결여를 극복해나가고자 하는 방향으로 진행되는...</td>\n",
              "      <td>모더니즘 문학의 선두에 섰던 정지용의 시를  일반적으로 초기의 모더니즘 시, 중기...</td>\n",
              "      <td>NaN</td>\n",
              "      <td>논문</td>\n",
              "    </tr>\n",
              "    <tr>\n",
              "      <th>7731</th>\n",
              "      <td>A200928010340</td>\n",
              "      <td>제501 오룡호 침몰사고 원인분석을 위한 선박 복원성 계산 Ship Stabilit...</td>\n",
              "      <td>2018</td>\n",
              "      <td>ART002426846</td>\n",
              "      <td>농수해양</td>\n",
              "      <td>한국항해항만학회</td>\n",
              "      <td>이재석 /Jae-Seok Lee (제1)1 , 정영구 /Young-Gu Chung ...</td>\n",
              "      <td>원양어선 제501 오룡호는 황천 중인 베링해에서 조업 후 피항하던 중 개구부를 통한...</td>\n",
              "      <td>본 연구에서는 사고선박 침몰사고의 진행상황 별 유동수 영향과 어획물 배치 등을 고려...</td>\n",
              "      <td>사고선박 침몰사고의 진행상황 별 유동수 영향과 어획물 배치 등을 고려한 선박복원성 ...</td>\n",
              "      <td>NaN</td>\n",
              "      <td>논문</td>\n",
              "    </tr>\n",
              "    <tr>\n",
              "      <th>8400</th>\n",
              "      <td>A200928012536</td>\n",
              "      <td>정서인식명확성, 정서표현, 정서적 지지가 심리적 수용에 미치는 영향 The Effe...</td>\n",
              "      <td>2018</td>\n",
              "      <td>ART002432985</td>\n",
              "      <td>사회과학</td>\n",
              "      <td>한국심리치료학회</td>\n",
              "      <td>박정미 /Jung Mi Park (교신)1 , 정남운 /Chung Nan Woon ...</td>\n",
              "      <td>본 연구는 정서인식 명확성과 심리적 수용의 관계에서 정서표현과 정서적 지지의 매개효...</td>\n",
              "      <td>정서인식 명확성과 심리적 수용의 관계에서 정서표현과 정서적 지지의 매개효과를 확인하...</td>\n",
              "      <td>ㅊ, summary_text:</td>\n",
              "      <td>NaN</td>\n",
              "      <td>논문</td>\n",
              "    </tr>\n",
              "    <tr>\n",
              "      <th>8840</th>\n",
              "      <td>A200928014067</td>\n",
              "      <td>일본 규슈 사가현의 문화관광에 관한 연구 -한국 문화와 역사인물 관련 장소를 중심으...</td>\n",
              "      <td>2019</td>\n",
              "      <td>ART002456558</td>\n",
              "      <td>사회과학</td>\n",
              "      <td>한국사진지리학회</td>\n",
              "      <td>이혁진 /Hyuk-Jin Lee (제1)1 , 최화열 /Choi Hwa Yeol (...</td>\n",
              "      <td>본 연구는 일본 사가현의 지리적 배경, 지역관광 특징 및 한국 문화와 역사인물 관련...</td>\n",
              "      <td>일본 사가현의 지리적 배경, 지역관광 특징과 한국 문화와 역사인물 관련 장소성을 고...</td>\n",
              "      <td>사가현은 지리적으로 나가사키와 후쿠오카 사이에 위치하고 있기 때문에, 해상운송은 하...</td>\n",
              "      <td>NaN</td>\n",
              "      <td>논문</td>\n",
              "    </tr>\n",
              "    <tr>\n",
              "      <th>81489</th>\n",
              "      <td>A200928005965</td>\n",
              "      <td>선진유가사상에서의 교육의 의미와 교육방법적 원리 탐색: 五部經典을 중심으로</td>\n",
              "      <td>2007</td>\n",
              "      <td>ART001075937</td>\n",
              "      <td>사회과학</td>\n",
              "      <td>사범대학부속중등교육연구소</td>\n",
              "      <td>장승희1</td>\n",
              "      <td>선진유가사상은 논어, 맹자, 주역, 중용, 대학의 오부경전을 통하여 그 본질을 파악...</td>\n",
              "      <td>선진유가사상은 논어, 맹자, 주역, 중용, 대학의 오부경전을 통하여 그 본질을 파악...</td>\n",
              "      <td>교육목적을 달성하기 위해 목표설정, 내용구성에 이어 훌륭한 교사가 ‘적절한 방법’...</td>\n",
              "      <td>NaN</td>\n",
              "      <td>논문</td>\n",
              "    </tr>\n",
              "    <tr>\n",
              "      <th>83123</th>\n",
              "      <td>A200928006595</td>\n",
              "      <td>멘토링 프로그램을 활용한 영재교육의 탐색</td>\n",
              "      <td>2009</td>\n",
              "      <td>ART002163953</td>\n",
              "      <td>사회과학</td>\n",
              "      <td>한국과학영재교육학회</td>\n",
              "      <td>강완1 , 박만구2</td>\n",
              "      <td>본 연구는 영재교육에 있어서 학습자를 위한 맞춤식 교육으로 멘토링을 활용한 수학영재...</td>\n",
              "      <td>NaN</td>\n",
              "      <td>영재교육은 최근에 우리나라뿐만 아니라 세계의 모든 나라들에서 보다 관심을 가지고 영...</td>\n",
              "      <td>NaN</td>\n",
              "      <td>논문</td>\n",
              "    </tr>\n",
              "    <tr>\n",
              "      <th>83271</th>\n",
              "      <td>A200928007668</td>\n",
              "      <td>정지용 시에 나타난 존재론적 초월의 양상과 의미 Formation and Meani...</td>\n",
              "      <td>2016</td>\n",
              "      <td>ART002183386</td>\n",
              "      <td>인문학</td>\n",
              "      <td>한국문학이론과비평학회</td>\n",
              "      <td>김봉근 /Kim bong keun (단독)1</td>\n",
              "      <td>이 논문은 정지용의 전체 시 세계를 연대기적 흐름 속에서 존재론적 초월 양상이 어떻...</td>\n",
              "      <td>정지용의  시쓰기는 역사적, 존재론적 결여를 극복해나가고자 하는 방향으로 진행되는...</td>\n",
              "      <td>모더니즘 문학의 선두에 섰던 정지용의 시를  일반적으로 초기의 모더니즘 시, 중기...</td>\n",
              "      <td>NaN</td>\n",
              "      <td>논문</td>\n",
              "    </tr>\n",
              "    <tr>\n",
              "      <th>88011</th>\n",
              "      <td>A200928010340</td>\n",
              "      <td>제501 오룡호 침몰사고 원인분석을 위한 선박 복원성 계산 Ship Stabilit...</td>\n",
              "      <td>2018</td>\n",
              "      <td>ART002426846</td>\n",
              "      <td>농수해양</td>\n",
              "      <td>한국항해항만학회</td>\n",
              "      <td>이재석 /Jae-Seok Lee (제1)1 , 정영구 /Young-Gu Chung ...</td>\n",
              "      <td>원양어선 제501 오룡호는 황천 중인 베링해에서 조업 후 피항하던 중 개구부를 통한...</td>\n",
              "      <td>본 연구에서는 사고선박 침몰사고의 진행상황 별 유동수 영향과 어획물 배치 등을 고려...</td>\n",
              "      <td>사고선박 침몰사고의 진행상황 별 유동수 영향과 어획물 배치 등을 고려한 선박복원성 ...</td>\n",
              "      <td>NaN</td>\n",
              "      <td>논문</td>\n",
              "    </tr>\n",
              "    <tr>\n",
              "      <th>88680</th>\n",
              "      <td>A200928012536</td>\n",
              "      <td>정서인식명확성, 정서표현, 정서적 지지가 심리적 수용에 미치는 영향 The Effe...</td>\n",
              "      <td>2018</td>\n",
              "      <td>ART002432985</td>\n",
              "      <td>사회과학</td>\n",
              "      <td>한국심리치료학회</td>\n",
              "      <td>박정미 /Jung Mi Park (교신)1 , 정남운 /Chung Nan Woon ...</td>\n",
              "      <td>본 연구는 정서인식 명확성과 심리적 수용의 관계에서 정서표현과 정서적 지지의 매개효...</td>\n",
              "      <td>정서인식 명확성과 심리적 수용의 관계에서 정서표현과 정서적 지지의 매개효과를 확인하...</td>\n",
              "      <td>ㅊ, summary_text:</td>\n",
              "      <td>NaN</td>\n",
              "      <td>논문</td>\n",
              "    </tr>\n",
              "    <tr>\n",
              "      <th>89120</th>\n",
              "      <td>A200928014067</td>\n",
              "      <td>일본 규슈 사가현의 문화관광에 관한 연구 -한국 문화와 역사인물 관련 장소를 중심으...</td>\n",
              "      <td>2019</td>\n",
              "      <td>ART002456558</td>\n",
              "      <td>사회과학</td>\n",
              "      <td>한국사진지리학회</td>\n",
              "      <td>이혁진 /Hyuk-Jin Lee (제1)1 , 최화열 /Choi Hwa Yeol (...</td>\n",
              "      <td>본 연구는 일본 사가현의 지리적 배경, 지역관광 특징 및 한국 문화와 역사인물 관련...</td>\n",
              "      <td>일본 사가현의 지리적 배경, 지역관광 특징과 한국 문화와 역사인물 관련 장소성을 고...</td>\n",
              "      <td>사가현은 지리적으로 나가사키와 후쿠오카 사이에 위치하고 있기 때문에, 해상운송은 하...</td>\n",
              "      <td>NaN</td>\n",
              "      <td>논문</td>\n",
              "    </tr>\n",
              "  </tbody>\n",
              "</table>\n",
              "</div>\n",
              "      <button class=\"colab-df-convert\" onclick=\"convertToInteractive('df-9eaab788-f80d-4f3c-9a11-c90ce8f1e475')\"\n",
              "              title=\"Convert this dataframe to an interactive table.\"\n",
              "              style=\"display:none;\">\n",
              "        \n",
              "  <svg xmlns=\"http://www.w3.org/2000/svg\" height=\"24px\"viewBox=\"0 0 24 24\"\n",
              "       width=\"24px\">\n",
              "    <path d=\"M0 0h24v24H0V0z\" fill=\"none\"/>\n",
              "    <path d=\"M18.56 5.44l.94 2.06.94-2.06 2.06-.94-2.06-.94-.94-2.06-.94 2.06-2.06.94zm-11 1L8.5 8.5l.94-2.06 2.06-.94-2.06-.94L8.5 2.5l-.94 2.06-2.06.94zm10 10l.94 2.06.94-2.06 2.06-.94-2.06-.94-.94-2.06-.94 2.06-2.06.94z\"/><path d=\"M17.41 7.96l-1.37-1.37c-.4-.4-.92-.59-1.43-.59-.52 0-1.04.2-1.43.59L10.3 9.45l-7.72 7.72c-.78.78-.78 2.05 0 2.83L4 21.41c.39.39.9.59 1.41.59.51 0 1.02-.2 1.41-.59l7.78-7.78 2.81-2.81c.8-.78.8-2.07 0-2.86zM5.41 20L4 18.59l7.72-7.72 1.47 1.35L5.41 20z\"/>\n",
              "  </svg>\n",
              "      </button>\n",
              "      \n",
              "  <style>\n",
              "    .colab-df-container {\n",
              "      display:flex;\n",
              "      flex-wrap:wrap;\n",
              "      gap: 12px;\n",
              "    }\n",
              "\n",
              "    .colab-df-convert {\n",
              "      background-color: #E8F0FE;\n",
              "      border: none;\n",
              "      border-radius: 50%;\n",
              "      cursor: pointer;\n",
              "      display: none;\n",
              "      fill: #1967D2;\n",
              "      height: 32px;\n",
              "      padding: 0 0 0 0;\n",
              "      width: 32px;\n",
              "    }\n",
              "\n",
              "    .colab-df-convert:hover {\n",
              "      background-color: #E2EBFA;\n",
              "      box-shadow: 0px 1px 2px rgba(60, 64, 67, 0.3), 0px 1px 3px 1px rgba(60, 64, 67, 0.15);\n",
              "      fill: #174EA6;\n",
              "    }\n",
              "\n",
              "    [theme=dark] .colab-df-convert {\n",
              "      background-color: #3B4455;\n",
              "      fill: #D2E3FC;\n",
              "    }\n",
              "\n",
              "    [theme=dark] .colab-df-convert:hover {\n",
              "      background-color: #434B5C;\n",
              "      box-shadow: 0px 1px 3px 1px rgba(0, 0, 0, 0.15);\n",
              "      filter: drop-shadow(0px 1px 2px rgba(0, 0, 0, 0.3));\n",
              "      fill: #FFFFFF;\n",
              "    }\n",
              "  </style>\n",
              "\n",
              "      <script>\n",
              "        const buttonEl =\n",
              "          document.querySelector('#df-9eaab788-f80d-4f3c-9a11-c90ce8f1e475 button.colab-df-convert');\n",
              "        buttonEl.style.display =\n",
              "          google.colab.kernel.accessAllowed ? 'block' : 'none';\n",
              "\n",
              "        async function convertToInteractive(key) {\n",
              "          const element = document.querySelector('#df-9eaab788-f80d-4f3c-9a11-c90ce8f1e475');\n",
              "          const dataTable =\n",
              "            await google.colab.kernel.invokeFunction('convertToInteractive',\n",
              "                                                     [key], {});\n",
              "          if (!dataTable) return;\n",
              "\n",
              "          const docLinkHtml = 'Like what you see? Visit the ' +\n",
              "            '<a target=\"_blank\" href=https://colab.research.google.com/notebooks/data_table.ipynb>data table notebook</a>'\n",
              "            + ' to learn more about interactive tables.';\n",
              "          element.innerHTML = '';\n",
              "          dataTable['output_type'] = 'display_data';\n",
              "          await google.colab.output.renderOutput(dataTable, element);\n",
              "          const docLink = document.createElement('div');\n",
              "          docLink.innerHTML = docLinkHtml;\n",
              "          element.appendChild(docLink);\n",
              "        }\n",
              "      </script>\n",
              "    </div>\n",
              "  </div>\n",
              "  "
            ],
            "text/plain": [
              "              doc_id  ... doc_type\n",
              "1209   A200928005965  ...       논문\n",
              "2843   A200928006595  ...       논문\n",
              "2991   A200928007668  ...       논문\n",
              "7731   A200928010340  ...       논문\n",
              "8400   A200928012536  ...       논문\n",
              "8840   A200928014067  ...       논문\n",
              "81489  A200928005965  ...       논문\n",
              "83123  A200928006595  ...       논문\n",
              "83271  A200928007668  ...       논문\n",
              "88011  A200928010340  ...       논문\n",
              "88680  A200928012536  ...       논문\n",
              "89120  A200928014067  ...       논문\n",
              "\n",
              "[12 rows x 12 columns]"
            ]
          },
          "metadata": {},
          "execution_count": 62
        }
      ]
    },
    {
      "cell_type": "code",
      "source": [
        "# 예시로 살펴보는 사례 \n",
        "# 1209번 index 추출 후 확인\n",
        "\n",
        "train.iloc[[1209]]"
      ],
      "metadata": {
        "id": "vUpsoxjyXpqB",
        "outputId": "bb6729ce-2530-4633-f559-ed5b625b1322",
        "colab": {
          "base_uri": "https://localhost:8080/",
          "height": 160
        }
      },
      "execution_count": 63,
      "outputs": [
        {
          "output_type": "execute_result",
          "data": {
            "text/html": [
              "\n",
              "  <div id=\"df-dc260632-91de-444f-a9fd-471c8fa2dceb\">\n",
              "    <div class=\"colab-df-container\">\n",
              "      <div>\n",
              "<style scoped>\n",
              "    .dataframe tbody tr th:only-of-type {\n",
              "        vertical-align: middle;\n",
              "    }\n",
              "\n",
              "    .dataframe tbody tr th {\n",
              "        vertical-align: top;\n",
              "    }\n",
              "\n",
              "    .dataframe thead th {\n",
              "        text-align: right;\n",
              "    }\n",
              "</style>\n",
              "<table border=\"1\" class=\"dataframe\">\n",
              "  <thead>\n",
              "    <tr style=\"text-align: right;\">\n",
              "      <th></th>\n",
              "      <th>doc_id</th>\n",
              "      <th>title</th>\n",
              "      <th>date</th>\n",
              "      <th>reg_no</th>\n",
              "      <th>ipc</th>\n",
              "      <th>issued_by</th>\n",
              "      <th>author</th>\n",
              "      <th>entire_original</th>\n",
              "      <th>entire_summary</th>\n",
              "      <th>summary_original</th>\n",
              "      <th>summary_summary</th>\n",
              "      <th>doc_type</th>\n",
              "    </tr>\n",
              "  </thead>\n",
              "  <tbody>\n",
              "    <tr>\n",
              "      <th>1209</th>\n",
              "      <td>A200928005965</td>\n",
              "      <td>선진유가사상에서의 교육의 의미와 교육방법적 원리 탐색: 五部經典을 중심으로</td>\n",
              "      <td>2007</td>\n",
              "      <td>ART001075937</td>\n",
              "      <td>사회과학</td>\n",
              "      <td>사범대학부속중등교육연구소</td>\n",
              "      <td>장승희1</td>\n",
              "      <td>선진유가사상은 논어, 맹자, 주역, 중용, 대학의 오부경전을 통하여 그 본질을 파악...</td>\n",
              "      <td>선진유가사상은 논어, 맹자, 주역, 중용, 대학의 오부경전을 통하여 그 본질을 파악...</td>\n",
              "      <td>교육목적을 달성하기 위해 목표설정, 내용구성에 이어 훌륭한 교사가 ‘적절한 방법’...</td>\n",
              "      <td>NaN</td>\n",
              "      <td>논문</td>\n",
              "    </tr>\n",
              "  </tbody>\n",
              "</table>\n",
              "</div>\n",
              "      <button class=\"colab-df-convert\" onclick=\"convertToInteractive('df-dc260632-91de-444f-a9fd-471c8fa2dceb')\"\n",
              "              title=\"Convert this dataframe to an interactive table.\"\n",
              "              style=\"display:none;\">\n",
              "        \n",
              "  <svg xmlns=\"http://www.w3.org/2000/svg\" height=\"24px\"viewBox=\"0 0 24 24\"\n",
              "       width=\"24px\">\n",
              "    <path d=\"M0 0h24v24H0V0z\" fill=\"none\"/>\n",
              "    <path d=\"M18.56 5.44l.94 2.06.94-2.06 2.06-.94-2.06-.94-.94-2.06-.94 2.06-2.06.94zm-11 1L8.5 8.5l.94-2.06 2.06-.94-2.06-.94L8.5 2.5l-.94 2.06-2.06.94zm10 10l.94 2.06.94-2.06 2.06-.94-2.06-.94-.94-2.06-.94 2.06-2.06.94z\"/><path d=\"M17.41 7.96l-1.37-1.37c-.4-.4-.92-.59-1.43-.59-.52 0-1.04.2-1.43.59L10.3 9.45l-7.72 7.72c-.78.78-.78 2.05 0 2.83L4 21.41c.39.39.9.59 1.41.59.51 0 1.02-.2 1.41-.59l7.78-7.78 2.81-2.81c.8-.78.8-2.07 0-2.86zM5.41 20L4 18.59l7.72-7.72 1.47 1.35L5.41 20z\"/>\n",
              "  </svg>\n",
              "      </button>\n",
              "      \n",
              "  <style>\n",
              "    .colab-df-container {\n",
              "      display:flex;\n",
              "      flex-wrap:wrap;\n",
              "      gap: 12px;\n",
              "    }\n",
              "\n",
              "    .colab-df-convert {\n",
              "      background-color: #E8F0FE;\n",
              "      border: none;\n",
              "      border-radius: 50%;\n",
              "      cursor: pointer;\n",
              "      display: none;\n",
              "      fill: #1967D2;\n",
              "      height: 32px;\n",
              "      padding: 0 0 0 0;\n",
              "      width: 32px;\n",
              "    }\n",
              "\n",
              "    .colab-df-convert:hover {\n",
              "      background-color: #E2EBFA;\n",
              "      box-shadow: 0px 1px 2px rgba(60, 64, 67, 0.3), 0px 1px 3px 1px rgba(60, 64, 67, 0.15);\n",
              "      fill: #174EA6;\n",
              "    }\n",
              "\n",
              "    [theme=dark] .colab-df-convert {\n",
              "      background-color: #3B4455;\n",
              "      fill: #D2E3FC;\n",
              "    }\n",
              "\n",
              "    [theme=dark] .colab-df-convert:hover {\n",
              "      background-color: #434B5C;\n",
              "      box-shadow: 0px 1px 3px 1px rgba(0, 0, 0, 0.15);\n",
              "      filter: drop-shadow(0px 1px 2px rgba(0, 0, 0, 0.3));\n",
              "      fill: #FFFFFF;\n",
              "    }\n",
              "  </style>\n",
              "\n",
              "      <script>\n",
              "        const buttonEl =\n",
              "          document.querySelector('#df-dc260632-91de-444f-a9fd-471c8fa2dceb button.colab-df-convert');\n",
              "        buttonEl.style.display =\n",
              "          google.colab.kernel.accessAllowed ? 'block' : 'none';\n",
              "\n",
              "        async function convertToInteractive(key) {\n",
              "          const element = document.querySelector('#df-dc260632-91de-444f-a9fd-471c8fa2dceb');\n",
              "          const dataTable =\n",
              "            await google.colab.kernel.invokeFunction('convertToInteractive',\n",
              "                                                     [key], {});\n",
              "          if (!dataTable) return;\n",
              "\n",
              "          const docLinkHtml = 'Like what you see? Visit the ' +\n",
              "            '<a target=\"_blank\" href=https://colab.research.google.com/notebooks/data_table.ipynb>data table notebook</a>'\n",
              "            + ' to learn more about interactive tables.';\n",
              "          element.innerHTML = '';\n",
              "          dataTable['output_type'] = 'display_data';\n",
              "          await google.colab.output.renderOutput(dataTable, element);\n",
              "          const docLink = document.createElement('div');\n",
              "          docLink.innerHTML = docLinkHtml;\n",
              "          element.appendChild(docLink);\n",
              "        }\n",
              "      </script>\n",
              "    </div>\n",
              "  </div>\n",
              "  "
            ],
            "text/plain": [
              "             doc_id  ... doc_type\n",
              "1209  A200928005965  ...       논문\n",
              "\n",
              "[1 rows x 12 columns]"
            ]
          },
          "metadata": {},
          "execution_count": 63
        }
      ]
    },
    {
      "cell_type": "code",
      "source": [
        "train.iloc[1209]['summary_original']"
      ],
      "metadata": {
        "id": "WeyAy-P1YGvg",
        "outputId": "093497e2-042c-4f15-c1fa-b07d9a34f619",
        "colab": {
          "base_uri": "https://localhost:8080/",
          "height": 70
        }
      },
      "execution_count": 64,
      "outputs": [
        {
          "output_type": "execute_result",
          "data": {
            "application/vnd.google.colaboratory.intrinsic+json": {
              "type": "string"
            },
            "text/plain": [
              "' 교육목적을 달성하기 위해 목표설정, 내용구성에 이어 훌륭한 교사가 ‘적절한 방법’으로 학생들을 가르쳐야 하며,  교육방법은 그 자체의 의미뿐 아니라 목표․내용과의 유기적 관련 속에서 의미를 지닐 수 있어야 하고, 소박한 형태의 교육이라도 의도적인 인간활동이며, 달성하고자 하는 목적을 정점으로 목표, 내용, 방법이 유기적으로 연계되지 않을 수 없다. 따라서 유가의 교육방법에 대한 접근도 ‘儒家’의 개념규정이 선행되어야 이후 논의가 분명해질 것이며,  일반적으로 孔孟의 정신을 이어받아 발전시킨 사상을 유학, 유교, 유가란 명칭으로부른다. , summary_text: '"
            ]
          },
          "metadata": {},
          "execution_count": 64
        }
      ]
    },
    {
      "cell_type": "markdown",
      "source": [
        "해당 부분을 추출하여 확인해본 결과 summary_text 이후의 부분은 적혀있지 않은 것으로 확인된다.\n",
        "- 따라서 이 부분에 대한 데이터들은 삭제하는 것으로 결정하였다."
      ],
      "metadata": {
        "id": "vJIgj9DgYhtm"
      }
    },
    {
      "cell_type": "code",
      "source": [
        "print(f'데이터 상에서 삭제할 행의 개수는 {len(train.loc[train.summary_summary.isna()])}개 입니다. ')"
      ],
      "metadata": {
        "id": "IgaiMoTxY9T0",
        "outputId": "49db81b4-85e9-4a69-ca6e-49e84960f662",
        "colab": {
          "base_uri": "https://localhost:8080/"
        }
      },
      "execution_count": 65,
      "outputs": [
        {
          "output_type": "stream",
          "name": "stdout",
          "text": [
            "데이터 상에서 삭제할 행의 개수는 12개 입니다. \n"
          ]
        }
      ]
    },
    {
      "cell_type": "code",
      "source": [
        "train['issued_by'].fillna('NONE',inplace=True)\n",
        "train['author'].fillna('NOne', inplace=True)\n",
        "train.dropna(inplace=True)\n",
        "\n",
        "print('train.isna().sum()\\n')\n",
        "print('-'*40)\n",
        "print(f'train dataset의 shape : {train.shape}\\n')\n",
        "print(f'train dataset의 결측치: {train.isna().sum()}')"
      ],
      "metadata": {
        "id": "v3eA1g7CZUl8",
        "outputId": "c0c53b5e-4c67-46f7-e93c-693b46a986de",
        "colab": {
          "base_uri": "https://localhost:8080/"
        }
      },
      "execution_count": 66,
      "outputs": [
        {
          "output_type": "stream",
          "name": "stdout",
          "text": [
            "train.isna().sum()\n",
            "\n",
            "----------------------------------------\n",
            "train dataset의 shape : (122269, 12)\n",
            "\n",
            "train dataset의 결측치: doc_id              0\n",
            "title               0\n",
            "date                0\n",
            "reg_no              0\n",
            "ipc                 0\n",
            "issued_by           0\n",
            "author              0\n",
            "entire_original     0\n",
            "entire_summary      0\n",
            "summary_original    0\n",
            "summary_summary     0\n",
            "doc_type            0\n",
            "dtype: int64\n"
          ]
        }
      ]
    },
    {
      "cell_type": "markdown",
      "source": [
        "### 결측치 처리 후 csv 파일로 재변환"
      ],
      "metadata": {
        "id": "Q8-TgkaCaZZe"
      }
    },
    {
      "cell_type": "code",
      "source": [
        "# new_train.csv 파일로 저장해주겠습니다.\n",
        "train.to_csv('new_train.csv', index=False, encoding='utf-8')  # index =False 처리"
      ],
      "metadata": {
        "id": "UMKHYVsFaYk6"
      },
      "execution_count": 67,
      "outputs": []
    },
    {
      "cell_type": "markdown",
      "source": [
        "# 추가: Validation dataset"
      ],
      "metadata": {
        "id": "sKIcn08KQoHA"
      }
    },
    {
      "cell_type": "markdown",
      "source": [
        "validation dataset 역시 동일하게 진행합니다."
      ],
      "metadata": {
        "id": "XmnVKCgAQ5Vb"
      }
    },
    {
      "cell_type": "code",
      "source": [
        "cd /content/drive/MyDrive/data/Article_summary/Validation/validation_논문"
      ],
      "metadata": {
        "id": "HLJ7621cRMgm",
        "outputId": "0095599e-44ec-4aa7-aaea-feb72778bb48",
        "colab": {
          "base_uri": "https://localhost:8080/"
        }
      },
      "execution_count": 68,
      "outputs": [
        {
          "output_type": "stream",
          "name": "stdout",
          "text": [
            "/content/drive/MyDrive/data/Article_summary/Validation/validation_논문\n"
          ]
        }
      ]
    },
    {
      "cell_type": "code",
      "source": [
        "ls"
      ],
      "metadata": {
        "id": "hVxT-B5pRx1t",
        "outputId": "67045902-91d6-4b66-eef1-9325f260f8b2",
        "colab": {
          "base_uri": "https://localhost:8080/"
        }
      },
      "execution_count": 69,
      "outputs": [
        {
          "output_type": "stream",
          "name": "stdout",
          "text": [
            "논문요약_0224_0.json  논문요약_0225_6_2.json\n"
          ]
        }
      ]
    },
    {
      "cell_type": "code",
      "source": [
        "with open('논문요약_0224_0.json', 'r', encoding = 'utf-8') as input_file:         # 첫 번째 validation 파일\n",
        "  data7 = json.load(input_file)\n",
        "\n",
        "with open('논문요약_0225_6_2.json', 'r', encoding = 'utf-8') as input_file:       # 두 번째 validation 파일\n",
        "  data8 = json.load(input_file)"
      ],
      "metadata": {
        "id": "Y6jxrEoKR63b"
      },
      "execution_count": 70,
      "outputs": []
    },
    {
      "cell_type": "code",
      "source": [
        "print(f'data7에 대한 key  : {data7.keys()}')\n",
        "print(f'data8에 대한 key  : {data8.keys()}')"
      ],
      "metadata": {
        "id": "_WNr17SKSaFq",
        "outputId": "ebbc888c-94cc-4c19-a552-e9967f3d565b",
        "colab": {
          "base_uri": "https://localhost:8080/"
        }
      },
      "execution_count": 71,
      "outputs": [
        {
          "output_type": "stream",
          "name": "stdout",
          "text": [
            "data7에 대한 key  : dict_keys(['totalcount', 'data'])\n",
            "data8에 대한 key  : dict_keys(['totalcount', 'data'])\n"
          ]
        }
      ]
    },
    {
      "cell_type": "code",
      "source": [
        "val1_data = {key:value for key,value in data7.items() if key !='totalcount'}\n",
        "val2_data = {key:value for key,value in data8.items() if key !='totalcount'}"
      ],
      "metadata": {
        "id": "D1Xigp54Sjsh"
      },
      "execution_count": 72,
      "outputs": []
    },
    {
      "cell_type": "code",
      "source": [
        "# data키 안에 있는 요소 추출\n",
        "val1_data= val1_data.get('data')\n",
        "val2_data= val2_data.get('data')\n",
        "\n",
        "# 데이터프레임 형성\n",
        "val_arti1= pd.DataFrame(val1_data)\n",
        "val_arti2= pd.DataFrame(val2_data)\n",
        "\n",
        "# 데이터프레임 병합\n",
        "val_df= pd.concat([val_arti1,val_arti2],axis=0) # 위 아래로 이어붙여줄 것이다.\n",
        "val_df.shape"
      ],
      "metadata": {
        "id": "M4j1a7VyS8Nd",
        "outputId": "9c9a950f-b7b5-4cd9-fa0a-1881c70bd349",
        "colab": {
          "base_uri": "https://localhost:8080/"
        }
      },
      "execution_count": 73,
      "outputs": [
        {
          "output_type": "execute_result",
          "data": {
            "text/plain": [
              "(18061, 10)"
            ]
          },
          "metadata": {},
          "execution_count": 73
        }
      ]
    },
    {
      "cell_type": "code",
      "source": [
        "%matplotlib inline\n",
        "msno.matrix(val_df, figsize=(17,8), fontsize=14);"
      ],
      "metadata": {
        "id": "R0awohAnTyR8",
        "outputId": "c795da6b-d3d1-477a-eecb-2845ca85a665",
        "colab": {
          "base_uri": "https://localhost:8080/",
          "height": 581
        }
      },
      "execution_count": 74,
      "outputs": [
        {
          "output_type": "display_data",
          "data": {
            "image/png": "[encoded data removed]",
            "text/plain": [
              "<Figure size 1224x576 with 2 Axes>"
            ]
          },
          "metadata": {
            "needs_background": "light"
          }
        }
      ]
    },
    {
      "cell_type": "code",
      "source": [
        "val_df.isna().sum()"
      ],
      "metadata": {
        "id": "g1EIZhRLT_Hg",
        "outputId": "8fcd272c-0ff7-4605-92bc-b4b310c8fccb",
        "colab": {
          "base_uri": "https://localhost:8080/"
        }
      },
      "execution_count": 75,
      "outputs": [
        {
          "output_type": "execute_result",
          "data": {
            "text/plain": [
              "doc_type           0\n",
              "doc_id             0\n",
              "title              0\n",
              "date               0\n",
              "reg_no             0\n",
              "ipc                0\n",
              "issued_by          0\n",
              "author             2\n",
              "summary_entire     0\n",
              "summary_section    0\n",
              "dtype: int64"
            ]
          },
          "metadata": {},
          "execution_count": 75
        }
      ]
    },
    {
      "cell_type": "code",
      "source": [
        "na_condition = val_df.loc[val_df['author'].isna()]\n",
        "na_condition"
      ],
      "metadata": {
        "id": "3fotjcz5UKAw",
        "outputId": "61e8b8ef-eef6-453a-85b7-7889057021a5",
        "colab": {
          "base_uri": "https://localhost:8080/",
          "height": 191
        }
      },
      "execution_count": 76,
      "outputs": [
        {
          "output_type": "execute_result",
          "data": {
            "text/html": [
              "\n",
              "  <div id=\"df-c9d8d1b5-5332-480a-a914-13503a6315c2\">\n",
              "    <div class=\"colab-df-container\">\n",
              "      <div>\n",
              "<style scoped>\n",
              "    .dataframe tbody tr th:only-of-type {\n",
              "        vertical-align: middle;\n",
              "    }\n",
              "\n",
              "    .dataframe tbody tr th {\n",
              "        vertical-align: top;\n",
              "    }\n",
              "\n",
              "    .dataframe thead th {\n",
              "        text-align: right;\n",
              "    }\n",
              "</style>\n",
              "<table border=\"1\" class=\"dataframe\">\n",
              "  <thead>\n",
              "    <tr style=\"text-align: right;\">\n",
              "      <th></th>\n",
              "      <th>doc_type</th>\n",
              "      <th>doc_id</th>\n",
              "      <th>title</th>\n",
              "      <th>date</th>\n",
              "      <th>reg_no</th>\n",
              "      <th>ipc</th>\n",
              "      <th>issued_by</th>\n",
              "      <th>author</th>\n",
              "      <th>summary_entire</th>\n",
              "      <th>summary_section</th>\n",
              "    </tr>\n",
              "  </thead>\n",
              "  <tbody>\n",
              "    <tr>\n",
              "      <th>625</th>\n",
              "      <td>논문</td>\n",
              "      <td>A201007211999</td>\n",
              "      <td>중학교 과학 교사의 과학 탐구 교수 지향</td>\n",
              "      <td>2020</td>\n",
              "      <td>ART002614119</td>\n",
              "      <td>자연과학</td>\n",
              "      <td>대한화학회</td>\n",
              "      <td>NaN</td>\n",
              "      <td>[{'orginal_text': '본 연구는 1년간 동료 교사들과 과학 탐구 수업을...</td>\n",
              "      <td>[{'orginal_text': '과학 교수에서 무엇이 중요하고 교수-학습이 어떻게...</td>\n",
              "    </tr>\n",
              "    <tr>\n",
              "      <th>629</th>\n",
              "      <td>논문</td>\n",
              "      <td>A201007212003</td>\n",
              "      <td>손톱과 모발에서의 셀레노 화합물의 화학종 분석</td>\n",
              "      <td>2020</td>\n",
              "      <td>ART002614118</td>\n",
              "      <td>자연과학</td>\n",
              "      <td>대한화학회</td>\n",
              "      <td>NaN</td>\n",
              "      <td>[{'orginal_text': '손톱과 모발에서 셀레늄을 추출하고 HPLC-ICP...</td>\n",
              "      <td>[{'orginal_text': '셀레늄(selenium, Se)은 비타민E의 2,...</td>\n",
              "    </tr>\n",
              "  </tbody>\n",
              "</table>\n",
              "</div>\n",
              "      <button class=\"colab-df-convert\" onclick=\"convertToInteractive('df-c9d8d1b5-5332-480a-a914-13503a6315c2')\"\n",
              "              title=\"Convert this dataframe to an interactive table.\"\n",
              "              style=\"display:none;\">\n",
              "        \n",
              "  <svg xmlns=\"http://www.w3.org/2000/svg\" height=\"24px\"viewBox=\"0 0 24 24\"\n",
              "       width=\"24px\">\n",
              "    <path d=\"M0 0h24v24H0V0z\" fill=\"none\"/>\n",
              "    <path d=\"M18.56 5.44l.94 2.06.94-2.06 2.06-.94-2.06-.94-.94-2.06-.94 2.06-2.06.94zm-11 1L8.5 8.5l.94-2.06 2.06-.94-2.06-.94L8.5 2.5l-.94 2.06-2.06.94zm10 10l.94 2.06.94-2.06 2.06-.94-2.06-.94-.94-2.06-.94 2.06-2.06.94z\"/><path d=\"M17.41 7.96l-1.37-1.37c-.4-.4-.92-.59-1.43-.59-.52 0-1.04.2-1.43.59L10.3 9.45l-7.72 7.72c-.78.78-.78 2.05 0 2.83L4 21.41c.39.39.9.59 1.41.59.51 0 1.02-.2 1.41-.59l7.78-7.78 2.81-2.81c.8-.78.8-2.07 0-2.86zM5.41 20L4 18.59l7.72-7.72 1.47 1.35L5.41 20z\"/>\n",
              "  </svg>\n",
              "      </button>\n",
              "      \n",
              "  <style>\n",
              "    .colab-df-container {\n",
              "      display:flex;\n",
              "      flex-wrap:wrap;\n",
              "      gap: 12px;\n",
              "    }\n",
              "\n",
              "    .colab-df-convert {\n",
              "      background-color: #E8F0FE;\n",
              "      border: none;\n",
              "      border-radius: 50%;\n",
              "      cursor: pointer;\n",
              "      display: none;\n",
              "      fill: #1967D2;\n",
              "      height: 32px;\n",
              "      padding: 0 0 0 0;\n",
              "      width: 32px;\n",
              "    }\n",
              "\n",
              "    .colab-df-convert:hover {\n",
              "      background-color: #E2EBFA;\n",
              "      box-shadow: 0px 1px 2px rgba(60, 64, 67, 0.3), 0px 1px 3px 1px rgba(60, 64, 67, 0.15);\n",
              "      fill: #174EA6;\n",
              "    }\n",
              "\n",
              "    [theme=dark] .colab-df-convert {\n",
              "      background-color: #3B4455;\n",
              "      fill: #D2E3FC;\n",
              "    }\n",
              "\n",
              "    [theme=dark] .colab-df-convert:hover {\n",
              "      background-color: #434B5C;\n",
              "      box-shadow: 0px 1px 3px 1px rgba(0, 0, 0, 0.15);\n",
              "      filter: drop-shadow(0px 1px 2px rgba(0, 0, 0, 0.3));\n",
              "      fill: #FFFFFF;\n",
              "    }\n",
              "  </style>\n",
              "\n",
              "      <script>\n",
              "        const buttonEl =\n",
              "          document.querySelector('#df-c9d8d1b5-5332-480a-a914-13503a6315c2 button.colab-df-convert');\n",
              "        buttonEl.style.display =\n",
              "          google.colab.kernel.accessAllowed ? 'block' : 'none';\n",
              "\n",
              "        async function convertToInteractive(key) {\n",
              "          const element = document.querySelector('#df-c9d8d1b5-5332-480a-a914-13503a6315c2');\n",
              "          const dataTable =\n",
              "            await google.colab.kernel.invokeFunction('convertToInteractive',\n",
              "                                                     [key], {});\n",
              "          if (!dataTable) return;\n",
              "\n",
              "          const docLinkHtml = 'Like what you see? Visit the ' +\n",
              "            '<a target=\"_blank\" href=https://colab.research.google.com/notebooks/data_table.ipynb>data table notebook</a>'\n",
              "            + ' to learn more about interactive tables.';\n",
              "          element.innerHTML = '';\n",
              "          dataTable['output_type'] = 'display_data';\n",
              "          await google.colab.output.renderOutput(dataTable, element);\n",
              "          const docLink = document.createElement('div');\n",
              "          docLink.innerHTML = docLinkHtml;\n",
              "          element.appendChild(docLink);\n",
              "        }\n",
              "      </script>\n",
              "    </div>\n",
              "  </div>\n",
              "  "
            ],
            "text/plain": [
              "    doc_type  ...                                    summary_section\n",
              "625       논문  ...  [{'orginal_text': '과학 교수에서 무엇이 중요하고 교수-학습이 어떻게...\n",
              "629       논문  ...  [{'orginal_text': '셀레늄(selenium, Se)은 비타민E의 2,...\n",
              "\n",
              "[2 rows x 10 columns]"
            ]
          },
          "metadata": {},
          "execution_count": 76
        }
      ]
    },
    {
      "cell_type": "code",
      "source": [
        "val_df.fillna('대한화학회',inplace=True)\n",
        "val_df.isna().sum()"
      ],
      "metadata": {
        "id": "fcvvZdCrUXYP",
        "outputId": "4ada4fb9-2ba7-4be6-96ee-e52ad4dfd736",
        "colab": {
          "base_uri": "https://localhost:8080/"
        }
      },
      "execution_count": 77,
      "outputs": [
        {
          "output_type": "execute_result",
          "data": {
            "text/plain": [
              "doc_type           0\n",
              "doc_id             0\n",
              "title              0\n",
              "date               0\n",
              "reg_no             0\n",
              "ipc                0\n",
              "issued_by          0\n",
              "author             0\n",
              "summary_entire     0\n",
              "summary_section    0\n",
              "dtype: int64"
            ]
          },
          "metadata": {},
          "execution_count": 77
        }
      ]
    },
    {
      "cell_type": "code",
      "source": [
        "val_df.reset_index(drop=True, inplace=True)\n",
        "val_df.head(3)"
      ],
      "metadata": {
        "id": "NJX-LyWIUwiC",
        "outputId": "9dcfad14-e3ce-4932-bce0-ef90268aa821",
        "colab": {
          "base_uri": "https://localhost:8080/",
          "height": 240
        }
      },
      "execution_count": 78,
      "outputs": [
        {
          "output_type": "execute_result",
          "data": {
            "text/html": [
              "\n",
              "  <div id=\"df-8efd0a76-c903-4e53-ab57-d01a68689cd2\">\n",
              "    <div class=\"colab-df-container\">\n",
              "      <div>\n",
              "<style scoped>\n",
              "    .dataframe tbody tr th:only-of-type {\n",
              "        vertical-align: middle;\n",
              "    }\n",
              "\n",
              "    .dataframe tbody tr th {\n",
              "        vertical-align: top;\n",
              "    }\n",
              "\n",
              "    .dataframe thead th {\n",
              "        text-align: right;\n",
              "    }\n",
              "</style>\n",
              "<table border=\"1\" class=\"dataframe\">\n",
              "  <thead>\n",
              "    <tr style=\"text-align: right;\">\n",
              "      <th></th>\n",
              "      <th>doc_type</th>\n",
              "      <th>doc_id</th>\n",
              "      <th>title</th>\n",
              "      <th>date</th>\n",
              "      <th>reg_no</th>\n",
              "      <th>ipc</th>\n",
              "      <th>issued_by</th>\n",
              "      <th>author</th>\n",
              "      <th>summary_entire</th>\n",
              "      <th>summary_section</th>\n",
              "    </tr>\n",
              "  </thead>\n",
              "  <tbody>\n",
              "    <tr>\n",
              "      <th>0</th>\n",
              "      <td>논문</td>\n",
              "      <td>A201007211374</td>\n",
              "      <td>국내 검사실에서의 대변 검경 검사에 대한 내부정도관리 현황</td>\n",
              "      <td>2018</td>\n",
              "      <td>ART002294415</td>\n",
              "      <td>의약학</td>\n",
              "      <td>대한진단검사의학회</td>\n",
              "      <td>권용준 (제1)|||원은정 (교신)|||기승정 (참여)|||김수현 (참여)|||신명...</td>\n",
              "      <td>[{'orginal_text': '배경: 현재 대변검경검사에서는 적절한 정도관리물질...</td>\n",
              "      <td>[{'orginal_text': '본 연구의 목적은 국내 임상 검사실에서 대변 검사...</td>\n",
              "    </tr>\n",
              "    <tr>\n",
              "      <th>1</th>\n",
              "      <td>논문</td>\n",
              "      <td>A201007211375</td>\n",
              "      <td>Vibrio 임상 분리주의 균종 동정을 위한 dnaJ 및 16S rDNA의 서열 분...</td>\n",
              "      <td>2018</td>\n",
              "      <td>ART002294295</td>\n",
              "      <td>의약학</td>\n",
              "      <td>대한진단검사의학회</td>\n",
              "      <td>최인선 (제1)|||문대수 (참여)|||박 건 (참여)|||강성호 (참여)|||김춘...</td>\n",
              "      <td>[{'orginal_text': '배경: Vibrio 종에는 치명적인 패혈증을 일으...</td>\n",
              "      <td>[{'orginal_text': '임상에서 분리된 Vibrio 균종의 동정에 16S...</td>\n",
              "    </tr>\n",
              "    <tr>\n",
              "      <th>2</th>\n",
              "      <td>논문</td>\n",
              "      <td>A201007211376</td>\n",
              "      <td>미세유체역학 혈액점도계 Viscore-300의 분석적 성능 평가 및 참고범위 설정</td>\n",
              "      <td>2018</td>\n",
              "      <td>ART002294283</td>\n",
              "      <td>의약학</td>\n",
              "      <td>대한진단검사의학회</td>\n",
              "      <td>권용준 (제1)|||이준형 (참여)|||문형섭 (참여)|||김혜란 (참여)|||최현...</td>\n",
              "      <td>[{'orginal_text': '배경: 전혈 점도는 혈액이 혈관을 통과할 때 발생...</td>\n",
              "      <td>[{'orginal_text': '혈액 점도는 인체의 혈관 내에서 혈액이 흐를 때 ...</td>\n",
              "    </tr>\n",
              "  </tbody>\n",
              "</table>\n",
              "</div>\n",
              "      <button class=\"colab-df-convert\" onclick=\"convertToInteractive('df-8efd0a76-c903-4e53-ab57-d01a68689cd2')\"\n",
              "              title=\"Convert this dataframe to an interactive table.\"\n",
              "              style=\"display:none;\">\n",
              "        \n",
              "  <svg xmlns=\"http://www.w3.org/2000/svg\" height=\"24px\"viewBox=\"0 0 24 24\"\n",
              "       width=\"24px\">\n",
              "    <path d=\"M0 0h24v24H0V0z\" fill=\"none\"/>\n",
              "    <path d=\"M18.56 5.44l.94 2.06.94-2.06 2.06-.94-2.06-.94-.94-2.06-.94 2.06-2.06.94zm-11 1L8.5 8.5l.94-2.06 2.06-.94-2.06-.94L8.5 2.5l-.94 2.06-2.06.94zm10 10l.94 2.06.94-2.06 2.06-.94-2.06-.94-.94-2.06-.94 2.06-2.06.94z\"/><path d=\"M17.41 7.96l-1.37-1.37c-.4-.4-.92-.59-1.43-.59-.52 0-1.04.2-1.43.59L10.3 9.45l-7.72 7.72c-.78.78-.78 2.05 0 2.83L4 21.41c.39.39.9.59 1.41.59.51 0 1.02-.2 1.41-.59l7.78-7.78 2.81-2.81c.8-.78.8-2.07 0-2.86zM5.41 20L4 18.59l7.72-7.72 1.47 1.35L5.41 20z\"/>\n",
              "  </svg>\n",
              "      </button>\n",
              "      \n",
              "  <style>\n",
              "    .colab-df-container {\n",
              "      display:flex;\n",
              "      flex-wrap:wrap;\n",
              "      gap: 12px;\n",
              "    }\n",
              "\n",
              "    .colab-df-convert {\n",
              "      background-color: #E8F0FE;\n",
              "      border: none;\n",
              "      border-radius: 50%;\n",
              "      cursor: pointer;\n",
              "      display: none;\n",
              "      fill: #1967D2;\n",
              "      height: 32px;\n",
              "      padding: 0 0 0 0;\n",
              "      width: 32px;\n",
              "    }\n",
              "\n",
              "    .colab-df-convert:hover {\n",
              "      background-color: #E2EBFA;\n",
              "      box-shadow: 0px 1px 2px rgba(60, 64, 67, 0.3), 0px 1px 3px 1px rgba(60, 64, 67, 0.15);\n",
              "      fill: #174EA6;\n",
              "    }\n",
              "\n",
              "    [theme=dark] .colab-df-convert {\n",
              "      background-color: #3B4455;\n",
              "      fill: #D2E3FC;\n",
              "    }\n",
              "\n",
              "    [theme=dark] .colab-df-convert:hover {\n",
              "      background-color: #434B5C;\n",
              "      box-shadow: 0px 1px 3px 1px rgba(0, 0, 0, 0.15);\n",
              "      filter: drop-shadow(0px 1px 2px rgba(0, 0, 0, 0.3));\n",
              "      fill: #FFFFFF;\n",
              "    }\n",
              "  </style>\n",
              "\n",
              "      <script>\n",
              "        const buttonEl =\n",
              "          document.querySelector('#df-8efd0a76-c903-4e53-ab57-d01a68689cd2 button.colab-df-convert');\n",
              "        buttonEl.style.display =\n",
              "          google.colab.kernel.accessAllowed ? 'block' : 'none';\n",
              "\n",
              "        async function convertToInteractive(key) {\n",
              "          const element = document.querySelector('#df-8efd0a76-c903-4e53-ab57-d01a68689cd2');\n",
              "          const dataTable =\n",
              "            await google.colab.kernel.invokeFunction('convertToInteractive',\n",
              "                                                     [key], {});\n",
              "          if (!dataTable) return;\n",
              "\n",
              "          const docLinkHtml = 'Like what you see? Visit the ' +\n",
              "            '<a target=\"_blank\" href=https://colab.research.google.com/notebooks/data_table.ipynb>data table notebook</a>'\n",
              "            + ' to learn more about interactive tables.';\n",
              "          element.innerHTML = '';\n",
              "          dataTable['output_type'] = 'display_data';\n",
              "          await google.colab.output.renderOutput(dataTable, element);\n",
              "          const docLink = document.createElement('div');\n",
              "          docLink.innerHTML = docLinkHtml;\n",
              "          element.appendChild(docLink);\n",
              "        }\n",
              "      </script>\n",
              "    </div>\n",
              "  </div>\n",
              "  "
            ],
            "text/plain": [
              "  doc_type  ...                                    summary_section\n",
              "0       논문  ...  [{'orginal_text': '본 연구의 목적은 국내 임상 검사실에서 대변 검사...\n",
              "1       논문  ...  [{'orginal_text': '임상에서 분리된 Vibrio 균종의 동정에 16S...\n",
              "2       논문  ...  [{'orginal_text': '혈액 점도는 인체의 혈관 내에서 혈액이 흐를 때 ...\n",
              "\n",
              "[3 rows x 10 columns]"
            ]
          },
          "metadata": {},
          "execution_count": 78
        }
      ]
    },
    {
      "cell_type": "code",
      "source": [
        "entire_sum = val_df['summary_entire']\n",
        "entire_sum = pd.DataFrame(entire_sum)\n",
        "\n",
        "entire_sum = entire_sum.astype(str)       # 전처리를 위해 str로 변환해줌\n",
        "\n",
        "entire_sum['entire_original']= entire_sum['summary_entire'].apply(text_original)\n",
        "entire_sum['entire_summary'] = entire_sum['summary_entire'].apply(text_summary)"
      ],
      "metadata": {
        "id": "V6WfqxMlVMM7"
      },
      "execution_count": 79,
      "outputs": []
    },
    {
      "cell_type": "code",
      "source": [
        "summary_sum = val_df['summary_section']\n",
        "summary_sum = pd.DataFrame(summary_sum)\n",
        "\n",
        "summary_sum = summary_sum.astype(str)\n",
        "\n",
        "summary_sum['summary_original']= summary_sum['summary_section'].apply(text_original)\n",
        "summary_sum['summary_summary'] = summary_sum['summary_section'].apply(text_summary)\n",
        "summary_sum"
      ],
      "metadata": {
        "id": "-fNHoDF9V-Rr",
        "outputId": "68a1eacb-fea1-4350-c671-43fefe590960",
        "colab": {
          "base_uri": "https://localhost:8080/",
          "height": 423
        }
      },
      "execution_count": 80,
      "outputs": [
        {
          "output_type": "execute_result",
          "data": {
            "text/html": [
              "\n",
              "  <div id=\"df-6c7cb045-baa5-4235-ac2f-b195848a658b\">\n",
              "    <div class=\"colab-df-container\">\n",
              "      <div>\n",
              "<style scoped>\n",
              "    .dataframe tbody tr th:only-of-type {\n",
              "        vertical-align: middle;\n",
              "    }\n",
              "\n",
              "    .dataframe tbody tr th {\n",
              "        vertical-align: top;\n",
              "    }\n",
              "\n",
              "    .dataframe thead th {\n",
              "        text-align: right;\n",
              "    }\n",
              "</style>\n",
              "<table border=\"1\" class=\"dataframe\">\n",
              "  <thead>\n",
              "    <tr style=\"text-align: right;\">\n",
              "      <th></th>\n",
              "      <th>summary_section</th>\n",
              "      <th>summary_original</th>\n",
              "      <th>summary_summary</th>\n",
              "    </tr>\n",
              "  </thead>\n",
              "  <tbody>\n",
              "    <tr>\n",
              "      <th>0</th>\n",
              "      <td>[{'orginal_text': '본 연구의 목적은 국내 임상 검사실에서 대변 검사...</td>\n",
              "      <td>본 연구의 목적은 국내 임상 검사실에서 대변 검사의 내부정도 관리 현황을 파악하기 ...</td>\n",
              "      <td>본 연구의 목적은 국내 임상 검사실에서 대변 검사의 내부정도 관리 현황을 파악하기 ...</td>\n",
              "    </tr>\n",
              "    <tr>\n",
              "      <th>1</th>\n",
              "      <td>[{'orginal_text': '임상에서 분리된 Vibrio 균종의 동정에 16S...</td>\n",
              "      <td>임상에서 분리된 Vibrio 균종의 동정에 16S rDNA 서열 분석법과 dnaJ ...</td>\n",
              "      <td>임상에서 분리된 Vibrio 균종의 동정에 16S rDNA 서열 분석법과 dnaJ ...</td>\n",
              "    </tr>\n",
              "    <tr>\n",
              "      <th>2</th>\n",
              "      <td>[{'orginal_text': '혈액 점도는 인체의 혈관 내에서 혈액이 흐를 때 ...</td>\n",
              "      <td>혈액 점도는 인체의 혈관 내에서 혈액이 흐를 때 발생하는 내부 저항을 의미하며 혈액...</td>\n",
              "      <td>혈액점도는 심혈관계 및 뇌혈관계질환과의 상관성이 밝혀져 왔으며 혈액 점도측정을 통한...</td>\n",
              "    </tr>\n",
              "    <tr>\n",
              "      <th>3</th>\n",
              "      <td>[{'orginal_text': '현재로는 GDF11이 “젊음의 약”이 될지 아닐지...</td>\n",
              "      <td>현재로는 GDF11이 “젊음의 약”이 될지 아닐지는 더 많은 재현성이 증명될 때까지...</td>\n",
              "      <td>현재로는 GDF11이 “젊음의 약”이 될지 아닐지는 더 많은 재현성이 증명될 때까지...</td>\n",
              "    </tr>\n",
              "    <tr>\n",
              "      <th>4</th>\n",
              "      <td>[{'orginal_text': '본 연구에서는 암환자를 위한 김치를 개발하기 위하...</td>\n",
              "      <td>본 연구에서는 암환자를 위한 김치를 개발하기 위하여 김치에 겨우살이 물추출물을 첨가...</td>\n",
              "      <td>본 연구에서는 암환자를 위한 김치를 개발하기 위하여 김치에 겨우살이 물추출물을 첨가...</td>\n",
              "    </tr>\n",
              "    <tr>\n",
              "      <th>...</th>\n",
              "      <td>...</td>\n",
              "      <td>...</td>\n",
              "      <td>...</td>\n",
              "    </tr>\n",
              "    <tr>\n",
              "      <th>18056</th>\n",
              "      <td>[{'orginal_text': '한 민족의 정체성을 형성하는 결정적인 요소 중의 ...</td>\n",
              "      <td>한 민족의 정체성을 형성하는 결정적인 요소 중의 하나는 그 민족의 공통된 ‘전통’이...</td>\n",
              "      <td>한 민족의 정체성을 형성하는 결정적인 요소 중의 하나는 그 민족의 공통된 ‘전통’이...</td>\n",
              "    </tr>\n",
              "    <tr>\n",
              "      <th>18057</th>\n",
              "      <td>[{'orginal_text': '고려 말을 대표하는 麗末三師와 嗣承관계에 의한 證...</td>\n",
              "      <td>고려 말을 대표하는 麗末三師와 嗣承관계에 의한 證明三和尙에 모두 속하는 나옹은, 麗...</td>\n",
              "      <td>고려 말을 대표하는 麗末三師와 嗣承관계에 의한 證明三和尙에 모두 속하는 나옹은, 麗...</td>\n",
              "    </tr>\n",
              "    <tr>\n",
              "      <th>18058</th>\n",
              "      <td>[{'orginal_text': '역사인물의 삶에 관심을 갖고 끊임없이 이야기하는 ...</td>\n",
              "      <td>역사인물의 삶에 관심을 갖고 끊임없이 이야기하는 것은 역사 인물의 삶이 일회적이고 ...</td>\n",
              "      <td>역사인물의 삶에 관심을 갖고 끊임없이 이야기하는 것은 역사 인물의 삶이 일회적이고 ...</td>\n",
              "    </tr>\n",
              "    <tr>\n",
              "      <th>18059</th>\n",
              "      <td>[{'orginal_text': '문명이 아니더라도 강에는 강을 생업의 터전으로 하...</td>\n",
              "      <td>문명이 아니더라도 강에는 강을 생업의 터전으로 하는 어부(漁夫)들과 강을 오르내리던...</td>\n",
              "      <td>문명이 아니더라도 강에는 강을 생업의 터전으로 하는 어부들과 강을 오르내리던 소금배...</td>\n",
              "    </tr>\n",
              "    <tr>\n",
              "      <th>18060</th>\n",
              "      <td>[{'orginal_text': '본고는 대학 교양의 기초가 되는 글쓰기 교육, 특...</td>\n",
              "      <td>본고는 대학 교양의 기초가 되는 글쓰기 교육, 특히 계열별 글쓰기 교육의 방향을 점...</td>\n",
              "      <td>본고는 대학 교양의 기초가 되는 글쓰기 교육, 특히 계열별 글쓰기 교육의 방향을 점...</td>\n",
              "    </tr>\n",
              "  </tbody>\n",
              "</table>\n",
              "<p>18061 rows × 3 columns</p>\n",
              "</div>\n",
              "      <button class=\"colab-df-convert\" onclick=\"convertToInteractive('df-6c7cb045-baa5-4235-ac2f-b195848a658b')\"\n",
              "              title=\"Convert this dataframe to an interactive table.\"\n",
              "              style=\"display:none;\">\n",
              "        \n",
              "  <svg xmlns=\"http://www.w3.org/2000/svg\" height=\"24px\"viewBox=\"0 0 24 24\"\n",
              "       width=\"24px\">\n",
              "    <path d=\"M0 0h24v24H0V0z\" fill=\"none\"/>\n",
              "    <path d=\"M18.56 5.44l.94 2.06.94-2.06 2.06-.94-2.06-.94-.94-2.06-.94 2.06-2.06.94zm-11 1L8.5 8.5l.94-2.06 2.06-.94-2.06-.94L8.5 2.5l-.94 2.06-2.06.94zm10 10l.94 2.06.94-2.06 2.06-.94-2.06-.94-.94-2.06-.94 2.06-2.06.94z\"/><path d=\"M17.41 7.96l-1.37-1.37c-.4-.4-.92-.59-1.43-.59-.52 0-1.04.2-1.43.59L10.3 9.45l-7.72 7.72c-.78.78-.78 2.05 0 2.83L4 21.41c.39.39.9.59 1.41.59.51 0 1.02-.2 1.41-.59l7.78-7.78 2.81-2.81c.8-.78.8-2.07 0-2.86zM5.41 20L4 18.59l7.72-7.72 1.47 1.35L5.41 20z\"/>\n",
              "  </svg>\n",
              "      </button>\n",
              "      \n",
              "  <style>\n",
              "    .colab-df-container {\n",
              "      display:flex;\n",
              "      flex-wrap:wrap;\n",
              "      gap: 12px;\n",
              "    }\n",
              "\n",
              "    .colab-df-convert {\n",
              "      background-color: #E8F0FE;\n",
              "      border: none;\n",
              "      border-radius: 50%;\n",
              "      cursor: pointer;\n",
              "      display: none;\n",
              "      fill: #1967D2;\n",
              "      height: 32px;\n",
              "      padding: 0 0 0 0;\n",
              "      width: 32px;\n",
              "    }\n",
              "\n",
              "    .colab-df-convert:hover {\n",
              "      background-color: #E2EBFA;\n",
              "      box-shadow: 0px 1px 2px rgba(60, 64, 67, 0.3), 0px 1px 3px 1px rgba(60, 64, 67, 0.15);\n",
              "      fill: #174EA6;\n",
              "    }\n",
              "\n",
              "    [theme=dark] .colab-df-convert {\n",
              "      background-color: #3B4455;\n",
              "      fill: #D2E3FC;\n",
              "    }\n",
              "\n",
              "    [theme=dark] .colab-df-convert:hover {\n",
              "      background-color: #434B5C;\n",
              "      box-shadow: 0px 1px 3px 1px rgba(0, 0, 0, 0.15);\n",
              "      filter: drop-shadow(0px 1px 2px rgba(0, 0, 0, 0.3));\n",
              "      fill: #FFFFFF;\n",
              "    }\n",
              "  </style>\n",
              "\n",
              "      <script>\n",
              "        const buttonEl =\n",
              "          document.querySelector('#df-6c7cb045-baa5-4235-ac2f-b195848a658b button.colab-df-convert');\n",
              "        buttonEl.style.display =\n",
              "          google.colab.kernel.accessAllowed ? 'block' : 'none';\n",
              "\n",
              "        async function convertToInteractive(key) {\n",
              "          const element = document.querySelector('#df-6c7cb045-baa5-4235-ac2f-b195848a658b');\n",
              "          const dataTable =\n",
              "            await google.colab.kernel.invokeFunction('convertToInteractive',\n",
              "                                                     [key], {});\n",
              "          if (!dataTable) return;\n",
              "\n",
              "          const docLinkHtml = 'Like what you see? Visit the ' +\n",
              "            '<a target=\"_blank\" href=https://colab.research.google.com/notebooks/data_table.ipynb>data table notebook</a>'\n",
              "            + ' to learn more about interactive tables.';\n",
              "          element.innerHTML = '';\n",
              "          dataTable['output_type'] = 'display_data';\n",
              "          await google.colab.output.renderOutput(dataTable, element);\n",
              "          const docLink = document.createElement('div');\n",
              "          docLink.innerHTML = docLinkHtml;\n",
              "          element.appendChild(docLink);\n",
              "        }\n",
              "      </script>\n",
              "    </div>\n",
              "  </div>\n",
              "  "
            ],
            "text/plain": [
              "                                         summary_section  ...                                    summary_summary\n",
              "0      [{'orginal_text': '본 연구의 목적은 국내 임상 검사실에서 대변 검사...  ...  본 연구의 목적은 국내 임상 검사실에서 대변 검사의 내부정도 관리 현황을 파악하기 ...\n",
              "1      [{'orginal_text': '임상에서 분리된 Vibrio 균종의 동정에 16S...  ...  임상에서 분리된 Vibrio 균종의 동정에 16S rDNA 서열 분석법과 dnaJ ...\n",
              "2      [{'orginal_text': '혈액 점도는 인체의 혈관 내에서 혈액이 흐를 때 ...  ...  혈액점도는 심혈관계 및 뇌혈관계질환과의 상관성이 밝혀져 왔으며 혈액 점도측정을 통한...\n",
              "3      [{'orginal_text': '현재로는 GDF11이 “젊음의 약”이 될지 아닐지...  ...  현재로는 GDF11이 “젊음의 약”이 될지 아닐지는 더 많은 재현성이 증명될 때까지...\n",
              "4      [{'orginal_text': '본 연구에서는 암환자를 위한 김치를 개발하기 위하...  ...  본 연구에서는 암환자를 위한 김치를 개발하기 위하여 김치에 겨우살이 물추출물을 첨가...\n",
              "...                                                  ...  ...                                                ...\n",
              "18056  [{'orginal_text': '한 민족의 정체성을 형성하는 결정적인 요소 중의 ...  ...  한 민족의 정체성을 형성하는 결정적인 요소 중의 하나는 그 민족의 공통된 ‘전통’이...\n",
              "18057  [{'orginal_text': '고려 말을 대표하는 麗末三師와 嗣承관계에 의한 證...  ...  고려 말을 대표하는 麗末三師와 嗣承관계에 의한 證明三和尙에 모두 속하는 나옹은, 麗...\n",
              "18058  [{'orginal_text': '역사인물의 삶에 관심을 갖고 끊임없이 이야기하는 ...  ...  역사인물의 삶에 관심을 갖고 끊임없이 이야기하는 것은 역사 인물의 삶이 일회적이고 ...\n",
              "18059  [{'orginal_text': '문명이 아니더라도 강에는 강을 생업의 터전으로 하...  ...  문명이 아니더라도 강에는 강을 생업의 터전으로 하는 어부들과 강을 오르내리던 소금배...\n",
              "18060  [{'orginal_text': '본고는 대학 교양의 기초가 되는 글쓰기 교육, 특...  ...  본고는 대학 교양의 기초가 되는 글쓰기 교육, 특히 계열별 글쓰기 교육의 방향을 점...\n",
              "\n",
              "[18061 rows x 3 columns]"
            ]
          },
          "metadata": {},
          "execution_count": 80
        }
      ]
    },
    {
      "cell_type": "code",
      "source": [
        "val_df['entire_original'] = entire_sum['entire_original']\n",
        "val_df['entire_summary']  = entire_sum['entire_summary']\n",
        "val_df['summary_original'] = summary_sum['summary_original']\n",
        "val_df['summary_summary'] = summary_sum['summary_summary']\n",
        "\n",
        "val_df.drop(columns=['summary_entire','summary_section'],axis=1,inplace=True)\n",
        "val_df.columns"
      ],
      "metadata": {
        "id": "jcBpcrk3WKES",
        "outputId": "e9eb7a36-8f6b-4ad1-9eb1-aeb26c8c54f6",
        "colab": {
          "base_uri": "https://localhost:8080/"
        }
      },
      "execution_count": 81,
      "outputs": [
        {
          "output_type": "execute_result",
          "data": {
            "text/plain": [
              "Index(['doc_type', 'doc_id', 'title', 'date', 'reg_no', 'ipc', 'issued_by',\n",
              "       'author', 'entire_original', 'entire_summary', 'summary_original',\n",
              "       'summary_summary'],\n",
              "      dtype='object')"
            ]
          },
          "metadata": {},
          "execution_count": 81
        }
      ]
    },
    {
      "cell_type": "code",
      "source": [
        "val_df = val_df[['doc_id','title','date','reg_no','ipc','issued_by','author','entire_original','entire_summary','summary_original','summary_summary','doc_type']]\n",
        "val_df.head()"
      ],
      "metadata": {
        "id": "RofW-VrAWday",
        "outputId": "02c94085-4c7d-4217-dc20-a5448287c88a",
        "colab": {
          "base_uri": "https://localhost:8080/",
          "height": 493
        }
      },
      "execution_count": 82,
      "outputs": [
        {
          "output_type": "execute_result",
          "data": {
            "text/html": [
              "\n",
              "  <div id=\"df-67399835-3088-46e8-b8cf-9f54422ddc3a\">\n",
              "    <div class=\"colab-df-container\">\n",
              "      <div>\n",
              "<style scoped>\n",
              "    .dataframe tbody tr th:only-of-type {\n",
              "        vertical-align: middle;\n",
              "    }\n",
              "\n",
              "    .dataframe tbody tr th {\n",
              "        vertical-align: top;\n",
              "    }\n",
              "\n",
              "    .dataframe thead th {\n",
              "        text-align: right;\n",
              "    }\n",
              "</style>\n",
              "<table border=\"1\" class=\"dataframe\">\n",
              "  <thead>\n",
              "    <tr style=\"text-align: right;\">\n",
              "      <th></th>\n",
              "      <th>doc_id</th>\n",
              "      <th>title</th>\n",
              "      <th>date</th>\n",
              "      <th>reg_no</th>\n",
              "      <th>ipc</th>\n",
              "      <th>issued_by</th>\n",
              "      <th>author</th>\n",
              "      <th>entire_original</th>\n",
              "      <th>entire_summary</th>\n",
              "      <th>summary_original</th>\n",
              "      <th>summary_summary</th>\n",
              "      <th>doc_type</th>\n",
              "    </tr>\n",
              "  </thead>\n",
              "  <tbody>\n",
              "    <tr>\n",
              "      <th>0</th>\n",
              "      <td>A201007211374</td>\n",
              "      <td>국내 검사실에서의 대변 검경 검사에 대한 내부정도관리 현황</td>\n",
              "      <td>2018</td>\n",
              "      <td>ART002294415</td>\n",
              "      <td>의약학</td>\n",
              "      <td>대한진단검사의학회</td>\n",
              "      <td>권용준 (제1)|||원은정 (교신)|||기승정 (참여)|||김수현 (참여)|||신명...</td>\n",
              "      <td>배경: 현재 대변검경검사에서는 적절한 정도관리물질이 없어 질관리가 미진한 실정이다....</td>\n",
              "      <td>본 연구에서는 설사변에서 발견되는 장내 기생충 현황과 대변 검경에 있어 활용 가능한...</td>\n",
              "      <td>본 연구의 목적은 국내 임상 검사실에서 대변 검사의 내부정도 관리 현황을 파악하기 ...</td>\n",
              "      <td>본 연구의 목적은 국내 임상 검사실에서 대변 검사의 내부정도 관리 현황을 파악하기 ...</td>\n",
              "      <td>논문</td>\n",
              "    </tr>\n",
              "    <tr>\n",
              "      <th>1</th>\n",
              "      <td>A201007211375</td>\n",
              "      <td>Vibrio 임상 분리주의 균종 동정을 위한 dnaJ 및 16S rDNA의 서열 분...</td>\n",
              "      <td>2018</td>\n",
              "      <td>ART002294295</td>\n",
              "      <td>의약학</td>\n",
              "      <td>대한진단검사의학회</td>\n",
              "      <td>최인선 (제1)|||문대수 (참여)|||박 건 (참여)|||강성호 (참여)|||김춘...</td>\n",
              "      <td>배경: Vibrio 종에는 치명적인 패혈증을 일으키는 균종들도 포함되어 있어서 정확...</td>\n",
              "      <td>Vibrio 균종의 정확한 동정을 위해 적절한 분자 진단법의 도입이 필요하기에 본고...</td>\n",
              "      <td>임상에서 분리된 Vibrio 균종의 동정에 16S rDNA 서열 분석법과 dnaJ ...</td>\n",
              "      <td>임상에서 분리된 Vibrio 균종의 동정에 16S rDNA 서열 분석법과 dnaJ ...</td>\n",
              "      <td>논문</td>\n",
              "    </tr>\n",
              "    <tr>\n",
              "      <th>2</th>\n",
              "      <td>A201007211376</td>\n",
              "      <td>미세유체역학 혈액점도계 Viscore-300의 분석적 성능 평가 및 참고범위 설정</td>\n",
              "      <td>2018</td>\n",
              "      <td>ART002294283</td>\n",
              "      <td>의약학</td>\n",
              "      <td>대한진단검사의학회</td>\n",
              "      <td>권용준 (제1)|||이준형 (참여)|||문형섭 (참여)|||김혜란 (참여)|||최현...</td>\n",
              "      <td>배경: 전혈 점도는 혈액이 혈관을 통과할 때 발생하는 내부 저항을 의미한다. 이러한...</td>\n",
              "      <td>전혈 점도 측정을 위해 새로 개발된 미세유체역학 혈액점도계 Viscore-300 (...</td>\n",
              "      <td>혈액 점도는 인체의 혈관 내에서 혈액이 흐를 때 발생하는 내부 저항을 의미하며 혈액...</td>\n",
              "      <td>혈액점도는 심혈관계 및 뇌혈관계질환과의 상관성이 밝혀져 왔으며 혈액 점도측정을 통한...</td>\n",
              "      <td>논문</td>\n",
              "    </tr>\n",
              "    <tr>\n",
              "      <th>3</th>\n",
              "      <td>A201007211377</td>\n",
              "      <td>개체병렬결합 그리고 노화 연구</td>\n",
              "      <td>2017</td>\n",
              "      <td>ART002295675</td>\n",
              "      <td>자연과학</td>\n",
              "      <td>한국생명과학회</td>\n",
              "      <td>정경태 /Chung, Kyung Tae (단독)</td>\n",
              "      <td>대부분의 사람은 오래 살기를 원한다. 고대 중국과 한국의 신화에 동방삭이라는 인물이...</td>\n",
              "      <td>본고는 개체병렬결합모델의 탄생과 이로 인한 중요한 발견을 시간대에 따라 소개하며, ...</td>\n",
              "      <td>현재로는 GDF11이 “젊음의 약”이 될지 아닐지는 더 많은 재현성이 증명될 때까지...</td>\n",
              "      <td>현재로는 GDF11이 “젊음의 약”이 될지 아닐지는 더 많은 재현성이 증명될 때까지...</td>\n",
              "      <td>논문</td>\n",
              "    </tr>\n",
              "    <tr>\n",
              "      <th>4</th>\n",
              "      <td>A201007211378</td>\n",
              "      <td>겨우살이 물추출물 첨가 김치의 A549 인체 폐암 세포 증식저해 효과</td>\n",
              "      <td>2017</td>\n",
              "      <td>ART002295664</td>\n",
              "      <td>자연과학</td>\n",
              "      <td>한국생명과학회</td>\n",
              "      <td>길정하 /Jeung-Ha Kil (단독)</td>\n",
              "      <td>김치는 한국에서 가장 인기 있는 발효식품이며, 여러 연구에서 암예방, 항비만, 항염...</td>\n",
              "      <td>본 실험에서는 암환자용 김치의 암세포 증식억제능 및 그 기전에 대하여 검토하고, 인...</td>\n",
              "      <td>본 연구에서는 암환자를 위한 김치를 개발하기 위하여 김치에 겨우살이 물추출물을 첨가...</td>\n",
              "      <td>본 연구에서는 암환자를 위한 김치를 개발하기 위하여 김치에 겨우살이 물추출물을 첨가...</td>\n",
              "      <td>논문</td>\n",
              "    </tr>\n",
              "  </tbody>\n",
              "</table>\n",
              "</div>\n",
              "      <button class=\"colab-df-convert\" onclick=\"convertToInteractive('df-67399835-3088-46e8-b8cf-9f54422ddc3a')\"\n",
              "              title=\"Convert this dataframe to an interactive table.\"\n",
              "              style=\"display:none;\">\n",
              "        \n",
              "  <svg xmlns=\"http://www.w3.org/2000/svg\" height=\"24px\"viewBox=\"0 0 24 24\"\n",
              "       width=\"24px\">\n",
              "    <path d=\"M0 0h24v24H0V0z\" fill=\"none\"/>\n",
              "    <path d=\"M18.56 5.44l.94 2.06.94-2.06 2.06-.94-2.06-.94-.94-2.06-.94 2.06-2.06.94zm-11 1L8.5 8.5l.94-2.06 2.06-.94-2.06-.94L8.5 2.5l-.94 2.06-2.06.94zm10 10l.94 2.06.94-2.06 2.06-.94-2.06-.94-.94-2.06-.94 2.06-2.06.94z\"/><path d=\"M17.41 7.96l-1.37-1.37c-.4-.4-.92-.59-1.43-.59-.52 0-1.04.2-1.43.59L10.3 9.45l-7.72 7.72c-.78.78-.78 2.05 0 2.83L4 21.41c.39.39.9.59 1.41.59.51 0 1.02-.2 1.41-.59l7.78-7.78 2.81-2.81c.8-.78.8-2.07 0-2.86zM5.41 20L4 18.59l7.72-7.72 1.47 1.35L5.41 20z\"/>\n",
              "  </svg>\n",
              "      </button>\n",
              "      \n",
              "  <style>\n",
              "    .colab-df-container {\n",
              "      display:flex;\n",
              "      flex-wrap:wrap;\n",
              "      gap: 12px;\n",
              "    }\n",
              "\n",
              "    .colab-df-convert {\n",
              "      background-color: #E8F0FE;\n",
              "      border: none;\n",
              "      border-radius: 50%;\n",
              "      cursor: pointer;\n",
              "      display: none;\n",
              "      fill: #1967D2;\n",
              "      height: 32px;\n",
              "      padding: 0 0 0 0;\n",
              "      width: 32px;\n",
              "    }\n",
              "\n",
              "    .colab-df-convert:hover {\n",
              "      background-color: #E2EBFA;\n",
              "      box-shadow: 0px 1px 2px rgba(60, 64, 67, 0.3), 0px 1px 3px 1px rgba(60, 64, 67, 0.15);\n",
              "      fill: #174EA6;\n",
              "    }\n",
              "\n",
              "    [theme=dark] .colab-df-convert {\n",
              "      background-color: #3B4455;\n",
              "      fill: #D2E3FC;\n",
              "    }\n",
              "\n",
              "    [theme=dark] .colab-df-convert:hover {\n",
              "      background-color: #434B5C;\n",
              "      box-shadow: 0px 1px 3px 1px rgba(0, 0, 0, 0.15);\n",
              "      filter: drop-shadow(0px 1px 2px rgba(0, 0, 0, 0.3));\n",
              "      fill: #FFFFFF;\n",
              "    }\n",
              "  </style>\n",
              "\n",
              "      <script>\n",
              "        const buttonEl =\n",
              "          document.querySelector('#df-67399835-3088-46e8-b8cf-9f54422ddc3a button.colab-df-convert');\n",
              "        buttonEl.style.display =\n",
              "          google.colab.kernel.accessAllowed ? 'block' : 'none';\n",
              "\n",
              "        async function convertToInteractive(key) {\n",
              "          const element = document.querySelector('#df-67399835-3088-46e8-b8cf-9f54422ddc3a');\n",
              "          const dataTable =\n",
              "            await google.colab.kernel.invokeFunction('convertToInteractive',\n",
              "                                                     [key], {});\n",
              "          if (!dataTable) return;\n",
              "\n",
              "          const docLinkHtml = 'Like what you see? Visit the ' +\n",
              "            '<a target=\"_blank\" href=https://colab.research.google.com/notebooks/data_table.ipynb>data table notebook</a>'\n",
              "            + ' to learn more about interactive tables.';\n",
              "          element.innerHTML = '';\n",
              "          dataTable['output_type'] = 'display_data';\n",
              "          await google.colab.output.renderOutput(dataTable, element);\n",
              "          const docLink = document.createElement('div');\n",
              "          docLink.innerHTML = docLinkHtml;\n",
              "          element.appendChild(docLink);\n",
              "        }\n",
              "      </script>\n",
              "    </div>\n",
              "  </div>\n",
              "  "
            ],
            "text/plain": [
              "          doc_id  ... doc_type\n",
              "0  A201007211374  ...       논문\n",
              "1  A201007211375  ...       논문\n",
              "2  A201007211376  ...       논문\n",
              "3  A201007211377  ...       논문\n",
              "4  A201007211378  ...       논문\n",
              "\n",
              "[5 rows x 12 columns]"
            ]
          },
          "metadata": {},
          "execution_count": 82
        }
      ]
    },
    {
      "cell_type": "code",
      "source": [
        "val_df.isna().sum()"
      ],
      "metadata": {
        "id": "lokWyp8rby6c",
        "outputId": "aa0e5237-f9a6-4702-f3a3-b3c9391993bc",
        "colab": {
          "base_uri": "https://localhost:8080/"
        }
      },
      "execution_count": 83,
      "outputs": [
        {
          "output_type": "execute_result",
          "data": {
            "text/plain": [
              "doc_id              0\n",
              "title               0\n",
              "date                0\n",
              "reg_no              0\n",
              "ipc                 0\n",
              "issued_by           0\n",
              "author              0\n",
              "entire_original     0\n",
              "entire_summary      0\n",
              "summary_original    0\n",
              "summary_summary     0\n",
              "doc_type            0\n",
              "dtype: int64"
            ]
          },
          "metadata": {},
          "execution_count": 83
        }
      ]
    },
    {
      "cell_type": "markdown",
      "source": [
        "### validation dataset CSV 변환"
      ],
      "metadata": {
        "id": "MVYW0_sCXfTh"
      }
    },
    {
      "cell_type": "code",
      "source": [
        "val_df.to_csv('validation_article.csv',  index=False, encoding='utf-8')"
      ],
      "metadata": {
        "id": "4muKn_2PXjGT"
      },
      "execution_count": 84,
      "outputs": []
    },
    {
      "cell_type": "code",
      "source": [
        "ls"
      ],
      "metadata": {
        "id": "O2BM-8fmXxRS",
        "outputId": "908b1631-10b3-4309-95bf-5ccb109c27b3",
        "colab": {
          "base_uri": "https://localhost:8080/"
        }
      },
      "execution_count": 85,
      "outputs": [
        {
          "output_type": "stream",
          "name": "stdout",
          "text": [
            "논문요약_0224_0.json  논문요약_0225_6_2.json  validation_article.csv\n"
          ]
        }
      ]
    },
    {
      "cell_type": "markdown",
      "source": [
        "validation_article.csv 파일 역시 추출하여 다시 결측치를 확인해보겠습니다."
      ],
      "metadata": {
        "id": "y6LTMiHZbUeq"
      }
    },
    {
      "cell_type": "code",
      "source": [
        "validation_df = pd.read_csv('validation_article.csv')\n",
        "validation_df.head(3)"
      ],
      "metadata": {
        "id": "WNuVZo1CbT8V",
        "outputId": "f244b3da-2560-403e-d2ee-09f0e016d5ae",
        "colab": {
          "base_uri": "https://localhost:8080/",
          "height": 343
        }
      },
      "execution_count": 86,
      "outputs": [
        {
          "output_type": "execute_result",
          "data": {
            "text/html": [
              "\n",
              "  <div id=\"df-7e98977b-26f4-46f2-87b4-4017f3d08942\">\n",
              "    <div class=\"colab-df-container\">\n",
              "      <div>\n",
              "<style scoped>\n",
              "    .dataframe tbody tr th:only-of-type {\n",
              "        vertical-align: middle;\n",
              "    }\n",
              "\n",
              "    .dataframe tbody tr th {\n",
              "        vertical-align: top;\n",
              "    }\n",
              "\n",
              "    .dataframe thead th {\n",
              "        text-align: right;\n",
              "    }\n",
              "</style>\n",
              "<table border=\"1\" class=\"dataframe\">\n",
              "  <thead>\n",
              "    <tr style=\"text-align: right;\">\n",
              "      <th></th>\n",
              "      <th>doc_id</th>\n",
              "      <th>title</th>\n",
              "      <th>date</th>\n",
              "      <th>reg_no</th>\n",
              "      <th>ipc</th>\n",
              "      <th>issued_by</th>\n",
              "      <th>author</th>\n",
              "      <th>entire_original</th>\n",
              "      <th>entire_summary</th>\n",
              "      <th>summary_original</th>\n",
              "      <th>summary_summary</th>\n",
              "      <th>doc_type</th>\n",
              "    </tr>\n",
              "  </thead>\n",
              "  <tbody>\n",
              "    <tr>\n",
              "      <th>0</th>\n",
              "      <td>A201007211374</td>\n",
              "      <td>국내 검사실에서의 대변 검경 검사에 대한 내부정도관리 현황</td>\n",
              "      <td>2018</td>\n",
              "      <td>ART002294415</td>\n",
              "      <td>의약학</td>\n",
              "      <td>대한진단검사의학회</td>\n",
              "      <td>권용준 (제1)|||원은정 (교신)|||기승정 (참여)|||김수현 (참여)|||신명...</td>\n",
              "      <td>배경: 현재 대변검경검사에서는 적절한 정도관리물질이 없어 질관리가 미진한 실정이다....</td>\n",
              "      <td>본 연구에서는 설사변에서 발견되는 장내 기생충 현황과 대변 검경에 있어 활용 가능한...</td>\n",
              "      <td>본 연구의 목적은 국내 임상 검사실에서 대변 검사의 내부정도 관리 현황을 파악하기 ...</td>\n",
              "      <td>본 연구의 목적은 국내 임상 검사실에서 대변 검사의 내부정도 관리 현황을 파악하기 ...</td>\n",
              "      <td>논문</td>\n",
              "    </tr>\n",
              "    <tr>\n",
              "      <th>1</th>\n",
              "      <td>A201007211375</td>\n",
              "      <td>Vibrio 임상 분리주의 균종 동정을 위한 dnaJ 및 16S rDNA의 서열 분...</td>\n",
              "      <td>2018</td>\n",
              "      <td>ART002294295</td>\n",
              "      <td>의약학</td>\n",
              "      <td>대한진단검사의학회</td>\n",
              "      <td>최인선 (제1)|||문대수 (참여)|||박 건 (참여)|||강성호 (참여)|||김춘...</td>\n",
              "      <td>배경: Vibrio 종에는 치명적인 패혈증을 일으키는 균종들도 포함되어 있어서 정확...</td>\n",
              "      <td>Vibrio 균종의 정확한 동정을 위해 적절한 분자 진단법의 도입이 필요하기에 본고...</td>\n",
              "      <td>임상에서 분리된 Vibrio 균종의 동정에 16S rDNA 서열 분석법과 dnaJ ...</td>\n",
              "      <td>임상에서 분리된 Vibrio 균종의 동정에 16S rDNA 서열 분석법과 dnaJ ...</td>\n",
              "      <td>논문</td>\n",
              "    </tr>\n",
              "    <tr>\n",
              "      <th>2</th>\n",
              "      <td>A201007211376</td>\n",
              "      <td>미세유체역학 혈액점도계 Viscore-300의 분석적 성능 평가 및 참고범위 설정</td>\n",
              "      <td>2018</td>\n",
              "      <td>ART002294283</td>\n",
              "      <td>의약학</td>\n",
              "      <td>대한진단검사의학회</td>\n",
              "      <td>권용준 (제1)|||이준형 (참여)|||문형섭 (참여)|||김혜란 (참여)|||최현...</td>\n",
              "      <td>배경: 전혈 점도는 혈액이 혈관을 통과할 때 발생하는 내부 저항을 의미한다. 이러한...</td>\n",
              "      <td>전혈 점도 측정을 위해 새로 개발된 미세유체역학 혈액점도계 Viscore-300 (...</td>\n",
              "      <td>혈액 점도는 인체의 혈관 내에서 혈액이 흐를 때 발생하는 내부 저항을 의미하며 혈액...</td>\n",
              "      <td>혈액점도는 심혈관계 및 뇌혈관계질환과의 상관성이 밝혀져 왔으며 혈액 점도측정을 통한...</td>\n",
              "      <td>논문</td>\n",
              "    </tr>\n",
              "  </tbody>\n",
              "</table>\n",
              "</div>\n",
              "      <button class=\"colab-df-convert\" onclick=\"convertToInteractive('df-7e98977b-26f4-46f2-87b4-4017f3d08942')\"\n",
              "              title=\"Convert this dataframe to an interactive table.\"\n",
              "              style=\"display:none;\">\n",
              "        \n",
              "  <svg xmlns=\"http://www.w3.org/2000/svg\" height=\"24px\"viewBox=\"0 0 24 24\"\n",
              "       width=\"24px\">\n",
              "    <path d=\"M0 0h24v24H0V0z\" fill=\"none\"/>\n",
              "    <path d=\"M18.56 5.44l.94 2.06.94-2.06 2.06-.94-2.06-.94-.94-2.06-.94 2.06-2.06.94zm-11 1L8.5 8.5l.94-2.06 2.06-.94-2.06-.94L8.5 2.5l-.94 2.06-2.06.94zm10 10l.94 2.06.94-2.06 2.06-.94-2.06-.94-.94-2.06-.94 2.06-2.06.94z\"/><path d=\"M17.41 7.96l-1.37-1.37c-.4-.4-.92-.59-1.43-.59-.52 0-1.04.2-1.43.59L10.3 9.45l-7.72 7.72c-.78.78-.78 2.05 0 2.83L4 21.41c.39.39.9.59 1.41.59.51 0 1.02-.2 1.41-.59l7.78-7.78 2.81-2.81c.8-.78.8-2.07 0-2.86zM5.41 20L4 18.59l7.72-7.72 1.47 1.35L5.41 20z\"/>\n",
              "  </svg>\n",
              "      </button>\n",
              "      \n",
              "  <style>\n",
              "    .colab-df-container {\n",
              "      display:flex;\n",
              "      flex-wrap:wrap;\n",
              "      gap: 12px;\n",
              "    }\n",
              "\n",
              "    .colab-df-convert {\n",
              "      background-color: #E8F0FE;\n",
              "      border: none;\n",
              "      border-radius: 50%;\n",
              "      cursor: pointer;\n",
              "      display: none;\n",
              "      fill: #1967D2;\n",
              "      height: 32px;\n",
              "      padding: 0 0 0 0;\n",
              "      width: 32px;\n",
              "    }\n",
              "\n",
              "    .colab-df-convert:hover {\n",
              "      background-color: #E2EBFA;\n",
              "      box-shadow: 0px 1px 2px rgba(60, 64, 67, 0.3), 0px 1px 3px 1px rgba(60, 64, 67, 0.15);\n",
              "      fill: #174EA6;\n",
              "    }\n",
              "\n",
              "    [theme=dark] .colab-df-convert {\n",
              "      background-color: #3B4455;\n",
              "      fill: #D2E3FC;\n",
              "    }\n",
              "\n",
              "    [theme=dark] .colab-df-convert:hover {\n",
              "      background-color: #434B5C;\n",
              "      box-shadow: 0px 1px 3px 1px rgba(0, 0, 0, 0.15);\n",
              "      filter: drop-shadow(0px 1px 2px rgba(0, 0, 0, 0.3));\n",
              "      fill: #FFFFFF;\n",
              "    }\n",
              "  </style>\n",
              "\n",
              "      <script>\n",
              "        const buttonEl =\n",
              "          document.querySelector('#df-7e98977b-26f4-46f2-87b4-4017f3d08942 button.colab-df-convert');\n",
              "        buttonEl.style.display =\n",
              "          google.colab.kernel.accessAllowed ? 'block' : 'none';\n",
              "\n",
              "        async function convertToInteractive(key) {\n",
              "          const element = document.querySelector('#df-7e98977b-26f4-46f2-87b4-4017f3d08942');\n",
              "          const dataTable =\n",
              "            await google.colab.kernel.invokeFunction('convertToInteractive',\n",
              "                                                     [key], {});\n",
              "          if (!dataTable) return;\n",
              "\n",
              "          const docLinkHtml = 'Like what you see? Visit the ' +\n",
              "            '<a target=\"_blank\" href=https://colab.research.google.com/notebooks/data_table.ipynb>data table notebook</a>'\n",
              "            + ' to learn more about interactive tables.';\n",
              "          element.innerHTML = '';\n",
              "          dataTable['output_type'] = 'display_data';\n",
              "          await google.colab.output.renderOutput(dataTable, element);\n",
              "          const docLink = document.createElement('div');\n",
              "          docLink.innerHTML = docLinkHtml;\n",
              "          element.appendChild(docLink);\n",
              "        }\n",
              "      </script>\n",
              "    </div>\n",
              "  </div>\n",
              "  "
            ],
            "text/plain": [
              "          doc_id  ... doc_type\n",
              "0  A201007211374  ...       논문\n",
              "1  A201007211375  ...       논문\n",
              "2  A201007211376  ...       논문\n",
              "\n",
              "[3 rows x 12 columns]"
            ]
          },
          "metadata": {},
          "execution_count": 86
        }
      ]
    },
    {
      "cell_type": "code",
      "source": [
        "validation_df.isna().sum()"
      ],
      "metadata": {
        "id": "4Vm3d8ZYbit7",
        "outputId": "16880f89-6895-4685-964d-3e77a1c1a989",
        "colab": {
          "base_uri": "https://localhost:8080/"
        }
      },
      "execution_count": 87,
      "outputs": [
        {
          "output_type": "execute_result",
          "data": {
            "text/plain": [
              "doc_id                 0\n",
              "title                  0\n",
              "date                   0\n",
              "reg_no                 0\n",
              "ipc                    0\n",
              "issued_by              0\n",
              "author              5822\n",
              "entire_original        0\n",
              "entire_summary         0\n",
              "summary_original       0\n",
              "summary_summary        0\n",
              "doc_type               0\n",
              "dtype: int64"
            ]
          },
          "metadata": {},
          "execution_count": 87
        }
      ]
    },
    {
      "cell_type": "markdown",
      "source": [
        "해당 데이터셋에서도 보이지 않는 결측치가 포함되어 있던 것으로 보입니다.\n",
        "\n",
        "해당 데이터셋 역시 결측치를 동일하게 처리하겠습니다."
      ],
      "metadata": {
        "id": "FtDhNSjjbo-3"
      }
    },
    {
      "cell_type": "code",
      "source": [
        "validation_df.loc[validation_df.author.isna()].head(3)"
      ],
      "metadata": {
        "id": "432yncFmbnVy",
        "outputId": "02bbde28-a1e4-4ea1-c576-0eccf6937238",
        "colab": {
          "base_uri": "https://localhost:8080/",
          "height": 308
        }
      },
      "execution_count": 88,
      "outputs": [
        {
          "output_type": "execute_result",
          "data": {
            "text/html": [
              "\n",
              "  <div id=\"df-ced9985f-6ed6-4356-a175-4c0c52245dc5\">\n",
              "    <div class=\"colab-df-container\">\n",
              "      <div>\n",
              "<style scoped>\n",
              "    .dataframe tbody tr th:only-of-type {\n",
              "        vertical-align: middle;\n",
              "    }\n",
              "\n",
              "    .dataframe tbody tr th {\n",
              "        vertical-align: top;\n",
              "    }\n",
              "\n",
              "    .dataframe thead th {\n",
              "        text-align: right;\n",
              "    }\n",
              "</style>\n",
              "<table border=\"1\" class=\"dataframe\">\n",
              "  <thead>\n",
              "    <tr style=\"text-align: right;\">\n",
              "      <th></th>\n",
              "      <th>doc_id</th>\n",
              "      <th>title</th>\n",
              "      <th>date</th>\n",
              "      <th>reg_no</th>\n",
              "      <th>ipc</th>\n",
              "      <th>issued_by</th>\n",
              "      <th>author</th>\n",
              "      <th>entire_original</th>\n",
              "      <th>entire_summary</th>\n",
              "      <th>summary_original</th>\n",
              "      <th>summary_summary</th>\n",
              "      <th>doc_type</th>\n",
              "    </tr>\n",
              "  </thead>\n",
              "  <tbody>\n",
              "    <tr>\n",
              "      <th>4626</th>\n",
              "      <td>A201007216000</td>\n",
              "      <td>전략 연구의 쟁점: 개념, 측정 및 유형화를 중심으로</td>\n",
              "      <td>2003</td>\n",
              "      <td>ART000902113</td>\n",
              "      <td>사회과학</td>\n",
              "      <td>한국전략경영학회</td>\n",
              "      <td>NaN</td>\n",
              "      <td>본 논문은 전략 연구에 있어서 가장 기본적인 요소이면서도 흔히 많은 연구들이 간과하...</td>\n",
              "      <td>본 논문은 개념의 오용이 빈번하게 나타나고 있는 전략의 주요 쟁점을 규명하고 이를 ...</td>\n",
              "      <td>전략유형의 도출에 앞서 전략 측정방법에 대한 제 접근법을 논의할 필요가 있다. 전략...</td>\n",
              "      <td>묘사법은 이러한 전략의 개념적 발전에는 어느 정도 시사점이 있지만 상이한 상황에서 ...</td>\n",
              "      <td>논문</td>\n",
              "    </tr>\n",
              "    <tr>\n",
              "      <th>4627</th>\n",
              "      <td>A201007216001</td>\n",
              "      <td>Form과 Function의 기호학적 해석을 중심으로 한 광고 커뮤니케이션 전략전개</td>\n",
              "      <td>2004</td>\n",
              "      <td>ART000937627</td>\n",
              "      <td>예술체육</td>\n",
              "      <td>한국기초조형학회</td>\n",
              "      <td>NaN</td>\n",
              "      <td>오늘날 광고 크리에이티브 디렉터들은 효과있는 광고 커뮤니케이션 전략 수립을 위해 많...</td>\n",
              "      <td>광고 커뮤니케이션 전략 수립 시 형식 중시형과 기능 중시형 중 어느 쪽에 중점을 두...</td>\n",
              "      <td>최근의 크리에이티브 디렉터들은 형식 중시형(form-orien ted)된 광고를 추...</td>\n",
              "      <td>최근의 크리에이티브 디렉터들은 형식 중시형된 광고를 추구하는 경향이 많아 조금 독특...</td>\n",
              "      <td>논문</td>\n",
              "    </tr>\n",
              "    <tr>\n",
              "      <th>4628</th>\n",
              "      <td>A201007216002</td>\n",
              "      <td>주거공간 실내디자인에 나타난 비물질적 특성에 관한 연구</td>\n",
              "      <td>2004</td>\n",
              "      <td>ART000939200</td>\n",
              "      <td>예술체육</td>\n",
              "      <td>한국기초조형학회</td>\n",
              "      <td>NaN</td>\n",
              "      <td>현대 공간에서 나타나는 비물질성의 개념과 현대 공간디자인에서의 비물질적 특성과 유형...</td>\n",
              "      <td>국내 주거공간 실내디자인에 표현되는 비물질적 특성을 파악한 결과, 이 특성은 표현적...</td>\n",
              "      <td>현대의 공간디자인은 진보된 기술로 인하여 다양한 표현과 지원이 가능하게 되었다. 건...</td>\n",
              "      <td>국내 주거공간에 나타난 매체적 특성 중 일시성의 표현은 디지털 기술과 조명기술 등의...</td>\n",
              "      <td>논문</td>\n",
              "    </tr>\n",
              "  </tbody>\n",
              "</table>\n",
              "</div>\n",
              "      <button class=\"colab-df-convert\" onclick=\"convertToInteractive('df-ced9985f-6ed6-4356-a175-4c0c52245dc5')\"\n",
              "              title=\"Convert this dataframe to an interactive table.\"\n",
              "              style=\"display:none;\">\n",
              "        \n",
              "  <svg xmlns=\"http://www.w3.org/2000/svg\" height=\"24px\"viewBox=\"0 0 24 24\"\n",
              "       width=\"24px\">\n",
              "    <path d=\"M0 0h24v24H0V0z\" fill=\"none\"/>\n",
              "    <path d=\"M18.56 5.44l.94 2.06.94-2.06 2.06-.94-2.06-.94-.94-2.06-.94 2.06-2.06.94zm-11 1L8.5 8.5l.94-2.06 2.06-.94-2.06-.94L8.5 2.5l-.94 2.06-2.06.94zm10 10l.94 2.06.94-2.06 2.06-.94-2.06-.94-.94-2.06-.94 2.06-2.06.94z\"/><path d=\"M17.41 7.96l-1.37-1.37c-.4-.4-.92-.59-1.43-.59-.52 0-1.04.2-1.43.59L10.3 9.45l-7.72 7.72c-.78.78-.78 2.05 0 2.83L4 21.41c.39.39.9.59 1.41.59.51 0 1.02-.2 1.41-.59l7.78-7.78 2.81-2.81c.8-.78.8-2.07 0-2.86zM5.41 20L4 18.59l7.72-7.72 1.47 1.35L5.41 20z\"/>\n",
              "  </svg>\n",
              "      </button>\n",
              "      \n",
              "  <style>\n",
              "    .colab-df-container {\n",
              "      display:flex;\n",
              "      flex-wrap:wrap;\n",
              "      gap: 12px;\n",
              "    }\n",
              "\n",
              "    .colab-df-convert {\n",
              "      background-color: #E8F0FE;\n",
              "      border: none;\n",
              "      border-radius: 50%;\n",
              "      cursor: pointer;\n",
              "      display: none;\n",
              "      fill: #1967D2;\n",
              "      height: 32px;\n",
              "      padding: 0 0 0 0;\n",
              "      width: 32px;\n",
              "    }\n",
              "\n",
              "    .colab-df-convert:hover {\n",
              "      background-color: #E2EBFA;\n",
              "      box-shadow: 0px 1px 2px rgba(60, 64, 67, 0.3), 0px 1px 3px 1px rgba(60, 64, 67, 0.15);\n",
              "      fill: #174EA6;\n",
              "    }\n",
              "\n",
              "    [theme=dark] .colab-df-convert {\n",
              "      background-color: #3B4455;\n",
              "      fill: #D2E3FC;\n",
              "    }\n",
              "\n",
              "    [theme=dark] .colab-df-convert:hover {\n",
              "      background-color: #434B5C;\n",
              "      box-shadow: 0px 1px 3px 1px rgba(0, 0, 0, 0.15);\n",
              "      filter: drop-shadow(0px 1px 2px rgba(0, 0, 0, 0.3));\n",
              "      fill: #FFFFFF;\n",
              "    }\n",
              "  </style>\n",
              "\n",
              "      <script>\n",
              "        const buttonEl =\n",
              "          document.querySelector('#df-ced9985f-6ed6-4356-a175-4c0c52245dc5 button.colab-df-convert');\n",
              "        buttonEl.style.display =\n",
              "          google.colab.kernel.accessAllowed ? 'block' : 'none';\n",
              "\n",
              "        async function convertToInteractive(key) {\n",
              "          const element = document.querySelector('#df-ced9985f-6ed6-4356-a175-4c0c52245dc5');\n",
              "          const dataTable =\n",
              "            await google.colab.kernel.invokeFunction('convertToInteractive',\n",
              "                                                     [key], {});\n",
              "          if (!dataTable) return;\n",
              "\n",
              "          const docLinkHtml = 'Like what you see? Visit the ' +\n",
              "            '<a target=\"_blank\" href=https://colab.research.google.com/notebooks/data_table.ipynb>data table notebook</a>'\n",
              "            + ' to learn more about interactive tables.';\n",
              "          element.innerHTML = '';\n",
              "          dataTable['output_type'] = 'display_data';\n",
              "          await google.colab.output.renderOutput(dataTable, element);\n",
              "          const docLink = document.createElement('div');\n",
              "          docLink.innerHTML = docLinkHtml;\n",
              "          element.appendChild(docLink);\n",
              "        }\n",
              "      </script>\n",
              "    </div>\n",
              "  </div>\n",
              "  "
            ],
            "text/plain": [
              "             doc_id  ... doc_type\n",
              "4626  A201007216000  ...       논문\n",
              "4627  A201007216001  ...       논문\n",
              "4628  A201007216002  ...       논문\n",
              "\n",
              "[3 rows x 12 columns]"
            ]
          },
          "metadata": {},
          "execution_count": 88
        }
      ]
    },
    {
      "cell_type": "markdown",
      "source": [
        "해당 부분을 None으로 처리해주겠습니다."
      ],
      "metadata": {
        "id": "gbMTCUyjeBzN"
      }
    },
    {
      "cell_type": "code",
      "source": [
        "validation_df.fillna('None', inplace=True)"
      ],
      "metadata": {
        "id": "cwNG54MecJl5"
      },
      "execution_count": 89,
      "outputs": []
    },
    {
      "cell_type": "code",
      "source": [
        "# 결측치를 다시 확인합니다.\n",
        "validation_df.isna().sum()"
      ],
      "metadata": {
        "id": "NEUhMUFBd-lU",
        "outputId": "4f6031e6-7a73-4a54-ebb4-b3ae59f0d210",
        "colab": {
          "base_uri": "https://localhost:8080/"
        }
      },
      "execution_count": 90,
      "outputs": [
        {
          "output_type": "execute_result",
          "data": {
            "text/plain": [
              "doc_id              0\n",
              "title               0\n",
              "date                0\n",
              "reg_no              0\n",
              "ipc                 0\n",
              "issued_by           0\n",
              "author              0\n",
              "entire_original     0\n",
              "entire_summary      0\n",
              "summary_original    0\n",
              "summary_summary     0\n",
              "doc_type            0\n",
              "dtype: int64"
            ]
          },
          "metadata": {},
          "execution_count": 90
        }
      ]
    },
    {
      "cell_type": "markdown",
      "source": [
        "new_validation.csv 파일로 저장해주었습니다."
      ],
      "metadata": {
        "id": "b36II-AOeZpQ"
      }
    },
    {
      "cell_type": "code",
      "source": [
        "validation_df.to_csv('new_validation.csv', index=False, encoding='utf-8')"
      ],
      "metadata": {
        "id": "61PH0vSCeL37"
      },
      "execution_count": 91,
      "outputs": []
    },
    {
      "cell_type": "markdown",
      "source": [
        "### new_validation.csv 파일 재확인"
      ],
      "metadata": {
        "id": "54uBacvijESM"
      }
    },
    {
      "cell_type": "code",
      "source": [
        "new_val_df = pd.read_csv('new_validation.csv')\n",
        "new_val_df.head(3)"
      ],
      "metadata": {
        "id": "lge9is1Diutu",
        "outputId": "2cc8e993-c050-4097-b113-2ec1109eb380",
        "colab": {
          "base_uri": "https://localhost:8080/",
          "height": 343
        }
      },
      "execution_count": 92,
      "outputs": [
        {
          "output_type": "execute_result",
          "data": {
            "text/html": [
              "\n",
              "  <div id=\"df-f5869fc1-5698-4959-8ecc-6469480487eb\">\n",
              "    <div class=\"colab-df-container\">\n",
              "      <div>\n",
              "<style scoped>\n",
              "    .dataframe tbody tr th:only-of-type {\n",
              "        vertical-align: middle;\n",
              "    }\n",
              "\n",
              "    .dataframe tbody tr th {\n",
              "        vertical-align: top;\n",
              "    }\n",
              "\n",
              "    .dataframe thead th {\n",
              "        text-align: right;\n",
              "    }\n",
              "</style>\n",
              "<table border=\"1\" class=\"dataframe\">\n",
              "  <thead>\n",
              "    <tr style=\"text-align: right;\">\n",
              "      <th></th>\n",
              "      <th>doc_id</th>\n",
              "      <th>title</th>\n",
              "      <th>date</th>\n",
              "      <th>reg_no</th>\n",
              "      <th>ipc</th>\n",
              "      <th>issued_by</th>\n",
              "      <th>author</th>\n",
              "      <th>entire_original</th>\n",
              "      <th>entire_summary</th>\n",
              "      <th>summary_original</th>\n",
              "      <th>summary_summary</th>\n",
              "      <th>doc_type</th>\n",
              "    </tr>\n",
              "  </thead>\n",
              "  <tbody>\n",
              "    <tr>\n",
              "      <th>0</th>\n",
              "      <td>A201007211374</td>\n",
              "      <td>국내 검사실에서의 대변 검경 검사에 대한 내부정도관리 현황</td>\n",
              "      <td>2018</td>\n",
              "      <td>ART002294415</td>\n",
              "      <td>의약학</td>\n",
              "      <td>대한진단검사의학회</td>\n",
              "      <td>권용준 (제1)|||원은정 (교신)|||기승정 (참여)|||김수현 (참여)|||신명...</td>\n",
              "      <td>배경: 현재 대변검경검사에서는 적절한 정도관리물질이 없어 질관리가 미진한 실정이다....</td>\n",
              "      <td>본 연구에서는 설사변에서 발견되는 장내 기생충 현황과 대변 검경에 있어 활용 가능한...</td>\n",
              "      <td>본 연구의 목적은 국내 임상 검사실에서 대변 검사의 내부정도 관리 현황을 파악하기 ...</td>\n",
              "      <td>본 연구의 목적은 국내 임상 검사실에서 대변 검사의 내부정도 관리 현황을 파악하기 ...</td>\n",
              "      <td>논문</td>\n",
              "    </tr>\n",
              "    <tr>\n",
              "      <th>1</th>\n",
              "      <td>A201007211375</td>\n",
              "      <td>Vibrio 임상 분리주의 균종 동정을 위한 dnaJ 및 16S rDNA의 서열 분...</td>\n",
              "      <td>2018</td>\n",
              "      <td>ART002294295</td>\n",
              "      <td>의약학</td>\n",
              "      <td>대한진단검사의학회</td>\n",
              "      <td>최인선 (제1)|||문대수 (참여)|||박 건 (참여)|||강성호 (참여)|||김춘...</td>\n",
              "      <td>배경: Vibrio 종에는 치명적인 패혈증을 일으키는 균종들도 포함되어 있어서 정확...</td>\n",
              "      <td>Vibrio 균종의 정확한 동정을 위해 적절한 분자 진단법의 도입이 필요하기에 본고...</td>\n",
              "      <td>임상에서 분리된 Vibrio 균종의 동정에 16S rDNA 서열 분석법과 dnaJ ...</td>\n",
              "      <td>임상에서 분리된 Vibrio 균종의 동정에 16S rDNA 서열 분석법과 dnaJ ...</td>\n",
              "      <td>논문</td>\n",
              "    </tr>\n",
              "    <tr>\n",
              "      <th>2</th>\n",
              "      <td>A201007211376</td>\n",
              "      <td>미세유체역학 혈액점도계 Viscore-300의 분석적 성능 평가 및 참고범위 설정</td>\n",
              "      <td>2018</td>\n",
              "      <td>ART002294283</td>\n",
              "      <td>의약학</td>\n",
              "      <td>대한진단검사의학회</td>\n",
              "      <td>권용준 (제1)|||이준형 (참여)|||문형섭 (참여)|||김혜란 (참여)|||최현...</td>\n",
              "      <td>배경: 전혈 점도는 혈액이 혈관을 통과할 때 발생하는 내부 저항을 의미한다. 이러한...</td>\n",
              "      <td>전혈 점도 측정을 위해 새로 개발된 미세유체역학 혈액점도계 Viscore-300 (...</td>\n",
              "      <td>혈액 점도는 인체의 혈관 내에서 혈액이 흐를 때 발생하는 내부 저항을 의미하며 혈액...</td>\n",
              "      <td>혈액점도는 심혈관계 및 뇌혈관계질환과의 상관성이 밝혀져 왔으며 혈액 점도측정을 통한...</td>\n",
              "      <td>논문</td>\n",
              "    </tr>\n",
              "  </tbody>\n",
              "</table>\n",
              "</div>\n",
              "      <button class=\"colab-df-convert\" onclick=\"convertToInteractive('df-f5869fc1-5698-4959-8ecc-6469480487eb')\"\n",
              "              title=\"Convert this dataframe to an interactive table.\"\n",
              "              style=\"display:none;\">\n",
              "        \n",
              "  <svg xmlns=\"http://www.w3.org/2000/svg\" height=\"24px\"viewBox=\"0 0 24 24\"\n",
              "       width=\"24px\">\n",
              "    <path d=\"M0 0h24v24H0V0z\" fill=\"none\"/>\n",
              "    <path d=\"M18.56 5.44l.94 2.06.94-2.06 2.06-.94-2.06-.94-.94-2.06-.94 2.06-2.06.94zm-11 1L8.5 8.5l.94-2.06 2.06-.94-2.06-.94L8.5 2.5l-.94 2.06-2.06.94zm10 10l.94 2.06.94-2.06 2.06-.94-2.06-.94-.94-2.06-.94 2.06-2.06.94z\"/><path d=\"M17.41 7.96l-1.37-1.37c-.4-.4-.92-.59-1.43-.59-.52 0-1.04.2-1.43.59L10.3 9.45l-7.72 7.72c-.78.78-.78 2.05 0 2.83L4 21.41c.39.39.9.59 1.41.59.51 0 1.02-.2 1.41-.59l7.78-7.78 2.81-2.81c.8-.78.8-2.07 0-2.86zM5.41 20L4 18.59l7.72-7.72 1.47 1.35L5.41 20z\"/>\n",
              "  </svg>\n",
              "      </button>\n",
              "      \n",
              "  <style>\n",
              "    .colab-df-container {\n",
              "      display:flex;\n",
              "      flex-wrap:wrap;\n",
              "      gap: 12px;\n",
              "    }\n",
              "\n",
              "    .colab-df-convert {\n",
              "      background-color: #E8F0FE;\n",
              "      border: none;\n",
              "      border-radius: 50%;\n",
              "      cursor: pointer;\n",
              "      display: none;\n",
              "      fill: #1967D2;\n",
              "      height: 32px;\n",
              "      padding: 0 0 0 0;\n",
              "      width: 32px;\n",
              "    }\n",
              "\n",
              "    .colab-df-convert:hover {\n",
              "      background-color: #E2EBFA;\n",
              "      box-shadow: 0px 1px 2px rgba(60, 64, 67, 0.3), 0px 1px 3px 1px rgba(60, 64, 67, 0.15);\n",
              "      fill: #174EA6;\n",
              "    }\n",
              "\n",
              "    [theme=dark] .colab-df-convert {\n",
              "      background-color: #3B4455;\n",
              "      fill: #D2E3FC;\n",
              "    }\n",
              "\n",
              "    [theme=dark] .colab-df-convert:hover {\n",
              "      background-color: #434B5C;\n",
              "      box-shadow: 0px 1px 3px 1px rgba(0, 0, 0, 0.15);\n",
              "      filter: drop-shadow(0px 1px 2px rgba(0, 0, 0, 0.3));\n",
              "      fill: #FFFFFF;\n",
              "    }\n",
              "  </style>\n",
              "\n",
              "      <script>\n",
              "        const buttonEl =\n",
              "          document.querySelector('#df-f5869fc1-5698-4959-8ecc-6469480487eb button.colab-df-convert');\n",
              "        buttonEl.style.display =\n",
              "          google.colab.kernel.accessAllowed ? 'block' : 'none';\n",
              "\n",
              "        async function convertToInteractive(key) {\n",
              "          const element = document.querySelector('#df-f5869fc1-5698-4959-8ecc-6469480487eb');\n",
              "          const dataTable =\n",
              "            await google.colab.kernel.invokeFunction('convertToInteractive',\n",
              "                                                     [key], {});\n",
              "          if (!dataTable) return;\n",
              "\n",
              "          const docLinkHtml = 'Like what you see? Visit the ' +\n",
              "            '<a target=\"_blank\" href=https://colab.research.google.com/notebooks/data_table.ipynb>data table notebook</a>'\n",
              "            + ' to learn more about interactive tables.';\n",
              "          element.innerHTML = '';\n",
              "          dataTable['output_type'] = 'display_data';\n",
              "          await google.colab.output.renderOutput(dataTable, element);\n",
              "          const docLink = document.createElement('div');\n",
              "          docLink.innerHTML = docLinkHtml;\n",
              "          element.appendChild(docLink);\n",
              "        }\n",
              "      </script>\n",
              "    </div>\n",
              "  </div>\n",
              "  "
            ],
            "text/plain": [
              "          doc_id  ... doc_type\n",
              "0  A201007211374  ...       논문\n",
              "1  A201007211375  ...       논문\n",
              "2  A201007211376  ...       논문\n",
              "\n",
              "[3 rows x 12 columns]"
            ]
          },
          "metadata": {},
          "execution_count": 92
        }
      ]
    },
    {
      "cell_type": "code",
      "source": [
        "new_val_df.isna().sum()"
      ],
      "metadata": {
        "id": "EaBmCseEi2T8",
        "outputId": "53e1475e-84a6-4c0a-b200-01f2f8bedc61",
        "colab": {
          "base_uri": "https://localhost:8080/"
        }
      },
      "execution_count": 93,
      "outputs": [
        {
          "output_type": "execute_result",
          "data": {
            "text/plain": [
              "doc_id              0\n",
              "title               0\n",
              "date                0\n",
              "reg_no              0\n",
              "ipc                 0\n",
              "issued_by           0\n",
              "author              0\n",
              "entire_original     0\n",
              "entire_summary      0\n",
              "summary_original    0\n",
              "summary_summary     0\n",
              "doc_type            0\n",
              "dtype: int64"
            ]
          },
          "metadata": {},
          "execution_count": 93
        }
      ]
    },
    {
      "cell_type": "markdown",
      "source": [
        "해당 데이터셋이 잘 저장되었음을 확인하였습니다."
      ],
      "metadata": {
        "id": "KHKyFuO8i6l3"
      }
    }
  ]
}