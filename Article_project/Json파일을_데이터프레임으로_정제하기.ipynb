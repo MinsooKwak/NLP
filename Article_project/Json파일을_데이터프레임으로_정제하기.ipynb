{
  "nbformat": 4,
  "nbformat_minor": 0,
  "metadata": {
    "colab": {
      "name": "Json파일을 데이터프레임으로 정제하기.ipynb",
      "provenance": [],
      "authorship_tag": "ABX9TyMIRbOz7p/4+7f0GEfWFTDw",
      "include_colab_link": true
    },
    "kernelspec": {
      "name": "python3",
      "display_name": "Python 3"
    },
    "language_info": {
      "name": "python"
    }
  },
  "cells": [
    {
      "cell_type": "markdown",
      "metadata": {
        "id": "view-in-github",
        "colab_type": "text"
      },
      "source": [
        "<a href=\"https://colab.research.google.com/github/MinsooKwak/NLP/blob/main/Article_project/Json%ED%8C%8C%EC%9D%BC%EC%9D%84_%EB%8D%B0%EC%9D%B4%ED%84%B0%ED%94%84%EB%A0%88%EC%9E%84%EC%9C%BC%EB%A1%9C_%EC%A0%95%EC%A0%9C%ED%95%98%EA%B8%B0.ipynb\" target=\"_parent\"><img src=\"https://colab.research.google.com/assets/colab-badge.svg\" alt=\"Open In Colab\"/></a>"
      ]
    },
    {
      "cell_type": "markdown",
      "source": [
        "# JSON file DataFrame 만들기"
      ],
      "metadata": {
        "id": "mjdmnBHdhmAg"
      }
    },
    {
      "cell_type": "markdown",
      "source": [
        "필요한 작업을 수행하기 위해 json 파일을 csv로 변환하고자 한다.\n",
        "\n",
        "수행하고자 하는 목적과 필요에 따라 [AIHUB의 논문자료 요약 데이터셋](https://aihub.or.kr/aidata/30712)을 사용하였다.\n",
        "\n",
        "본 데이터셋은 바이브컴퍼니에서 구축하여 제공하였으며, 본 데이터는 2021년 6월에 최초 개방되었다."
      ],
      "metadata": {
        "id": "zDrIkSSPkO47"
      }
    },
    {
      "cell_type": "markdown",
      "source": [
        "### 필요 라이브러리, 기본 작업 수행"
      ],
      "metadata": {
        "id": "fK9DsK0Ihttc"
      }
    },
    {
      "cell_type": "code",
      "source": [
        "import pandas as pd\n",
        "import numpy as np"
      ],
      "metadata": {
        "id": "3RQveYdvC1OD"
      },
      "execution_count": 1,
      "outputs": []
    },
    {
      "cell_type": "code",
      "execution_count": 2,
      "metadata": {
        "id": "_5FIEe8JA_F7"
      },
      "outputs": [],
      "source": [
        "# 경고를 무시합니다.\n",
        "import warnings\n",
        "warnings.filterwarnings(\"ignore\")"
      ]
    },
    {
      "cell_type": "markdown",
      "source": [
        "구글 드라이브"
      ],
      "metadata": {
        "id": "nPatHEzDlWS0"
      }
    },
    {
      "cell_type": "code",
      "source": [
        "from google.colab import drive\n",
        "drive.mount('/content/drive')"
      ],
      "metadata": {
        "colab": {
          "base_uri": "https://localhost:8080/"
        },
        "id": "iDAgYeqFBZUy",
        "outputId": "e3a9ade0-3fbe-4450-dba3-6d76e2eb460c"
      },
      "execution_count": 3,
      "outputs": [
        {
          "output_type": "stream",
          "name": "stdout",
          "text": [
            "Mounted at /content/drive\n"
          ]
        }
      ]
    },
    {
      "cell_type": "markdown",
      "source": [
        "**Training dataset**에 대한 경로로 이동하여 먼저 진행하겠다."
      ],
      "metadata": {
        "id": "OVpTDD0Wmiw_"
      }
    },
    {
      "cell_type": "code",
      "source": [
        "cd /content/drive/MyDrive/data/Article_summary/Training/training_article/"
      ],
      "metadata": {
        "colab": {
          "base_uri": "https://localhost:8080/"
        },
        "id": "VShM5ZvkBa8m",
        "outputId": "658c37c9-e96d-42b7-a7f6-8cf265967449"
      },
      "execution_count": 4,
      "outputs": [
        {
          "output_type": "stream",
          "name": "stdout",
          "text": [
            "/content/drive/MyDrive/data/Article_summary/Training/training_article\n"
          ]
        }
      ]
    },
    {
      "cell_type": "markdown",
      "source": [
        "현재 경로에 있는 데이터셋은 다음과 같이 json 형태이다."
      ],
      "metadata": {
        "id": "qFdVfXfQlaey"
      }
    },
    {
      "cell_type": "code",
      "source": [
        "ls"
      ],
      "metadata": {
        "colab": {
          "base_uri": "https://localhost:8080/"
        },
        "id": "QHpZMXa9Cakh",
        "outputId": "f58718e2-4c11-4c32-aa78-8c728ef5edeb"
      },
      "execution_count": 5,
      "outputs": [
        {
          "output_type": "stream",
          "name": "stdout",
          "text": [
            "논문요약_0206_0.json  논문요약_0220_0.json    train_article.csv\n",
            "논문요약_0206_1.json  논문요약_0225_5_1.json\n",
            "논문요약_0206_2.json  논문요약_0225_7_0.json\n"
          ]
        }
      ]
    },
    {
      "cell_type": "markdown",
      "source": [
        "Json 파일을 CSV 파일로 변환하고자 할 때 판다스의 pd.read_json('파일명.json')을 수행하고 이를 pd.to_csv()로 변환할 수 있다.\n",
        "\n",
        "하지만 어떠한 경우에는 중첩된 사전형식으로 구성되어 원활히 변환되지 않는 경우가 있다.\n",
        "\n",
        "이를 위한 방법이다."
      ],
      "metadata": {
        "id": "pb_zzIYujktP"
      }
    },
    {
      "cell_type": "markdown",
      "source": [
        "## JSON"
      ],
      "metadata": {
        "id": "HKD1uo5MybYp"
      }
    },
    {
      "cell_type": "markdown",
      "source": [
        "### JSON 파일 불러오기"
      ],
      "metadata": {
        "id": "l-QZPpDnh59S"
      }
    },
    {
      "cell_type": "markdown",
      "source": [
        "먼저 첫 번째 파일로 수행해보겠다."
      ],
      "metadata": {
        "id": "-sVwkUu9iEmM"
      }
    },
    {
      "cell_type": "code",
      "source": [
        "import json\n",
        "import csv\n",
        "\n",
        "with open('논문요약_0220_0.json', 'r', encoding = 'utf-8') as input_file:\n",
        "  data = json.load(input_file)\n",
        "\n",
        "type(data)"
      ],
      "metadata": {
        "colab": {
          "base_uri": "https://localhost:8080/"
        },
        "id": "BM54TDW8Cjde",
        "outputId": "58ad420f-6958-4930-cbca-035a41f382ba"
      },
      "execution_count": 6,
      "outputs": [
        {
          "output_type": "execute_result",
          "data": {
            "text/plain": [
              "dict"
            ]
          },
          "metadata": {},
          "execution_count": 6
        }
      ]
    },
    {
      "cell_type": "markdown",
      "source": [
        "json파일을 읽어 load하여 data에 저장해주었다. \n"
      ],
      "metadata": {
        "id": "K3DBZwldnfJY"
      }
    },
    {
      "cell_type": "code",
      "source": [
        "with open('논문요약_0206_2.json', 'r', encoding = 'utf-8') as input_file:         # 두 번째 논문요약 파일\n",
        "  data2 = json.load(input_file)\n",
        "\n",
        "with open('논문요약_0225_5_1.json', 'r', encoding = 'utf-8') as input_file:       # 세 번째 논문요약 파일\n",
        "  data3 = json.load(input_file)\n",
        "\n",
        "with open('논문요약_0206_1.json', 'r', encoding = 'utf-8') as input_file:         # 네 번째 논문요약 파일\n",
        "  data4 = json.load(input_file)\n",
        "\n",
        "with open('논문요약_0220_0.json', 'r', encoding = 'utf-8') as input_file:         # 다섯 번째 논문요약 파일\n",
        "  data5 = json.load(input_file)\n",
        "\n",
        "with open('논문요약_0225_7_0.json', 'r', encoding = 'utf-8') as input_file:       # 여섯 번째 논문요약 파일\n",
        "  data6 = json.load(input_file)"
      ],
      "metadata": {
        "id": "0jb9-gjOmGfS"
      },
      "execution_count": 7,
      "outputs": []
    },
    {
      "cell_type": "markdown",
      "source": [
        "### key 살펴보기"
      ],
      "metadata": {
        "id": "3sxzumbIwhkr"
      }
    },
    {
      "cell_type": "markdown",
      "source": [
        "다음으로 data에 key값이 무엇이 있는지 살펴보겠다."
      ],
      "metadata": {
        "id": "HQEIt0eli7Oc"
      }
    },
    {
      "cell_type": "code",
      "source": [
        "data.keys()"
      ],
      "metadata": {
        "id": "pL_FoafqTBXM",
        "outputId": "c8a05b96-4392-4360-a8d2-05192079f170",
        "colab": {
          "base_uri": "https://localhost:8080/"
        }
      },
      "execution_count": 8,
      "outputs": [
        {
          "output_type": "execute_result",
          "data": {
            "text/plain": [
              "dict_keys(['totalcount', 'data'])"
            ]
          },
          "metadata": {},
          "execution_count": 8
        }
      ]
    },
    {
      "cell_type": "markdown",
      "source": [
        "json 파일을 불러왔는데 key값에 totalcount라는 키가 추가되어 있음이 보인다. \n",
        "\n",
        "data의 totalcount key에는 데이터의 개수만이 수록되어있으며, data의 'data'라는 키 안의 정보만 필요하다."
      ],
      "metadata": {
        "id": "6eyShtDziMBN"
      }
    },
    {
      "cell_type": "markdown",
      "source": [
        "**data의 'totalcount' key**"
      ],
      "metadata": {
        "id": "piXvsQrzivPp"
      }
    },
    {
      "cell_type": "code",
      "source": [
        "data['totalcount']"
      ],
      "metadata": {
        "id": "4TvTOdHyiVfG",
        "outputId": "4f77d971-de23-4483-fb8c-1f7efaff7c59",
        "colab": {
          "base_uri": "https://localhost:8080/"
        }
      },
      "execution_count": 9,
      "outputs": [
        {
          "output_type": "execute_result",
          "data": {
            "text/plain": [
              "10021"
            ]
          },
          "metadata": {},
          "execution_count": 9
        }
      ]
    },
    {
      "cell_type": "code",
      "source": [
        "print(f'data에 대한 key   : {data.keys()}')\n",
        "print(f'data2에 대한 key  : {data2.keys()}')\n",
        "print(f'data3에 대한 key  : {data3.keys()}')\n",
        "print(f'data4에 대한 key  : {data4.keys()}')\n",
        "print(f'data5에 대한 key  : {data5.keys()}')\n",
        "print(f'data6에 대한 key  : {data6.keys()}')"
      ],
      "metadata": {
        "id": "zV7eaJdwoRBB",
        "outputId": "7bd24429-01ee-43dc-d8b7-3aa5e552c73e",
        "colab": {
          "base_uri": "https://localhost:8080/"
        }
      },
      "execution_count": 10,
      "outputs": [
        {
          "output_type": "stream",
          "name": "stdout",
          "text": [
            "data에 대한 key   : dict_keys(['totalcount', 'data'])\n",
            "data2에 대한 key  : dict_keys(['totalcount', 'data'])\n",
            "data3에 대한 key  : dict_keys(['totalcount', 'data'])\n",
            "data4에 대한 key  : dict_keys(['totalcount', 'data'])\n",
            "data5에 대한 key  : dict_keys(['totalcount', 'data'])\n",
            "data6에 대한 key  : dict_keys(['totalcount', 'data'])\n"
          ]
        }
      ]
    },
    {
      "cell_type": "markdown",
      "source": [
        "-----"
      ],
      "metadata": {
        "id": "IQX6MnCfpLVI"
      }
    },
    {
      "cell_type": "markdown",
      "source": [
        "**data의 'data' key** 살펴보기"
      ],
      "metadata": {
        "id": "7aZ-R9CXi108"
      }
    },
    {
      "cell_type": "code",
      "source": [
        "# key를 통해 첫 째 문장의 valuelist에 접근\n",
        "data['data'][0]"
      ],
      "metadata": {
        "id": "RpyGOYGdTKRG",
        "outputId": "7c32abe4-f95a-4d83-fb74-e9469d7fbcb3",
        "colab": {
          "base_uri": "https://localhost:8080/"
        }
      },
      "execution_count": 11,
      "outputs": [
        {
          "output_type": "execute_result",
          "data": {
            "text/plain": [
              "{'author': '김창대1',\n",
              " 'date': '2002',\n",
              " 'doc_id': 'A200928004902',\n",
              " 'ipc': '사회과학',\n",
              " 'issued_by': '한국청소년상담복지개발원',\n",
              " 'reg_no': 'ART000850832',\n",
              " 'summary_entire': [{'orginal_text': '몰입이론은 원래 창조적인 활동을 하는 사람들이 자신의 일에 몰입할 때 경험하는 현상에 대한 연구로부터 시작되었지만, 현재는 청소년발달이나 스포츠 심리학, 심지어 심리치료분야에까지 널리 영향을 미치고 있다. 본 연구의 목적은 Csikszentmihalyi의 몰입이론을 적용한 진로상담의 모형을 제시하는 것이다. 본 연구에서 제시하는 진로상담 모형은 몰입이론에서 주장하듯이 개인이 일에서 추구하고자 하는 즐거움과 유능함을 동시에 얻는 것이 가능하다는 전제에서 출발한다. 따라서 기본적으로 내담자가 흥미와 능력이 균형을 이룬 상태인 몰입을 특정한 영역에서 경험하고 그러한 일에서의 경험이 자신의 진로발달 및 진로결정과도 연결될 수 있도록 돕는 것이 진로상담자의 역할이라고 본다. 본 연구의 전반부에서는 몰입이론에 근거한 진로상담이 기존의 진로상담과 구별되는 점을 다음과 같이 기술하였다. 첫째, 본 진로상담 모형에서는 일이 적응의 대상이 아니라 우리 삶에 즐거움을 주는 원천으로 보고 있다. 둘째, 진로상담의 목표는 적응을 넘어 재능의 발달로 확장된다. 셋째, 진로문제는 진로의식의 미성숙과 같은 ‘의식’의 문제가 아니라 ‘일상생활에서 몰입경험의 부재’나 ‘삶의 의미로 통합되지 못한 몰입경험’으로 본다. 따라서 ‘일상생활에서 실제적인 몰입경험’의 중요성을 강조한다. 끝으로 진로상담이 진로선택을 돕는 것을 넘어서 아직 선택의 기점에 놓이지 않은 내담자들에게도 몰입을 경험하게 하고 그것이 생의 의미와 통합될 수 있도록 돕는 것이 진로상담의 주요 기능으로 보고 있다. 본 연구의 후반부에는 몰입이론을 진로상담에 적용했을 때 진로문제의 유형을 4개로 구분하여 제시했으며, 그 후 이 모형을 사용할 때의 실제 사례를 소개하였다.',\n",
              "   'summary_text': 'Csikszentmihalyi의 몰입이론을 적용한 진로상담의 모형을 제시하는 것이다. 전반부에서는 몰입이론에 근거한 진로상담이 기존의 진로상담과 구별되는 점을 다음과 같이 기술하였고 후반부에는 몰입이론을 진로상담에 적용했을 때 진로문제의 유형을 4개로 구분하여 제시했으며 그 후 이 모형을 사용할 때의 실제 사례를 소개하였다.\\n'}],\n",
              " 'summary_section': [{'orginal_text': '이상에서 필자는 몰입이론을 진로상담에 적용하여 새로운 진로상담 모형을 모색해보았다. 몰입의 이론적 모형에 근거한 진로상담은 개인이 일에서 추구하고자 하는 즐거움과 유능함을 동시에 얻는 것이 가능하다는 전제에서 출발한다. 몰입의 이론적 모형에 근거한 진로상담은 기존의 진로상담이론들과 다음과 같은 점에서 차이점을 가지고 있다. 첫째, 몰입이론은 일에 대한 새로운 시각을 제시해준다. 일에 대해 몰입 개념의 시각에서 접근할 경우 일이나 직업의 세계는 적응해야하는 대상이 아니라 우리들의 삶에 즐거움을 주는 원천으로 볼 수 있다. 둘째, 몰입이론의 관점에서 볼 때, 진로상담의 목표는 적응을 넘어 재능의 발달로 확장된다. 이는 최근 상담 및 심리학계의 새로운 조류인 ‘긍정적 신리학’의 정신과도 일치한다. 셋째, 전통적인 진로상담이론에서는 흥미와 적성, 즐거움과 유능함이 배타적인 개념이라고 가정하고 흥미와 적성 사이의 어딘가에서 내담자가 합리적이고도 현실적으로 진로를 선택하도록 하는 것이 진로상담자의 역할이라고 보는 반면, 몰입의 이론적 모형에 근거한 진로상담에서는 흥미와 능력은 동시에 얻을 수 있으며, 내담자가 흥미와 능력이 동시에 발현하기 위한 실마리인 몰입현상을 발견하고 느끼도록 돕는 것이 진로상담자의 역할이라고 본다. ',\n",
              "   'summary_text': '이상에서 필자는 몰입이론을 진로상담에 적용하여 새로운 진로상담 모형을 모색해보았고 몰입의 이론적 모형에 근거한 진로상담은 개인이 일에서 추구하고자 하는 즐거움과 유능함을 동시에 얻는 것이 가능하다는 전제에서 출발한다. 또한 몰입의 이론적 모형에 근거한 진로상담은 기존의 진로상담이론들과 다음과 같은 점에서 차이점을 가지고 있다.'}],\n",
              " 'title': '몰입(Flow) 이론을 적용한 진로상담모형'}"
            ]
          },
          "metadata": {},
          "execution_count": 11
        }
      ]
    },
    {
      "cell_type": "code",
      "source": [
        "data['data'][0].keys()"
      ],
      "metadata": {
        "id": "6tDRcf4_Tuxo",
        "outputId": "4f1c219c-64db-4894-df25-bc4435f2910a",
        "colab": {
          "base_uri": "https://localhost:8080/"
        }
      },
      "execution_count": 12,
      "outputs": [
        {
          "output_type": "execute_result",
          "data": {
            "text/plain": [
              "dict_keys(['doc_id', 'title', 'date', 'reg_no', 'ipc', 'issued_by', 'author', 'summary_entire', 'summary_section'])"
            ]
          },
          "metadata": {},
          "execution_count": 12
        }
      ]
    },
    {
      "cell_type": "markdown",
      "source": [
        "사실 필자의 작업을 수행하는데는 data키 안의 'summary_entire' 부분만 필요하다.\n",
        "\n",
        "하지만 또 다른 경우 필요할 수 있기 때문에 DataFrame으로 형성 후 전처리를 수행하고, csv파일로 변환해보도록 하겠다."
      ],
      "metadata": {
        "id": "xQWAAQhxpbnD"
      }
    },
    {
      "cell_type": "code",
      "source": [
        "data['data'][0]['summary_entire']"
      ],
      "metadata": {
        "id": "BJLLGBeKUQX2",
        "outputId": "ef0e2551-db16-4461-b44d-815870428d5d",
        "colab": {
          "base_uri": "https://localhost:8080/"
        }
      },
      "execution_count": 13,
      "outputs": [
        {
          "output_type": "execute_result",
          "data": {
            "text/plain": [
              "[{'orginal_text': '몰입이론은 원래 창조적인 활동을 하는 사람들이 자신의 일에 몰입할 때 경험하는 현상에 대한 연구로부터 시작되었지만, 현재는 청소년발달이나 스포츠 심리학, 심지어 심리치료분야에까지 널리 영향을 미치고 있다. 본 연구의 목적은 Csikszentmihalyi의 몰입이론을 적용한 진로상담의 모형을 제시하는 것이다. 본 연구에서 제시하는 진로상담 모형은 몰입이론에서 주장하듯이 개인이 일에서 추구하고자 하는 즐거움과 유능함을 동시에 얻는 것이 가능하다는 전제에서 출발한다. 따라서 기본적으로 내담자가 흥미와 능력이 균형을 이룬 상태인 몰입을 특정한 영역에서 경험하고 그러한 일에서의 경험이 자신의 진로발달 및 진로결정과도 연결될 수 있도록 돕는 것이 진로상담자의 역할이라고 본다. 본 연구의 전반부에서는 몰입이론에 근거한 진로상담이 기존의 진로상담과 구별되는 점을 다음과 같이 기술하였다. 첫째, 본 진로상담 모형에서는 일이 적응의 대상이 아니라 우리 삶에 즐거움을 주는 원천으로 보고 있다. 둘째, 진로상담의 목표는 적응을 넘어 재능의 발달로 확장된다. 셋째, 진로문제는 진로의식의 미성숙과 같은 ‘의식’의 문제가 아니라 ‘일상생활에서 몰입경험의 부재’나 ‘삶의 의미로 통합되지 못한 몰입경험’으로 본다. 따라서 ‘일상생활에서 실제적인 몰입경험’의 중요성을 강조한다. 끝으로 진로상담이 진로선택을 돕는 것을 넘어서 아직 선택의 기점에 놓이지 않은 내담자들에게도 몰입을 경험하게 하고 그것이 생의 의미와 통합될 수 있도록 돕는 것이 진로상담의 주요 기능으로 보고 있다. 본 연구의 후반부에는 몰입이론을 진로상담에 적용했을 때 진로문제의 유형을 4개로 구분하여 제시했으며, 그 후 이 모형을 사용할 때의 실제 사례를 소개하였다.',\n",
              "  'summary_text': 'Csikszentmihalyi의 몰입이론을 적용한 진로상담의 모형을 제시하는 것이다. 전반부에서는 몰입이론에 근거한 진로상담이 기존의 진로상담과 구별되는 점을 다음과 같이 기술하였고 후반부에는 몰입이론을 진로상담에 적용했을 때 진로문제의 유형을 4개로 구분하여 제시했으며 그 후 이 모형을 사용할 때의 실제 사례를 소개하였다.\\n'}]"
            ]
          },
          "metadata": {},
          "execution_count": 13
        }
      ]
    },
    {
      "cell_type": "markdown",
      "source": [
        "**key가 totalcount가 아닌 부분만 new_data로 추출하여 저장** "
      ],
      "metadata": {
        "id": "blK8SSE5pzvb"
      }
    },
    {
      "cell_type": "code",
      "source": [
        "new_data = {key:value for key,value in data.items() if key !='totalcount'}\n",
        "type(new_data)"
      ],
      "metadata": {
        "id": "9In5ed1edSMc",
        "outputId": "36604635-4b4a-4a79-8778-b96f0155edcf",
        "colab": {
          "base_uri": "https://localhost:8080/"
        }
      },
      "execution_count": 14,
      "outputs": [
        {
          "output_type": "execute_result",
          "data": {
            "text/plain": [
              "dict"
            ]
          },
          "metadata": {},
          "execution_count": 14
        }
      ]
    },
    {
      "cell_type": "markdown",
      "source": [
        "## 데이터프레임"
      ],
      "metadata": {
        "id": "Nrrdq0WWygck"
      }
    },
    {
      "cell_type": "markdown",
      "source": [
        "### 데이터프레임 만들기"
      ],
      "metadata": {
        "id": "M5R-rvMpwq4d"
      }
    },
    {
      "cell_type": "markdown",
      "source": [
        "위와 같이 수행을 해줄 경우 dict 형태로 자라 저장이 되었음을 확인할 수 있지만, 아래와 같이 중첩된 형태로 저장이 되었음을 확인할 수 있다.\n",
        "\n",
        "이 경우 그냥 데이터프레임으로 만들어줄 경우 한 열에 모든 정보가 다 담기게 된다.\n",
        "\n",
        "따라서 내부 데이터들을 뽑아내야 한다.\n",
        "\n",
        "get()를 사용하여 data key에 있는 내용들을 추출할 수 있었다."
      ],
      "metadata": {
        "id": "PwgXq1pVqifH"
      }
    },
    {
      "cell_type": "code",
      "source": [
        "new_data.keys()"
      ],
      "metadata": {
        "id": "QunfpdgEe5tS",
        "outputId": "d86eee8f-bb90-43dc-daf3-ed5c8cdec66c",
        "colab": {
          "base_uri": "https://localhost:8080/"
        }
      },
      "execution_count": 15,
      "outputs": [
        {
          "output_type": "execute_result",
          "data": {
            "text/plain": [
              "dict_keys(['data'])"
            ]
          },
          "metadata": {},
          "execution_count": 15
        }
      ]
    },
    {
      "cell_type": "code",
      "source": [
        "new_data=new_data.get('data')"
      ],
      "metadata": {
        "id": "e9OeCSrBhPGi"
      },
      "execution_count": 16,
      "outputs": []
    },
    {
      "cell_type": "code",
      "source": [
        "arti_1= pd.DataFrame(new_data)\n",
        "arti_1"
      ],
      "metadata": {
        "id": "V_aSdKvHfXoW",
        "outputId": "0c3b6924-6a47-426e-f5ba-7004a52a7284",
        "colab": {
          "base_uri": "https://localhost:8080/",
          "height": 641
        }
      },
      "execution_count": 17,
      "outputs": [
        {
          "output_type": "execute_result",
          "data": {
            "text/html": [
              "\n",
              "  <div id=\"df-0b67caae-1593-4144-bfeb-e66554d12b73\">\n",
              "    <div class=\"colab-df-container\">\n",
              "      <div>\n",
              "<style scoped>\n",
              "    .dataframe tbody tr th:only-of-type {\n",
              "        vertical-align: middle;\n",
              "    }\n",
              "\n",
              "    .dataframe tbody tr th {\n",
              "        vertical-align: top;\n",
              "    }\n",
              "\n",
              "    .dataframe thead th {\n",
              "        text-align: right;\n",
              "    }\n",
              "</style>\n",
              "<table border=\"1\" class=\"dataframe\">\n",
              "  <thead>\n",
              "    <tr style=\"text-align: right;\">\n",
              "      <th></th>\n",
              "      <th>doc_id</th>\n",
              "      <th>title</th>\n",
              "      <th>date</th>\n",
              "      <th>reg_no</th>\n",
              "      <th>ipc</th>\n",
              "      <th>issued_by</th>\n",
              "      <th>author</th>\n",
              "      <th>summary_entire</th>\n",
              "      <th>summary_section</th>\n",
              "      <th>doc_type</th>\n",
              "    </tr>\n",
              "  </thead>\n",
              "  <tbody>\n",
              "    <tr>\n",
              "      <th>0</th>\n",
              "      <td>A200928004902</td>\n",
              "      <td>몰입(Flow) 이론을 적용한 진로상담모형</td>\n",
              "      <td>2002</td>\n",
              "      <td>ART000850832</td>\n",
              "      <td>사회과학</td>\n",
              "      <td>한국청소년상담복지개발원</td>\n",
              "      <td>김창대1</td>\n",
              "      <td>[{'orginal_text': '몰입이론은 원래 창조적인 활동을 하는 사람들이 자...</td>\n",
              "      <td>[{'orginal_text': '이상에서 필자는 몰입이론을 진로상담에 적용하여 새...</td>\n",
              "      <td>NaN</td>\n",
              "    </tr>\n",
              "    <tr>\n",
              "      <th>1</th>\n",
              "      <td>A200928004903</td>\n",
              "      <td>지역사회 청소년 상담기관의 실제와 연계체제 활성화 방안에 관한 현장 연구: 안양지역...</td>\n",
              "      <td>2002</td>\n",
              "      <td>ART000850833</td>\n",
              "      <td>사회과학</td>\n",
              "      <td>한국청소년상담복지개발원</td>\n",
              "      <td>김계현1 , 김수임2 , 김영혜3</td>\n",
              "      <td>[{'orginal_text': '본 연구는 지역사회 청소년 상담기관에서 실제로 상...</td>\n",
              "      <td>[{'orginal_text': '청소년의 정신건강과 복지를 위한 각종 기관의 설립...</td>\n",
              "      <td>NaN</td>\n",
              "    </tr>\n",
              "    <tr>\n",
              "      <th>2</th>\n",
              "      <td>A200928005043</td>\n",
              "      <td>아동의 자살 생각에 영향을 미치는 가족 위험요인</td>\n",
              "      <td>2003</td>\n",
              "      <td>ART000851706</td>\n",
              "      <td>사회과학</td>\n",
              "      <td>한국청소년상담복지개발원</td>\n",
              "      <td>이정윤1 , 허재홍2</td>\n",
              "      <td>[{'orginal_text': '본 연구에서는 아동의 자살생각에 영향을 미치는 가...</td>\n",
              "      <td>[{'orginal_text': '이상과 같은 결과들을 토대로 살펴본 본 연구의 의...</td>\n",
              "      <td>NaN</td>\n",
              "    </tr>\n",
              "    <tr>\n",
              "      <th>3</th>\n",
              "      <td>A200928004904</td>\n",
              "      <td>자기애적 성격성향과 청소년 비행성향간의 관계</td>\n",
              "      <td>2002</td>\n",
              "      <td>ART000851793</td>\n",
              "      <td>사회과학</td>\n",
              "      <td>한국청소년상담복지개발원</td>\n",
              "      <td>차타순1</td>\n",
              "      <td>[{'orginal_text': '현대사회는 자기애적 현상이 문화적 흐름으로 강하게...</td>\n",
              "      <td>[{'orginal_text': '본 연구는 자기애적 성격성향과 비행성향에 대하여 ...</td>\n",
              "      <td>NaN</td>\n",
              "    </tr>\n",
              "    <tr>\n",
              "      <th>4</th>\n",
              "      <td>A200928004905</td>\n",
              "      <td>청소년의 음란물 접촉과 잘못된 강간통념 수용간의 매개변인과 조정변인의 역할</td>\n",
              "      <td>2002</td>\n",
              "      <td>ART000851794</td>\n",
              "      <td>사회과학</td>\n",
              "      <td>한국청소년상담복지개발원</td>\n",
              "      <td>고재흥1 , 지영담2</td>\n",
              "      <td>[{'orginal_text': '본 연구에서는 청소년들의 음란물 접촉은 날로 증가...</td>\n",
              "      <td>[{'orginal_text': '대부분의 음란물은 성폭력(sexual violen...</td>\n",
              "      <td>NaN</td>\n",
              "    </tr>\n",
              "    <tr>\n",
              "      <th>...</th>\n",
              "      <td>...</td>\n",
              "      <td>...</td>\n",
              "      <td>...</td>\n",
              "      <td>...</td>\n",
              "      <td>...</td>\n",
              "      <td>...</td>\n",
              "      <td>...</td>\n",
              "      <td>...</td>\n",
              "      <td>...</td>\n",
              "      <td>...</td>\n",
              "    </tr>\n",
              "    <tr>\n",
              "      <th>10016</th>\n",
              "      <td>A200928014851</td>\n",
              "      <td>IT 과학영재를 위한 다양한 API를 활용하는 프로그램 개발: 다자간 협업 가상공간...</td>\n",
              "      <td>2020</td>\n",
              "      <td>ART002624519</td>\n",
              "      <td>사회과학</td>\n",
              "      <td>한국과학영재교육학회</td>\n",
              "      <td>이창현1 , 신수민2 , 정성욱3</td>\n",
              "      <td>[{'orginal_text': '최근 IT 과학영재교육에서 효과적인 프로그래밍 교...</td>\n",
              "      <td>[{'orginal_text': '최근 과학영재교육은, 과학기술의 발달과 과학 영재...</td>\n",
              "      <td>NaN</td>\n",
              "    </tr>\n",
              "    <tr>\n",
              "      <th>10017</th>\n",
              "      <td>A200928014852</td>\n",
              "      <td>과학영재학생의 논문에 나타난 서론 서술의 특징</td>\n",
              "      <td>2020</td>\n",
              "      <td>ART002624520</td>\n",
              "      <td>사회과학</td>\n",
              "      <td>한국과학영재교육학회</td>\n",
              "      <td>조광희1</td>\n",
              "      <td>[{'orginal_text': '이 연구에서는 과학영재학생이 작성한 연구 논문의 ...</td>\n",
              "      <td>[{'orginal_text': '논문을 작성하고 투고하기 위해서는, 해당 전문가 ...</td>\n",
              "      <td>NaN</td>\n",
              "    </tr>\n",
              "    <tr>\n",
              "      <th>10018</th>\n",
              "      <td>A200928014853</td>\n",
              "      <td>식물의 수분 스트레스 조기 탐지</td>\n",
              "      <td>2020</td>\n",
              "      <td>ART002624522</td>\n",
              "      <td>사회과학</td>\n",
              "      <td>한국과학영재교육학회</td>\n",
              "      <td>김미리1 , 김태윤2 , 박주아3 , 서예진4 , 정은서5 , 허윤서6 , 조운행7</td>\n",
              "      <td>[{'orginal_text': '외형적인 증상이 나타나기 전에 수분 스트레스의 조...</td>\n",
              "      <td>[{'orginal_text': '물은 모든 생명체에게 필요하고 그 역할 또한 다양...</td>\n",
              "      <td>NaN</td>\n",
              "    </tr>\n",
              "    <tr>\n",
              "      <th>10019</th>\n",
              "      <td>A200928014854</td>\n",
              "      <td>3인 일반형 게임에서 유효 전략의 가능성에 관한 연구</td>\n",
              "      <td>2020</td>\n",
              "      <td>ART002624523</td>\n",
              "      <td>사회과학</td>\n",
              "      <td>한국과학영재교육학회</td>\n",
              "      <td>심민규1 , 이찬혁2 , 김민재3 , 송상헌4</td>\n",
              "      <td>[{'orginal_text': '죄수의 딜레마에는 여러 가지 변형이 있다. 로버트...</td>\n",
              "      <td>[{'orginal_text': '게임 이론은 개인 간의 상호작용을 논리적으로 설명...</td>\n",
              "      <td>NaN</td>\n",
              "    </tr>\n",
              "    <tr>\n",
              "      <th>10020</th>\n",
              "      <td>A200928014855</td>\n",
              "      <td>감염의 위험도를 고려한 COVID-19 확산 예측수학 모델 개선에 관한 연구</td>\n",
              "      <td>2020</td>\n",
              "      <td>ART002624524</td>\n",
              "      <td>사회과학</td>\n",
              "      <td>한국과학영재교육학회</td>\n",
              "      <td>차재혁1 , 박건2 , 송상헌3</td>\n",
              "      <td>[{'orginal_text': '감염병 확산을 예측하기 위한 다양한 수학적 모델이...</td>\n",
              "      <td>[{'orginal_text': 'COVID-19 이전부터 홍역, 천연두, 결핵, ...</td>\n",
              "      <td>NaN</td>\n",
              "    </tr>\n",
              "  </tbody>\n",
              "</table>\n",
              "<p>10021 rows × 10 columns</p>\n",
              "</div>\n",
              "      <button class=\"colab-df-convert\" onclick=\"convertToInteractive('df-0b67caae-1593-4144-bfeb-e66554d12b73')\"\n",
              "              title=\"Convert this dataframe to an interactive table.\"\n",
              "              style=\"display:none;\">\n",
              "        \n",
              "  <svg xmlns=\"http://www.w3.org/2000/svg\" height=\"24px\"viewBox=\"0 0 24 24\"\n",
              "       width=\"24px\">\n",
              "    <path d=\"M0 0h24v24H0V0z\" fill=\"none\"/>\n",
              "    <path d=\"M18.56 5.44l.94 2.06.94-2.06 2.06-.94-2.06-.94-.94-2.06-.94 2.06-2.06.94zm-11 1L8.5 8.5l.94-2.06 2.06-.94-2.06-.94L8.5 2.5l-.94 2.06-2.06.94zm10 10l.94 2.06.94-2.06 2.06-.94-2.06-.94-.94-2.06-.94 2.06-2.06.94z\"/><path d=\"M17.41 7.96l-1.37-1.37c-.4-.4-.92-.59-1.43-.59-.52 0-1.04.2-1.43.59L10.3 9.45l-7.72 7.72c-.78.78-.78 2.05 0 2.83L4 21.41c.39.39.9.59 1.41.59.51 0 1.02-.2 1.41-.59l7.78-7.78 2.81-2.81c.8-.78.8-2.07 0-2.86zM5.41 20L4 18.59l7.72-7.72 1.47 1.35L5.41 20z\"/>\n",
              "  </svg>\n",
              "      </button>\n",
              "      \n",
              "  <style>\n",
              "    .colab-df-container {\n",
              "      display:flex;\n",
              "      flex-wrap:wrap;\n",
              "      gap: 12px;\n",
              "    }\n",
              "\n",
              "    .colab-df-convert {\n",
              "      background-color: #E8F0FE;\n",
              "      border: none;\n",
              "      border-radius: 50%;\n",
              "      cursor: pointer;\n",
              "      display: none;\n",
              "      fill: #1967D2;\n",
              "      height: 32px;\n",
              "      padding: 0 0 0 0;\n",
              "      width: 32px;\n",
              "    }\n",
              "\n",
              "    .colab-df-convert:hover {\n",
              "      background-color: #E2EBFA;\n",
              "      box-shadow: 0px 1px 2px rgba(60, 64, 67, 0.3), 0px 1px 3px 1px rgba(60, 64, 67, 0.15);\n",
              "      fill: #174EA6;\n",
              "    }\n",
              "\n",
              "    [theme=dark] .colab-df-convert {\n",
              "      background-color: #3B4455;\n",
              "      fill: #D2E3FC;\n",
              "    }\n",
              "\n",
              "    [theme=dark] .colab-df-convert:hover {\n",
              "      background-color: #434B5C;\n",
              "      box-shadow: 0px 1px 3px 1px rgba(0, 0, 0, 0.15);\n",
              "      filter: drop-shadow(0px 1px 2px rgba(0, 0, 0, 0.3));\n",
              "      fill: #FFFFFF;\n",
              "    }\n",
              "  </style>\n",
              "\n",
              "      <script>\n",
              "        const buttonEl =\n",
              "          document.querySelector('#df-0b67caae-1593-4144-bfeb-e66554d12b73 button.colab-df-convert');\n",
              "        buttonEl.style.display =\n",
              "          google.colab.kernel.accessAllowed ? 'block' : 'none';\n",
              "\n",
              "        async function convertToInteractive(key) {\n",
              "          const element = document.querySelector('#df-0b67caae-1593-4144-bfeb-e66554d12b73');\n",
              "          const dataTable =\n",
              "            await google.colab.kernel.invokeFunction('convertToInteractive',\n",
              "                                                     [key], {});\n",
              "          if (!dataTable) return;\n",
              "\n",
              "          const docLinkHtml = 'Like what you see? Visit the ' +\n",
              "            '<a target=\"_blank\" href=https://colab.research.google.com/notebooks/data_table.ipynb>data table notebook</a>'\n",
              "            + ' to learn more about interactive tables.';\n",
              "          element.innerHTML = '';\n",
              "          dataTable['output_type'] = 'display_data';\n",
              "          await google.colab.output.renderOutput(dataTable, element);\n",
              "          const docLink = document.createElement('div');\n",
              "          docLink.innerHTML = docLinkHtml;\n",
              "          element.appendChild(docLink);\n",
              "        }\n",
              "      </script>\n",
              "    </div>\n",
              "  </div>\n",
              "  "
            ],
            "text/plain": [
              "              doc_id  ... doc_type\n",
              "0      A200928004902  ...      NaN\n",
              "1      A200928004903  ...      NaN\n",
              "2      A200928005043  ...      NaN\n",
              "3      A200928004904  ...      NaN\n",
              "4      A200928004905  ...      NaN\n",
              "...              ...  ...      ...\n",
              "10016  A200928014851  ...      NaN\n",
              "10017  A200928014852  ...      NaN\n",
              "10018  A200928014853  ...      NaN\n",
              "10019  A200928014854  ...      NaN\n",
              "10020  A200928014855  ...      NaN\n",
              "\n",
              "[10021 rows x 10 columns]"
            ]
          },
          "metadata": {},
          "execution_count": 17
        }
      ]
    },
    {
      "cell_type": "markdown",
      "source": [
        "첫 번째 json 파일을 데이터프레임 형식으로 변환하는 것에 성공했다.\n"
      ],
      "metadata": {
        "id": "elqcJ9jqrYRz"
      }
    },
    {
      "cell_type": "markdown",
      "source": [
        "각 json파일에 수록된 데이터의 개수는 다르다."
      ],
      "metadata": {
        "id": "HBIcS9f9vYY9"
      }
    },
    {
      "cell_type": "code",
      "source": [
        "data2['totalcount']"
      ],
      "metadata": {
        "id": "42tHjDo1ftEz",
        "outputId": "00991a5b-a88b-4e31-852b-d4e58df0d88f",
        "colab": {
          "base_uri": "https://localhost:8080/"
        }
      },
      "execution_count": 18,
      "outputs": [
        {
          "output_type": "execute_result",
          "data": {
            "text/plain": [
              "6259"
            ]
          },
          "metadata": {},
          "execution_count": 18
        }
      ]
    },
    {
      "cell_type": "code",
      "source": [
        "data3['totalcount']"
      ],
      "metadata": {
        "id": "Pr87ofwKtZA0",
        "outputId": "77db3f6d-768a-422c-a239-89e16d5e3444",
        "colab": {
          "base_uri": "https://localhost:8080/"
        }
      },
      "execution_count": 19,
      "outputs": [
        {
          "output_type": "execute_result",
          "data": {
            "text/plain": [
              "32000"
            ]
          },
          "metadata": {},
          "execution_count": 19
        }
      ]
    },
    {
      "cell_type": "code",
      "source": [
        "data3['totalcount']"
      ],
      "metadata": {
        "id": "ZW_hIq44uAA8",
        "outputId": "da79beb9-78c8-4d67-bda2-2eaaca067aea",
        "colab": {
          "base_uri": "https://localhost:8080/"
        }
      },
      "execution_count": 20,
      "outputs": [
        {
          "output_type": "execute_result",
          "data": {
            "text/plain": [
              "32000"
            ]
          },
          "metadata": {},
          "execution_count": 20
        }
      ]
    },
    {
      "cell_type": "code",
      "source": [
        "data4['totalcount']"
      ],
      "metadata": {
        "id": "HJ3uU8OTuDmz",
        "outputId": "9d94ae77-c74e-4f70-8a98-63dc438bea82",
        "colab": {
          "base_uri": "https://localhost:8080/"
        }
      },
      "execution_count": 21,
      "outputs": [
        {
          "output_type": "execute_result",
          "data": {
            "text/plain": [
              "32000"
            ]
          },
          "metadata": {},
          "execution_count": 21
        }
      ]
    },
    {
      "cell_type": "code",
      "source": [
        "data5['totalcount']"
      ],
      "metadata": {
        "id": "ZhWM2gScuFFu",
        "outputId": "e5c4790f-0c20-4af8-ca57-aa257f853bf7",
        "colab": {
          "base_uri": "https://localhost:8080/"
        }
      },
      "execution_count": 22,
      "outputs": [
        {
          "output_type": "execute_result",
          "data": {
            "text/plain": [
              "10021"
            ]
          },
          "metadata": {},
          "execution_count": 22
        }
      ]
    },
    {
      "cell_type": "code",
      "source": [
        "data6['totalcount']"
      ],
      "metadata": {
        "id": "hpiwLB53uGiT",
        "outputId": "55335a40-738d-4b15-cb18-5d4c97f2e83c",
        "colab": {
          "base_uri": "https://localhost:8080/"
        }
      },
      "execution_count": 23,
      "outputs": [
        {
          "output_type": "execute_result",
          "data": {
            "text/plain": [
              "32000"
            ]
          },
          "metadata": {},
          "execution_count": 23
        }
      ]
    },
    {
      "cell_type": "markdown",
      "source": [
        "**data키만 저장**"
      ],
      "metadata": {
        "id": "by94Di3hvgeU"
      }
    },
    {
      "cell_type": "code",
      "source": [
        "new2_data = {key:value for key,value in data2.items() if key !='totalcount'}\n",
        "new3_data = {key:value for key,value in data3.items() if key !='totalcount'}\n",
        "new4_data = {key:value for key,value in data4.items() if key !='totalcount'}\n",
        "new5_data = {key:value for key,value in data5.items() if key !='totalcount'}\n",
        "new6_data = {key:value for key,value in data6.items() if key !='totalcount'}"
      ],
      "metadata": {
        "id": "SnT6pFdmuYkz"
      },
      "execution_count": 24,
      "outputs": []
    },
    {
      "cell_type": "markdown",
      "source": [
        "**데이터셋만 뽑아내어 다시 저장**"
      ],
      "metadata": {
        "id": "bmt0dpimvkhO"
      }
    },
    {
      "cell_type": "code",
      "source": [
        "new2_data=new2_data.get('data')\n",
        "new3_data=new3_data.get('data')\n",
        "new4_data=new4_data.get('data')\n",
        "new5_data=new5_data.get('data')\n",
        "new6_data=new6_data.get('data')"
      ],
      "metadata": {
        "id": "vgmvdF4_uvcF"
      },
      "execution_count": 25,
      "outputs": []
    },
    {
      "cell_type": "code",
      "source": [
        "arti_2= pd.DataFrame(new2_data)\n",
        "arti_3= pd.DataFrame(new3_data)\n",
        "arti_4= pd.DataFrame(new4_data)\n",
        "arti_5= pd.DataFrame(new5_data)\n",
        "arti_6= pd.DataFrame(new6_data)"
      ],
      "metadata": {
        "id": "Q2zdDmCmu7XK"
      },
      "execution_count": 26,
      "outputs": []
    },
    {
      "cell_type": "markdown",
      "source": [
        "다음으로 진행할 것은 이 json 파일들을 합쳐줄 것이다.\n",
        "\n",
        "하나의 데이터프레임으로 구성한 후에 전처리를 수행한다."
      ],
      "metadata": {
        "id": "wZcuqzXqvz4L"
      }
    },
    {
      "cell_type": "code",
      "source": [
        "print(arti_1.shape)\n",
        "print(arti_2.shape)\n",
        "print(arti_3.shape)\n",
        "print(arti_4.shape)\n",
        "print(arti_5.shape)\n",
        "print(arti_6.shape)"
      ],
      "metadata": {
        "id": "-Nh8OasEvVdN",
        "outputId": "6ac51959-3607-4ca0-8f4d-b2af5f57559d",
        "colab": {
          "base_uri": "https://localhost:8080/"
        }
      },
      "execution_count": 27,
      "outputs": [
        {
          "output_type": "stream",
          "name": "stdout",
          "text": [
            "(10021, 10)\n",
            "(6259, 10)\n",
            "(32000, 10)\n",
            "(32000, 10)\n",
            "(10021, 10)\n",
            "(32000, 10)\n"
          ]
        }
      ]
    },
    {
      "cell_type": "markdown",
      "source": [
        "### 하나의 데이터프레임으로 결합"
      ],
      "metadata": {
        "id": "WfaWgU1HwvWN"
      }
    },
    {
      "cell_type": "code",
      "source": [
        "df= pd.concat([arti_1,arti_2,arti_3,arti_4,arti_5,arti_6],axis=0) # 위 아래로 이어붙여줄 것이다.\n",
        "df.shape"
      ],
      "metadata": {
        "id": "TWKKaTmRwTIL",
        "outputId": "fc80f2d1-b134-46bc-9972-537953f933f8",
        "colab": {
          "base_uri": "https://localhost:8080/"
        }
      },
      "execution_count": 28,
      "outputs": [
        {
          "output_type": "execute_result",
          "data": {
            "text/plain": [
              "(122301, 10)"
            ]
          },
          "metadata": {},
          "execution_count": 28
        }
      ]
    },
    {
      "cell_type": "code",
      "source": [
        "df"
      ],
      "metadata": {
        "id": "ejkggjjixbLi",
        "outputId": "c319aa63-c83c-4a4d-b29a-5db922c22728",
        "colab": {
          "base_uri": "https://localhost:8080/",
          "height": 641
        }
      },
      "execution_count": 29,
      "outputs": [
        {
          "output_type": "execute_result",
          "data": {
            "text/html": [
              "\n",
              "  <div id=\"df-6d65e8cf-db62-416a-825f-5b3d69a69a6f\">\n",
              "    <div class=\"colab-df-container\">\n",
              "      <div>\n",
              "<style scoped>\n",
              "    .dataframe tbody tr th:only-of-type {\n",
              "        vertical-align: middle;\n",
              "    }\n",
              "\n",
              "    .dataframe tbody tr th {\n",
              "        vertical-align: top;\n",
              "    }\n",
              "\n",
              "    .dataframe thead th {\n",
              "        text-align: right;\n",
              "    }\n",
              "</style>\n",
              "<table border=\"1\" class=\"dataframe\">\n",
              "  <thead>\n",
              "    <tr style=\"text-align: right;\">\n",
              "      <th></th>\n",
              "      <th>doc_id</th>\n",
              "      <th>title</th>\n",
              "      <th>date</th>\n",
              "      <th>reg_no</th>\n",
              "      <th>ipc</th>\n",
              "      <th>issued_by</th>\n",
              "      <th>author</th>\n",
              "      <th>summary_entire</th>\n",
              "      <th>summary_section</th>\n",
              "      <th>doc_type</th>\n",
              "    </tr>\n",
              "  </thead>\n",
              "  <tbody>\n",
              "    <tr>\n",
              "      <th>0</th>\n",
              "      <td>A200928004902</td>\n",
              "      <td>몰입(Flow) 이론을 적용한 진로상담모형</td>\n",
              "      <td>2002</td>\n",
              "      <td>ART000850832</td>\n",
              "      <td>사회과학</td>\n",
              "      <td>한국청소년상담복지개발원</td>\n",
              "      <td>김창대1</td>\n",
              "      <td>[{'orginal_text': '몰입이론은 원래 창조적인 활동을 하는 사람들이 자...</td>\n",
              "      <td>[{'orginal_text': '이상에서 필자는 몰입이론을 진로상담에 적용하여 새...</td>\n",
              "      <td>NaN</td>\n",
              "    </tr>\n",
              "    <tr>\n",
              "      <th>1</th>\n",
              "      <td>A200928004903</td>\n",
              "      <td>지역사회 청소년 상담기관의 실제와 연계체제 활성화 방안에 관한 현장 연구: 안양지역...</td>\n",
              "      <td>2002</td>\n",
              "      <td>ART000850833</td>\n",
              "      <td>사회과학</td>\n",
              "      <td>한국청소년상담복지개발원</td>\n",
              "      <td>김계현1 , 김수임2 , 김영혜3</td>\n",
              "      <td>[{'orginal_text': '본 연구는 지역사회 청소년 상담기관에서 실제로 상...</td>\n",
              "      <td>[{'orginal_text': '청소년의 정신건강과 복지를 위한 각종 기관의 설립...</td>\n",
              "      <td>NaN</td>\n",
              "    </tr>\n",
              "    <tr>\n",
              "      <th>2</th>\n",
              "      <td>A200928005043</td>\n",
              "      <td>아동의 자살 생각에 영향을 미치는 가족 위험요인</td>\n",
              "      <td>2003</td>\n",
              "      <td>ART000851706</td>\n",
              "      <td>사회과학</td>\n",
              "      <td>한국청소년상담복지개발원</td>\n",
              "      <td>이정윤1 , 허재홍2</td>\n",
              "      <td>[{'orginal_text': '본 연구에서는 아동의 자살생각에 영향을 미치는 가...</td>\n",
              "      <td>[{'orginal_text': '이상과 같은 결과들을 토대로 살펴본 본 연구의 의...</td>\n",
              "      <td>NaN</td>\n",
              "    </tr>\n",
              "    <tr>\n",
              "      <th>3</th>\n",
              "      <td>A200928004904</td>\n",
              "      <td>자기애적 성격성향과 청소년 비행성향간의 관계</td>\n",
              "      <td>2002</td>\n",
              "      <td>ART000851793</td>\n",
              "      <td>사회과학</td>\n",
              "      <td>한국청소년상담복지개발원</td>\n",
              "      <td>차타순1</td>\n",
              "      <td>[{'orginal_text': '현대사회는 자기애적 현상이 문화적 흐름으로 강하게...</td>\n",
              "      <td>[{'orginal_text': '본 연구는 자기애적 성격성향과 비행성향에 대하여 ...</td>\n",
              "      <td>NaN</td>\n",
              "    </tr>\n",
              "    <tr>\n",
              "      <th>4</th>\n",
              "      <td>A200928004905</td>\n",
              "      <td>청소년의 음란물 접촉과 잘못된 강간통념 수용간의 매개변인과 조정변인의 역할</td>\n",
              "      <td>2002</td>\n",
              "      <td>ART000851794</td>\n",
              "      <td>사회과학</td>\n",
              "      <td>한국청소년상담복지개발원</td>\n",
              "      <td>고재흥1 , 지영담2</td>\n",
              "      <td>[{'orginal_text': '본 연구에서는 청소년들의 음란물 접촉은 날로 증가...</td>\n",
              "      <td>[{'orginal_text': '대부분의 음란물은 성폭력(sexual violen...</td>\n",
              "      <td>NaN</td>\n",
              "    </tr>\n",
              "    <tr>\n",
              "      <th>...</th>\n",
              "      <td>...</td>\n",
              "      <td>...</td>\n",
              "      <td>...</td>\n",
              "      <td>...</td>\n",
              "      <td>...</td>\n",
              "      <td>...</td>\n",
              "      <td>...</td>\n",
              "      <td>...</td>\n",
              "      <td>...</td>\n",
              "      <td>...</td>\n",
              "    </tr>\n",
              "    <tr>\n",
              "      <th>31995</th>\n",
              "      <td>A220223614301</td>\n",
              "      <td>저소득층 학생의 학교 적응, 수업 태도, 학업 성취에 대한 사회적 자본의 영향 분석</td>\n",
              "      <td>2017</td>\n",
              "      <td>ART9002279065</td>\n",
              "      <td>사회과학</td>\n",
              "      <td>한국교육개발원</td>\n",
              "      <td>류방란 /Bangran Ryu,김성식</td>\n",
              "      <td>[{'orginal_text': '이 연구는 저소득층 학생의 교육적 취약성과 가능성...</td>\n",
              "      <td>[{'orginal_text': '이 연구는 전국적인 데이터를 활용하여 저소득층 학...</td>\n",
              "      <td>논문</td>\n",
              "    </tr>\n",
              "    <tr>\n",
              "      <th>31996</th>\n",
              "      <td>A220223614302</td>\n",
              "      <td>단어의 정서가와 각성가가 우연학습 이후 기억에 미치는 영향</td>\n",
              "      <td>2017</td>\n",
              "      <td>ART9002280350</td>\n",
              "      <td>사회과학</td>\n",
              "      <td>한국인지및생물심리학회</td>\n",
              "      <td>남예은,이윤형</td>\n",
              "      <td>[{'orginal_text': '본 연구의 목적은 단어의 정서적 특성이 어휘판단 ...</td>\n",
              "      <td>[{'orginal_text': '사건에 대한 정서적인 정보는 이와 같은 기억의 처...</td>\n",
              "      <td>논문</td>\n",
              "    </tr>\n",
              "    <tr>\n",
              "      <th>31997</th>\n",
              "      <td>A220223614303</td>\n",
              "      <td>수학수업에 대한 초등교사의 인식 조사</td>\n",
              "      <td>2017</td>\n",
              "      <td>ART9002280577</td>\n",
              "      <td>사회과학</td>\n",
              "      <td>한국수학교육학회</td>\n",
              "      <td>권성룡</td>\n",
              "      <td>[{'orginal_text': '본 연구는 초등수학수업의 개선을 목표로 초등교사의...</td>\n",
              "      <td>[{'orginal_text': '최근에 이뤄진 몇 차례의 수학과 교육과정 개정 노...</td>\n",
              "      <td>논문</td>\n",
              "    </tr>\n",
              "    <tr>\n",
              "      <th>31998</th>\n",
              "      <td>A220223614304</td>\n",
              "      <td>SW영재의 학업탄력성과 자아상태 비교</td>\n",
              "      <td>2017</td>\n",
              "      <td>ART9002280639</td>\n",
              "      <td>복합학</td>\n",
              "      <td>한국창의정보문화학회</td>\n",
              "      <td>이재호 /Lee Jaeho,김동현 /Donghyun Kim</td>\n",
              "      <td>[{'orginal_text': '본 논문은 SW영재의 학업탄력성과 자아상태를 확인...</td>\n",
              "      <td>[{'orginal_text': '2015년 통계청의 아동 청소년 대상 학업 관련 ...</td>\n",
              "      <td>논문</td>\n",
              "    </tr>\n",
              "    <tr>\n",
              "      <th>31999</th>\n",
              "      <td>A220223614305</td>\n",
              "      <td>성장 수준에 따른 부채비율과 기업의 과잉투자의 관계</td>\n",
              "      <td>2017</td>\n",
              "      <td>ART9002280894</td>\n",
              "      <td>사회과학</td>\n",
              "      <td>한국국제회계학회</td>\n",
              "      <td>박원 /Park Won,김예경 /kim ye kyoung</td>\n",
              "      <td>[{'orginal_text': '본 연구에서는 재무적 건전성이 기업의 과잉투자에 ...</td>\n",
              "      <td>[{'orginal_text': '기업은 지속적인 발전과 유지 존속을 위하여 순실현...</td>\n",
              "      <td>논문</td>\n",
              "    </tr>\n",
              "  </tbody>\n",
              "</table>\n",
              "<p>122301 rows × 10 columns</p>\n",
              "</div>\n",
              "      <button class=\"colab-df-convert\" onclick=\"convertToInteractive('df-6d65e8cf-db62-416a-825f-5b3d69a69a6f')\"\n",
              "              title=\"Convert this dataframe to an interactive table.\"\n",
              "              style=\"display:none;\">\n",
              "        \n",
              "  <svg xmlns=\"http://www.w3.org/2000/svg\" height=\"24px\"viewBox=\"0 0 24 24\"\n",
              "       width=\"24px\">\n",
              "    <path d=\"M0 0h24v24H0V0z\" fill=\"none\"/>\n",
              "    <path d=\"M18.56 5.44l.94 2.06.94-2.06 2.06-.94-2.06-.94-.94-2.06-.94 2.06-2.06.94zm-11 1L8.5 8.5l.94-2.06 2.06-.94-2.06-.94L8.5 2.5l-.94 2.06-2.06.94zm10 10l.94 2.06.94-2.06 2.06-.94-2.06-.94-.94-2.06-.94 2.06-2.06.94z\"/><path d=\"M17.41 7.96l-1.37-1.37c-.4-.4-.92-.59-1.43-.59-.52 0-1.04.2-1.43.59L10.3 9.45l-7.72 7.72c-.78.78-.78 2.05 0 2.83L4 21.41c.39.39.9.59 1.41.59.51 0 1.02-.2 1.41-.59l7.78-7.78 2.81-2.81c.8-.78.8-2.07 0-2.86zM5.41 20L4 18.59l7.72-7.72 1.47 1.35L5.41 20z\"/>\n",
              "  </svg>\n",
              "      </button>\n",
              "      \n",
              "  <style>\n",
              "    .colab-df-container {\n",
              "      display:flex;\n",
              "      flex-wrap:wrap;\n",
              "      gap: 12px;\n",
              "    }\n",
              "\n",
              "    .colab-df-convert {\n",
              "      background-color: #E8F0FE;\n",
              "      border: none;\n",
              "      border-radius: 50%;\n",
              "      cursor: pointer;\n",
              "      display: none;\n",
              "      fill: #1967D2;\n",
              "      height: 32px;\n",
              "      padding: 0 0 0 0;\n",
              "      width: 32px;\n",
              "    }\n",
              "\n",
              "    .colab-df-convert:hover {\n",
              "      background-color: #E2EBFA;\n",
              "      box-shadow: 0px 1px 2px rgba(60, 64, 67, 0.3), 0px 1px 3px 1px rgba(60, 64, 67, 0.15);\n",
              "      fill: #174EA6;\n",
              "    }\n",
              "\n",
              "    [theme=dark] .colab-df-convert {\n",
              "      background-color: #3B4455;\n",
              "      fill: #D2E3FC;\n",
              "    }\n",
              "\n",
              "    [theme=dark] .colab-df-convert:hover {\n",
              "      background-color: #434B5C;\n",
              "      box-shadow: 0px 1px 3px 1px rgba(0, 0, 0, 0.15);\n",
              "      filter: drop-shadow(0px 1px 2px rgba(0, 0, 0, 0.3));\n",
              "      fill: #FFFFFF;\n",
              "    }\n",
              "  </style>\n",
              "\n",
              "      <script>\n",
              "        const buttonEl =\n",
              "          document.querySelector('#df-6d65e8cf-db62-416a-825f-5b3d69a69a6f button.colab-df-convert');\n",
              "        buttonEl.style.display =\n",
              "          google.colab.kernel.accessAllowed ? 'block' : 'none';\n",
              "\n",
              "        async function convertToInteractive(key) {\n",
              "          const element = document.querySelector('#df-6d65e8cf-db62-416a-825f-5b3d69a69a6f');\n",
              "          const dataTable =\n",
              "            await google.colab.kernel.invokeFunction('convertToInteractive',\n",
              "                                                     [key], {});\n",
              "          if (!dataTable) return;\n",
              "\n",
              "          const docLinkHtml = 'Like what you see? Visit the ' +\n",
              "            '<a target=\"_blank\" href=https://colab.research.google.com/notebooks/data_table.ipynb>data table notebook</a>'\n",
              "            + ' to learn more about interactive tables.';\n",
              "          element.innerHTML = '';\n",
              "          dataTable['output_type'] = 'display_data';\n",
              "          await google.colab.output.renderOutput(dataTable, element);\n",
              "          const docLink = document.createElement('div');\n",
              "          docLink.innerHTML = docLinkHtml;\n",
              "          element.appendChild(docLink);\n",
              "        }\n",
              "      </script>\n",
              "    </div>\n",
              "  </div>\n",
              "  "
            ],
            "text/plain": [
              "              doc_id  ... doc_type\n",
              "0      A200928004902  ...      NaN\n",
              "1      A200928004903  ...      NaN\n",
              "2      A200928005043  ...      NaN\n",
              "3      A200928004904  ...      NaN\n",
              "4      A200928004905  ...      NaN\n",
              "...              ...  ...      ...\n",
              "31995  A220223614301  ...       논문\n",
              "31996  A220223614302  ...       논문\n",
              "31997  A220223614303  ...       논문\n",
              "31998  A220223614304  ...       논문\n",
              "31999  A220223614305  ...       논문\n",
              "\n",
              "[122301 rows x 10 columns]"
            ]
          },
          "metadata": {},
          "execution_count": 29
        }
      ]
    },
    {
      "cell_type": "markdown",
      "source": [
        "### 결측치 확인"
      ],
      "metadata": {
        "id": "EgW_gpJYyVQA"
      }
    },
    {
      "cell_type": "code",
      "source": [
        "import seaborn as sns\n",
        "import matplotlib as mpl\n",
        "import matplotlib.pyplot as plt\n",
        "import missingno as msno"
      ],
      "metadata": {
        "id": "Yu70hOGwxdvM"
      },
      "execution_count": 30,
      "outputs": []
    },
    {
      "cell_type": "code",
      "source": [
        "%matplotlib inline\n",
        "msno.matrix(df, figsize=(17,8), fontsize=14);"
      ],
      "metadata": {
        "id": "CJYeiZDbx-K-",
        "outputId": "b5f746ba-b75d-47ea-e261-a0b5e12ad5dc",
        "colab": {
          "base_uri": "https://localhost:8080/",
          "height": 581
        }
      },
      "execution_count": 31,
      "outputs": [
        {
          "output_type": "display_data",
          "data": {
            "image/png": "[encoded data removed]",
            "text/plain": [
              "<Figure size 1224x576 with 2 Axes>"
            ]
          },
          "metadata": {
            "needs_background": "light"
          }
        }
      ]
    },
    {
      "cell_type": "code",
      "source": [
        "msno.bar(df, figsize=(17,6), fontsize=14);"
      ],
      "metadata": {
        "id": "MHHtlx2ayEpP",
        "outputId": "8d00e83f-4f3d-415c-f0ea-758f67b8d153",
        "colab": {
          "base_uri": "https://localhost:8080/",
          "height": 515
        }
      },
      "execution_count": 32,
      "outputs": [
        {
          "output_type": "display_data",
          "data": {
            "image/png": "[encoded data removed]",
            "text/plain": [
              "<Figure size 1224x432 with 3 Axes>"
            ]
          },
          "metadata": {
            "needs_background": "light"
          }
        }
      ]
    },
    {
      "cell_type": "markdown",
      "source": [
        "결측치를 확인해본 결과 doc_type에 누락된 데이터가 있음을 확인할 수 있습니다.\n",
        "\n",
        "그러나 본 데이터 상에서는 doc_type이 논문으로 동일하기 때문에 nan값을 '논문'으로 추가해주거나, doc_type을 제거하는 방법을 쓸 수 있습니다."
      ],
      "metadata": {
        "id": "ubRXCLZ-ywd7"
      }
    },
    {
      "cell_type": "markdown",
      "source": [
        "뚜렷하게 보이는 것은 doc_type의 결측치이지만, 다른 결측치를 간과해선 안됩니다.\n",
        "\n",
        "정확한 결측치의 비율을 확인해보겠습니다."
      ],
      "metadata": {
        "id": "FeYhBv4xzdVS"
      }
    },
    {
      "cell_type": "code",
      "source": [
        "for i in df.columns:\n",
        "  null_rate = df[i].isna().sum() / len(df)*100\n",
        "  if null_rate > 0:\n",
        "    print(f\"{i}'s null rate : {null_rate.round(2)}%\")"
      ],
      "metadata": {
        "id": "9J553o14yLxe",
        "outputId": "1f0a25a1-5a85-4dd8-9a2a-a58e9b33aa39",
        "colab": {
          "base_uri": "https://localhost:8080/"
        }
      },
      "execution_count": 33,
      "outputs": [
        {
          "output_type": "stream",
          "name": "stdout",
          "text": [
            "author's null rate : 0.01%\n",
            "doc_type's null rate : 12.97%\n"
          ]
        }
      ]
    },
    {
      "cell_type": "markdown",
      "source": [
        "저자를 누락시킨 부분이 있네요. 우선 doc_type을 먼저 처리하겠습니다."
      ],
      "metadata": {
        "id": "tkiftna1zr8s"
      }
    },
    {
      "cell_type": "code",
      "source": [
        "df['doc_type'].isna().sum()"
      ],
      "metadata": {
        "id": "gIb53YxuzoMD",
        "outputId": "eaeac095-df98-4136-bd33-5c161745c9b4",
        "colab": {
          "base_uri": "https://localhost:8080/"
        }
      },
      "execution_count": 34,
      "outputs": [
        {
          "output_type": "execute_result",
          "data": {
            "text/plain": [
              "15868"
            ]
          },
          "metadata": {},
          "execution_count": 34
        }
      ]
    },
    {
      "cell_type": "code",
      "source": [
        "df['doc_type'].fillna('논문',inplace=True)"
      ],
      "metadata": {
        "id": "baPtZnJI0Pwy"
      },
      "execution_count": 35,
      "outputs": []
    },
    {
      "cell_type": "code",
      "source": [
        "df.doc_type.isna().sum()"
      ],
      "metadata": {
        "id": "gRURMwfJ0ooA",
        "outputId": "b2037400-3169-4d7d-83f4-1fbdca2dc984",
        "colab": {
          "base_uri": "https://localhost:8080/"
        }
      },
      "execution_count": 36,
      "outputs": [
        {
          "output_type": "execute_result",
          "data": {
            "text/plain": [
              "0"
            ]
          },
          "metadata": {},
          "execution_count": 36
        }
      ]
    },
    {
      "cell_type": "code",
      "source": [
        "na_condition = df.loc[df['author'].isna()]\n",
        "na_condition"
      ],
      "metadata": {
        "id": "C8V3BFTC0xZW",
        "outputId": "6b416133-4273-4f40-ed56-0288320913f5",
        "colab": {
          "base_uri": "https://localhost:8080/",
          "height": 434
        }
      },
      "execution_count": 37,
      "outputs": [
        {
          "output_type": "execute_result",
          "data": {
            "text/html": [
              "\n",
              "  <div id=\"df-9a034f8c-0a53-49e9-81f5-67d64bb11627\">\n",
              "    <div class=\"colab-df-container\">\n",
              "      <div>\n",
              "<style scoped>\n",
              "    .dataframe tbody tr th:only-of-type {\n",
              "        vertical-align: middle;\n",
              "    }\n",
              "\n",
              "    .dataframe tbody tr th {\n",
              "        vertical-align: top;\n",
              "    }\n",
              "\n",
              "    .dataframe thead th {\n",
              "        text-align: right;\n",
              "    }\n",
              "</style>\n",
              "<table border=\"1\" class=\"dataframe\">\n",
              "  <thead>\n",
              "    <tr style=\"text-align: right;\">\n",
              "      <th></th>\n",
              "      <th>doc_id</th>\n",
              "      <th>title</th>\n",
              "      <th>date</th>\n",
              "      <th>reg_no</th>\n",
              "      <th>ipc</th>\n",
              "      <th>issued_by</th>\n",
              "      <th>author</th>\n",
              "      <th>summary_entire</th>\n",
              "      <th>summary_section</th>\n",
              "      <th>doc_type</th>\n",
              "    </tr>\n",
              "  </thead>\n",
              "  <tbody>\n",
              "    <tr>\n",
              "      <th>10426</th>\n",
              "      <td>A220223592730</td>\n",
              "      <td>북한 김정은 시대의 고급중학교 1 화학 교과서의 탐구 경향성 분석</td>\n",
              "      <td>2019</td>\n",
              "      <td>ART9002491831</td>\n",
              "      <td>자연과학</td>\n",
              "      <td>대한화학회</td>\n",
              "      <td>NaN</td>\n",
              "      <td>[{'orginal_text': '본 연구는 북한 김정은 시대의 화학 교과서의 탐구...</td>\n",
              "      <td>[{'orginal_text': '최근 1~2년 동안 남한과 북한의 관계가 급진적으...</td>\n",
              "      <td>논문</td>\n",
              "    </tr>\n",
              "    <tr>\n",
              "      <th>10427</th>\n",
              "      <td>A220223592731</td>\n",
              "      <td>초등교사의 과학적 탐구 이해의 수준과 실태 분석</td>\n",
              "      <td>2019</td>\n",
              "      <td>ART9002491832</td>\n",
              "      <td>자연과학</td>\n",
              "      <td>대한화학회</td>\n",
              "      <td>NaN</td>\n",
              "      <td>[{'orginal_text': '본 연구는 초등교사의 과학적 탐구에 관한 이해 수...</td>\n",
              "      <td>[{'orginal_text': '지난 20년간의 과학교육 개혁에서는 학생의 과학적...</td>\n",
              "      <td>논문</td>\n",
              "    </tr>\n",
              "    <tr>\n",
              "      <th>10428</th>\n",
              "      <td>A220223592732</td>\n",
              "      <td>2009 및 2015 개정 교육과정의 화학 교과서에서 모델 관련 내용 분석: 수용액...</td>\n",
              "      <td>2019</td>\n",
              "      <td>ART9002491833</td>\n",
              "      <td>자연과학</td>\n",
              "      <td>대한화학회</td>\n",
              "      <td>NaN</td>\n",
              "      <td>[{'orginal_text': '이 연구에서는 2015 개정 교육과정의 교과서에서...</td>\n",
              "      <td>[{'orginal_text': '2013년도에 발표된 미국의 차세대 과학교육표준에...</td>\n",
              "      <td>논문</td>\n",
              "    </tr>\n",
              "    <tr>\n",
              "      <th>12444</th>\n",
              "      <td>A220223594750</td>\n",
              "      <td>염산과 황산 용액에서 코발트의 부식에 미치는 아미노산의 부식억제효과</td>\n",
              "      <td>2019</td>\n",
              "      <td>ART9002513804</td>\n",
              "      <td>자연과학</td>\n",
              "      <td>대한화학회</td>\n",
              "      <td>NaN</td>\n",
              "      <td>[{'orginal_text': '코발트의 부식에 대한 시스테인(Cys), 메티오닌...</td>\n",
              "      <td>[{'orginal_text': '코발트(Cobalt, Co)는 다른 철족 금속(f...</td>\n",
              "      <td>논문</td>\n",
              "    </tr>\n",
              "    <tr>\n",
              "      <th>12446</th>\n",
              "      <td>A220223594752</td>\n",
              "      <td>LC-MS/MS를 이용한 동물 사료 내 글라이포세이트 및 글루포시네이트 분석</td>\n",
              "      <td>2019</td>\n",
              "      <td>ART9002513806</td>\n",
              "      <td>자연과학</td>\n",
              "      <td>대한화학회</td>\n",
              "      <td>NaN</td>\n",
              "      <td>[{'orginal_text': '식품에서 글라이포세이트와 글루포시네이트의 함량 기...</td>\n",
              "      <td>[{'orginal_text': '글라이포세이트와 글루포시네이트는 살포된 지역의 모...</td>\n",
              "      <td>논문</td>\n",
              "    </tr>\n",
              "    <tr>\n",
              "      <th>12447</th>\n",
              "      <td>A220223594753</td>\n",
              "      <td>교사학습공동체 활동을 한 초임중등과학교사의 과학 탐구 수업에 대한 인식</td>\n",
              "      <td>2019</td>\n",
              "      <td>ART9002513809</td>\n",
              "      <td>자연과학</td>\n",
              "      <td>대한화학회</td>\n",
              "      <td>NaN</td>\n",
              "      <td>[{'orginal_text': '본 연구는 교사학습공동체에서 과학 탐구 수업이라는...</td>\n",
              "      <td>[{'orginal_text': '우리나라는 3차 과학과 교육과정에 과학 탐구의 중...</td>\n",
              "      <td>논문</td>\n",
              "    </tr>\n",
              "    <tr>\n",
              "      <th>12448</th>\n",
              "      <td>A220223594754</td>\n",
              "      <td>산과 염기 화학반응에서 논리 사고 학습발달단계 탐색</td>\n",
              "      <td>2019</td>\n",
              "      <td>ART9002513810</td>\n",
              "      <td>자연과학</td>\n",
              "      <td>대한화학회</td>\n",
              "      <td>NaN</td>\n",
              "      <td>[{'orginal_text': '이 연구에서는 산과 염기의 화학반응에 대한 학습발...</td>\n",
              "      <td>[{'orginal_text': '수많은 학생이 수년에 걸친 교육을 받은 후에도 오...</td>\n",
              "      <td>논문</td>\n",
              "    </tr>\n",
              "  </tbody>\n",
              "</table>\n",
              "</div>\n",
              "      <button class=\"colab-df-convert\" onclick=\"convertToInteractive('df-9a034f8c-0a53-49e9-81f5-67d64bb11627')\"\n",
              "              title=\"Convert this dataframe to an interactive table.\"\n",
              "              style=\"display:none;\">\n",
              "        \n",
              "  <svg xmlns=\"http://www.w3.org/2000/svg\" height=\"24px\"viewBox=\"0 0 24 24\"\n",
              "       width=\"24px\">\n",
              "    <path d=\"M0 0h24v24H0V0z\" fill=\"none\"/>\n",
              "    <path d=\"M18.56 5.44l.94 2.06.94-2.06 2.06-.94-2.06-.94-.94-2.06-.94 2.06-2.06.94zm-11 1L8.5 8.5l.94-2.06 2.06-.94-2.06-.94L8.5 2.5l-.94 2.06-2.06.94zm10 10l.94 2.06.94-2.06 2.06-.94-2.06-.94-.94-2.06-.94 2.06-2.06.94z\"/><path d=\"M17.41 7.96l-1.37-1.37c-.4-.4-.92-.59-1.43-.59-.52 0-1.04.2-1.43.59L10.3 9.45l-7.72 7.72c-.78.78-.78 2.05 0 2.83L4 21.41c.39.39.9.59 1.41.59.51 0 1.02-.2 1.41-.59l7.78-7.78 2.81-2.81c.8-.78.8-2.07 0-2.86zM5.41 20L4 18.59l7.72-7.72 1.47 1.35L5.41 20z\"/>\n",
              "  </svg>\n",
              "      </button>\n",
              "      \n",
              "  <style>\n",
              "    .colab-df-container {\n",
              "      display:flex;\n",
              "      flex-wrap:wrap;\n",
              "      gap: 12px;\n",
              "    }\n",
              "\n",
              "    .colab-df-convert {\n",
              "      background-color: #E8F0FE;\n",
              "      border: none;\n",
              "      border-radius: 50%;\n",
              "      cursor: pointer;\n",
              "      display: none;\n",
              "      fill: #1967D2;\n",
              "      height: 32px;\n",
              "      padding: 0 0 0 0;\n",
              "      width: 32px;\n",
              "    }\n",
              "\n",
              "    .colab-df-convert:hover {\n",
              "      background-color: #E2EBFA;\n",
              "      box-shadow: 0px 1px 2px rgba(60, 64, 67, 0.3), 0px 1px 3px 1px rgba(60, 64, 67, 0.15);\n",
              "      fill: #174EA6;\n",
              "    }\n",
              "\n",
              "    [theme=dark] .colab-df-convert {\n",
              "      background-color: #3B4455;\n",
              "      fill: #D2E3FC;\n",
              "    }\n",
              "\n",
              "    [theme=dark] .colab-df-convert:hover {\n",
              "      background-color: #434B5C;\n",
              "      box-shadow: 0px 1px 3px 1px rgba(0, 0, 0, 0.15);\n",
              "      filter: drop-shadow(0px 1px 2px rgba(0, 0, 0, 0.3));\n",
              "      fill: #FFFFFF;\n",
              "    }\n",
              "  </style>\n",
              "\n",
              "      <script>\n",
              "        const buttonEl =\n",
              "          document.querySelector('#df-9a034f8c-0a53-49e9-81f5-67d64bb11627 button.colab-df-convert');\n",
              "        buttonEl.style.display =\n",
              "          google.colab.kernel.accessAllowed ? 'block' : 'none';\n",
              "\n",
              "        async function convertToInteractive(key) {\n",
              "          const element = document.querySelector('#df-9a034f8c-0a53-49e9-81f5-67d64bb11627');\n",
              "          const dataTable =\n",
              "            await google.colab.kernel.invokeFunction('convertToInteractive',\n",
              "                                                     [key], {});\n",
              "          if (!dataTable) return;\n",
              "\n",
              "          const docLinkHtml = 'Like what you see? Visit the ' +\n",
              "            '<a target=\"_blank\" href=https://colab.research.google.com/notebooks/data_table.ipynb>data table notebook</a>'\n",
              "            + ' to learn more about interactive tables.';\n",
              "          element.innerHTML = '';\n",
              "          dataTable['output_type'] = 'display_data';\n",
              "          await google.colab.output.renderOutput(dataTable, element);\n",
              "          const docLink = document.createElement('div');\n",
              "          docLink.innerHTML = docLinkHtml;\n",
              "          element.appendChild(docLink);\n",
              "        }\n",
              "      </script>\n",
              "    </div>\n",
              "  </div>\n",
              "  "
            ],
            "text/plain": [
              "              doc_id  ... doc_type\n",
              "10426  A220223592730  ...       논문\n",
              "10427  A220223592731  ...       논문\n",
              "10428  A220223592732  ...       논문\n",
              "12444  A220223594750  ...       논문\n",
              "12446  A220223594752  ...       논문\n",
              "12447  A220223594753  ...       논문\n",
              "12448  A220223594754  ...       논문\n",
              "\n",
              "[7 rows x 10 columns]"
            ]
          },
          "metadata": {},
          "execution_count": 37
        }
      ]
    },
    {
      "cell_type": "markdown",
      "source": [
        "대한화학회에서 출판한 것으로 author는 '대한화학회'로 대체하겠습니다."
      ],
      "metadata": {
        "id": "6fjtsoWx2M0_"
      }
    },
    {
      "cell_type": "code",
      "source": [
        "df.fillna('대한화학회',inplace=True)\n",
        "\n",
        "%matplotlib inline\n",
        "msno.matrix(df, figsize=(17,8), fontsize=14);"
      ],
      "metadata": {
        "id": "6z8LHyOl1OY0",
        "outputId": "61188817-7992-47c1-adeb-aa16b64070aa",
        "colab": {
          "base_uri": "https://localhost:8080/",
          "height": 581
        }
      },
      "execution_count": 38,
      "outputs": [
        {
          "output_type": "display_data",
          "data": {
            "image/png": "[encoded data removed]",
            "text/plain": [
              "<Figure size 1224x576 with 2 Axes>"
            ]
          },
          "metadata": {
            "needs_background": "light"
          }
        }
      ]
    },
    {
      "cell_type": "markdown",
      "source": [
        "결측치가 제거된 것을 확인할 수 있습니다."
      ],
      "metadata": {
        "id": "tnxttoV-2lML"
      }
    },
    {
      "cell_type": "markdown",
      "source": [
        "**인덱스를 재배열**"
      ],
      "metadata": {
        "id": "R3EkLDtG344B"
      }
    },
    {
      "cell_type": "code",
      "source": [
        "df.reset_index(drop=True, inplace=True)\n",
        "df"
      ],
      "metadata": {
        "id": "mt4_aER13YDN",
        "outputId": "09b285d6-2b65-4070-c75f-085de2837895",
        "colab": {
          "base_uri": "https://localhost:8080/",
          "height": 641
        }
      },
      "execution_count": 39,
      "outputs": [
        {
          "output_type": "execute_result",
          "data": {
            "text/html": [
              "\n",
              "  <div id=\"df-728b6e8b-6814-411b-970f-ff58c4e5771e\">\n",
              "    <div class=\"colab-df-container\">\n",
              "      <div>\n",
              "<style scoped>\n",
              "    .dataframe tbody tr th:only-of-type {\n",
              "        vertical-align: middle;\n",
              "    }\n",
              "\n",
              "    .dataframe tbody tr th {\n",
              "        vertical-align: top;\n",
              "    }\n",
              "\n",
              "    .dataframe thead th {\n",
              "        text-align: right;\n",
              "    }\n",
              "</style>\n",
              "<table border=\"1\" class=\"dataframe\">\n",
              "  <thead>\n",
              "    <tr style=\"text-align: right;\">\n",
              "      <th></th>\n",
              "      <th>doc_id</th>\n",
              "      <th>title</th>\n",
              "      <th>date</th>\n",
              "      <th>reg_no</th>\n",
              "      <th>ipc</th>\n",
              "      <th>issued_by</th>\n",
              "      <th>author</th>\n",
              "      <th>summary_entire</th>\n",
              "      <th>summary_section</th>\n",
              "      <th>doc_type</th>\n",
              "    </tr>\n",
              "  </thead>\n",
              "  <tbody>\n",
              "    <tr>\n",
              "      <th>0</th>\n",
              "      <td>A200928004902</td>\n",
              "      <td>몰입(Flow) 이론을 적용한 진로상담모형</td>\n",
              "      <td>2002</td>\n",
              "      <td>ART000850832</td>\n",
              "      <td>사회과학</td>\n",
              "      <td>한국청소년상담복지개발원</td>\n",
              "      <td>김창대1</td>\n",
              "      <td>[{'orginal_text': '몰입이론은 원래 창조적인 활동을 하는 사람들이 자...</td>\n",
              "      <td>[{'orginal_text': '이상에서 필자는 몰입이론을 진로상담에 적용하여 새...</td>\n",
              "      <td>논문</td>\n",
              "    </tr>\n",
              "    <tr>\n",
              "      <th>1</th>\n",
              "      <td>A200928004903</td>\n",
              "      <td>지역사회 청소년 상담기관의 실제와 연계체제 활성화 방안에 관한 현장 연구: 안양지역...</td>\n",
              "      <td>2002</td>\n",
              "      <td>ART000850833</td>\n",
              "      <td>사회과학</td>\n",
              "      <td>한국청소년상담복지개발원</td>\n",
              "      <td>김계현1 , 김수임2 , 김영혜3</td>\n",
              "      <td>[{'orginal_text': '본 연구는 지역사회 청소년 상담기관에서 실제로 상...</td>\n",
              "      <td>[{'orginal_text': '청소년의 정신건강과 복지를 위한 각종 기관의 설립...</td>\n",
              "      <td>논문</td>\n",
              "    </tr>\n",
              "    <tr>\n",
              "      <th>2</th>\n",
              "      <td>A200928005043</td>\n",
              "      <td>아동의 자살 생각에 영향을 미치는 가족 위험요인</td>\n",
              "      <td>2003</td>\n",
              "      <td>ART000851706</td>\n",
              "      <td>사회과학</td>\n",
              "      <td>한국청소년상담복지개발원</td>\n",
              "      <td>이정윤1 , 허재홍2</td>\n",
              "      <td>[{'orginal_text': '본 연구에서는 아동의 자살생각에 영향을 미치는 가...</td>\n",
              "      <td>[{'orginal_text': '이상과 같은 결과들을 토대로 살펴본 본 연구의 의...</td>\n",
              "      <td>논문</td>\n",
              "    </tr>\n",
              "    <tr>\n",
              "      <th>3</th>\n",
              "      <td>A200928004904</td>\n",
              "      <td>자기애적 성격성향과 청소년 비행성향간의 관계</td>\n",
              "      <td>2002</td>\n",
              "      <td>ART000851793</td>\n",
              "      <td>사회과학</td>\n",
              "      <td>한국청소년상담복지개발원</td>\n",
              "      <td>차타순1</td>\n",
              "      <td>[{'orginal_text': '현대사회는 자기애적 현상이 문화적 흐름으로 강하게...</td>\n",
              "      <td>[{'orginal_text': '본 연구는 자기애적 성격성향과 비행성향에 대하여 ...</td>\n",
              "      <td>논문</td>\n",
              "    </tr>\n",
              "    <tr>\n",
              "      <th>4</th>\n",
              "      <td>A200928004905</td>\n",
              "      <td>청소년의 음란물 접촉과 잘못된 강간통념 수용간의 매개변인과 조정변인의 역할</td>\n",
              "      <td>2002</td>\n",
              "      <td>ART000851794</td>\n",
              "      <td>사회과학</td>\n",
              "      <td>한국청소년상담복지개발원</td>\n",
              "      <td>고재흥1 , 지영담2</td>\n",
              "      <td>[{'orginal_text': '본 연구에서는 청소년들의 음란물 접촉은 날로 증가...</td>\n",
              "      <td>[{'orginal_text': '대부분의 음란물은 성폭력(sexual violen...</td>\n",
              "      <td>논문</td>\n",
              "    </tr>\n",
              "    <tr>\n",
              "      <th>...</th>\n",
              "      <td>...</td>\n",
              "      <td>...</td>\n",
              "      <td>...</td>\n",
              "      <td>...</td>\n",
              "      <td>...</td>\n",
              "      <td>...</td>\n",
              "      <td>...</td>\n",
              "      <td>...</td>\n",
              "      <td>...</td>\n",
              "      <td>...</td>\n",
              "    </tr>\n",
              "    <tr>\n",
              "      <th>122296</th>\n",
              "      <td>A220223614301</td>\n",
              "      <td>저소득층 학생의 학교 적응, 수업 태도, 학업 성취에 대한 사회적 자본의 영향 분석</td>\n",
              "      <td>2017</td>\n",
              "      <td>ART9002279065</td>\n",
              "      <td>사회과학</td>\n",
              "      <td>한국교육개발원</td>\n",
              "      <td>류방란 /Bangran Ryu,김성식</td>\n",
              "      <td>[{'orginal_text': '이 연구는 저소득층 학생의 교육적 취약성과 가능성...</td>\n",
              "      <td>[{'orginal_text': '이 연구는 전국적인 데이터를 활용하여 저소득층 학...</td>\n",
              "      <td>논문</td>\n",
              "    </tr>\n",
              "    <tr>\n",
              "      <th>122297</th>\n",
              "      <td>A220223614302</td>\n",
              "      <td>단어의 정서가와 각성가가 우연학습 이후 기억에 미치는 영향</td>\n",
              "      <td>2017</td>\n",
              "      <td>ART9002280350</td>\n",
              "      <td>사회과학</td>\n",
              "      <td>한국인지및생물심리학회</td>\n",
              "      <td>남예은,이윤형</td>\n",
              "      <td>[{'orginal_text': '본 연구의 목적은 단어의 정서적 특성이 어휘판단 ...</td>\n",
              "      <td>[{'orginal_text': '사건에 대한 정서적인 정보는 이와 같은 기억의 처...</td>\n",
              "      <td>논문</td>\n",
              "    </tr>\n",
              "    <tr>\n",
              "      <th>122298</th>\n",
              "      <td>A220223614303</td>\n",
              "      <td>수학수업에 대한 초등교사의 인식 조사</td>\n",
              "      <td>2017</td>\n",
              "      <td>ART9002280577</td>\n",
              "      <td>사회과학</td>\n",
              "      <td>한국수학교육학회</td>\n",
              "      <td>권성룡</td>\n",
              "      <td>[{'orginal_text': '본 연구는 초등수학수업의 개선을 목표로 초등교사의...</td>\n",
              "      <td>[{'orginal_text': '최근에 이뤄진 몇 차례의 수학과 교육과정 개정 노...</td>\n",
              "      <td>논문</td>\n",
              "    </tr>\n",
              "    <tr>\n",
              "      <th>122299</th>\n",
              "      <td>A220223614304</td>\n",
              "      <td>SW영재의 학업탄력성과 자아상태 비교</td>\n",
              "      <td>2017</td>\n",
              "      <td>ART9002280639</td>\n",
              "      <td>복합학</td>\n",
              "      <td>한국창의정보문화학회</td>\n",
              "      <td>이재호 /Lee Jaeho,김동현 /Donghyun Kim</td>\n",
              "      <td>[{'orginal_text': '본 논문은 SW영재의 학업탄력성과 자아상태를 확인...</td>\n",
              "      <td>[{'orginal_text': '2015년 통계청의 아동 청소년 대상 학업 관련 ...</td>\n",
              "      <td>논문</td>\n",
              "    </tr>\n",
              "    <tr>\n",
              "      <th>122300</th>\n",
              "      <td>A220223614305</td>\n",
              "      <td>성장 수준에 따른 부채비율과 기업의 과잉투자의 관계</td>\n",
              "      <td>2017</td>\n",
              "      <td>ART9002280894</td>\n",
              "      <td>사회과학</td>\n",
              "      <td>한국국제회계학회</td>\n",
              "      <td>박원 /Park Won,김예경 /kim ye kyoung</td>\n",
              "      <td>[{'orginal_text': '본 연구에서는 재무적 건전성이 기업의 과잉투자에 ...</td>\n",
              "      <td>[{'orginal_text': '기업은 지속적인 발전과 유지 존속을 위하여 순실현...</td>\n",
              "      <td>논문</td>\n",
              "    </tr>\n",
              "  </tbody>\n",
              "</table>\n",
              "<p>122301 rows × 10 columns</p>\n",
              "</div>\n",
              "      <button class=\"colab-df-convert\" onclick=\"convertToInteractive('df-728b6e8b-6814-411b-970f-ff58c4e5771e')\"\n",
              "              title=\"Convert this dataframe to an interactive table.\"\n",
              "              style=\"display:none;\">\n",
              "        \n",
              "  <svg xmlns=\"http://www.w3.org/2000/svg\" height=\"24px\"viewBox=\"0 0 24 24\"\n",
              "       width=\"24px\">\n",
              "    <path d=\"M0 0h24v24H0V0z\" fill=\"none\"/>\n",
              "    <path d=\"M18.56 5.44l.94 2.06.94-2.06 2.06-.94-2.06-.94-.94-2.06-.94 2.06-2.06.94zm-11 1L8.5 8.5l.94-2.06 2.06-.94-2.06-.94L8.5 2.5l-.94 2.06-2.06.94zm10 10l.94 2.06.94-2.06 2.06-.94-2.06-.94-.94-2.06-.94 2.06-2.06.94z\"/><path d=\"M17.41 7.96l-1.37-1.37c-.4-.4-.92-.59-1.43-.59-.52 0-1.04.2-1.43.59L10.3 9.45l-7.72 7.72c-.78.78-.78 2.05 0 2.83L4 21.41c.39.39.9.59 1.41.59.51 0 1.02-.2 1.41-.59l7.78-7.78 2.81-2.81c.8-.78.8-2.07 0-2.86zM5.41 20L4 18.59l7.72-7.72 1.47 1.35L5.41 20z\"/>\n",
              "  </svg>\n",
              "      </button>\n",
              "      \n",
              "  <style>\n",
              "    .colab-df-container {\n",
              "      display:flex;\n",
              "      flex-wrap:wrap;\n",
              "      gap: 12px;\n",
              "    }\n",
              "\n",
              "    .colab-df-convert {\n",
              "      background-color: #E8F0FE;\n",
              "      border: none;\n",
              "      border-radius: 50%;\n",
              "      cursor: pointer;\n",
              "      display: none;\n",
              "      fill: #1967D2;\n",
              "      height: 32px;\n",
              "      padding: 0 0 0 0;\n",
              "      width: 32px;\n",
              "    }\n",
              "\n",
              "    .colab-df-convert:hover {\n",
              "      background-color: #E2EBFA;\n",
              "      box-shadow: 0px 1px 2px rgba(60, 64, 67, 0.3), 0px 1px 3px 1px rgba(60, 64, 67, 0.15);\n",
              "      fill: #174EA6;\n",
              "    }\n",
              "\n",
              "    [theme=dark] .colab-df-convert {\n",
              "      background-color: #3B4455;\n",
              "      fill: #D2E3FC;\n",
              "    }\n",
              "\n",
              "    [theme=dark] .colab-df-convert:hover {\n",
              "      background-color: #434B5C;\n",
              "      box-shadow: 0px 1px 3px 1px rgba(0, 0, 0, 0.15);\n",
              "      filter: drop-shadow(0px 1px 2px rgba(0, 0, 0, 0.3));\n",
              "      fill: #FFFFFF;\n",
              "    }\n",
              "  </style>\n",
              "\n",
              "      <script>\n",
              "        const buttonEl =\n",
              "          document.querySelector('#df-728b6e8b-6814-411b-970f-ff58c4e5771e button.colab-df-convert');\n",
              "        buttonEl.style.display =\n",
              "          google.colab.kernel.accessAllowed ? 'block' : 'none';\n",
              "\n",
              "        async function convertToInteractive(key) {\n",
              "          const element = document.querySelector('#df-728b6e8b-6814-411b-970f-ff58c4e5771e');\n",
              "          const dataTable =\n",
              "            await google.colab.kernel.invokeFunction('convertToInteractive',\n",
              "                                                     [key], {});\n",
              "          if (!dataTable) return;\n",
              "\n",
              "          const docLinkHtml = 'Like what you see? Visit the ' +\n",
              "            '<a target=\"_blank\" href=https://colab.research.google.com/notebooks/data_table.ipynb>data table notebook</a>'\n",
              "            + ' to learn more about interactive tables.';\n",
              "          element.innerHTML = '';\n",
              "          dataTable['output_type'] = 'display_data';\n",
              "          await google.colab.output.renderOutput(dataTable, element);\n",
              "          const docLink = document.createElement('div');\n",
              "          docLink.innerHTML = docLinkHtml;\n",
              "          element.appendChild(docLink);\n",
              "        }\n",
              "      </script>\n",
              "    </div>\n",
              "  </div>\n",
              "  "
            ],
            "text/plain": [
              "               doc_id  ... doc_type\n",
              "0       A200928004902  ...       논문\n",
              "1       A200928004903  ...       논문\n",
              "2       A200928005043  ...       논문\n",
              "3       A200928004904  ...       논문\n",
              "4       A200928004905  ...       논문\n",
              "...               ...  ...      ...\n",
              "122296  A220223614301  ...       논문\n",
              "122297  A220223614302  ...       논문\n",
              "122298  A220223614303  ...       논문\n",
              "122299  A220223614304  ...       논문\n",
              "122300  A220223614305  ...       논문\n",
              "\n",
              "[122301 rows x 10 columns]"
            ]
          },
          "metadata": {},
          "execution_count": 39
        }
      ]
    },
    {
      "cell_type": "markdown",
      "source": [
        "### 전처리"
      ],
      "metadata": {
        "id": "j3ljQlLu2ziX"
      }
    },
    {
      "cell_type": "code",
      "source": [
        "df.head(2)"
      ],
      "metadata": {
        "id": "MKJBJ6692cF5",
        "outputId": "31183bb7-dd71-45f1-831c-aff45b7d4d27",
        "colab": {
          "base_uri": "https://localhost:8080/",
          "height": 191
        }
      },
      "execution_count": 40,
      "outputs": [
        {
          "output_type": "execute_result",
          "data": {
            "text/html": [
              "\n",
              "  <div id=\"df-b69cecce-ed38-45fb-ae94-561b1b6bc5e6\">\n",
              "    <div class=\"colab-df-container\">\n",
              "      <div>\n",
              "<style scoped>\n",
              "    .dataframe tbody tr th:only-of-type {\n",
              "        vertical-align: middle;\n",
              "    }\n",
              "\n",
              "    .dataframe tbody tr th {\n",
              "        vertical-align: top;\n",
              "    }\n",
              "\n",
              "    .dataframe thead th {\n",
              "        text-align: right;\n",
              "    }\n",
              "</style>\n",
              "<table border=\"1\" class=\"dataframe\">\n",
              "  <thead>\n",
              "    <tr style=\"text-align: right;\">\n",
              "      <th></th>\n",
              "      <th>doc_id</th>\n",
              "      <th>title</th>\n",
              "      <th>date</th>\n",
              "      <th>reg_no</th>\n",
              "      <th>ipc</th>\n",
              "      <th>issued_by</th>\n",
              "      <th>author</th>\n",
              "      <th>summary_entire</th>\n",
              "      <th>summary_section</th>\n",
              "      <th>doc_type</th>\n",
              "    </tr>\n",
              "  </thead>\n",
              "  <tbody>\n",
              "    <tr>\n",
              "      <th>0</th>\n",
              "      <td>A200928004902</td>\n",
              "      <td>몰입(Flow) 이론을 적용한 진로상담모형</td>\n",
              "      <td>2002</td>\n",
              "      <td>ART000850832</td>\n",
              "      <td>사회과학</td>\n",
              "      <td>한국청소년상담복지개발원</td>\n",
              "      <td>김창대1</td>\n",
              "      <td>[{'orginal_text': '몰입이론은 원래 창조적인 활동을 하는 사람들이 자...</td>\n",
              "      <td>[{'orginal_text': '이상에서 필자는 몰입이론을 진로상담에 적용하여 새...</td>\n",
              "      <td>논문</td>\n",
              "    </tr>\n",
              "    <tr>\n",
              "      <th>1</th>\n",
              "      <td>A200928004903</td>\n",
              "      <td>지역사회 청소년 상담기관의 실제와 연계체제 활성화 방안에 관한 현장 연구: 안양지역...</td>\n",
              "      <td>2002</td>\n",
              "      <td>ART000850833</td>\n",
              "      <td>사회과학</td>\n",
              "      <td>한국청소년상담복지개발원</td>\n",
              "      <td>김계현1 , 김수임2 , 김영혜3</td>\n",
              "      <td>[{'orginal_text': '본 연구는 지역사회 청소년 상담기관에서 실제로 상...</td>\n",
              "      <td>[{'orginal_text': '청소년의 정신건강과 복지를 위한 각종 기관의 설립...</td>\n",
              "      <td>논문</td>\n",
              "    </tr>\n",
              "  </tbody>\n",
              "</table>\n",
              "</div>\n",
              "      <button class=\"colab-df-convert\" onclick=\"convertToInteractive('df-b69cecce-ed38-45fb-ae94-561b1b6bc5e6')\"\n",
              "              title=\"Convert this dataframe to an interactive table.\"\n",
              "              style=\"display:none;\">\n",
              "        \n",
              "  <svg xmlns=\"http://www.w3.org/2000/svg\" height=\"24px\"viewBox=\"0 0 24 24\"\n",
              "       width=\"24px\">\n",
              "    <path d=\"M0 0h24v24H0V0z\" fill=\"none\"/>\n",
              "    <path d=\"M18.56 5.44l.94 2.06.94-2.06 2.06-.94-2.06-.94-.94-2.06-.94 2.06-2.06.94zm-11 1L8.5 8.5l.94-2.06 2.06-.94-2.06-.94L8.5 2.5l-.94 2.06-2.06.94zm10 10l.94 2.06.94-2.06 2.06-.94-2.06-.94-.94-2.06-.94 2.06-2.06.94z\"/><path d=\"M17.41 7.96l-1.37-1.37c-.4-.4-.92-.59-1.43-.59-.52 0-1.04.2-1.43.59L10.3 9.45l-7.72 7.72c-.78.78-.78 2.05 0 2.83L4 21.41c.39.39.9.59 1.41.59.51 0 1.02-.2 1.41-.59l7.78-7.78 2.81-2.81c.8-.78.8-2.07 0-2.86zM5.41 20L4 18.59l7.72-7.72 1.47 1.35L5.41 20z\"/>\n",
              "  </svg>\n",
              "      </button>\n",
              "      \n",
              "  <style>\n",
              "    .colab-df-container {\n",
              "      display:flex;\n",
              "      flex-wrap:wrap;\n",
              "      gap: 12px;\n",
              "    }\n",
              "\n",
              "    .colab-df-convert {\n",
              "      background-color: #E8F0FE;\n",
              "      border: none;\n",
              "      border-radius: 50%;\n",
              "      cursor: pointer;\n",
              "      display: none;\n",
              "      fill: #1967D2;\n",
              "      height: 32px;\n",
              "      padding: 0 0 0 0;\n",
              "      width: 32px;\n",
              "    }\n",
              "\n",
              "    .colab-df-convert:hover {\n",
              "      background-color: #E2EBFA;\n",
              "      box-shadow: 0px 1px 2px rgba(60, 64, 67, 0.3), 0px 1px 3px 1px rgba(60, 64, 67, 0.15);\n",
              "      fill: #174EA6;\n",
              "    }\n",
              "\n",
              "    [theme=dark] .colab-df-convert {\n",
              "      background-color: #3B4455;\n",
              "      fill: #D2E3FC;\n",
              "    }\n",
              "\n",
              "    [theme=dark] .colab-df-convert:hover {\n",
              "      background-color: #434B5C;\n",
              "      box-shadow: 0px 1px 3px 1px rgba(0, 0, 0, 0.15);\n",
              "      filter: drop-shadow(0px 1px 2px rgba(0, 0, 0, 0.3));\n",
              "      fill: #FFFFFF;\n",
              "    }\n",
              "  </style>\n",
              "\n",
              "      <script>\n",
              "        const buttonEl =\n",
              "          document.querySelector('#df-b69cecce-ed38-45fb-ae94-561b1b6bc5e6 button.colab-df-convert');\n",
              "        buttonEl.style.display =\n",
              "          google.colab.kernel.accessAllowed ? 'block' : 'none';\n",
              "\n",
              "        async function convertToInteractive(key) {\n",
              "          const element = document.querySelector('#df-b69cecce-ed38-45fb-ae94-561b1b6bc5e6');\n",
              "          const dataTable =\n",
              "            await google.colab.kernel.invokeFunction('convertToInteractive',\n",
              "                                                     [key], {});\n",
              "          if (!dataTable) return;\n",
              "\n",
              "          const docLinkHtml = 'Like what you see? Visit the ' +\n",
              "            '<a target=\"_blank\" href=https://colab.research.google.com/notebooks/data_table.ipynb>data table notebook</a>'\n",
              "            + ' to learn more about interactive tables.';\n",
              "          element.innerHTML = '';\n",
              "          dataTable['output_type'] = 'display_data';\n",
              "          await google.colab.output.renderOutput(dataTable, element);\n",
              "          const docLink = document.createElement('div');\n",
              "          docLink.innerHTML = docLinkHtml;\n",
              "          element.appendChild(docLink);\n",
              "        }\n",
              "      </script>\n",
              "    </div>\n",
              "  </div>\n",
              "  "
            ],
            "text/plain": [
              "          doc_id  ... doc_type\n",
              "0  A200928004902  ...       논문\n",
              "1  A200928004903  ...       논문\n",
              "\n",
              "[2 rows x 10 columns]"
            ]
          },
          "metadata": {},
          "execution_count": 40
        }
      ]
    },
    {
      "cell_type": "markdown",
      "source": [
        "필자가 현재 필요한 것은 summary_entire 부분과 summary_selection 부분으로 다른 부분보단 이 두 feature에 집중하겠습니다.\n"
      ],
      "metadata": {
        "id": "9a_AGFmU28sT"
      }
    },
    {
      "cell_type": "code",
      "source": [
        "df.summary_entire[0]"
      ],
      "metadata": {
        "id": "pxBkCq5L24bL",
        "outputId": "a198e348-e248-4ea5-8fc5-9f0f1508140b",
        "colab": {
          "base_uri": "https://localhost:8080/"
        }
      },
      "execution_count": 41,
      "outputs": [
        {
          "output_type": "execute_result",
          "data": {
            "text/plain": [
              "[{'orginal_text': '몰입이론은 원래 창조적인 활동을 하는 사람들이 자신의 일에 몰입할 때 경험하는 현상에 대한 연구로부터 시작되었지만, 현재는 청소년발달이나 스포츠 심리학, 심지어 심리치료분야에까지 널리 영향을 미치고 있다. 본 연구의 목적은 Csikszentmihalyi의 몰입이론을 적용한 진로상담의 모형을 제시하는 것이다. 본 연구에서 제시하는 진로상담 모형은 몰입이론에서 주장하듯이 개인이 일에서 추구하고자 하는 즐거움과 유능함을 동시에 얻는 것이 가능하다는 전제에서 출발한다. 따라서 기본적으로 내담자가 흥미와 능력이 균형을 이룬 상태인 몰입을 특정한 영역에서 경험하고 그러한 일에서의 경험이 자신의 진로발달 및 진로결정과도 연결될 수 있도록 돕는 것이 진로상담자의 역할이라고 본다. 본 연구의 전반부에서는 몰입이론에 근거한 진로상담이 기존의 진로상담과 구별되는 점을 다음과 같이 기술하였다. 첫째, 본 진로상담 모형에서는 일이 적응의 대상이 아니라 우리 삶에 즐거움을 주는 원천으로 보고 있다. 둘째, 진로상담의 목표는 적응을 넘어 재능의 발달로 확장된다. 셋째, 진로문제는 진로의식의 미성숙과 같은 ‘의식’의 문제가 아니라 ‘일상생활에서 몰입경험의 부재’나 ‘삶의 의미로 통합되지 못한 몰입경험’으로 본다. 따라서 ‘일상생활에서 실제적인 몰입경험’의 중요성을 강조한다. 끝으로 진로상담이 진로선택을 돕는 것을 넘어서 아직 선택의 기점에 놓이지 않은 내담자들에게도 몰입을 경험하게 하고 그것이 생의 의미와 통합될 수 있도록 돕는 것이 진로상담의 주요 기능으로 보고 있다. 본 연구의 후반부에는 몰입이론을 진로상담에 적용했을 때 진로문제의 유형을 4개로 구분하여 제시했으며, 그 후 이 모형을 사용할 때의 실제 사례를 소개하였다.',\n",
              "  'summary_text': 'Csikszentmihalyi의 몰입이론을 적용한 진로상담의 모형을 제시하는 것이다. 전반부에서는 몰입이론에 근거한 진로상담이 기존의 진로상담과 구별되는 점을 다음과 같이 기술하였고 후반부에는 몰입이론을 진로상담에 적용했을 때 진로문제의 유형을 4개로 구분하여 제시했으며 그 후 이 모형을 사용할 때의 실제 사례를 소개하였다.\\n'}]"
            ]
          },
          "metadata": {},
          "execution_count": 41
        }
      ]
    },
    {
      "cell_type": "code",
      "source": [
        "df['summary_section'][0]"
      ],
      "metadata": {
        "id": "KLSxgFIk3RlI",
        "outputId": "dbb11e55-1bc4-4b9c-eb8b-d8d3e0e947d5",
        "colab": {
          "base_uri": "https://localhost:8080/"
        }
      },
      "execution_count": 42,
      "outputs": [
        {
          "output_type": "execute_result",
          "data": {
            "text/plain": [
              "[{'orginal_text': '이상에서 필자는 몰입이론을 진로상담에 적용하여 새로운 진로상담 모형을 모색해보았다. 몰입의 이론적 모형에 근거한 진로상담은 개인이 일에서 추구하고자 하는 즐거움과 유능함을 동시에 얻는 것이 가능하다는 전제에서 출발한다. 몰입의 이론적 모형에 근거한 진로상담은 기존의 진로상담이론들과 다음과 같은 점에서 차이점을 가지고 있다. 첫째, 몰입이론은 일에 대한 새로운 시각을 제시해준다. 일에 대해 몰입 개념의 시각에서 접근할 경우 일이나 직업의 세계는 적응해야하는 대상이 아니라 우리들의 삶에 즐거움을 주는 원천으로 볼 수 있다. 둘째, 몰입이론의 관점에서 볼 때, 진로상담의 목표는 적응을 넘어 재능의 발달로 확장된다. 이는 최근 상담 및 심리학계의 새로운 조류인 ‘긍정적 신리학’의 정신과도 일치한다. 셋째, 전통적인 진로상담이론에서는 흥미와 적성, 즐거움과 유능함이 배타적인 개념이라고 가정하고 흥미와 적성 사이의 어딘가에서 내담자가 합리적이고도 현실적으로 진로를 선택하도록 하는 것이 진로상담자의 역할이라고 보는 반면, 몰입의 이론적 모형에 근거한 진로상담에서는 흥미와 능력은 동시에 얻을 수 있으며, 내담자가 흥미와 능력이 동시에 발현하기 위한 실마리인 몰입현상을 발견하고 느끼도록 돕는 것이 진로상담자의 역할이라고 본다. ',\n",
              "  'summary_text': '이상에서 필자는 몰입이론을 진로상담에 적용하여 새로운 진로상담 모형을 모색해보았고 몰입의 이론적 모형에 근거한 진로상담은 개인이 일에서 추구하고자 하는 즐거움과 유능함을 동시에 얻는 것이 가능하다는 전제에서 출발한다. 또한 몰입의 이론적 모형에 근거한 진로상담은 기존의 진로상담이론들과 다음과 같은 점에서 차이점을 가지고 있다.'}]"
            ]
          },
          "metadata": {},
          "execution_count": 42
        }
      ]
    },
    {
      "cell_type": "code",
      "source": [
        "df.summary_entire[0][0]"
      ],
      "metadata": {
        "id": "h07lCWv94SzB",
        "outputId": "a2ae1893-396b-49c2-c0bd-2664550c29af",
        "colab": {
          "base_uri": "https://localhost:8080/"
        }
      },
      "execution_count": 43,
      "outputs": [
        {
          "output_type": "execute_result",
          "data": {
            "text/plain": [
              "{'orginal_text': '몰입이론은 원래 창조적인 활동을 하는 사람들이 자신의 일에 몰입할 때 경험하는 현상에 대한 연구로부터 시작되었지만, 현재는 청소년발달이나 스포츠 심리학, 심지어 심리치료분야에까지 널리 영향을 미치고 있다. 본 연구의 목적은 Csikszentmihalyi의 몰입이론을 적용한 진로상담의 모형을 제시하는 것이다. 본 연구에서 제시하는 진로상담 모형은 몰입이론에서 주장하듯이 개인이 일에서 추구하고자 하는 즐거움과 유능함을 동시에 얻는 것이 가능하다는 전제에서 출발한다. 따라서 기본적으로 내담자가 흥미와 능력이 균형을 이룬 상태인 몰입을 특정한 영역에서 경험하고 그러한 일에서의 경험이 자신의 진로발달 및 진로결정과도 연결될 수 있도록 돕는 것이 진로상담자의 역할이라고 본다. 본 연구의 전반부에서는 몰입이론에 근거한 진로상담이 기존의 진로상담과 구별되는 점을 다음과 같이 기술하였다. 첫째, 본 진로상담 모형에서는 일이 적응의 대상이 아니라 우리 삶에 즐거움을 주는 원천으로 보고 있다. 둘째, 진로상담의 목표는 적응을 넘어 재능의 발달로 확장된다. 셋째, 진로문제는 진로의식의 미성숙과 같은 ‘의식’의 문제가 아니라 ‘일상생활에서 몰입경험의 부재’나 ‘삶의 의미로 통합되지 못한 몰입경험’으로 본다. 따라서 ‘일상생활에서 실제적인 몰입경험’의 중요성을 강조한다. 끝으로 진로상담이 진로선택을 돕는 것을 넘어서 아직 선택의 기점에 놓이지 않은 내담자들에게도 몰입을 경험하게 하고 그것이 생의 의미와 통합될 수 있도록 돕는 것이 진로상담의 주요 기능으로 보고 있다. 본 연구의 후반부에는 몰입이론을 진로상담에 적용했을 때 진로문제의 유형을 4개로 구분하여 제시했으며, 그 후 이 모형을 사용할 때의 실제 사례를 소개하였다.',\n",
              " 'summary_text': 'Csikszentmihalyi의 몰입이론을 적용한 진로상담의 모형을 제시하는 것이다. 전반부에서는 몰입이론에 근거한 진로상담이 기존의 진로상담과 구별되는 점을 다음과 같이 기술하였고 후반부에는 몰입이론을 진로상담에 적용했을 때 진로문제의 유형을 4개로 구분하여 제시했으며 그 후 이 모형을 사용할 때의 실제 사례를 소개하였다.\\n'}"
            ]
          },
          "metadata": {},
          "execution_count": 43
        }
      ]
    },
    {
      "cell_type": "markdown",
      "source": [
        "전처리를 위해 summary_entire 부분을 추출하여 작업을 진행하겠다."
      ],
      "metadata": {
        "id": "lHbXKGD-KGz8"
      }
    },
    {
      "cell_type": "code",
      "source": [
        "entire_sum = df['summary_entire']\n",
        "entire_sum = pd.DataFrame(entire_sum)\n",
        "entire_sum"
      ],
      "metadata": {
        "id": "fFSi7cHk43th",
        "outputId": "28a40d58-f5d0-40d7-857e-e4c7128f5f6d",
        "colab": {
          "base_uri": "https://localhost:8080/",
          "height": 423
        }
      },
      "execution_count": 44,
      "outputs": [
        {
          "output_type": "execute_result",
          "data": {
            "text/html": [
              "\n",
              "  <div id=\"df-b3b0b4a9-75fb-4148-bb81-b456cd3fe9b4\">\n",
              "    <div class=\"colab-df-container\">\n",
              "      <div>\n",
              "<style scoped>\n",
              "    .dataframe tbody tr th:only-of-type {\n",
              "        vertical-align: middle;\n",
              "    }\n",
              "\n",
              "    .dataframe tbody tr th {\n",
              "        vertical-align: top;\n",
              "    }\n",
              "\n",
              "    .dataframe thead th {\n",
              "        text-align: right;\n",
              "    }\n",
              "</style>\n",
              "<table border=\"1\" class=\"dataframe\">\n",
              "  <thead>\n",
              "    <tr style=\"text-align: right;\">\n",
              "      <th></th>\n",
              "      <th>summary_entire</th>\n",
              "    </tr>\n",
              "  </thead>\n",
              "  <tbody>\n",
              "    <tr>\n",
              "      <th>0</th>\n",
              "      <td>[{'orginal_text': '몰입이론은 원래 창조적인 활동을 하는 사람들이 자...</td>\n",
              "    </tr>\n",
              "    <tr>\n",
              "      <th>1</th>\n",
              "      <td>[{'orginal_text': '본 연구는 지역사회 청소년 상담기관에서 실제로 상...</td>\n",
              "    </tr>\n",
              "    <tr>\n",
              "      <th>2</th>\n",
              "      <td>[{'orginal_text': '본 연구에서는 아동의 자살생각에 영향을 미치는 가...</td>\n",
              "    </tr>\n",
              "    <tr>\n",
              "      <th>3</th>\n",
              "      <td>[{'orginal_text': '현대사회는 자기애적 현상이 문화적 흐름으로 강하게...</td>\n",
              "    </tr>\n",
              "    <tr>\n",
              "      <th>4</th>\n",
              "      <td>[{'orginal_text': '본 연구에서는 청소년들의 음란물 접촉은 날로 증가...</td>\n",
              "    </tr>\n",
              "    <tr>\n",
              "      <th>...</th>\n",
              "      <td>...</td>\n",
              "    </tr>\n",
              "    <tr>\n",
              "      <th>122296</th>\n",
              "      <td>[{'orginal_text': '이 연구는 저소득층 학생의 교육적 취약성과 가능성...</td>\n",
              "    </tr>\n",
              "    <tr>\n",
              "      <th>122297</th>\n",
              "      <td>[{'orginal_text': '본 연구의 목적은 단어의 정서적 특성이 어휘판단 ...</td>\n",
              "    </tr>\n",
              "    <tr>\n",
              "      <th>122298</th>\n",
              "      <td>[{'orginal_text': '본 연구는 초등수학수업의 개선을 목표로 초등교사의...</td>\n",
              "    </tr>\n",
              "    <tr>\n",
              "      <th>122299</th>\n",
              "      <td>[{'orginal_text': '본 논문은 SW영재의 학업탄력성과 자아상태를 확인...</td>\n",
              "    </tr>\n",
              "    <tr>\n",
              "      <th>122300</th>\n",
              "      <td>[{'orginal_text': '본 연구에서는 재무적 건전성이 기업의 과잉투자에 ...</td>\n",
              "    </tr>\n",
              "  </tbody>\n",
              "</table>\n",
              "<p>122301 rows × 1 columns</p>\n",
              "</div>\n",
              "      <button class=\"colab-df-convert\" onclick=\"convertToInteractive('df-b3b0b4a9-75fb-4148-bb81-b456cd3fe9b4')\"\n",
              "              title=\"Convert this dataframe to an interactive table.\"\n",
              "              style=\"display:none;\">\n",
              "        \n",
              "  <svg xmlns=\"http://www.w3.org/2000/svg\" height=\"24px\"viewBox=\"0 0 24 24\"\n",
              "       width=\"24px\">\n",
              "    <path d=\"M0 0h24v24H0V0z\" fill=\"none\"/>\n",
              "    <path d=\"M18.56 5.44l.94 2.06.94-2.06 2.06-.94-2.06-.94-.94-2.06-.94 2.06-2.06.94zm-11 1L8.5 8.5l.94-2.06 2.06-.94-2.06-.94L8.5 2.5l-.94 2.06-2.06.94zm10 10l.94 2.06.94-2.06 2.06-.94-2.06-.94-.94-2.06-.94 2.06-2.06.94z\"/><path d=\"M17.41 7.96l-1.37-1.37c-.4-.4-.92-.59-1.43-.59-.52 0-1.04.2-1.43.59L10.3 9.45l-7.72 7.72c-.78.78-.78 2.05 0 2.83L4 21.41c.39.39.9.59 1.41.59.51 0 1.02-.2 1.41-.59l7.78-7.78 2.81-2.81c.8-.78.8-2.07 0-2.86zM5.41 20L4 18.59l7.72-7.72 1.47 1.35L5.41 20z\"/>\n",
              "  </svg>\n",
              "      </button>\n",
              "      \n",
              "  <style>\n",
              "    .colab-df-container {\n",
              "      display:flex;\n",
              "      flex-wrap:wrap;\n",
              "      gap: 12px;\n",
              "    }\n",
              "\n",
              "    .colab-df-convert {\n",
              "      background-color: #E8F0FE;\n",
              "      border: none;\n",
              "      border-radius: 50%;\n",
              "      cursor: pointer;\n",
              "      display: none;\n",
              "      fill: #1967D2;\n",
              "      height: 32px;\n",
              "      padding: 0 0 0 0;\n",
              "      width: 32px;\n",
              "    }\n",
              "\n",
              "    .colab-df-convert:hover {\n",
              "      background-color: #E2EBFA;\n",
              "      box-shadow: 0px 1px 2px rgba(60, 64, 67, 0.3), 0px 1px 3px 1px rgba(60, 64, 67, 0.15);\n",
              "      fill: #174EA6;\n",
              "    }\n",
              "\n",
              "    [theme=dark] .colab-df-convert {\n",
              "      background-color: #3B4455;\n",
              "      fill: #D2E3FC;\n",
              "    }\n",
              "\n",
              "    [theme=dark] .colab-df-convert:hover {\n",
              "      background-color: #434B5C;\n",
              "      box-shadow: 0px 1px 3px 1px rgba(0, 0, 0, 0.15);\n",
              "      filter: drop-shadow(0px 1px 2px rgba(0, 0, 0, 0.3));\n",
              "      fill: #FFFFFF;\n",
              "    }\n",
              "  </style>\n",
              "\n",
              "      <script>\n",
              "        const buttonEl =\n",
              "          document.querySelector('#df-b3b0b4a9-75fb-4148-bb81-b456cd3fe9b4 button.colab-df-convert');\n",
              "        buttonEl.style.display =\n",
              "          google.colab.kernel.accessAllowed ? 'block' : 'none';\n",
              "\n",
              "        async function convertToInteractive(key) {\n",
              "          const element = document.querySelector('#df-b3b0b4a9-75fb-4148-bb81-b456cd3fe9b4');\n",
              "          const dataTable =\n",
              "            await google.colab.kernel.invokeFunction('convertToInteractive',\n",
              "                                                     [key], {});\n",
              "          if (!dataTable) return;\n",
              "\n",
              "          const docLinkHtml = 'Like what you see? Visit the ' +\n",
              "            '<a target=\"_blank\" href=https://colab.research.google.com/notebooks/data_table.ipynb>data table notebook</a>'\n",
              "            + ' to learn more about interactive tables.';\n",
              "          element.innerHTML = '';\n",
              "          dataTable['output_type'] = 'display_data';\n",
              "          await google.colab.output.renderOutput(dataTable, element);\n",
              "          const docLink = document.createElement('div');\n",
              "          docLink.innerHTML = docLinkHtml;\n",
              "          element.appendChild(docLink);\n",
              "        }\n",
              "      </script>\n",
              "    </div>\n",
              "  </div>\n",
              "  "
            ],
            "text/plain": [
              "                                           summary_entire\n",
              "0       [{'orginal_text': '몰입이론은 원래 창조적인 활동을 하는 사람들이 자...\n",
              "1       [{'orginal_text': '본 연구는 지역사회 청소년 상담기관에서 실제로 상...\n",
              "2       [{'orginal_text': '본 연구에서는 아동의 자살생각에 영향을 미치는 가...\n",
              "3       [{'orginal_text': '현대사회는 자기애적 현상이 문화적 흐름으로 강하게...\n",
              "4       [{'orginal_text': '본 연구에서는 청소년들의 음란물 접촉은 날로 증가...\n",
              "...                                                   ...\n",
              "122296  [{'orginal_text': '이 연구는 저소득층 학생의 교육적 취약성과 가능성...\n",
              "122297  [{'orginal_text': '본 연구의 목적은 단어의 정서적 특성이 어휘판단 ...\n",
              "122298  [{'orginal_text': '본 연구는 초등수학수업의 개선을 목표로 초등교사의...\n",
              "122299  [{'orginal_text': '본 논문은 SW영재의 학업탄력성과 자아상태를 확인...\n",
              "122300  [{'orginal_text': '본 연구에서는 재무적 건전성이 기업의 과잉투자에 ...\n",
              "\n",
              "[122301 rows x 1 columns]"
            ]
          },
          "metadata": {},
          "execution_count": 44
        }
      ]
    },
    {
      "cell_type": "code",
      "source": [
        "entire_sum = entire_sum.astype(str)"
      ],
      "metadata": {
        "id": "y7nXuftR9ETH"
      },
      "execution_count": 45,
      "outputs": []
    },
    {
      "cell_type": "code",
      "source": [
        "def text_original(str):\n",
        "  '''\n",
        "  불필요한 요소를 제거하고, original_text와 summary_text를 분리한다.\n",
        "  text_original에서는 앞 부분에 위치한 original document를 반환한다.\n",
        "  '''\n",
        "  str = str.replace(\"[{'orginal_text': '\",'')\n",
        "  str = str.replace(\"\\n\",'')\n",
        "  str = str.replace(\"'}]\",'')\n",
        "  str = str.replace(\"'\",'')\n",
        "  str = str = str.split(\"'summary_text':\")\n",
        "  return str[0]\n",
        "\n",
        "def text_summary(str):\n",
        "  '''\n",
        "  불필요한 요소를 제거하고, original_text와 summary_text를 분리한다.\n",
        "  text_summary에서는 뒷 부분에 위치한 summary document를 반환한다.\n",
        "  '''\n",
        "  str = str.replace(\"[{'orginal_text': \",'')\n",
        "  str = str.replace(\"\\n\",'')\n",
        "  str = str.replace(\"'}]\",'')\n",
        "  str = str.replace(\"'\",'')\n",
        "  str = str.split(\", summary_text: \")\n",
        "  return str[1]"
      ],
      "metadata": {
        "id": "_aNAJCOK5cfR"
      },
      "execution_count": 46,
      "outputs": []
    },
    {
      "cell_type": "code",
      "source": [
        "entire_sum['entire_original']= entire_sum['summary_entire'].apply(text_original)\n",
        "entire_sum['entire_summary'] = entire_sum['summary_entire'].apply(text_summary)"
      ],
      "metadata": {
        "id": "OjFaz7HT8LK0"
      },
      "execution_count": 47,
      "outputs": []
    },
    {
      "cell_type": "code",
      "source": [
        "entire_sum"
      ],
      "metadata": {
        "id": "NF8XIoZ4AhCe",
        "outputId": "ad6af2e4-54f8-49fb-a52a-5500b080d5b5",
        "colab": {
          "base_uri": "https://localhost:8080/",
          "height": 423
        }
      },
      "execution_count": 48,
      "outputs": [
        {
          "output_type": "execute_result",
          "data": {
            "text/html": [
              "\n",
              "  <div id=\"df-77f9c8d6-13e4-41f9-8d55-5a6739395952\">\n",
              "    <div class=\"colab-df-container\">\n",
              "      <div>\n",
              "<style scoped>\n",
              "    .dataframe tbody tr th:only-of-type {\n",
              "        vertical-align: middle;\n",
              "    }\n",
              "\n",
              "    .dataframe tbody tr th {\n",
              "        vertical-align: top;\n",
              "    }\n",
              "\n",
              "    .dataframe thead th {\n",
              "        text-align: right;\n",
              "    }\n",
              "</style>\n",
              "<table border=\"1\" class=\"dataframe\">\n",
              "  <thead>\n",
              "    <tr style=\"text-align: right;\">\n",
              "      <th></th>\n",
              "      <th>summary_entire</th>\n",
              "      <th>entire_original</th>\n",
              "      <th>entire_summary</th>\n",
              "    </tr>\n",
              "  </thead>\n",
              "  <tbody>\n",
              "    <tr>\n",
              "      <th>0</th>\n",
              "      <td>[{'orginal_text': '몰입이론은 원래 창조적인 활동을 하는 사람들이 자...</td>\n",
              "      <td>몰입이론은 원래 창조적인 활동을 하는 사람들이 자신의 일에 몰입할 때 경험하는 현상...</td>\n",
              "      <td>Csikszentmihalyi의 몰입이론을 적용한 진로상담의 모형을 제시하는 것이다...</td>\n",
              "    </tr>\n",
              "    <tr>\n",
              "      <th>1</th>\n",
              "      <td>[{'orginal_text': '본 연구는 지역사회 청소년 상담기관에서 실제로 상...</td>\n",
              "      <td>본 연구는 지역사회 청소년 상담기관에서 실제로 상담업무를 담당하는 실무자들과의 면접...</td>\n",
              "      <td>지역사회 청소년 상담기관에서 실제로 상담업무를 담당하는 실무자들과의 면접조사를 통해...</td>\n",
              "    </tr>\n",
              "    <tr>\n",
              "      <th>2</th>\n",
              "      <td>[{'orginal_text': '본 연구에서는 아동의 자살생각에 영향을 미치는 가...</td>\n",
              "      <td>본 연구에서는 아동의 자살생각에 영향을 미치는 가족 위험요인을 알아보고자 하였다. ...</td>\n",
              "      <td>아동의 자살생각에 영향을 미치는 가족 위험요인을 알아보고자 하였다.\\n집단간 가족특...</td>\n",
              "    </tr>\n",
              "    <tr>\n",
              "      <th>3</th>\n",
              "      <td>[{'orginal_text': '현대사회는 자기애적 현상이 문화적 흐름으로 강하게...</td>\n",
              "      <td>현대사회는 자기애적 현상이 문화적 흐름으로 강하게 자리잡고 있고, 우리나라에도 이 ...</td>\n",
              "      <td>자기애적 성격성향과 청소년 비행성향 간의 관계를 알아보고, 청소년 비행성향에 영향을...</td>\n",
              "    </tr>\n",
              "    <tr>\n",
              "      <th>4</th>\n",
              "      <td>[{'orginal_text': '본 연구에서는 청소년들의 음란물 접촉은 날로 증가...</td>\n",
              "      <td>본 연구에서는 청소년들의 음란물 접촉은 날로 증가하지만, 이를 효과적으로 차단하기 ...</td>\n",
              "      <td>청소년들의 음란물 접촉은 날로 증가하지만 이를 효과적으로 차단하기 힘든 현 상황에서...</td>\n",
              "    </tr>\n",
              "    <tr>\n",
              "      <th>...</th>\n",
              "      <td>...</td>\n",
              "      <td>...</td>\n",
              "      <td>...</td>\n",
              "    </tr>\n",
              "    <tr>\n",
              "      <th>122296</th>\n",
              "      <td>[{'orginal_text': '이 연구는 저소득층 학생의 교육적 취약성과 가능성...</td>\n",
              "      <td>이 연구는 저소득층 학생의 교육적 취약성과 가능성 탐색의 맥락에서 저소득층 학생과 ...</td>\n",
              "      <td>본 논문은 저소득층 학생의 교육적 취약성과 가능성 탐색의 맥락에서 저소득층 학생과 ...</td>\n",
              "    </tr>\n",
              "    <tr>\n",
              "      <th>122297</th>\n",
              "      <td>[{'orginal_text': '본 연구의 목적은 단어의 정서적 특성이 어휘판단 ...</td>\n",
              "      <td>본 연구의 목적은 단어의 정서적 특성이 어휘판단 이후 그 단어의 기억에 미치는 영향...</td>\n",
              "      <td>단어의 정서적 특성이 어휘판단 후 그 단어의 기억에 미치는 영향을 살펴보았다. 구체...</td>\n",
              "    </tr>\n",
              "    <tr>\n",
              "      <th>122298</th>\n",
              "      <td>[{'orginal_text': '본 연구는 초등수학수업의 개선을 목표로 초등교사의...</td>\n",
              "      <td>본 연구는 초등수학수업의 개선을 목표로 초등교사의 수학수업에 대한 인식을 조사함으로...</td>\n",
              "      <td>초등수학수업의 개선을 목표로 초등교사의 수학수업에 대한 인식을 조사함으로써 수학수업...</td>\n",
              "    </tr>\n",
              "    <tr>\n",
              "      <th>122299</th>\n",
              "      <td>[{'orginal_text': '본 논문은 SW영재의 학업탄력성과 자아상태를 확인...</td>\n",
              "      <td>본 논문은 SW영재의 학업탄력성과 자아상태를 확인하고 두 요인 간의 관계를 분석하기...</td>\n",
              "      <td>본 연구는 SW영재의 학업탄력성과 자아상태를 확인하고 두 요인 간의 관계를 분석하고...</td>\n",
              "    </tr>\n",
              "    <tr>\n",
              "      <th>122300</th>\n",
              "      <td>[{'orginal_text': '본 연구에서는 재무적 건전성이 기업의 과잉투자에 ...</td>\n",
              "      <td>본 연구에서는 재무적 건전성이 기업의 과잉투자에 미치는 영향을 검증한 뒤 매출액 증...</td>\n",
              "      <td>본 논문은 재무적 건전성이 기업의 과잉투자에 미치는 영향을 검증한 뒤 매출액 증가율...</td>\n",
              "    </tr>\n",
              "  </tbody>\n",
              "</table>\n",
              "<p>122301 rows × 3 columns</p>\n",
              "</div>\n",
              "      <button class=\"colab-df-convert\" onclick=\"convertToInteractive('df-77f9c8d6-13e4-41f9-8d55-5a6739395952')\"\n",
              "              title=\"Convert this dataframe to an interactive table.\"\n",
              "              style=\"display:none;\">\n",
              "        \n",
              "  <svg xmlns=\"http://www.w3.org/2000/svg\" height=\"24px\"viewBox=\"0 0 24 24\"\n",
              "       width=\"24px\">\n",
              "    <path d=\"M0 0h24v24H0V0z\" fill=\"none\"/>\n",
              "    <path d=\"M18.56 5.44l.94 2.06.94-2.06 2.06-.94-2.06-.94-.94-2.06-.94 2.06-2.06.94zm-11 1L8.5 8.5l.94-2.06 2.06-.94-2.06-.94L8.5 2.5l-.94 2.06-2.06.94zm10 10l.94 2.06.94-2.06 2.06-.94-2.06-.94-.94-2.06-.94 2.06-2.06.94z\"/><path d=\"M17.41 7.96l-1.37-1.37c-.4-.4-.92-.59-1.43-.59-.52 0-1.04.2-1.43.59L10.3 9.45l-7.72 7.72c-.78.78-.78 2.05 0 2.83L4 21.41c.39.39.9.59 1.41.59.51 0 1.02-.2 1.41-.59l7.78-7.78 2.81-2.81c.8-.78.8-2.07 0-2.86zM5.41 20L4 18.59l7.72-7.72 1.47 1.35L5.41 20z\"/>\n",
              "  </svg>\n",
              "      </button>\n",
              "      \n",
              "  <style>\n",
              "    .colab-df-container {\n",
              "      display:flex;\n",
              "      flex-wrap:wrap;\n",
              "      gap: 12px;\n",
              "    }\n",
              "\n",
              "    .colab-df-convert {\n",
              "      background-color: #E8F0FE;\n",
              "      border: none;\n",
              "      border-radius: 50%;\n",
              "      cursor: pointer;\n",
              "      display: none;\n",
              "      fill: #1967D2;\n",
              "      height: 32px;\n",
              "      padding: 0 0 0 0;\n",
              "      width: 32px;\n",
              "    }\n",
              "\n",
              "    .colab-df-convert:hover {\n",
              "      background-color: #E2EBFA;\n",
              "      box-shadow: 0px 1px 2px rgba(60, 64, 67, 0.3), 0px 1px 3px 1px rgba(60, 64, 67, 0.15);\n",
              "      fill: #174EA6;\n",
              "    }\n",
              "\n",
              "    [theme=dark] .colab-df-convert {\n",
              "      background-color: #3B4455;\n",
              "      fill: #D2E3FC;\n",
              "    }\n",
              "\n",
              "    [theme=dark] .colab-df-convert:hover {\n",
              "      background-color: #434B5C;\n",
              "      box-shadow: 0px 1px 3px 1px rgba(0, 0, 0, 0.15);\n",
              "      filter: drop-shadow(0px 1px 2px rgba(0, 0, 0, 0.3));\n",
              "      fill: #FFFFFF;\n",
              "    }\n",
              "  </style>\n",
              "\n",
              "      <script>\n",
              "        const buttonEl =\n",
              "          document.querySelector('#df-77f9c8d6-13e4-41f9-8d55-5a6739395952 button.colab-df-convert');\n",
              "        buttonEl.style.display =\n",
              "          google.colab.kernel.accessAllowed ? 'block' : 'none';\n",
              "\n",
              "        async function convertToInteractive(key) {\n",
              "          const element = document.querySelector('#df-77f9c8d6-13e4-41f9-8d55-5a6739395952');\n",
              "          const dataTable =\n",
              "            await google.colab.kernel.invokeFunction('convertToInteractive',\n",
              "                                                     [key], {});\n",
              "          if (!dataTable) return;\n",
              "\n",
              "          const docLinkHtml = 'Like what you see? Visit the ' +\n",
              "            '<a target=\"_blank\" href=https://colab.research.google.com/notebooks/data_table.ipynb>data table notebook</a>'\n",
              "            + ' to learn more about interactive tables.';\n",
              "          element.innerHTML = '';\n",
              "          dataTable['output_type'] = 'display_data';\n",
              "          await google.colab.output.renderOutput(dataTable, element);\n",
              "          const docLink = document.createElement('div');\n",
              "          docLink.innerHTML = docLinkHtml;\n",
              "          element.appendChild(docLink);\n",
              "        }\n",
              "      </script>\n",
              "    </div>\n",
              "  </div>\n",
              "  "
            ],
            "text/plain": [
              "                                           summary_entire  ...                                     entire_summary\n",
              "0       [{'orginal_text': '몰입이론은 원래 창조적인 활동을 하는 사람들이 자...  ...  Csikszentmihalyi의 몰입이론을 적용한 진로상담의 모형을 제시하는 것이다...\n",
              "1       [{'orginal_text': '본 연구는 지역사회 청소년 상담기관에서 실제로 상...  ...  지역사회 청소년 상담기관에서 실제로 상담업무를 담당하는 실무자들과의 면접조사를 통해...\n",
              "2       [{'orginal_text': '본 연구에서는 아동의 자살생각에 영향을 미치는 가...  ...  아동의 자살생각에 영향을 미치는 가족 위험요인을 알아보고자 하였다.\\n집단간 가족특...\n",
              "3       [{'orginal_text': '현대사회는 자기애적 현상이 문화적 흐름으로 강하게...  ...  자기애적 성격성향과 청소년 비행성향 간의 관계를 알아보고, 청소년 비행성향에 영향을...\n",
              "4       [{'orginal_text': '본 연구에서는 청소년들의 음란물 접촉은 날로 증가...  ...  청소년들의 음란물 접촉은 날로 증가하지만 이를 효과적으로 차단하기 힘든 현 상황에서...\n",
              "...                                                   ...  ...                                                ...\n",
              "122296  [{'orginal_text': '이 연구는 저소득층 학생의 교육적 취약성과 가능성...  ...  본 논문은 저소득층 학생의 교육적 취약성과 가능성 탐색의 맥락에서 저소득층 학생과 ...\n",
              "122297  [{'orginal_text': '본 연구의 목적은 단어의 정서적 특성이 어휘판단 ...  ...  단어의 정서적 특성이 어휘판단 후 그 단어의 기억에 미치는 영향을 살펴보았다. 구체...\n",
              "122298  [{'orginal_text': '본 연구는 초등수학수업의 개선을 목표로 초등교사의...  ...  초등수학수업의 개선을 목표로 초등교사의 수학수업에 대한 인식을 조사함으로써 수학수업...\n",
              "122299  [{'orginal_text': '본 논문은 SW영재의 학업탄력성과 자아상태를 확인...  ...  본 연구는 SW영재의 학업탄력성과 자아상태를 확인하고 두 요인 간의 관계를 분석하고...\n",
              "122300  [{'orginal_text': '본 연구에서는 재무적 건전성이 기업의 과잉투자에 ...  ...  본 논문은 재무적 건전성이 기업의 과잉투자에 미치는 영향을 검증한 뒤 매출액 증가율...\n",
              "\n",
              "[122301 rows x 3 columns]"
            ]
          },
          "metadata": {},
          "execution_count": 48
        }
      ]
    },
    {
      "cell_type": "markdown",
      "source": [
        "기존의 데이터프레임에 summary_entire를 제거하고 entire_original과 entire_summary를 넣어 feature engineering 해줄 것이다.\n",
        "\n",
        "한번에 처리하기 위해 summary_section에 대한 작업도 수행해준다."
      ],
      "metadata": {
        "id": "NZS6Do6UKhht"
      }
    },
    {
      "cell_type": "code",
      "source": [
        "summary_sum = df['summary_section']\n",
        "summary_sum = pd.DataFrame(summary_sum)\n",
        "\n",
        "summary_sum = summary_sum.astype(str)\n",
        "\n",
        "summary_sum['summary_original']= summary_sum['summary_section'].apply(text_original)\n",
        "summary_sum['summary_summary'] = summary_sum['summary_section'].apply(text_summary)\n",
        "summary_sum"
      ],
      "metadata": {
        "id": "aLg7ozWoKu2C",
        "outputId": "bfef07ee-eb3f-4ac9-f1c3-ce093a0c3ea5",
        "colab": {
          "base_uri": "https://localhost:8080/",
          "height": 423
        }
      },
      "execution_count": 49,
      "outputs": [
        {
          "output_type": "execute_result",
          "data": {
            "text/html": [
              "\n",
              "  <div id=\"df-4f83e09f-a4d1-4252-8f66-ad94170512a1\">\n",
              "    <div class=\"colab-df-container\">\n",
              "      <div>\n",
              "<style scoped>\n",
              "    .dataframe tbody tr th:only-of-type {\n",
              "        vertical-align: middle;\n",
              "    }\n",
              "\n",
              "    .dataframe tbody tr th {\n",
              "        vertical-align: top;\n",
              "    }\n",
              "\n",
              "    .dataframe thead th {\n",
              "        text-align: right;\n",
              "    }\n",
              "</style>\n",
              "<table border=\"1\" class=\"dataframe\">\n",
              "  <thead>\n",
              "    <tr style=\"text-align: right;\">\n",
              "      <th></th>\n",
              "      <th>summary_section</th>\n",
              "      <th>summary_original</th>\n",
              "      <th>summary_summary</th>\n",
              "    </tr>\n",
              "  </thead>\n",
              "  <tbody>\n",
              "    <tr>\n",
              "      <th>0</th>\n",
              "      <td>[{'orginal_text': '이상에서 필자는 몰입이론을 진로상담에 적용하여 새...</td>\n",
              "      <td>이상에서 필자는 몰입이론을 진로상담에 적용하여 새로운 진로상담 모형을 모색해보았다....</td>\n",
              "      <td>이상에서 필자는 몰입이론을 진로상담에 적용하여 새로운 진로상담 모형을 모색해보았고 ...</td>\n",
              "    </tr>\n",
              "    <tr>\n",
              "      <th>1</th>\n",
              "      <td>[{'orginal_text': '청소년의 정신건강과 복지를 위한 각종 기관의 설립...</td>\n",
              "      <td>청소년의 정신건강과 복지를 위한 각종 기관의 설립 및 서비스 사업이 활발하게 이루어...</td>\n",
              "      <td>청소년의 정신건강과 복지를 위한 각종 기관의 설립 및 서비스 사업이 활발하게 이루어...</td>\n",
              "    </tr>\n",
              "    <tr>\n",
              "      <th>2</th>\n",
              "      <td>[{'orginal_text': '이상과 같은 결과들을 토대로 살펴본 본 연구의 의...</td>\n",
              "      <td>이상과 같은 결과들을 토대로 살펴본 본 연구의 의의 및 시사점은 다음과 같다. 우선...</td>\n",
              "      <td>자살행동의 저연령화에 충격을 받고 있는 시기에, 본 연구는 초등학교 아동들을 대상으...</td>\n",
              "    </tr>\n",
              "    <tr>\n",
              "      <th>3</th>\n",
              "      <td>[{'orginal_text': '본 연구는 자기애적 성격성향과 비행성향에 대하여 ...</td>\n",
              "      <td>본 연구는 자기애적 성격성향과 비행성향에 대하여 알아보고자 하였다. 본 연구에서 다...</td>\n",
              "      <td>자기애적 성격성향과 비행성향에 대하여 알아보고자 하였고 이런 구성개념은 자기애와 청...</td>\n",
              "    </tr>\n",
              "    <tr>\n",
              "      <th>4</th>\n",
              "      <td>[{'orginal_text': '대부분의 음란물은 성폭력(sexual violen...</td>\n",
              "      <td>대부분의 음란물은 성폭력(sexual violence)을 담고 있다. 음란물에서 나...</td>\n",
              "      <td>음란물에서 나타나는 전형적인 성폭력 상황은 여성이 처음에는 남성의 공격에 강하게 저...</td>\n",
              "    </tr>\n",
              "    <tr>\n",
              "      <th>...</th>\n",
              "      <td>...</td>\n",
              "      <td>...</td>\n",
              "      <td>...</td>\n",
              "    </tr>\n",
              "    <tr>\n",
              "      <th>122296</th>\n",
              "      <td>[{'orginal_text': '이 연구는 전국적인 데이터를 활용하여 저소득층 학...</td>\n",
              "      <td>이 연구는 전국적인 데이터를 활용하여 저소득층 학생의 교육 성취에 대한 사회적 자본...</td>\n",
              "      <td>이 연구는 전국적인 데이터를 활용하여 저소득층 학생의 교육 성취에 대한 사회적 자본...</td>\n",
              "    </tr>\n",
              "    <tr>\n",
              "      <th>122297</th>\n",
              "      <td>[{'orginal_text': '사건에 대한 정서적인 정보는 이와 같은 기억의 처...</td>\n",
              "      <td>사건에 대한 정서적인 정보는 이와 같은 기억의 처리과정에 영향을 미칠 수 있는 중요...</td>\n",
              "      <td>정서가 기억처리과정에 도움을 준다고 주장하는 이들은 정서자극이 중립자극보다 친숙성,...</td>\n",
              "    </tr>\n",
              "    <tr>\n",
              "      <th>122298</th>\n",
              "      <td>[{'orginal_text': '최근에 이뤄진 몇 차례의 수학과 교육과정 개정 노...</td>\n",
              "      <td>최근에 이뤄진 몇 차례의 수학과 교육과정 개정 노력의 결과를 살펴볼 수 있는 방법 ...</td>\n",
              "      <td>TIMSS와 PISA 결과 분석 연구에 따르면, 우리나라 학생들의 수학 성취는 인지...</td>\n",
              "    </tr>\n",
              "    <tr>\n",
              "      <th>122299</th>\n",
              "      <td>[{'orginal_text': '2015년 통계청의 아동 청소년 대상 학업 관련 ...</td>\n",
              "      <td>2015년 통계청의 아동 청소년 대상 학업 관련 스트레스 정도 조사에 따르면 매우 ...</td>\n",
              "      <td>학업 상황에서의 스트레스로 인한 문제를 극복하는 대안으로 학업탄력성이 제시되고 있다...</td>\n",
              "    </tr>\n",
              "    <tr>\n",
              "      <th>122300</th>\n",
              "      <td>[{'orginal_text': '기업은 지속적인 발전과 유지 존속을 위하여 순실현...</td>\n",
              "      <td>기업은 지속적인 발전과 유지 존속을 위하여 순실현가능가치가 양(＋)인 투자활동을 수...</td>\n",
              "      <td>효율적인 투자활동의 중요 요인 중 하나로 기업이 보유하거나 외부에서 지원받을 수 있...</td>\n",
              "    </tr>\n",
              "  </tbody>\n",
              "</table>\n",
              "<p>122301 rows × 3 columns</p>\n",
              "</div>\n",
              "      <button class=\"colab-df-convert\" onclick=\"convertToInteractive('df-4f83e09f-a4d1-4252-8f66-ad94170512a1')\"\n",
              "              title=\"Convert this dataframe to an interactive table.\"\n",
              "              style=\"display:none;\">\n",
              "        \n",
              "  <svg xmlns=\"http://www.w3.org/2000/svg\" height=\"24px\"viewBox=\"0 0 24 24\"\n",
              "       width=\"24px\">\n",
              "    <path d=\"M0 0h24v24H0V0z\" fill=\"none\"/>\n",
              "    <path d=\"M18.56 5.44l.94 2.06.94-2.06 2.06-.94-2.06-.94-.94-2.06-.94 2.06-2.06.94zm-11 1L8.5 8.5l.94-2.06 2.06-.94-2.06-.94L8.5 2.5l-.94 2.06-2.06.94zm10 10l.94 2.06.94-2.06 2.06-.94-2.06-.94-.94-2.06-.94 2.06-2.06.94z\"/><path d=\"M17.41 7.96l-1.37-1.37c-.4-.4-.92-.59-1.43-.59-.52 0-1.04.2-1.43.59L10.3 9.45l-7.72 7.72c-.78.78-.78 2.05 0 2.83L4 21.41c.39.39.9.59 1.41.59.51 0 1.02-.2 1.41-.59l7.78-7.78 2.81-2.81c.8-.78.8-2.07 0-2.86zM5.41 20L4 18.59l7.72-7.72 1.47 1.35L5.41 20z\"/>\n",
              "  </svg>\n",
              "      </button>\n",
              "      \n",
              "  <style>\n",
              "    .colab-df-container {\n",
              "      display:flex;\n",
              "      flex-wrap:wrap;\n",
              "      gap: 12px;\n",
              "    }\n",
              "\n",
              "    .colab-df-convert {\n",
              "      background-color: #E8F0FE;\n",
              "      border: none;\n",
              "      border-radius: 50%;\n",
              "      cursor: pointer;\n",
              "      display: none;\n",
              "      fill: #1967D2;\n",
              "      height: 32px;\n",
              "      padding: 0 0 0 0;\n",
              "      width: 32px;\n",
              "    }\n",
              "\n",
              "    .colab-df-convert:hover {\n",
              "      background-color: #E2EBFA;\n",
              "      box-shadow: 0px 1px 2px rgba(60, 64, 67, 0.3), 0px 1px 3px 1px rgba(60, 64, 67, 0.15);\n",
              "      fill: #174EA6;\n",
              "    }\n",
              "\n",
              "    [theme=dark] .colab-df-convert {\n",
              "      background-color: #3B4455;\n",
              "      fill: #D2E3FC;\n",
              "    }\n",
              "\n",
              "    [theme=dark] .colab-df-convert:hover {\n",
              "      background-color: #434B5C;\n",
              "      box-shadow: 0px 1px 3px 1px rgba(0, 0, 0, 0.15);\n",
              "      filter: drop-shadow(0px 1px 2px rgba(0, 0, 0, 0.3));\n",
              "      fill: #FFFFFF;\n",
              "    }\n",
              "  </style>\n",
              "\n",
              "      <script>\n",
              "        const buttonEl =\n",
              "          document.querySelector('#df-4f83e09f-a4d1-4252-8f66-ad94170512a1 button.colab-df-convert');\n",
              "        buttonEl.style.display =\n",
              "          google.colab.kernel.accessAllowed ? 'block' : 'none';\n",
              "\n",
              "        async function convertToInteractive(key) {\n",
              "          const element = document.querySelector('#df-4f83e09f-a4d1-4252-8f66-ad94170512a1');\n",
              "          const dataTable =\n",
              "            await google.colab.kernel.invokeFunction('convertToInteractive',\n",
              "                                                     [key], {});\n",
              "          if (!dataTable) return;\n",
              "\n",
              "          const docLinkHtml = 'Like what you see? Visit the ' +\n",
              "            '<a target=\"_blank\" href=https://colab.research.google.com/notebooks/data_table.ipynb>data table notebook</a>'\n",
              "            + ' to learn more about interactive tables.';\n",
              "          element.innerHTML = '';\n",
              "          dataTable['output_type'] = 'display_data';\n",
              "          await google.colab.output.renderOutput(dataTable, element);\n",
              "          const docLink = document.createElement('div');\n",
              "          docLink.innerHTML = docLinkHtml;\n",
              "          element.appendChild(docLink);\n",
              "        }\n",
              "      </script>\n",
              "    </div>\n",
              "  </div>\n",
              "  "
            ],
            "text/plain": [
              "                                          summary_section  ...                                    summary_summary\n",
              "0       [{'orginal_text': '이상에서 필자는 몰입이론을 진로상담에 적용하여 새...  ...  이상에서 필자는 몰입이론을 진로상담에 적용하여 새로운 진로상담 모형을 모색해보았고 ...\n",
              "1       [{'orginal_text': '청소년의 정신건강과 복지를 위한 각종 기관의 설립...  ...  청소년의 정신건강과 복지를 위한 각종 기관의 설립 및 서비스 사업이 활발하게 이루어...\n",
              "2       [{'orginal_text': '이상과 같은 결과들을 토대로 살펴본 본 연구의 의...  ...  자살행동의 저연령화에 충격을 받고 있는 시기에, 본 연구는 초등학교 아동들을 대상으...\n",
              "3       [{'orginal_text': '본 연구는 자기애적 성격성향과 비행성향에 대하여 ...  ...  자기애적 성격성향과 비행성향에 대하여 알아보고자 하였고 이런 구성개념은 자기애와 청...\n",
              "4       [{'orginal_text': '대부분의 음란물은 성폭력(sexual violen...  ...  음란물에서 나타나는 전형적인 성폭력 상황은 여성이 처음에는 남성의 공격에 강하게 저...\n",
              "...                                                   ...  ...                                                ...\n",
              "122296  [{'orginal_text': '이 연구는 전국적인 데이터를 활용하여 저소득층 학...  ...  이 연구는 전국적인 데이터를 활용하여 저소득층 학생의 교육 성취에 대한 사회적 자본...\n",
              "122297  [{'orginal_text': '사건에 대한 정서적인 정보는 이와 같은 기억의 처...  ...  정서가 기억처리과정에 도움을 준다고 주장하는 이들은 정서자극이 중립자극보다 친숙성,...\n",
              "122298  [{'orginal_text': '최근에 이뤄진 몇 차례의 수학과 교육과정 개정 노...  ...  TIMSS와 PISA 결과 분석 연구에 따르면, 우리나라 학생들의 수학 성취는 인지...\n",
              "122299  [{'orginal_text': '2015년 통계청의 아동 청소년 대상 학업 관련 ...  ...  학업 상황에서의 스트레스로 인한 문제를 극복하는 대안으로 학업탄력성이 제시되고 있다...\n",
              "122300  [{'orginal_text': '기업은 지속적인 발전과 유지 존속을 위하여 순실현...  ...  효율적인 투자활동의 중요 요인 중 하나로 기업이 보유하거나 외부에서 지원받을 수 있...\n",
              "\n",
              "[122301 rows x 3 columns]"
            ]
          },
          "metadata": {},
          "execution_count": 49
        }
      ]
    },
    {
      "cell_type": "code",
      "source": [
        "df['entire_original'] = entire_sum['entire_original']\n",
        "df['entire_summary']  = entire_sum['entire_summary']\n",
        "df['summary_original'] = summary_sum['summary_original']\n",
        "df['summary_summary'] = summary_sum['summary_summary']\n",
        "\n",
        "df.drop(columns=['summary_entire','summary_section'],axis=1,inplace=True)\n",
        "df.columns"
      ],
      "metadata": {
        "id": "Cje269nSL5DP",
        "outputId": "8fc68e7a-9091-4627-ee7d-9c126dd77bdd",
        "colab": {
          "base_uri": "https://localhost:8080/"
        }
      },
      "execution_count": 50,
      "outputs": [
        {
          "output_type": "execute_result",
          "data": {
            "text/plain": [
              "Index(['doc_id', 'title', 'date', 'reg_no', 'ipc', 'issued_by', 'author',\n",
              "       'doc_type', 'entire_original', 'entire_summary', 'summary_original',\n",
              "       'summary_summary'],\n",
              "      dtype='object')"
            ]
          },
          "metadata": {},
          "execution_count": 50
        }
      ]
    },
    {
      "cell_type": "code",
      "source": [
        "df = df[['doc_id','title','date','reg_no','issued_by','author','entire_original','entire_summary','summary_original','summary_summary','doc_type']]\n",
        "df.head()"
      ],
      "metadata": {
        "id": "dFdVW55cOpsy",
        "outputId": "d28216e5-89cd-4e76-9168-ccf0cc34a348",
        "colab": {
          "base_uri": "https://localhost:8080/",
          "height": 406
        }
      },
      "execution_count": 51,
      "outputs": [
        {
          "output_type": "execute_result",
          "data": {
            "text/html": [
              "\n",
              "  <div id=\"df-8a3b8949-3e28-43d4-9aed-9b67ec83c397\">\n",
              "    <div class=\"colab-df-container\">\n",
              "      <div>\n",
              "<style scoped>\n",
              "    .dataframe tbody tr th:only-of-type {\n",
              "        vertical-align: middle;\n",
              "    }\n",
              "\n",
              "    .dataframe tbody tr th {\n",
              "        vertical-align: top;\n",
              "    }\n",
              "\n",
              "    .dataframe thead th {\n",
              "        text-align: right;\n",
              "    }\n",
              "</style>\n",
              "<table border=\"1\" class=\"dataframe\">\n",
              "  <thead>\n",
              "    <tr style=\"text-align: right;\">\n",
              "      <th></th>\n",
              "      <th>doc_id</th>\n",
              "      <th>title</th>\n",
              "      <th>date</th>\n",
              "      <th>reg_no</th>\n",
              "      <th>issued_by</th>\n",
              "      <th>author</th>\n",
              "      <th>entire_original</th>\n",
              "      <th>entire_summary</th>\n",
              "      <th>summary_original</th>\n",
              "      <th>summary_summary</th>\n",
              "      <th>doc_type</th>\n",
              "    </tr>\n",
              "  </thead>\n",
              "  <tbody>\n",
              "    <tr>\n",
              "      <th>0</th>\n",
              "      <td>A200928004902</td>\n",
              "      <td>몰입(Flow) 이론을 적용한 진로상담모형</td>\n",
              "      <td>2002</td>\n",
              "      <td>ART000850832</td>\n",
              "      <td>한국청소년상담복지개발원</td>\n",
              "      <td>김창대1</td>\n",
              "      <td>몰입이론은 원래 창조적인 활동을 하는 사람들이 자신의 일에 몰입할 때 경험하는 현상...</td>\n",
              "      <td>Csikszentmihalyi의 몰입이론을 적용한 진로상담의 모형을 제시하는 것이다...</td>\n",
              "      <td>이상에서 필자는 몰입이론을 진로상담에 적용하여 새로운 진로상담 모형을 모색해보았다....</td>\n",
              "      <td>이상에서 필자는 몰입이론을 진로상담에 적용하여 새로운 진로상담 모형을 모색해보았고 ...</td>\n",
              "      <td>논문</td>\n",
              "    </tr>\n",
              "    <tr>\n",
              "      <th>1</th>\n",
              "      <td>A200928004903</td>\n",
              "      <td>지역사회 청소년 상담기관의 실제와 연계체제 활성화 방안에 관한 현장 연구: 안양지역...</td>\n",
              "      <td>2002</td>\n",
              "      <td>ART000850833</td>\n",
              "      <td>한국청소년상담복지개발원</td>\n",
              "      <td>김계현1 , 김수임2 , 김영혜3</td>\n",
              "      <td>본 연구는 지역사회 청소년 상담기관에서 실제로 상담업무를 담당하는 실무자들과의 면접...</td>\n",
              "      <td>지역사회 청소년 상담기관에서 실제로 상담업무를 담당하는 실무자들과의 면접조사를 통해...</td>\n",
              "      <td>청소년의 정신건강과 복지를 위한 각종 기관의 설립 및 서비스 사업이 활발하게 이루어...</td>\n",
              "      <td>청소년의 정신건강과 복지를 위한 각종 기관의 설립 및 서비스 사업이 활발하게 이루어...</td>\n",
              "      <td>논문</td>\n",
              "    </tr>\n",
              "    <tr>\n",
              "      <th>2</th>\n",
              "      <td>A200928005043</td>\n",
              "      <td>아동의 자살 생각에 영향을 미치는 가족 위험요인</td>\n",
              "      <td>2003</td>\n",
              "      <td>ART000851706</td>\n",
              "      <td>한국청소년상담복지개발원</td>\n",
              "      <td>이정윤1 , 허재홍2</td>\n",
              "      <td>본 연구에서는 아동의 자살생각에 영향을 미치는 가족 위험요인을 알아보고자 하였다. ...</td>\n",
              "      <td>아동의 자살생각에 영향을 미치는 가족 위험요인을 알아보고자 하였다.\\n집단간 가족특...</td>\n",
              "      <td>이상과 같은 결과들을 토대로 살펴본 본 연구의 의의 및 시사점은 다음과 같다. 우선...</td>\n",
              "      <td>자살행동의 저연령화에 충격을 받고 있는 시기에, 본 연구는 초등학교 아동들을 대상으...</td>\n",
              "      <td>논문</td>\n",
              "    </tr>\n",
              "    <tr>\n",
              "      <th>3</th>\n",
              "      <td>A200928004904</td>\n",
              "      <td>자기애적 성격성향과 청소년 비행성향간의 관계</td>\n",
              "      <td>2002</td>\n",
              "      <td>ART000851793</td>\n",
              "      <td>한국청소년상담복지개발원</td>\n",
              "      <td>차타순1</td>\n",
              "      <td>현대사회는 자기애적 현상이 문화적 흐름으로 강하게 자리잡고 있고, 우리나라에도 이 ...</td>\n",
              "      <td>자기애적 성격성향과 청소년 비행성향 간의 관계를 알아보고, 청소년 비행성향에 영향을...</td>\n",
              "      <td>본 연구는 자기애적 성격성향과 비행성향에 대하여 알아보고자 하였다. 본 연구에서 다...</td>\n",
              "      <td>자기애적 성격성향과 비행성향에 대하여 알아보고자 하였고 이런 구성개념은 자기애와 청...</td>\n",
              "      <td>논문</td>\n",
              "    </tr>\n",
              "    <tr>\n",
              "      <th>4</th>\n",
              "      <td>A200928004905</td>\n",
              "      <td>청소년의 음란물 접촉과 잘못된 강간통념 수용간의 매개변인과 조정변인의 역할</td>\n",
              "      <td>2002</td>\n",
              "      <td>ART000851794</td>\n",
              "      <td>한국청소년상담복지개발원</td>\n",
              "      <td>고재흥1 , 지영담2</td>\n",
              "      <td>본 연구에서는 청소년들의 음란물 접촉은 날로 증가하지만, 이를 효과적으로 차단하기 ...</td>\n",
              "      <td>청소년들의 음란물 접촉은 날로 증가하지만 이를 효과적으로 차단하기 힘든 현 상황에서...</td>\n",
              "      <td>대부분의 음란물은 성폭력(sexual violence)을 담고 있다. 음란물에서 나...</td>\n",
              "      <td>음란물에서 나타나는 전형적인 성폭력 상황은 여성이 처음에는 남성의 공격에 강하게 저...</td>\n",
              "      <td>논문</td>\n",
              "    </tr>\n",
              "  </tbody>\n",
              "</table>\n",
              "</div>\n",
              "      <button class=\"colab-df-convert\" onclick=\"convertToInteractive('df-8a3b8949-3e28-43d4-9aed-9b67ec83c397')\"\n",
              "              title=\"Convert this dataframe to an interactive table.\"\n",
              "              style=\"display:none;\">\n",
              "        \n",
              "  <svg xmlns=\"http://www.w3.org/2000/svg\" height=\"24px\"viewBox=\"0 0 24 24\"\n",
              "       width=\"24px\">\n",
              "    <path d=\"M0 0h24v24H0V0z\" fill=\"none\"/>\n",
              "    <path d=\"M18.56 5.44l.94 2.06.94-2.06 2.06-.94-2.06-.94-.94-2.06-.94 2.06-2.06.94zm-11 1L8.5 8.5l.94-2.06 2.06-.94-2.06-.94L8.5 2.5l-.94 2.06-2.06.94zm10 10l.94 2.06.94-2.06 2.06-.94-2.06-.94-.94-2.06-.94 2.06-2.06.94z\"/><path d=\"M17.41 7.96l-1.37-1.37c-.4-.4-.92-.59-1.43-.59-.52 0-1.04.2-1.43.59L10.3 9.45l-7.72 7.72c-.78.78-.78 2.05 0 2.83L4 21.41c.39.39.9.59 1.41.59.51 0 1.02-.2 1.41-.59l7.78-7.78 2.81-2.81c.8-.78.8-2.07 0-2.86zM5.41 20L4 18.59l7.72-7.72 1.47 1.35L5.41 20z\"/>\n",
              "  </svg>\n",
              "      </button>\n",
              "      \n",
              "  <style>\n",
              "    .colab-df-container {\n",
              "      display:flex;\n",
              "      flex-wrap:wrap;\n",
              "      gap: 12px;\n",
              "    }\n",
              "\n",
              "    .colab-df-convert {\n",
              "      background-color: #E8F0FE;\n",
              "      border: none;\n",
              "      border-radius: 50%;\n",
              "      cursor: pointer;\n",
              "      display: none;\n",
              "      fill: #1967D2;\n",
              "      height: 32px;\n",
              "      padding: 0 0 0 0;\n",
              "      width: 32px;\n",
              "    }\n",
              "\n",
              "    .colab-df-convert:hover {\n",
              "      background-color: #E2EBFA;\n",
              "      box-shadow: 0px 1px 2px rgba(60, 64, 67, 0.3), 0px 1px 3px 1px rgba(60, 64, 67, 0.15);\n",
              "      fill: #174EA6;\n",
              "    }\n",
              "\n",
              "    [theme=dark] .colab-df-convert {\n",
              "      background-color: #3B4455;\n",
              "      fill: #D2E3FC;\n",
              "    }\n",
              "\n",
              "    [theme=dark] .colab-df-convert:hover {\n",
              "      background-color: #434B5C;\n",
              "      box-shadow: 0px 1px 3px 1px rgba(0, 0, 0, 0.15);\n",
              "      filter: drop-shadow(0px 1px 2px rgba(0, 0, 0, 0.3));\n",
              "      fill: #FFFFFF;\n",
              "    }\n",
              "  </style>\n",
              "\n",
              "      <script>\n",
              "        const buttonEl =\n",
              "          document.querySelector('#df-8a3b8949-3e28-43d4-9aed-9b67ec83c397 button.colab-df-convert');\n",
              "        buttonEl.style.display =\n",
              "          google.colab.kernel.accessAllowed ? 'block' : 'none';\n",
              "\n",
              "        async function convertToInteractive(key) {\n",
              "          const element = document.querySelector('#df-8a3b8949-3e28-43d4-9aed-9b67ec83c397');\n",
              "          const dataTable =\n",
              "            await google.colab.kernel.invokeFunction('convertToInteractive',\n",
              "                                                     [key], {});\n",
              "          if (!dataTable) return;\n",
              "\n",
              "          const docLinkHtml = 'Like what you see? Visit the ' +\n",
              "            '<a target=\"_blank\" href=https://colab.research.google.com/notebooks/data_table.ipynb>data table notebook</a>'\n",
              "            + ' to learn more about interactive tables.';\n",
              "          element.innerHTML = '';\n",
              "          dataTable['output_type'] = 'display_data';\n",
              "          await google.colab.output.renderOutput(dataTable, element);\n",
              "          const docLink = document.createElement('div');\n",
              "          docLink.innerHTML = docLinkHtml;\n",
              "          element.appendChild(docLink);\n",
              "        }\n",
              "      </script>\n",
              "    </div>\n",
              "  </div>\n",
              "  "
            ],
            "text/plain": [
              "          doc_id  ... doc_type\n",
              "0  A200928004902  ...       논문\n",
              "1  A200928004903  ...       논문\n",
              "2  A200928005043  ...       논문\n",
              "3  A200928004904  ...       논문\n",
              "4  A200928004905  ...       논문\n",
              "\n",
              "[5 rows x 11 columns]"
            ]
          },
          "metadata": {},
          "execution_count": 51
        }
      ]
    },
    {
      "cell_type": "markdown",
      "source": [
        "## CSV 파일 변환"
      ],
      "metadata": {
        "id": "XCMUqtPwPlBn"
      }
    },
    {
      "cell_type": "code",
      "source": [
        "df.to_csv('train_article.csv')"
      ],
      "metadata": {
        "id": "wmrG3qoNPjEf"
      },
      "execution_count": 52,
      "outputs": []
    },
    {
      "cell_type": "code",
      "source": [
        "ls"
      ],
      "metadata": {
        "id": "SSuNp38NP_DI",
        "outputId": "086bda48-2bc7-4400-80c2-ae4aacaf2cd3",
        "colab": {
          "base_uri": "https://localhost:8080/"
        }
      },
      "execution_count": 53,
      "outputs": [
        {
          "output_type": "stream",
          "name": "stdout",
          "text": [
            "논문요약_0206_0.json  논문요약_0220_0.json    train_article.csv\n",
            "논문요약_0206_1.json  논문요약_0225_5_1.json\n",
            "논문요약_0206_2.json  논문요약_0225_7_0.json\n"
          ]
        }
      ]
    },
    {
      "cell_type": "markdown",
      "source": [
        "csv 파일이 생성된 것을 볼 수 있습니다."
      ],
      "metadata": {
        "id": "yWra-XbYQEPd"
      }
    },
    {
      "cell_type": "code",
      "source": [
        "train = pd.read_csv('train_article.csv')\n",
        "train.head(3)"
      ],
      "metadata": {
        "id": "6DhXDXikQC89",
        "outputId": "554959c4-f19c-4b06-c784-afd4b8db30a5",
        "colab": {
          "base_uri": "https://localhost:8080/",
          "height": 308
        }
      },
      "execution_count": 54,
      "outputs": [
        {
          "output_type": "execute_result",
          "data": {
            "text/html": [
              "\n",
              "  <div id=\"df-a9037fb3-971e-469a-8e50-9cdc2f73f754\">\n",
              "    <div class=\"colab-df-container\">\n",
              "      <div>\n",
              "<style scoped>\n",
              "    .dataframe tbody tr th:only-of-type {\n",
              "        vertical-align: middle;\n",
              "    }\n",
              "\n",
              "    .dataframe tbody tr th {\n",
              "        vertical-align: top;\n",
              "    }\n",
              "\n",
              "    .dataframe thead th {\n",
              "        text-align: right;\n",
              "    }\n",
              "</style>\n",
              "<table border=\"1\" class=\"dataframe\">\n",
              "  <thead>\n",
              "    <tr style=\"text-align: right;\">\n",
              "      <th></th>\n",
              "      <th>Unnamed: 0</th>\n",
              "      <th>doc_id</th>\n",
              "      <th>title</th>\n",
              "      <th>date</th>\n",
              "      <th>reg_no</th>\n",
              "      <th>issued_by</th>\n",
              "      <th>author</th>\n",
              "      <th>entire_original</th>\n",
              "      <th>entire_summary</th>\n",
              "      <th>summary_original</th>\n",
              "      <th>summary_summary</th>\n",
              "      <th>doc_type</th>\n",
              "    </tr>\n",
              "  </thead>\n",
              "  <tbody>\n",
              "    <tr>\n",
              "      <th>0</th>\n",
              "      <td>0</td>\n",
              "      <td>A200928004902</td>\n",
              "      <td>몰입(Flow) 이론을 적용한 진로상담모형</td>\n",
              "      <td>2002</td>\n",
              "      <td>ART000850832</td>\n",
              "      <td>한국청소년상담복지개발원</td>\n",
              "      <td>김창대1</td>\n",
              "      <td>몰입이론은 원래 창조적인 활동을 하는 사람들이 자신의 일에 몰입할 때 경험하는 현상...</td>\n",
              "      <td>Csikszentmihalyi의 몰입이론을 적용한 진로상담의 모형을 제시하는 것이다...</td>\n",
              "      <td>이상에서 필자는 몰입이론을 진로상담에 적용하여 새로운 진로상담 모형을 모색해보았다....</td>\n",
              "      <td>이상에서 필자는 몰입이론을 진로상담에 적용하여 새로운 진로상담 모형을 모색해보았고 ...</td>\n",
              "      <td>논문</td>\n",
              "    </tr>\n",
              "    <tr>\n",
              "      <th>1</th>\n",
              "      <td>1</td>\n",
              "      <td>A200928004903</td>\n",
              "      <td>지역사회 청소년 상담기관의 실제와 연계체제 활성화 방안에 관한 현장 연구: 안양지역...</td>\n",
              "      <td>2002</td>\n",
              "      <td>ART000850833</td>\n",
              "      <td>한국청소년상담복지개발원</td>\n",
              "      <td>김계현1 , 김수임2 , 김영혜3</td>\n",
              "      <td>본 연구는 지역사회 청소년 상담기관에서 실제로 상담업무를 담당하는 실무자들과의 면접...</td>\n",
              "      <td>지역사회 청소년 상담기관에서 실제로 상담업무를 담당하는 실무자들과의 면접조사를 통해...</td>\n",
              "      <td>청소년의 정신건강과 복지를 위한 각종 기관의 설립 및 서비스 사업이 활발하게 이루어...</td>\n",
              "      <td>청소년의 정신건강과 복지를 위한 각종 기관의 설립 및 서비스 사업이 활발하게 이루어...</td>\n",
              "      <td>논문</td>\n",
              "    </tr>\n",
              "    <tr>\n",
              "      <th>2</th>\n",
              "      <td>2</td>\n",
              "      <td>A200928005043</td>\n",
              "      <td>아동의 자살 생각에 영향을 미치는 가족 위험요인</td>\n",
              "      <td>2003</td>\n",
              "      <td>ART000851706</td>\n",
              "      <td>한국청소년상담복지개발원</td>\n",
              "      <td>이정윤1 , 허재홍2</td>\n",
              "      <td>본 연구에서는 아동의 자살생각에 영향을 미치는 가족 위험요인을 알아보고자 하였다. ...</td>\n",
              "      <td>아동의 자살생각에 영향을 미치는 가족 위험요인을 알아보고자 하였다.\\n집단간 가족특...</td>\n",
              "      <td>이상과 같은 결과들을 토대로 살펴본 본 연구의 의의 및 시사점은 다음과 같다. 우선...</td>\n",
              "      <td>자살행동의 저연령화에 충격을 받고 있는 시기에, 본 연구는 초등학교 아동들을 대상으...</td>\n",
              "      <td>논문</td>\n",
              "    </tr>\n",
              "  </tbody>\n",
              "</table>\n",
              "</div>\n",
              "      <button class=\"colab-df-convert\" onclick=\"convertToInteractive('df-a9037fb3-971e-469a-8e50-9cdc2f73f754')\"\n",
              "              title=\"Convert this dataframe to an interactive table.\"\n",
              "              style=\"display:none;\">\n",
              "        \n",
              "  <svg xmlns=\"http://www.w3.org/2000/svg\" height=\"24px\"viewBox=\"0 0 24 24\"\n",
              "       width=\"24px\">\n",
              "    <path d=\"M0 0h24v24H0V0z\" fill=\"none\"/>\n",
              "    <path d=\"M18.56 5.44l.94 2.06.94-2.06 2.06-.94-2.06-.94-.94-2.06-.94 2.06-2.06.94zm-11 1L8.5 8.5l.94-2.06 2.06-.94-2.06-.94L8.5 2.5l-.94 2.06-2.06.94zm10 10l.94 2.06.94-2.06 2.06-.94-2.06-.94-.94-2.06-.94 2.06-2.06.94z\"/><path d=\"M17.41 7.96l-1.37-1.37c-.4-.4-.92-.59-1.43-.59-.52 0-1.04.2-1.43.59L10.3 9.45l-7.72 7.72c-.78.78-.78 2.05 0 2.83L4 21.41c.39.39.9.59 1.41.59.51 0 1.02-.2 1.41-.59l7.78-7.78 2.81-2.81c.8-.78.8-2.07 0-2.86zM5.41 20L4 18.59l7.72-7.72 1.47 1.35L5.41 20z\"/>\n",
              "  </svg>\n",
              "      </button>\n",
              "      \n",
              "  <style>\n",
              "    .colab-df-container {\n",
              "      display:flex;\n",
              "      flex-wrap:wrap;\n",
              "      gap: 12px;\n",
              "    }\n",
              "\n",
              "    .colab-df-convert {\n",
              "      background-color: #E8F0FE;\n",
              "      border: none;\n",
              "      border-radius: 50%;\n",
              "      cursor: pointer;\n",
              "      display: none;\n",
              "      fill: #1967D2;\n",
              "      height: 32px;\n",
              "      padding: 0 0 0 0;\n",
              "      width: 32px;\n",
              "    }\n",
              "\n",
              "    .colab-df-convert:hover {\n",
              "      background-color: #E2EBFA;\n",
              "      box-shadow: 0px 1px 2px rgba(60, 64, 67, 0.3), 0px 1px 3px 1px rgba(60, 64, 67, 0.15);\n",
              "      fill: #174EA6;\n",
              "    }\n",
              "\n",
              "    [theme=dark] .colab-df-convert {\n",
              "      background-color: #3B4455;\n",
              "      fill: #D2E3FC;\n",
              "    }\n",
              "\n",
              "    [theme=dark] .colab-df-convert:hover {\n",
              "      background-color: #434B5C;\n",
              "      box-shadow: 0px 1px 3px 1px rgba(0, 0, 0, 0.15);\n",
              "      filter: drop-shadow(0px 1px 2px rgba(0, 0, 0, 0.3));\n",
              "      fill: #FFFFFF;\n",
              "    }\n",
              "  </style>\n",
              "\n",
              "      <script>\n",
              "        const buttonEl =\n",
              "          document.querySelector('#df-a9037fb3-971e-469a-8e50-9cdc2f73f754 button.colab-df-convert');\n",
              "        buttonEl.style.display =\n",
              "          google.colab.kernel.accessAllowed ? 'block' : 'none';\n",
              "\n",
              "        async function convertToInteractive(key) {\n",
              "          const element = document.querySelector('#df-a9037fb3-971e-469a-8e50-9cdc2f73f754');\n",
              "          const dataTable =\n",
              "            await google.colab.kernel.invokeFunction('convertToInteractive',\n",
              "                                                     [key], {});\n",
              "          if (!dataTable) return;\n",
              "\n",
              "          const docLinkHtml = 'Like what you see? Visit the ' +\n",
              "            '<a target=\"_blank\" href=https://colab.research.google.com/notebooks/data_table.ipynb>data table notebook</a>'\n",
              "            + ' to learn more about interactive tables.';\n",
              "          element.innerHTML = '';\n",
              "          dataTable['output_type'] = 'display_data';\n",
              "          await google.colab.output.renderOutput(dataTable, element);\n",
              "          const docLink = document.createElement('div');\n",
              "          docLink.innerHTML = docLinkHtml;\n",
              "          element.appendChild(docLink);\n",
              "        }\n",
              "      </script>\n",
              "    </div>\n",
              "  </div>\n",
              "  "
            ],
            "text/plain": [
              "   Unnamed: 0  ... doc_type\n",
              "0           0  ...       논문\n",
              "1           1  ...       논문\n",
              "2           2  ...       논문\n",
              "\n",
              "[3 rows x 12 columns]"
            ]
          },
          "metadata": {},
          "execution_count": 54
        }
      ]
    },
    {
      "cell_type": "markdown",
      "source": [
        "잘 불러와지는 것을 확인할 수 있습니다."
      ],
      "metadata": {
        "id": "ftG20PtFQhWd"
      }
    },
    {
      "cell_type": "markdown",
      "source": [
        "# 추가: Validation dataset"
      ],
      "metadata": {
        "id": "sKIcn08KQoHA"
      }
    },
    {
      "cell_type": "markdown",
      "source": [
        "validation dataset 역시 동일하게 진행합니다."
      ],
      "metadata": {
        "id": "XmnVKCgAQ5Vb"
      }
    },
    {
      "cell_type": "code",
      "source": [
        "cd /content/drive/MyDrive/data/Article_summary/Validation/validation_논문"
      ],
      "metadata": {
        "id": "HLJ7621cRMgm",
        "outputId": "145cf639-a9f0-4323-aa59-b8c72ba61958",
        "colab": {
          "base_uri": "https://localhost:8080/"
        }
      },
      "execution_count": 55,
      "outputs": [
        {
          "output_type": "stream",
          "name": "stdout",
          "text": [
            "/content/drive/MyDrive/data/Article_summary/Validation/validation_논문\n"
          ]
        }
      ]
    },
    {
      "cell_type": "code",
      "source": [
        "ls"
      ],
      "metadata": {
        "id": "hVxT-B5pRx1t",
        "outputId": "fc6967b7-cbda-400c-da8b-cf32ff42b34b",
        "colab": {
          "base_uri": "https://localhost:8080/"
        }
      },
      "execution_count": 56,
      "outputs": [
        {
          "output_type": "stream",
          "name": "stdout",
          "text": [
            "논문요약_0224_0.json  논문요약_0225_6_2.json\n"
          ]
        }
      ]
    },
    {
      "cell_type": "code",
      "source": [
        "with open('논문요약_0224_0.json', 'r', encoding = 'utf-8') as input_file:         # 첫 번째 validation 파일\n",
        "  data7 = json.load(input_file)\n",
        "\n",
        "with open('논문요약_0225_6_2.json', 'r', encoding = 'utf-8') as input_file:       # 두 번째 validation 파일\n",
        "  data8 = json.load(input_file)"
      ],
      "metadata": {
        "id": "Y6jxrEoKR63b"
      },
      "execution_count": 57,
      "outputs": []
    },
    {
      "cell_type": "code",
      "source": [
        "print(f'data7에 대한 key  : {data7.keys()}')\n",
        "print(f'data8에 대한 key  : {data8.keys()}')"
      ],
      "metadata": {
        "id": "_WNr17SKSaFq",
        "outputId": "7ae69c3b-5d72-4722-e23f-ef5b0b1c4a87",
        "colab": {
          "base_uri": "https://localhost:8080/"
        }
      },
      "execution_count": 58,
      "outputs": [
        {
          "output_type": "stream",
          "name": "stdout",
          "text": [
            "data7에 대한 key  : dict_keys(['totalcount', 'data'])\n",
            "data8에 대한 key  : dict_keys(['totalcount', 'data'])\n"
          ]
        }
      ]
    },
    {
      "cell_type": "code",
      "source": [
        "val1_data = {key:value for key,value in data7.items() if key !='totalcount'}\n",
        "val2_data = {key:value for key,value in data8.items() if key !='totalcount'}"
      ],
      "metadata": {
        "id": "D1Xigp54Sjsh"
      },
      "execution_count": 59,
      "outputs": []
    },
    {
      "cell_type": "code",
      "source": [
        "# data키 안에 있는 요소 추출\n",
        "val1_data= val1_data.get('data')\n",
        "val2_data= val2_data.get('data')\n",
        "\n",
        "# 데이터프레임 형성\n",
        "val_arti1= pd.DataFrame(val1_data)\n",
        "val_arti2= pd.DataFrame(val2_data)\n",
        "\n",
        "# 데이터프레임 병합\n",
        "val_df= pd.concat([val_arti1,val_arti2],axis=0) # 위 아래로 이어붙여줄 것이다.\n",
        "val_df.shape"
      ],
      "metadata": {
        "id": "M4j1a7VyS8Nd",
        "outputId": "f6f4bf99-05ec-4df9-c173-baa28b915d52",
        "colab": {
          "base_uri": "https://localhost:8080/"
        }
      },
      "execution_count": 60,
      "outputs": [
        {
          "output_type": "execute_result",
          "data": {
            "text/plain": [
              "(18061, 10)"
            ]
          },
          "metadata": {},
          "execution_count": 60
        }
      ]
    },
    {
      "cell_type": "code",
      "source": [
        "%matplotlib inline\n",
        "msno.matrix(val_df, figsize=(17,8), fontsize=14);"
      ],
      "metadata": {
        "id": "R0awohAnTyR8",
        "outputId": "51a1fa6c-d38f-495d-ee08-07a0bead7a79",
        "colab": {
          "base_uri": "https://localhost:8080/",
          "height": 581
        }
      },
      "execution_count": 61,
      "outputs": [
        {
          "output_type": "display_data",
          "data": {
            "image/png": "[encoded data removed]",
            "text/plain": [
              "<Figure size 1224x576 with 2 Axes>"
            ]
          },
          "metadata": {
            "needs_background": "light"
          }
        }
      ]
    },
    {
      "cell_type": "code",
      "source": [
        "val_df.isna().sum()"
      ],
      "metadata": {
        "id": "g1EIZhRLT_Hg",
        "outputId": "9554e1bd-ea45-4b74-a1f7-7df055d39d57",
        "colab": {
          "base_uri": "https://localhost:8080/"
        }
      },
      "execution_count": 62,
      "outputs": [
        {
          "output_type": "execute_result",
          "data": {
            "text/plain": [
              "doc_type           0\n",
              "doc_id             0\n",
              "title              0\n",
              "date               0\n",
              "reg_no             0\n",
              "ipc                0\n",
              "issued_by          0\n",
              "author             2\n",
              "summary_entire     0\n",
              "summary_section    0\n",
              "dtype: int64"
            ]
          },
          "metadata": {},
          "execution_count": 62
        }
      ]
    },
    {
      "cell_type": "code",
      "source": [
        "na_condition = val_df.loc[val_df['author'].isna()]\n",
        "na_condition"
      ],
      "metadata": {
        "id": "3fotjcz5UKAw",
        "outputId": "acda5a14-9efb-4225-b664-cd76df1fb1e7",
        "colab": {
          "base_uri": "https://localhost:8080/",
          "height": 112
        }
      },
      "execution_count": 63,
      "outputs": [
        {
          "output_type": "execute_result",
          "data": {
            "text/html": [
              "\n",
              "  <div id=\"df-ec0352e9-4e6c-4ecd-8a7e-f4831b03a23c\">\n",
              "    <div class=\"colab-df-container\">\n",
              "      <div>\n",
              "<style scoped>\n",
              "    .dataframe tbody tr th:only-of-type {\n",
              "        vertical-align: middle;\n",
              "    }\n",
              "\n",
              "    .dataframe tbody tr th {\n",
              "        vertical-align: top;\n",
              "    }\n",
              "\n",
              "    .dataframe thead th {\n",
              "        text-align: right;\n",
              "    }\n",
              "</style>\n",
              "<table border=\"1\" class=\"dataframe\">\n",
              "  <thead>\n",
              "    <tr style=\"text-align: right;\">\n",
              "      <th></th>\n",
              "      <th>doc_type</th>\n",
              "      <th>doc_id</th>\n",
              "      <th>title</th>\n",
              "      <th>date</th>\n",
              "      <th>reg_no</th>\n",
              "      <th>ipc</th>\n",
              "      <th>issued_by</th>\n",
              "      <th>author</th>\n",
              "      <th>summary_entire</th>\n",
              "      <th>summary_section</th>\n",
              "    </tr>\n",
              "  </thead>\n",
              "  <tbody>\n",
              "    <tr>\n",
              "      <th>625</th>\n",
              "      <td>논문</td>\n",
              "      <td>A201007211999</td>\n",
              "      <td>중학교 과학 교사의 과학 탐구 교수 지향</td>\n",
              "      <td>2020</td>\n",
              "      <td>ART002614119</td>\n",
              "      <td>자연과학</td>\n",
              "      <td>대한화학회</td>\n",
              "      <td>NaN</td>\n",
              "      <td>[{'orginal_text': '본 연구는 1년간 동료 교사들과 과학 탐구 수업을...</td>\n",
              "      <td>[{'orginal_text': '과학 교수에서 무엇이 중요하고 교수-학습이 어떻게...</td>\n",
              "    </tr>\n",
              "    <tr>\n",
              "      <th>629</th>\n",
              "      <td>논문</td>\n",
              "      <td>A201007212003</td>\n",
              "      <td>손톱과 모발에서의 셀레노 화합물의 화학종 분석</td>\n",
              "      <td>2020</td>\n",
              "      <td>ART002614118</td>\n",
              "      <td>자연과학</td>\n",
              "      <td>대한화학회</td>\n",
              "      <td>NaN</td>\n",
              "      <td>[{'orginal_text': '손톱과 모발에서 셀레늄을 추출하고 HPLC-ICP...</td>\n",
              "      <td>[{'orginal_text': '셀레늄(selenium, Se)은 비타민E의 2,...</td>\n",
              "    </tr>\n",
              "  </tbody>\n",
              "</table>\n",
              "</div>\n",
              "      <button class=\"colab-df-convert\" onclick=\"convertToInteractive('df-ec0352e9-4e6c-4ecd-8a7e-f4831b03a23c')\"\n",
              "              title=\"Convert this dataframe to an interactive table.\"\n",
              "              style=\"display:none;\">\n",
              "        \n",
              "  <svg xmlns=\"http://www.w3.org/2000/svg\" height=\"24px\"viewBox=\"0 0 24 24\"\n",
              "       width=\"24px\">\n",
              "    <path d=\"M0 0h24v24H0V0z\" fill=\"none\"/>\n",
              "    <path d=\"M18.56 5.44l.94 2.06.94-2.06 2.06-.94-2.06-.94-.94-2.06-.94 2.06-2.06.94zm-11 1L8.5 8.5l.94-2.06 2.06-.94-2.06-.94L8.5 2.5l-.94 2.06-2.06.94zm10 10l.94 2.06.94-2.06 2.06-.94-2.06-.94-.94-2.06-.94 2.06-2.06.94z\"/><path d=\"M17.41 7.96l-1.37-1.37c-.4-.4-.92-.59-1.43-.59-.52 0-1.04.2-1.43.59L10.3 9.45l-7.72 7.72c-.78.78-.78 2.05 0 2.83L4 21.41c.39.39.9.59 1.41.59.51 0 1.02-.2 1.41-.59l7.78-7.78 2.81-2.81c.8-.78.8-2.07 0-2.86zM5.41 20L4 18.59l7.72-7.72 1.47 1.35L5.41 20z\"/>\n",
              "  </svg>\n",
              "      </button>\n",
              "      \n",
              "  <style>\n",
              "    .colab-df-container {\n",
              "      display:flex;\n",
              "      flex-wrap:wrap;\n",
              "      gap: 12px;\n",
              "    }\n",
              "\n",
              "    .colab-df-convert {\n",
              "      background-color: #E8F0FE;\n",
              "      border: none;\n",
              "      border-radius: 50%;\n",
              "      cursor: pointer;\n",
              "      display: none;\n",
              "      fill: #1967D2;\n",
              "      height: 32px;\n",
              "      padding: 0 0 0 0;\n",
              "      width: 32px;\n",
              "    }\n",
              "\n",
              "    .colab-df-convert:hover {\n",
              "      background-color: #E2EBFA;\n",
              "      box-shadow: 0px 1px 2px rgba(60, 64, 67, 0.3), 0px 1px 3px 1px rgba(60, 64, 67, 0.15);\n",
              "      fill: #174EA6;\n",
              "    }\n",
              "\n",
              "    [theme=dark] .colab-df-convert {\n",
              "      background-color: #3B4455;\n",
              "      fill: #D2E3FC;\n",
              "    }\n",
              "\n",
              "    [theme=dark] .colab-df-convert:hover {\n",
              "      background-color: #434B5C;\n",
              "      box-shadow: 0px 1px 3px 1px rgba(0, 0, 0, 0.15);\n",
              "      filter: drop-shadow(0px 1px 2px rgba(0, 0, 0, 0.3));\n",
              "      fill: #FFFFFF;\n",
              "    }\n",
              "  </style>\n",
              "\n",
              "      <script>\n",
              "        const buttonEl =\n",
              "          document.querySelector('#df-ec0352e9-4e6c-4ecd-8a7e-f4831b03a23c button.colab-df-convert');\n",
              "        buttonEl.style.display =\n",
              "          google.colab.kernel.accessAllowed ? 'block' : 'none';\n",
              "\n",
              "        async function convertToInteractive(key) {\n",
              "          const element = document.querySelector('#df-ec0352e9-4e6c-4ecd-8a7e-f4831b03a23c');\n",
              "          const dataTable =\n",
              "            await google.colab.kernel.invokeFunction('convertToInteractive',\n",
              "                                                     [key], {});\n",
              "          if (!dataTable) return;\n",
              "\n",
              "          const docLinkHtml = 'Like what you see? Visit the ' +\n",
              "            '<a target=\"_blank\" href=https://colab.research.google.com/notebooks/data_table.ipynb>data table notebook</a>'\n",
              "            + ' to learn more about interactive tables.';\n",
              "          element.innerHTML = '';\n",
              "          dataTable['output_type'] = 'display_data';\n",
              "          await google.colab.output.renderOutput(dataTable, element);\n",
              "          const docLink = document.createElement('div');\n",
              "          docLink.innerHTML = docLinkHtml;\n",
              "          element.appendChild(docLink);\n",
              "        }\n",
              "      </script>\n",
              "    </div>\n",
              "  </div>\n",
              "  "
            ],
            "text/plain": [
              "    doc_type  ...                                    summary_section\n",
              "625       논문  ...  [{'orginal_text': '과학 교수에서 무엇이 중요하고 교수-학습이 어떻게...\n",
              "629       논문  ...  [{'orginal_text': '셀레늄(selenium, Se)은 비타민E의 2,...\n",
              "\n",
              "[2 rows x 10 columns]"
            ]
          },
          "metadata": {},
          "execution_count": 63
        }
      ]
    },
    {
      "cell_type": "code",
      "source": [
        "val_df.fillna('대한화학회',inplace=True)\n",
        "val_df.isna().sum()"
      ],
      "metadata": {
        "id": "fcvvZdCrUXYP",
        "outputId": "3c956053-a6d8-4930-9888-4810ddc6c644",
        "colab": {
          "base_uri": "https://localhost:8080/"
        }
      },
      "execution_count": 64,
      "outputs": [
        {
          "output_type": "execute_result",
          "data": {
            "text/plain": [
              "doc_type           0\n",
              "doc_id             0\n",
              "title              0\n",
              "date               0\n",
              "reg_no             0\n",
              "ipc                0\n",
              "issued_by          0\n",
              "author             0\n",
              "summary_entire     0\n",
              "summary_section    0\n",
              "dtype: int64"
            ]
          },
          "metadata": {},
          "execution_count": 64
        }
      ]
    },
    {
      "cell_type": "code",
      "source": [
        "val_df.reset_index(drop=True, inplace=True)\n",
        "val_df.head(3)"
      ],
      "metadata": {
        "id": "NJX-LyWIUwiC",
        "outputId": "0aaf7705-b002-42d6-ee3a-245f79d2b13c",
        "colab": {
          "base_uri": "https://localhost:8080/",
          "height": 240
        }
      },
      "execution_count": 65,
      "outputs": [
        {
          "output_type": "execute_result",
          "data": {
            "text/html": [
              "\n",
              "  <div id=\"df-b4fcd9be-6161-4e90-a176-7e9d866f9172\">\n",
              "    <div class=\"colab-df-container\">\n",
              "      <div>\n",
              "<style scoped>\n",
              "    .dataframe tbody tr th:only-of-type {\n",
              "        vertical-align: middle;\n",
              "    }\n",
              "\n",
              "    .dataframe tbody tr th {\n",
              "        vertical-align: top;\n",
              "    }\n",
              "\n",
              "    .dataframe thead th {\n",
              "        text-align: right;\n",
              "    }\n",
              "</style>\n",
              "<table border=\"1\" class=\"dataframe\">\n",
              "  <thead>\n",
              "    <tr style=\"text-align: right;\">\n",
              "      <th></th>\n",
              "      <th>doc_type</th>\n",
              "      <th>doc_id</th>\n",
              "      <th>title</th>\n",
              "      <th>date</th>\n",
              "      <th>reg_no</th>\n",
              "      <th>ipc</th>\n",
              "      <th>issued_by</th>\n",
              "      <th>author</th>\n",
              "      <th>summary_entire</th>\n",
              "      <th>summary_section</th>\n",
              "    </tr>\n",
              "  </thead>\n",
              "  <tbody>\n",
              "    <tr>\n",
              "      <th>0</th>\n",
              "      <td>논문</td>\n",
              "      <td>A201007211374</td>\n",
              "      <td>국내 검사실에서의 대변 검경 검사에 대한 내부정도관리 현황</td>\n",
              "      <td>2018</td>\n",
              "      <td>ART002294415</td>\n",
              "      <td>의약학</td>\n",
              "      <td>대한진단검사의학회</td>\n",
              "      <td>권용준 (제1)|||원은정 (교신)|||기승정 (참여)|||김수현 (참여)|||신명...</td>\n",
              "      <td>[{'orginal_text': '배경: 현재 대변검경검사에서는 적절한 정도관리물질...</td>\n",
              "      <td>[{'orginal_text': '본 연구의 목적은 국내 임상 검사실에서 대변 검사...</td>\n",
              "    </tr>\n",
              "    <tr>\n",
              "      <th>1</th>\n",
              "      <td>논문</td>\n",
              "      <td>A201007211375</td>\n",
              "      <td>Vibrio 임상 분리주의 균종 동정을 위한 dnaJ 및 16S rDNA의 서열 분...</td>\n",
              "      <td>2018</td>\n",
              "      <td>ART002294295</td>\n",
              "      <td>의약학</td>\n",
              "      <td>대한진단검사의학회</td>\n",
              "      <td>최인선 (제1)|||문대수 (참여)|||박 건 (참여)|||강성호 (참여)|||김춘...</td>\n",
              "      <td>[{'orginal_text': '배경: Vibrio 종에는 치명적인 패혈증을 일으...</td>\n",
              "      <td>[{'orginal_text': '임상에서 분리된 Vibrio 균종의 동정에 16S...</td>\n",
              "    </tr>\n",
              "    <tr>\n",
              "      <th>2</th>\n",
              "      <td>논문</td>\n",
              "      <td>A201007211376</td>\n",
              "      <td>미세유체역학 혈액점도계 Viscore-300의 분석적 성능 평가 및 참고범위 설정</td>\n",
              "      <td>2018</td>\n",
              "      <td>ART002294283</td>\n",
              "      <td>의약학</td>\n",
              "      <td>대한진단검사의학회</td>\n",
              "      <td>권용준 (제1)|||이준형 (참여)|||문형섭 (참여)|||김혜란 (참여)|||최현...</td>\n",
              "      <td>[{'orginal_text': '배경: 전혈 점도는 혈액이 혈관을 통과할 때 발생...</td>\n",
              "      <td>[{'orginal_text': '혈액 점도는 인체의 혈관 내에서 혈액이 흐를 때 ...</td>\n",
              "    </tr>\n",
              "  </tbody>\n",
              "</table>\n",
              "</div>\n",
              "      <button class=\"colab-df-convert\" onclick=\"convertToInteractive('df-b4fcd9be-6161-4e90-a176-7e9d866f9172')\"\n",
              "              title=\"Convert this dataframe to an interactive table.\"\n",
              "              style=\"display:none;\">\n",
              "        \n",
              "  <svg xmlns=\"http://www.w3.org/2000/svg\" height=\"24px\"viewBox=\"0 0 24 24\"\n",
              "       width=\"24px\">\n",
              "    <path d=\"M0 0h24v24H0V0z\" fill=\"none\"/>\n",
              "    <path d=\"M18.56 5.44l.94 2.06.94-2.06 2.06-.94-2.06-.94-.94-2.06-.94 2.06-2.06.94zm-11 1L8.5 8.5l.94-2.06 2.06-.94-2.06-.94L8.5 2.5l-.94 2.06-2.06.94zm10 10l.94 2.06.94-2.06 2.06-.94-2.06-.94-.94-2.06-.94 2.06-2.06.94z\"/><path d=\"M17.41 7.96l-1.37-1.37c-.4-.4-.92-.59-1.43-.59-.52 0-1.04.2-1.43.59L10.3 9.45l-7.72 7.72c-.78.78-.78 2.05 0 2.83L4 21.41c.39.39.9.59 1.41.59.51 0 1.02-.2 1.41-.59l7.78-7.78 2.81-2.81c.8-.78.8-2.07 0-2.86zM5.41 20L4 18.59l7.72-7.72 1.47 1.35L5.41 20z\"/>\n",
              "  </svg>\n",
              "      </button>\n",
              "      \n",
              "  <style>\n",
              "    .colab-df-container {\n",
              "      display:flex;\n",
              "      flex-wrap:wrap;\n",
              "      gap: 12px;\n",
              "    }\n",
              "\n",
              "    .colab-df-convert {\n",
              "      background-color: #E8F0FE;\n",
              "      border: none;\n",
              "      border-radius: 50%;\n",
              "      cursor: pointer;\n",
              "      display: none;\n",
              "      fill: #1967D2;\n",
              "      height: 32px;\n",
              "      padding: 0 0 0 0;\n",
              "      width: 32px;\n",
              "    }\n",
              "\n",
              "    .colab-df-convert:hover {\n",
              "      background-color: #E2EBFA;\n",
              "      box-shadow: 0px 1px 2px rgba(60, 64, 67, 0.3), 0px 1px 3px 1px rgba(60, 64, 67, 0.15);\n",
              "      fill: #174EA6;\n",
              "    }\n",
              "\n",
              "    [theme=dark] .colab-df-convert {\n",
              "      background-color: #3B4455;\n",
              "      fill: #D2E3FC;\n",
              "    }\n",
              "\n",
              "    [theme=dark] .colab-df-convert:hover {\n",
              "      background-color: #434B5C;\n",
              "      box-shadow: 0px 1px 3px 1px rgba(0, 0, 0, 0.15);\n",
              "      filter: drop-shadow(0px 1px 2px rgba(0, 0, 0, 0.3));\n",
              "      fill: #FFFFFF;\n",
              "    }\n",
              "  </style>\n",
              "\n",
              "      <script>\n",
              "        const buttonEl =\n",
              "          document.querySelector('#df-b4fcd9be-6161-4e90-a176-7e9d866f9172 button.colab-df-convert');\n",
              "        buttonEl.style.display =\n",
              "          google.colab.kernel.accessAllowed ? 'block' : 'none';\n",
              "\n",
              "        async function convertToInteractive(key) {\n",
              "          const element = document.querySelector('#df-b4fcd9be-6161-4e90-a176-7e9d866f9172');\n",
              "          const dataTable =\n",
              "            await google.colab.kernel.invokeFunction('convertToInteractive',\n",
              "                                                     [key], {});\n",
              "          if (!dataTable) return;\n",
              "\n",
              "          const docLinkHtml = 'Like what you see? Visit the ' +\n",
              "            '<a target=\"_blank\" href=https://colab.research.google.com/notebooks/data_table.ipynb>data table notebook</a>'\n",
              "            + ' to learn more about interactive tables.';\n",
              "          element.innerHTML = '';\n",
              "          dataTable['output_type'] = 'display_data';\n",
              "          await google.colab.output.renderOutput(dataTable, element);\n",
              "          const docLink = document.createElement('div');\n",
              "          docLink.innerHTML = docLinkHtml;\n",
              "          element.appendChild(docLink);\n",
              "        }\n",
              "      </script>\n",
              "    </div>\n",
              "  </div>\n",
              "  "
            ],
            "text/plain": [
              "  doc_type  ...                                    summary_section\n",
              "0       논문  ...  [{'orginal_text': '본 연구의 목적은 국내 임상 검사실에서 대변 검사...\n",
              "1       논문  ...  [{'orginal_text': '임상에서 분리된 Vibrio 균종의 동정에 16S...\n",
              "2       논문  ...  [{'orginal_text': '혈액 점도는 인체의 혈관 내에서 혈액이 흐를 때 ...\n",
              "\n",
              "[3 rows x 10 columns]"
            ]
          },
          "metadata": {},
          "execution_count": 65
        }
      ]
    },
    {
      "cell_type": "code",
      "source": [
        "entire_sum = val_df['summary_entire']\n",
        "entire_sum = pd.DataFrame(entire_sum)\n",
        "\n",
        "entire_sum = entire_sum.astype(str)       # 전처리를 위해 str로 변환해줌\n",
        "\n",
        "entire_sum['entire_original']= entire_sum['summary_entire'].apply(text_original)\n",
        "entire_sum['entire_summary'] = entire_sum['summary_entire'].apply(text_summary)"
      ],
      "metadata": {
        "id": "V6WfqxMlVMM7"
      },
      "execution_count": 66,
      "outputs": []
    },
    {
      "cell_type": "code",
      "source": [
        "summary_sum = val_df['summary_section']\n",
        "summary_sum = pd.DataFrame(summary_sum)\n",
        "\n",
        "summary_sum = summary_sum.astype(str)\n",
        "\n",
        "summary_sum['summary_original']= summary_sum['summary_section'].apply(text_original)\n",
        "summary_sum['summary_summary'] = summary_sum['summary_section'].apply(text_summary)\n",
        "summary_sum"
      ],
      "metadata": {
        "id": "-fNHoDF9V-Rr",
        "outputId": "1b55afa3-93f7-414e-fd0b-436f2bc01091",
        "colab": {
          "base_uri": "https://localhost:8080/",
          "height": 423
        }
      },
      "execution_count": 67,
      "outputs": [
        {
          "output_type": "execute_result",
          "data": {
            "text/html": [
              "\n",
              "  <div id=\"df-5bfa5b73-3499-480b-a582-a4cc90d8de62\">\n",
              "    <div class=\"colab-df-container\">\n",
              "      <div>\n",
              "<style scoped>\n",
              "    .dataframe tbody tr th:only-of-type {\n",
              "        vertical-align: middle;\n",
              "    }\n",
              "\n",
              "    .dataframe tbody tr th {\n",
              "        vertical-align: top;\n",
              "    }\n",
              "\n",
              "    .dataframe thead th {\n",
              "        text-align: right;\n",
              "    }\n",
              "</style>\n",
              "<table border=\"1\" class=\"dataframe\">\n",
              "  <thead>\n",
              "    <tr style=\"text-align: right;\">\n",
              "      <th></th>\n",
              "      <th>summary_section</th>\n",
              "      <th>summary_original</th>\n",
              "      <th>summary_summary</th>\n",
              "    </tr>\n",
              "  </thead>\n",
              "  <tbody>\n",
              "    <tr>\n",
              "      <th>0</th>\n",
              "      <td>[{'orginal_text': '본 연구의 목적은 국내 임상 검사실에서 대변 검사...</td>\n",
              "      <td>본 연구의 목적은 국내 임상 검사실에서 대변 검사의 내부정도 관리 현황을 파악하기 ...</td>\n",
              "      <td>본 연구의 목적은 국내 임상 검사실에서 대변 검사의 내부정도 관리 현황을 파악하기 ...</td>\n",
              "    </tr>\n",
              "    <tr>\n",
              "      <th>1</th>\n",
              "      <td>[{'orginal_text': '임상에서 분리된 Vibrio 균종의 동정에 16S...</td>\n",
              "      <td>임상에서 분리된 Vibrio 균종의 동정에 16S rDNA 서열 분석법과 dnaJ ...</td>\n",
              "      <td>임상에서 분리된 Vibrio 균종의 동정에 16S rDNA 서열 분석법과 dnaJ ...</td>\n",
              "    </tr>\n",
              "    <tr>\n",
              "      <th>2</th>\n",
              "      <td>[{'orginal_text': '혈액 점도는 인체의 혈관 내에서 혈액이 흐를 때 ...</td>\n",
              "      <td>혈액 점도는 인체의 혈관 내에서 혈액이 흐를 때 발생하는 내부 저항을 의미하며 혈액...</td>\n",
              "      <td>혈액점도는 심혈관계 및 뇌혈관계질환과의 상관성이 밝혀져 왔으며 혈액 점도측정을 통한...</td>\n",
              "    </tr>\n",
              "    <tr>\n",
              "      <th>3</th>\n",
              "      <td>[{'orginal_text': '현재로는 GDF11이 “젊음의 약”이 될지 아닐지...</td>\n",
              "      <td>현재로는 GDF11이 “젊음의 약”이 될지 아닐지는 더 많은 재현성이 증명될 때까지...</td>\n",
              "      <td>현재로는 GDF11이 “젊음의 약”이 될지 아닐지는 더 많은 재현성이 증명될 때까지...</td>\n",
              "    </tr>\n",
              "    <tr>\n",
              "      <th>4</th>\n",
              "      <td>[{'orginal_text': '본 연구에서는 암환자를 위한 김치를 개발하기 위하...</td>\n",
              "      <td>본 연구에서는 암환자를 위한 김치를 개발하기 위하여 김치에 겨우살이 물추출물을 첨가...</td>\n",
              "      <td>본 연구에서는 암환자를 위한 김치를 개발하기 위하여 김치에 겨우살이 물추출물을 첨가...</td>\n",
              "    </tr>\n",
              "    <tr>\n",
              "      <th>...</th>\n",
              "      <td>...</td>\n",
              "      <td>...</td>\n",
              "      <td>...</td>\n",
              "    </tr>\n",
              "    <tr>\n",
              "      <th>18056</th>\n",
              "      <td>[{'orginal_text': '한 민족의 정체성을 형성하는 결정적인 요소 중의 ...</td>\n",
              "      <td>한 민족의 정체성을 형성하는 결정적인 요소 중의 하나는 그 민족의 공통된 ‘전통’이...</td>\n",
              "      <td>한 민족의 정체성을 형성하는 결정적인 요소 중의 하나는 그 민족의 공통된 ‘전통’이...</td>\n",
              "    </tr>\n",
              "    <tr>\n",
              "      <th>18057</th>\n",
              "      <td>[{'orginal_text': '고려 말을 대표하는 麗末三師와 嗣承관계에 의한 證...</td>\n",
              "      <td>고려 말을 대표하는 麗末三師와 嗣承관계에 의한 證明三和尙에 모두 속하는 나옹은, 麗...</td>\n",
              "      <td>고려 말을 대표하는 麗末三師와 嗣承관계에 의한 證明三和尙에 모두 속하는 나옹은, 麗...</td>\n",
              "    </tr>\n",
              "    <tr>\n",
              "      <th>18058</th>\n",
              "      <td>[{'orginal_text': '역사인물의 삶에 관심을 갖고 끊임없이 이야기하는 ...</td>\n",
              "      <td>역사인물의 삶에 관심을 갖고 끊임없이 이야기하는 것은 역사 인물의 삶이 일회적이고 ...</td>\n",
              "      <td>역사인물의 삶에 관심을 갖고 끊임없이 이야기하는 것은 역사 인물의 삶이 일회적이고 ...</td>\n",
              "    </tr>\n",
              "    <tr>\n",
              "      <th>18059</th>\n",
              "      <td>[{'orginal_text': '문명이 아니더라도 강에는 강을 생업의 터전으로 하...</td>\n",
              "      <td>문명이 아니더라도 강에는 강을 생업의 터전으로 하는 어부(漁夫)들과 강을 오르내리던...</td>\n",
              "      <td>문명이 아니더라도 강에는 강을 생업의 터전으로 하는 어부들과 강을 오르내리던 소금배...</td>\n",
              "    </tr>\n",
              "    <tr>\n",
              "      <th>18060</th>\n",
              "      <td>[{'orginal_text': '본고는 대학 교양의 기초가 되는 글쓰기 교육, 특...</td>\n",
              "      <td>본고는 대학 교양의 기초가 되는 글쓰기 교육, 특히 계열별 글쓰기 교육의 방향을 점...</td>\n",
              "      <td>본고는 대학 교양의 기초가 되는 글쓰기 교육, 특히 계열별 글쓰기 교육의 방향을 점...</td>\n",
              "    </tr>\n",
              "  </tbody>\n",
              "</table>\n",
              "<p>18061 rows × 3 columns</p>\n",
              "</div>\n",
              "      <button class=\"colab-df-convert\" onclick=\"convertToInteractive('df-5bfa5b73-3499-480b-a582-a4cc90d8de62')\"\n",
              "              title=\"Convert this dataframe to an interactive table.\"\n",
              "              style=\"display:none;\">\n",
              "        \n",
              "  <svg xmlns=\"http://www.w3.org/2000/svg\" height=\"24px\"viewBox=\"0 0 24 24\"\n",
              "       width=\"24px\">\n",
              "    <path d=\"M0 0h24v24H0V0z\" fill=\"none\"/>\n",
              "    <path d=\"M18.56 5.44l.94 2.06.94-2.06 2.06-.94-2.06-.94-.94-2.06-.94 2.06-2.06.94zm-11 1L8.5 8.5l.94-2.06 2.06-.94-2.06-.94L8.5 2.5l-.94 2.06-2.06.94zm10 10l.94 2.06.94-2.06 2.06-.94-2.06-.94-.94-2.06-.94 2.06-2.06.94z\"/><path d=\"M17.41 7.96l-1.37-1.37c-.4-.4-.92-.59-1.43-.59-.52 0-1.04.2-1.43.59L10.3 9.45l-7.72 7.72c-.78.78-.78 2.05 0 2.83L4 21.41c.39.39.9.59 1.41.59.51 0 1.02-.2 1.41-.59l7.78-7.78 2.81-2.81c.8-.78.8-2.07 0-2.86zM5.41 20L4 18.59l7.72-7.72 1.47 1.35L5.41 20z\"/>\n",
              "  </svg>\n",
              "      </button>\n",
              "      \n",
              "  <style>\n",
              "    .colab-df-container {\n",
              "      display:flex;\n",
              "      flex-wrap:wrap;\n",
              "      gap: 12px;\n",
              "    }\n",
              "\n",
              "    .colab-df-convert {\n",
              "      background-color: #E8F0FE;\n",
              "      border: none;\n",
              "      border-radius: 50%;\n",
              "      cursor: pointer;\n",
              "      display: none;\n",
              "      fill: #1967D2;\n",
              "      height: 32px;\n",
              "      padding: 0 0 0 0;\n",
              "      width: 32px;\n",
              "    }\n",
              "\n",
              "    .colab-df-convert:hover {\n",
              "      background-color: #E2EBFA;\n",
              "      box-shadow: 0px 1px 2px rgba(60, 64, 67, 0.3), 0px 1px 3px 1px rgba(60, 64, 67, 0.15);\n",
              "      fill: #174EA6;\n",
              "    }\n",
              "\n",
              "    [theme=dark] .colab-df-convert {\n",
              "      background-color: #3B4455;\n",
              "      fill: #D2E3FC;\n",
              "    }\n",
              "\n",
              "    [theme=dark] .colab-df-convert:hover {\n",
              "      background-color: #434B5C;\n",
              "      box-shadow: 0px 1px 3px 1px rgba(0, 0, 0, 0.15);\n",
              "      filter: drop-shadow(0px 1px 2px rgba(0, 0, 0, 0.3));\n",
              "      fill: #FFFFFF;\n",
              "    }\n",
              "  </style>\n",
              "\n",
              "      <script>\n",
              "        const buttonEl =\n",
              "          document.querySelector('#df-5bfa5b73-3499-480b-a582-a4cc90d8de62 button.colab-df-convert');\n",
              "        buttonEl.style.display =\n",
              "          google.colab.kernel.accessAllowed ? 'block' : 'none';\n",
              "\n",
              "        async function convertToInteractive(key) {\n",
              "          const element = document.querySelector('#df-5bfa5b73-3499-480b-a582-a4cc90d8de62');\n",
              "          const dataTable =\n",
              "            await google.colab.kernel.invokeFunction('convertToInteractive',\n",
              "                                                     [key], {});\n",
              "          if (!dataTable) return;\n",
              "\n",
              "          const docLinkHtml = 'Like what you see? Visit the ' +\n",
              "            '<a target=\"_blank\" href=https://colab.research.google.com/notebooks/data_table.ipynb>data table notebook</a>'\n",
              "            + ' to learn more about interactive tables.';\n",
              "          element.innerHTML = '';\n",
              "          dataTable['output_type'] = 'display_data';\n",
              "          await google.colab.output.renderOutput(dataTable, element);\n",
              "          const docLink = document.createElement('div');\n",
              "          docLink.innerHTML = docLinkHtml;\n",
              "          element.appendChild(docLink);\n",
              "        }\n",
              "      </script>\n",
              "    </div>\n",
              "  </div>\n",
              "  "
            ],
            "text/plain": [
              "                                         summary_section  ...                                    summary_summary\n",
              "0      [{'orginal_text': '본 연구의 목적은 국내 임상 검사실에서 대변 검사...  ...  본 연구의 목적은 국내 임상 검사실에서 대변 검사의 내부정도 관리 현황을 파악하기 ...\n",
              "1      [{'orginal_text': '임상에서 분리된 Vibrio 균종의 동정에 16S...  ...  임상에서 분리된 Vibrio 균종의 동정에 16S rDNA 서열 분석법과 dnaJ ...\n",
              "2      [{'orginal_text': '혈액 점도는 인체의 혈관 내에서 혈액이 흐를 때 ...  ...  혈액점도는 심혈관계 및 뇌혈관계질환과의 상관성이 밝혀져 왔으며 혈액 점도측정을 통한...\n",
              "3      [{'orginal_text': '현재로는 GDF11이 “젊음의 약”이 될지 아닐지...  ...  현재로는 GDF11이 “젊음의 약”이 될지 아닐지는 더 많은 재현성이 증명될 때까지...\n",
              "4      [{'orginal_text': '본 연구에서는 암환자를 위한 김치를 개발하기 위하...  ...  본 연구에서는 암환자를 위한 김치를 개발하기 위하여 김치에 겨우살이 물추출물을 첨가...\n",
              "...                                                  ...  ...                                                ...\n",
              "18056  [{'orginal_text': '한 민족의 정체성을 형성하는 결정적인 요소 중의 ...  ...  한 민족의 정체성을 형성하는 결정적인 요소 중의 하나는 그 민족의 공통된 ‘전통’이...\n",
              "18057  [{'orginal_text': '고려 말을 대표하는 麗末三師와 嗣承관계에 의한 證...  ...  고려 말을 대표하는 麗末三師와 嗣承관계에 의한 證明三和尙에 모두 속하는 나옹은, 麗...\n",
              "18058  [{'orginal_text': '역사인물의 삶에 관심을 갖고 끊임없이 이야기하는 ...  ...  역사인물의 삶에 관심을 갖고 끊임없이 이야기하는 것은 역사 인물의 삶이 일회적이고 ...\n",
              "18059  [{'orginal_text': '문명이 아니더라도 강에는 강을 생업의 터전으로 하...  ...  문명이 아니더라도 강에는 강을 생업의 터전으로 하는 어부들과 강을 오르내리던 소금배...\n",
              "18060  [{'orginal_text': '본고는 대학 교양의 기초가 되는 글쓰기 교육, 특...  ...  본고는 대학 교양의 기초가 되는 글쓰기 교육, 특히 계열별 글쓰기 교육의 방향을 점...\n",
              "\n",
              "[18061 rows x 3 columns]"
            ]
          },
          "metadata": {},
          "execution_count": 67
        }
      ]
    },
    {
      "cell_type": "code",
      "source": [
        "val_df['entire_original'] = entire_sum['entire_original']\n",
        "val_df['entire_summary']  = entire_sum['entire_summary']\n",
        "val_df['summary_original'] = summary_sum['summary_original']\n",
        "val_df['summary_summary'] = summary_sum['summary_summary']\n",
        "\n",
        "val_df.drop(columns=['summary_entire','summary_section'],axis=1,inplace=True)\n",
        "val_df.columns"
      ],
      "metadata": {
        "id": "jcBpcrk3WKES",
        "outputId": "a5009713-cfd3-439c-e035-cda259c21a62",
        "colab": {
          "base_uri": "https://localhost:8080/"
        }
      },
      "execution_count": 68,
      "outputs": [
        {
          "output_type": "execute_result",
          "data": {
            "text/plain": [
              "Index(['doc_type', 'doc_id', 'title', 'date', 'reg_no', 'ipc', 'issued_by',\n",
              "       'author', 'entire_original', 'entire_summary', 'summary_original',\n",
              "       'summary_summary'],\n",
              "      dtype='object')"
            ]
          },
          "metadata": {},
          "execution_count": 68
        }
      ]
    },
    {
      "cell_type": "code",
      "source": [
        "val_df = val_df[['doc_id','title','date','reg_no','issued_by','author','entire_original','entire_summary','summary_original','summary_summary','doc_type']]\n",
        "val_df.head()"
      ],
      "metadata": {
        "id": "RofW-VrAWday",
        "outputId": "cac76a6e-e06e-4258-9914-621cd61e54a2",
        "colab": {
          "base_uri": "https://localhost:8080/",
          "height": 423
        }
      },
      "execution_count": 69,
      "outputs": [
        {
          "output_type": "execute_result",
          "data": {
            "text/html": [
              "\n",
              "  <div id=\"df-0c9d5b49-ad13-4e2a-b406-e87b5c56ca98\">\n",
              "    <div class=\"colab-df-container\">\n",
              "      <div>\n",
              "<style scoped>\n",
              "    .dataframe tbody tr th:only-of-type {\n",
              "        vertical-align: middle;\n",
              "    }\n",
              "\n",
              "    .dataframe tbody tr th {\n",
              "        vertical-align: top;\n",
              "    }\n",
              "\n",
              "    .dataframe thead th {\n",
              "        text-align: right;\n",
              "    }\n",
              "</style>\n",
              "<table border=\"1\" class=\"dataframe\">\n",
              "  <thead>\n",
              "    <tr style=\"text-align: right;\">\n",
              "      <th></th>\n",
              "      <th>doc_id</th>\n",
              "      <th>title</th>\n",
              "      <th>date</th>\n",
              "      <th>reg_no</th>\n",
              "      <th>issued_by</th>\n",
              "      <th>author</th>\n",
              "      <th>entire_original</th>\n",
              "      <th>entire_summary</th>\n",
              "      <th>summary_original</th>\n",
              "      <th>summary_summary</th>\n",
              "      <th>doc_type</th>\n",
              "    </tr>\n",
              "  </thead>\n",
              "  <tbody>\n",
              "    <tr>\n",
              "      <th>0</th>\n",
              "      <td>A201007211374</td>\n",
              "      <td>국내 검사실에서의 대변 검경 검사에 대한 내부정도관리 현황</td>\n",
              "      <td>2018</td>\n",
              "      <td>ART002294415</td>\n",
              "      <td>대한진단검사의학회</td>\n",
              "      <td>권용준 (제1)|||원은정 (교신)|||기승정 (참여)|||김수현 (참여)|||신명...</td>\n",
              "      <td>배경: 현재 대변검경검사에서는 적절한 정도관리물질이 없어 질관리가 미진한 실정이다....</td>\n",
              "      <td>본 연구에서는 설사변에서 발견되는 장내 기생충 현황과 대변 검경에 있어 활용 가능한...</td>\n",
              "      <td>본 연구의 목적은 국내 임상 검사실에서 대변 검사의 내부정도 관리 현황을 파악하기 ...</td>\n",
              "      <td>본 연구의 목적은 국내 임상 검사실에서 대변 검사의 내부정도 관리 현황을 파악하기 ...</td>\n",
              "      <td>논문</td>\n",
              "    </tr>\n",
              "    <tr>\n",
              "      <th>1</th>\n",
              "      <td>A201007211375</td>\n",
              "      <td>Vibrio 임상 분리주의 균종 동정을 위한 dnaJ 및 16S rDNA의 서열 분...</td>\n",
              "      <td>2018</td>\n",
              "      <td>ART002294295</td>\n",
              "      <td>대한진단검사의학회</td>\n",
              "      <td>최인선 (제1)|||문대수 (참여)|||박 건 (참여)|||강성호 (참여)|||김춘...</td>\n",
              "      <td>배경: Vibrio 종에는 치명적인 패혈증을 일으키는 균종들도 포함되어 있어서 정확...</td>\n",
              "      <td>Vibrio 균종의 정확한 동정을 위해 적절한 분자 진단법의 도입이 필요하기에 본고...</td>\n",
              "      <td>임상에서 분리된 Vibrio 균종의 동정에 16S rDNA 서열 분석법과 dnaJ ...</td>\n",
              "      <td>임상에서 분리된 Vibrio 균종의 동정에 16S rDNA 서열 분석법과 dnaJ ...</td>\n",
              "      <td>논문</td>\n",
              "    </tr>\n",
              "    <tr>\n",
              "      <th>2</th>\n",
              "      <td>A201007211376</td>\n",
              "      <td>미세유체역학 혈액점도계 Viscore-300의 분석적 성능 평가 및 참고범위 설정</td>\n",
              "      <td>2018</td>\n",
              "      <td>ART002294283</td>\n",
              "      <td>대한진단검사의학회</td>\n",
              "      <td>권용준 (제1)|||이준형 (참여)|||문형섭 (참여)|||김혜란 (참여)|||최현...</td>\n",
              "      <td>배경: 전혈 점도는 혈액이 혈관을 통과할 때 발생하는 내부 저항을 의미한다. 이러한...</td>\n",
              "      <td>전혈 점도 측정을 위해 새로 개발된 미세유체역학 혈액점도계 Viscore-300 (...</td>\n",
              "      <td>혈액 점도는 인체의 혈관 내에서 혈액이 흐를 때 발생하는 내부 저항을 의미하며 혈액...</td>\n",
              "      <td>혈액점도는 심혈관계 및 뇌혈관계질환과의 상관성이 밝혀져 왔으며 혈액 점도측정을 통한...</td>\n",
              "      <td>논문</td>\n",
              "    </tr>\n",
              "    <tr>\n",
              "      <th>3</th>\n",
              "      <td>A201007211377</td>\n",
              "      <td>개체병렬결합 그리고 노화 연구</td>\n",
              "      <td>2017</td>\n",
              "      <td>ART002295675</td>\n",
              "      <td>한국생명과학회</td>\n",
              "      <td>정경태 /Chung, Kyung Tae (단독)</td>\n",
              "      <td>대부분의 사람은 오래 살기를 원한다. 고대 중국과 한국의 신화에 동방삭이라는 인물이...</td>\n",
              "      <td>본고는 개체병렬결합모델의 탄생과 이로 인한 중요한 발견을 시간대에 따라 소개하며, ...</td>\n",
              "      <td>현재로는 GDF11이 “젊음의 약”이 될지 아닐지는 더 많은 재현성이 증명될 때까지...</td>\n",
              "      <td>현재로는 GDF11이 “젊음의 약”이 될지 아닐지는 더 많은 재현성이 증명될 때까지...</td>\n",
              "      <td>논문</td>\n",
              "    </tr>\n",
              "    <tr>\n",
              "      <th>4</th>\n",
              "      <td>A201007211378</td>\n",
              "      <td>겨우살이 물추출물 첨가 김치의 A549 인체 폐암 세포 증식저해 효과</td>\n",
              "      <td>2017</td>\n",
              "      <td>ART002295664</td>\n",
              "      <td>한국생명과학회</td>\n",
              "      <td>길정하 /Jeung-Ha Kil (단독)</td>\n",
              "      <td>김치는 한국에서 가장 인기 있는 발효식품이며, 여러 연구에서 암예방, 항비만, 항염...</td>\n",
              "      <td>본 실험에서는 암환자용 김치의 암세포 증식억제능 및 그 기전에 대하여 검토하고, 인...</td>\n",
              "      <td>본 연구에서는 암환자를 위한 김치를 개발하기 위하여 김치에 겨우살이 물추출물을 첨가...</td>\n",
              "      <td>본 연구에서는 암환자를 위한 김치를 개발하기 위하여 김치에 겨우살이 물추출물을 첨가...</td>\n",
              "      <td>논문</td>\n",
              "    </tr>\n",
              "  </tbody>\n",
              "</table>\n",
              "</div>\n",
              "      <button class=\"colab-df-convert\" onclick=\"convertToInteractive('df-0c9d5b49-ad13-4e2a-b406-e87b5c56ca98')\"\n",
              "              title=\"Convert this dataframe to an interactive table.\"\n",
              "              style=\"display:none;\">\n",
              "        \n",
              "  <svg xmlns=\"http://www.w3.org/2000/svg\" height=\"24px\"viewBox=\"0 0 24 24\"\n",
              "       width=\"24px\">\n",
              "    <path d=\"M0 0h24v24H0V0z\" fill=\"none\"/>\n",
              "    <path d=\"M18.56 5.44l.94 2.06.94-2.06 2.06-.94-2.06-.94-.94-2.06-.94 2.06-2.06.94zm-11 1L8.5 8.5l.94-2.06 2.06-.94-2.06-.94L8.5 2.5l-.94 2.06-2.06.94zm10 10l.94 2.06.94-2.06 2.06-.94-2.06-.94-.94-2.06-.94 2.06-2.06.94z\"/><path d=\"M17.41 7.96l-1.37-1.37c-.4-.4-.92-.59-1.43-.59-.52 0-1.04.2-1.43.59L10.3 9.45l-7.72 7.72c-.78.78-.78 2.05 0 2.83L4 21.41c.39.39.9.59 1.41.59.51 0 1.02-.2 1.41-.59l7.78-7.78 2.81-2.81c.8-.78.8-2.07 0-2.86zM5.41 20L4 18.59l7.72-7.72 1.47 1.35L5.41 20z\"/>\n",
              "  </svg>\n",
              "      </button>\n",
              "      \n",
              "  <style>\n",
              "    .colab-df-container {\n",
              "      display:flex;\n",
              "      flex-wrap:wrap;\n",
              "      gap: 12px;\n",
              "    }\n",
              "\n",
              "    .colab-df-convert {\n",
              "      background-color: #E8F0FE;\n",
              "      border: none;\n",
              "      border-radius: 50%;\n",
              "      cursor: pointer;\n",
              "      display: none;\n",
              "      fill: #1967D2;\n",
              "      height: 32px;\n",
              "      padding: 0 0 0 0;\n",
              "      width: 32px;\n",
              "    }\n",
              "\n",
              "    .colab-df-convert:hover {\n",
              "      background-color: #E2EBFA;\n",
              "      box-shadow: 0px 1px 2px rgba(60, 64, 67, 0.3), 0px 1px 3px 1px rgba(60, 64, 67, 0.15);\n",
              "      fill: #174EA6;\n",
              "    }\n",
              "\n",
              "    [theme=dark] .colab-df-convert {\n",
              "      background-color: #3B4455;\n",
              "      fill: #D2E3FC;\n",
              "    }\n",
              "\n",
              "    [theme=dark] .colab-df-convert:hover {\n",
              "      background-color: #434B5C;\n",
              "      box-shadow: 0px 1px 3px 1px rgba(0, 0, 0, 0.15);\n",
              "      filter: drop-shadow(0px 1px 2px rgba(0, 0, 0, 0.3));\n",
              "      fill: #FFFFFF;\n",
              "    }\n",
              "  </style>\n",
              "\n",
              "      <script>\n",
              "        const buttonEl =\n",
              "          document.querySelector('#df-0c9d5b49-ad13-4e2a-b406-e87b5c56ca98 button.colab-df-convert');\n",
              "        buttonEl.style.display =\n",
              "          google.colab.kernel.accessAllowed ? 'block' : 'none';\n",
              "\n",
              "        async function convertToInteractive(key) {\n",
              "          const element = document.querySelector('#df-0c9d5b49-ad13-4e2a-b406-e87b5c56ca98');\n",
              "          const dataTable =\n",
              "            await google.colab.kernel.invokeFunction('convertToInteractive',\n",
              "                                                     [key], {});\n",
              "          if (!dataTable) return;\n",
              "\n",
              "          const docLinkHtml = 'Like what you see? Visit the ' +\n",
              "            '<a target=\"_blank\" href=https://colab.research.google.com/notebooks/data_table.ipynb>data table notebook</a>'\n",
              "            + ' to learn more about interactive tables.';\n",
              "          element.innerHTML = '';\n",
              "          dataTable['output_type'] = 'display_data';\n",
              "          await google.colab.output.renderOutput(dataTable, element);\n",
              "          const docLink = document.createElement('div');\n",
              "          docLink.innerHTML = docLinkHtml;\n",
              "          element.appendChild(docLink);\n",
              "        }\n",
              "      </script>\n",
              "    </div>\n",
              "  </div>\n",
              "  "
            ],
            "text/plain": [
              "          doc_id  ... doc_type\n",
              "0  A201007211374  ...       논문\n",
              "1  A201007211375  ...       논문\n",
              "2  A201007211376  ...       논문\n",
              "3  A201007211377  ...       논문\n",
              "4  A201007211378  ...       논문\n",
              "\n",
              "[5 rows x 11 columns]"
            ]
          },
          "metadata": {},
          "execution_count": 69
        }
      ]
    },
    {
      "cell_type": "markdown",
      "source": [
        "### validation dataset CSV 변환"
      ],
      "metadata": {
        "id": "MVYW0_sCXfTh"
      }
    },
    {
      "cell_type": "code",
      "source": [
        "val_df.to_csv('validation_article.csv')"
      ],
      "metadata": {
        "id": "4muKn_2PXjGT"
      },
      "execution_count": 70,
      "outputs": []
    },
    {
      "cell_type": "code",
      "source": [
        "ls"
      ],
      "metadata": {
        "id": "O2BM-8fmXxRS",
        "outputId": "02b522ff-6560-4dd6-ca1e-2e78416f849f",
        "colab": {
          "base_uri": "https://localhost:8080/"
        }
      },
      "execution_count": 71,
      "outputs": [
        {
          "output_type": "stream",
          "name": "stdout",
          "text": [
            "논문요약_0224_0.json  논문요약_0225_6_2.json  validation_article.csv\n"
          ]
        }
      ]
    }
  ]
}